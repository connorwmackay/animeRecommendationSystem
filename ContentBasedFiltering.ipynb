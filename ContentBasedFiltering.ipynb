{
 "cells": [
  {
   "cell_type": "code",
   "execution_count": 6,
   "metadata": {
    "id": "s4DYiR2Ps-yT",
    "tags": []
   },
   "outputs": [],
   "source": [
    "import pandas as pd\n",
    "import numpy as np\n",
    "import matplotlib.pyplot as plt\n",
    "from sklearn.metrics.pairwise import cosine_similarity\n",
    "from sklearn.feature_extraction.text import TfidfVectorizer"
   ]
  },
  {
   "cell_type": "code",
   "execution_count": 7,
   "metadata": {
    "id": "YLTnYtRSs8ap"
   },
   "outputs": [],
   "source": [
    "# Data Gathered By Me Via the MyAnimeList API and Jikan REST API\n",
    "anime_df = pd.read_csv('./data/anime.csv')\n",
    "user_ratings_df = pd.read_csv('./data/user_ratings.csv', parse_dates=['updated_at'])"
   ]
  },
  {
   "cell_type": "code",
   "execution_count": 8,
   "metadata": {
    "colab": {
     "base_uri": "https://localhost:8080/",
     "height": 573
    },
    "id": "8vUSJ5xEXOv7",
    "outputId": "faee2ac4-2fea-4c8e-fe05-b2c775044e89"
   },
   "outputs": [
    {
     "data": {
      "text/html": [
       "<div>\n",
       "<style scoped>\n",
       "    .dataframe tbody tr th:only-of-type {\n",
       "        vertical-align: middle;\n",
       "    }\n",
       "\n",
       "    .dataframe tbody tr th {\n",
       "        vertical-align: top;\n",
       "    }\n",
       "\n",
       "    .dataframe thead th {\n",
       "        text-align: right;\n",
       "    }\n",
       "</style>\n",
       "<table border=\"1\" class=\"dataframe\">\n",
       "  <thead>\n",
       "    <tr style=\"text-align: right;\">\n",
       "      <th></th>\n",
       "      <th>id</th>\n",
       "      <th>title</th>\n",
       "      <th>start_date</th>\n",
       "      <th>end_date</th>\n",
       "      <th>synopsis</th>\n",
       "      <th>score</th>\n",
       "      <th>rank</th>\n",
       "      <th>popularity</th>\n",
       "      <th>num_list_users</th>\n",
       "      <th>num_scoring_users</th>\n",
       "      <th>media_type</th>\n",
       "      <th>status</th>\n",
       "      <th>genres</th>\n",
       "      <th>num_episodes</th>\n",
       "      <th>start_season</th>\n",
       "      <th>broadcast_day</th>\n",
       "      <th>broadcast_time</th>\n",
       "      <th>source</th>\n",
       "      <th>rating</th>\n",
       "      <th>studios</th>\n",
       "    </tr>\n",
       "  </thead>\n",
       "  <tbody>\n",
       "    <tr>\n",
       "      <th>0</th>\n",
       "      <td>5114</td>\n",
       "      <td>Fullmetal Alchemist: Brotherhood</td>\n",
       "      <td>2009-04-05</td>\n",
       "      <td>2010-07-04</td>\n",
       "      <td>After a horrific alchemy experiment goes wrong...</td>\n",
       "      <td>9.10</td>\n",
       "      <td>1.0</td>\n",
       "      <td>3</td>\n",
       "      <td>3240265</td>\n",
       "      <td>2056814</td>\n",
       "      <td>tv</td>\n",
       "      <td>finished_airing</td>\n",
       "      <td>Action,Adventure,Drama,Fantasy,Military,Shounen</td>\n",
       "      <td>64</td>\n",
       "      <td>spring</td>\n",
       "      <td>sunday</td>\n",
       "      <td>17:00</td>\n",
       "      <td>manga</td>\n",
       "      <td>r</td>\n",
       "      <td>Bones</td>\n",
       "    </tr>\n",
       "    <tr>\n",
       "      <th>1</th>\n",
       "      <td>9253</td>\n",
       "      <td>Steins;Gate</td>\n",
       "      <td>2011-04-06</td>\n",
       "      <td>2011-09-14</td>\n",
       "      <td>Eccentric scientist Rintarou Okabe has a never...</td>\n",
       "      <td>9.07</td>\n",
       "      <td>2.0</td>\n",
       "      <td>13</td>\n",
       "      <td>2489957</td>\n",
       "      <td>1361494</td>\n",
       "      <td>tv</td>\n",
       "      <td>finished_airing</td>\n",
       "      <td>Drama,Psychological,Sci-Fi,Suspense,Time Travel</td>\n",
       "      <td>24</td>\n",
       "      <td>spring</td>\n",
       "      <td>wednesday</td>\n",
       "      <td>02:05</td>\n",
       "      <td>visual_novel</td>\n",
       "      <td>pg_13</td>\n",
       "      <td>White Fox</td>\n",
       "    </tr>\n",
       "    <tr>\n",
       "      <th>2</th>\n",
       "      <td>28977</td>\n",
       "      <td>Gintama°</td>\n",
       "      <td>2015-04-08</td>\n",
       "      <td>2016-03-30</td>\n",
       "      <td>Gintoki, Shinpachi, and Kagura return as the f...</td>\n",
       "      <td>9.06</td>\n",
       "      <td>3.0</td>\n",
       "      <td>336</td>\n",
       "      <td>610158</td>\n",
       "      <td>243298</td>\n",
       "      <td>tv</td>\n",
       "      <td>finished_airing</td>\n",
       "      <td>Action,Comedy,Gag Humor,Historical,Parody,Samu...</td>\n",
       "      <td>51</td>\n",
       "      <td>spring</td>\n",
       "      <td>wednesday</td>\n",
       "      <td>18:00</td>\n",
       "      <td>manga</td>\n",
       "      <td>pg_13</td>\n",
       "      <td>Bandai Namco Pictures</td>\n",
       "    </tr>\n",
       "    <tr>\n",
       "      <th>3</th>\n",
       "      <td>41467</td>\n",
       "      <td>Bleach: Sennen Kessen-hen</td>\n",
       "      <td>2022-10-11</td>\n",
       "      <td>2022-12-27</td>\n",
       "      <td>Substitute Soul Reaper Ichigo Kurosaki spends ...</td>\n",
       "      <td>9.05</td>\n",
       "      <td>4.0</td>\n",
       "      <td>432</td>\n",
       "      <td>489199</td>\n",
       "      <td>245969</td>\n",
       "      <td>tv</td>\n",
       "      <td>finished_airing</td>\n",
       "      <td>Action,Adventure,Fantasy,Shounen</td>\n",
       "      <td>13</td>\n",
       "      <td>fall</td>\n",
       "      <td>tuesday</td>\n",
       "      <td>00:00</td>\n",
       "      <td>manga</td>\n",
       "      <td>r</td>\n",
       "      <td>Pierrot</td>\n",
       "    </tr>\n",
       "    <tr>\n",
       "      <th>4</th>\n",
       "      <td>39486</td>\n",
       "      <td>Gintama: The Final</td>\n",
       "      <td>2021-01-08</td>\n",
       "      <td>2021-01-08</td>\n",
       "      <td>Two years have passed following the Tendoshuu'...</td>\n",
       "      <td>9.05</td>\n",
       "      <td>5.0</td>\n",
       "      <td>1550</td>\n",
       "      <td>140032</td>\n",
       "      <td>67119</td>\n",
       "      <td>movie</td>\n",
       "      <td>finished_airing</td>\n",
       "      <td>Action,Comedy,Drama,Gag Humor,Historical,Parod...</td>\n",
       "      <td>1</td>\n",
       "      <td>winter</td>\n",
       "      <td>NaN</td>\n",
       "      <td>NaN</td>\n",
       "      <td>manga</td>\n",
       "      <td>pg_13</td>\n",
       "      <td>Bandai Namco Pictures</td>\n",
       "    </tr>\n",
       "  </tbody>\n",
       "</table>\n",
       "</div>"
      ],
      "text/plain": [
       "      id                             title  start_date    end_date  \\\n",
       "0   5114  Fullmetal Alchemist: Brotherhood  2009-04-05  2010-07-04   \n",
       "1   9253                       Steins;Gate  2011-04-06  2011-09-14   \n",
       "2  28977                          Gintama°  2015-04-08  2016-03-30   \n",
       "3  41467         Bleach: Sennen Kessen-hen  2022-10-11  2022-12-27   \n",
       "4  39486                Gintama: The Final  2021-01-08  2021-01-08   \n",
       "\n",
       "                                            synopsis  score  rank  popularity  \\\n",
       "0  After a horrific alchemy experiment goes wrong...   9.10   1.0           3   \n",
       "1  Eccentric scientist Rintarou Okabe has a never...   9.07   2.0          13   \n",
       "2  Gintoki, Shinpachi, and Kagura return as the f...   9.06   3.0         336   \n",
       "3  Substitute Soul Reaper Ichigo Kurosaki spends ...   9.05   4.0         432   \n",
       "4  Two years have passed following the Tendoshuu'...   9.05   5.0        1550   \n",
       "\n",
       "   num_list_users  num_scoring_users media_type           status  \\\n",
       "0         3240265            2056814         tv  finished_airing   \n",
       "1         2489957            1361494         tv  finished_airing   \n",
       "2          610158             243298         tv  finished_airing   \n",
       "3          489199             245969         tv  finished_airing   \n",
       "4          140032              67119      movie  finished_airing   \n",
       "\n",
       "                                              genres  num_episodes  \\\n",
       "0    Action,Adventure,Drama,Fantasy,Military,Shounen            64   \n",
       "1    Drama,Psychological,Sci-Fi,Suspense,Time Travel            24   \n",
       "2  Action,Comedy,Gag Humor,Historical,Parody,Samu...            51   \n",
       "3                   Action,Adventure,Fantasy,Shounen            13   \n",
       "4  Action,Comedy,Drama,Gag Humor,Historical,Parod...             1   \n",
       "\n",
       "  start_season broadcast_day broadcast_time        source rating  \\\n",
       "0       spring        sunday          17:00         manga      r   \n",
       "1       spring     wednesday          02:05  visual_novel  pg_13   \n",
       "2       spring     wednesday          18:00         manga  pg_13   \n",
       "3         fall       tuesday          00:00         manga      r   \n",
       "4       winter           NaN            NaN         manga  pg_13   \n",
       "\n",
       "                 studios  \n",
       "0                  Bones  \n",
       "1              White Fox  \n",
       "2  Bandai Namco Pictures  \n",
       "3                Pierrot  \n",
       "4  Bandai Namco Pictures  "
      ]
     },
     "execution_count": 8,
     "metadata": {},
     "output_type": "execute_result"
    }
   ],
   "source": [
    "anime_df.head()"
   ]
  },
  {
   "cell_type": "code",
   "execution_count": 9,
   "metadata": {
    "id": "r66REtk-XQxk"
   },
   "outputs": [],
   "source": [
    "user_ratings_df.drop(columns=['start_date', 'finish_date'], inplace=True)"
   ]
  },
  {
   "cell_type": "markdown",
   "metadata": {
    "id": "--aWAtF3aJ5b"
   },
   "source": [
    "# Handling Missing Values"
   ]
  },
  {
   "cell_type": "code",
   "execution_count": 10,
   "metadata": {
    "colab": {
     "base_uri": "https://localhost:8080/"
    },
    "id": "2kK21xATaMcr",
    "outputId": "b0f03447-9325-45fb-a5b6-f04d33e1d2ab"
   },
   "outputs": [
    {
     "data": {
      "text/plain": [
       "user_id                 0\n",
       "anime_id                0\n",
       "score                   0\n",
       "status                  1\n",
       "num_episodes_watched    0\n",
       "updated_at              0\n",
       "dtype: int64"
      ]
     },
     "execution_count": 10,
     "metadata": {},
     "output_type": "execute_result"
    }
   ],
   "source": [
    "user_ratings_df.isna().sum()"
   ]
  },
  {
   "cell_type": "markdown",
   "metadata": {
    "id": "9nsp1GHyeyWy"
   },
   "source": [
    "Although the above functions shows that there are no missing score values, a score of 0 indicates that the score was missing since it's not possible on MyAnimeList to rate an anime 0 unless you choose not to rate the anime."
   ]
  },
  {
   "cell_type": "markdown",
   "metadata": {
    "id": "yVTC2_98fRe9"
   },
   "source": [
    "## Remove Users who have only given scores of 0"
   ]
  },
  {
   "cell_type": "code",
   "execution_count": 11,
   "metadata": {
    "colab": {
     "base_uri": "https://localhost:8080/"
    },
    "id": "BTdwatplfY95",
    "outputId": "72d23e36-2cf1-4e4d-9df1-b1f40bc958f4"
   },
   "outputs": [
    {
     "name": "stdout",
     "output_type": "stream",
     "text": [
      "[20, 35, 40, 57, 88, 116, 122, 124, 127, 131, 137, 139, 148, 185, 198, 202, 210, 217, 225, 226, 229, 232, 234, 235, 253, 271, 308, 309, 315, 321, 322, 364, 376, 384, 385, 387, 393, 419, 426, 443, 462, 476, 479, 487, 504, 506, 516, 532, 559, 562, 564, 569, 570, 590, 599, 612, 615, 617, 626, 644, 660, 664, 691, 723, 732, 733, 741, 745, 751, 761, 763, 766, 770, 771, 776, 785, 788, 794, 804, 815, 816, 844, 853, 860, 868, 879, 883, 886, 890, 897, 898, 906, 926, 961, 992, 999, 1023, 1029, 1033, 1054, 1059, 1065, 1077, 1090, 1099, 1105, 1108, 1114, 1127, 1129, 1143, 1145, 1147, 1156, 1157, 1170, 1180, 1223, 1227, 1228, 1230, 1237, 1258, 1268, 1271, 1272, 1273, 1310, 1314, 1351, 1358, 1370, 1386, 1387, 1388, 1392, 1406, 1409, 1420, 1427, 1446, 1455, 1458, 1469, 1477, 1490, 1491, 1511, 1522, 1529, 1541, 1542, 1549, 1557, 1570, 1576, 1587, 1594, 1596, 1604, 1607, 1616, 1641, 1650, 1652, 1653, 1655, 1662, 1667, 1691, 1693, 1715, 1720, 1732, 1746, 1752, 1755, 1764, 1766, 1795, 1806, 1808, 1840, 1861, 1867, 1883, 1889, 1894, 1895, 1896, 1906, 1917, 1940, 1943, 1951, 1957, 1964, 1969, 1976, 1982, 1983, 1992, 1996, 2009, 2040, 2043, 2060, 2077, 2096, 2103, 2115, 2120, 2143, 2151, 2154, 2162, 2165, 2175, 2177, 2195, 2200, 2219, 2227, 2234, 2239, 2260, 2287, 2298, 2311, 2326, 2347, 2348, 2352, 2386, 2408, 2415, 2435, 2439, 2461, 2463, 2471, 2493, 2507, 2516, 2522, 2527, 2538, 2550, 2566, 2577, 2582, 2587, 2593, 2607, 2610, 2614, 2627, 2634, 2668, 2681, 2695, 2708, 2721, 2724, 2751, 2763, 2767, 2768, 2792, 2817, 2823, 2825, 2831, 2837, 2864, 2870, 2877, 2890, 2891, 2894, 2916, 2919, 2929, 2948, 2950, 2974, 2983, 2992, 3006, 3022, 3045, 3052, 3053, 3059, 3073, 3098, 3100, 3103, 3132, 3136, 3147, 3151, 3155, 3161, 3170, 3172, 3184, 3185, 3190, 3199, 3204, 3214, 3242, 3261, 3285, 3304, 3309, 3320, 3341, 3342, 3348, 3352, 3355, 3388, 3390, 3394, 3412, 3420, 3427, 3431, 3432, 3438, 3444, 3453, 3459, 3464, 3485, 3488, 3491, 3511, 3512, 3513, 3550, 3558, 3562, 3563, 3570, 3597, 3606, 3609, 3613, 3648, 3651, 3670, 3701, 3711, 3726, 3768, 3769, 3785, 3786, 3787, 3791, 3799, 3800, 3806, 3808, 3811, 3819, 3834, 3836, 3880, 3898, 3934, 3938, 3942, 3962, 3972, 3985, 4021, 4028, 4033, 4060, 4062, 4063, 4072, 4082, 4097, 4098, 4104, 4118, 4143, 4145, 4152, 4173, 4174, 4178, 4180, 4196, 4208, 4212, 4214, 4219, 4224, 4229, 4241, 4245, 4278, 4301, 4303, 4316, 4341, 4372, 4395, 4416, 4422, 4443, 4475, 4479, 4494, 4495, 4496, 4509, 4553, 4555, 4556, 4559, 4561, 4576, 4585, 4586, 4590, 4591, 4625, 4626, 4636, 4638, 4652, 4653, 4654, 4663, 4665, 4668, 4686, 4688, 4693, 4706, 4713, 4744, 4749, 4757, 4780, 4801, 4814, 4823, 4827, 4845, 4851, 4858, 4860, 4863, 4869, 4882, 4886, 4888, 4899, 4901, 4907, 4912, 4963, 4968, 4986, 4991, 5009, 5035, 5041, 5045, 5052, 5065, 5069, 5071, 5080, 5087, 5096, 5122, 5132, 5138, 5142, 5151, 5179, 5200, 5207, 5224, 5225, 5236, 5247, 5258, 5267, 5272, 5273, 5296, 5298, 5313, 5314, 5329, 5342, 5365, 5369, 5384, 5396, 5418, 5447, 5494, 5500, 5518, 5527, 5540, 5548, 5573, 5580, 5582, 5583, 5593, 5611, 5621, 5626, 5644, 5648, 5651, 5659, 5676, 5687, 5689, 5700, 5711, 5725, 5765, 5778, 5782, 5801, 5804, 5813, 5824, 5825, 5826, 5831, 5839, 5847, 5852, 5854, 5864, 5866, 5876, 5908, 5922, 5931, 5933, 5975, 5981, 6023, 6031, 6072, 6102, 6116, 6129, 6136, 6137, 6160, 6162, 6163, 6166, 6194, 6230, 6232, 6260, 6277, 6305, 6319, 6329, 6336, 6341, 6346, 6371, 6383, 6385, 6390, 6416, 6429, 6432, 6449, 6473, 6475, 6486, 6494, 6495, 6496, 6505, 6507, 6508, 6516, 6518, 6538, 6548, 6551, 6565, 6575, 6577, 6600, 6613, 6641, 6670, 6678, 6681, 6682, 6691, 6743, 6758, 6783, 6792, 6806, 6823, 6824, 6835, 6880, 6884, 6890, 6895, 6896, 6897, 6915, 6931, 6932, 6953, 6968, 6971, 6982, 6989, 6991, 7003, 7004, 7012, 7015, 7017, 7022, 7032, 7033, 7077, 7078, 7089, 7095, 7096, 7100, 7103, 7104, 7124, 7135, 7155, 7159, 7201, 7224, 7226, 7247, 7267, 7276, 7279, 7280, 7298, 7299, 7304, 7305, 7318, 7329, 7338, 7342, 7345, 7367, 7372, 7376, 7378, 7380, 7392, 7414, 7420, 7431, 7451, 7459, 7465, 7488, 7512, 7532, 7600, 7602, 7612, 7616, 7618, 7622, 7634, 7641, 7662, 7710, 7713, 7716, 7727, 7743, 7746, 7755, 7757, 7767, 7777, 7808, 7817, 7818, 7820, 7823, 7839, 7853, 7859, 7884, 7910, 7937, 7948, 7957, 7959, 7966, 7969, 7973, 7989, 7991, 7992, 7999, 8006, 8009, 8011, 8015, 8025, 8026, 8044, 8046, 8051, 8053, 8057, 8092, 8096, 8131, 8132, 8165, 8185, 8211, 8215, 8224, 8232, 8239, 8260, 8266, 8270, 8279, 8282, 8311, 8318, 8324, 8331, 8347, 8349, 8360, 8361, 8365, 8366, 8398, 8456, 8457, 8468, 8478, 8480, 8484, 8504, 8509, 8520, 8530, 8544, 8554, 8556, 8564, 8568, 8574, 8581, 8589, 8592, 8597, 8607, 8634, 8638, 8641, 8664, 8674, 8697, 8704, 8709, 8716, 8740, 8755, 8763, 8778, 8786, 8803, 8811, 8822, 8826, 8834, 8839, 8850, 8853, 8854, 8888, 8891, 8894, 8907, 8909, 8932, 8958, 8973, 8981, 9001, 9007, 9012, 9013, 9042, 9070]\n"
     ]
    }
   ],
   "source": [
    "users_to_remove = []\n",
    "for user_id in user_ratings_df.user_id.unique():\n",
    "  users_ratings = user_ratings_df.loc[user_ratings_df.user_id == user_id]\n",
    "  num_non_zero_scores = len(users_ratings.loc[users_ratings.score > 0])\n",
    "\n",
    "  if num_non_zero_scores == 0:\n",
    "    users_to_remove.append(user_id)\n",
    "\n",
    "print(users_to_remove)"
   ]
  },
  {
   "cell_type": "code",
   "execution_count": 12,
   "metadata": {
    "id": "w86cknLnhYiK"
   },
   "outputs": [],
   "source": [
    "user_ratings_df = user_ratings_df.loc[~user_ratings_df.user_id.isin(users_to_remove)]"
   ]
  },
  {
   "cell_type": "markdown",
   "metadata": {
    "id": "cevfFmnYxCuN"
   },
   "source": [
    "# Splitting User Ratings into Train and Test Datasets\n",
    "Split based on the update_at column"
   ]
  },
  {
   "cell_type": "code",
   "execution_count": 13,
   "metadata": {
    "id": "_LYU5XIfxH9A"
   },
   "outputs": [],
   "source": [
    "import math\n",
    "split_ratio = 0.7 # The ratio of anime per user to put in the training set\n",
    "\n",
    "def train_test_split(user_ratings_df: pd.DataFrame, split_ratio: float):\n",
    "  train_df = None\n",
    "  test_df = None\n",
    "\n",
    "  for user_id in user_ratings_df['user_id'].unique():\n",
    "    # Get the users ratings and sort by the date the rating was last updated\n",
    "    users_ratings = user_ratings_df.loc[user_ratings_df.user_id == user_id]\n",
    "    users_ratings = users_ratings.sort_values(by=['updated_at'])\n",
    "\n",
    "    # Determine what index to split the user's ratings by\n",
    "    split_index = int(math.floor((len(users_ratings)-1) * split_ratio))\n",
    "\n",
    "    # Get the split datasets\n",
    "    train_users_ratings = users_ratings[:split_index]\n",
    "    test_users_ratings = users_ratings[split_index+1:]\n",
    "\n",
    "    if train_df is None:\n",
    "      train_df = train_users_ratings\n",
    "    else:\n",
    "      train_df = pd.concat([train_df, train_users_ratings], ignore_index=True)\n",
    "\n",
    "    if test_df is None:\n",
    "      test_df = test_users_ratings\n",
    "    else:\n",
    "      test_df = pd.concat([test_df, test_users_ratings], ignore_index=True)\n",
    "\n",
    "  return (train_df, test_df)\n",
    "\n",
    "(train_df, test_df) = train_test_split(user_ratings_df, split_ratio)"
   ]
  },
  {
   "cell_type": "code",
   "execution_count": 14,
   "metadata": {
    "colab": {
     "base_uri": "https://localhost:8080/",
     "height": 424
    },
    "id": "2dWnMPTn48My",
    "outputId": "c7b65e36-f726-4976-cfdc-d2fd77b7df29"
   },
   "outputs": [
    {
     "data": {
      "text/html": [
       "<div>\n",
       "<style scoped>\n",
       "    .dataframe tbody tr th:only-of-type {\n",
       "        vertical-align: middle;\n",
       "    }\n",
       "\n",
       "    .dataframe tbody tr th {\n",
       "        vertical-align: top;\n",
       "    }\n",
       "\n",
       "    .dataframe thead th {\n",
       "        text-align: right;\n",
       "    }\n",
       "</style>\n",
       "<table border=\"1\" class=\"dataframe\">\n",
       "  <thead>\n",
       "    <tr style=\"text-align: right;\">\n",
       "      <th></th>\n",
       "      <th>user_id</th>\n",
       "      <th>anime_id</th>\n",
       "      <th>score</th>\n",
       "      <th>status</th>\n",
       "      <th>num_episodes_watched</th>\n",
       "      <th>updated_at</th>\n",
       "    </tr>\n",
       "  </thead>\n",
       "  <tbody>\n",
       "    <tr>\n",
       "      <th>0</th>\n",
       "      <td>0</td>\n",
       "      <td>48561</td>\n",
       "      <td>9</td>\n",
       "      <td>completed</td>\n",
       "      <td>1</td>\n",
       "      <td>2023-01-01 09:37:49+00:00</td>\n",
       "    </tr>\n",
       "    <tr>\n",
       "      <th>1</th>\n",
       "      <td>0</td>\n",
       "      <td>20583</td>\n",
       "      <td>9</td>\n",
       "      <td>completed</td>\n",
       "      <td>25</td>\n",
       "      <td>2023-01-01 09:39:58+00:00</td>\n",
       "    </tr>\n",
       "    <tr>\n",
       "      <th>2</th>\n",
       "      <td>0</td>\n",
       "      <td>38883</td>\n",
       "      <td>8</td>\n",
       "      <td>completed</td>\n",
       "      <td>13</td>\n",
       "      <td>2023-01-01 09:40:05+00:00</td>\n",
       "    </tr>\n",
       "    <tr>\n",
       "      <th>3</th>\n",
       "      <td>0</td>\n",
       "      <td>28891</td>\n",
       "      <td>10</td>\n",
       "      <td>completed</td>\n",
       "      <td>25</td>\n",
       "      <td>2023-01-01 09:40:24+00:00</td>\n",
       "    </tr>\n",
       "    <tr>\n",
       "      <th>4</th>\n",
       "      <td>0</td>\n",
       "      <td>32935</td>\n",
       "      <td>9</td>\n",
       "      <td>completed</td>\n",
       "      <td>10</td>\n",
       "      <td>2023-01-01 09:40:42+00:00</td>\n",
       "    </tr>\n",
       "    <tr>\n",
       "      <th>...</th>\n",
       "      <td>...</td>\n",
       "      <td>...</td>\n",
       "      <td>...</td>\n",
       "      <td>...</td>\n",
       "      <td>...</td>\n",
       "      <td>...</td>\n",
       "    </tr>\n",
       "    <tr>\n",
       "      <th>2912948</th>\n",
       "      <td>9071</td>\n",
       "      <td>35247</td>\n",
       "      <td>4</td>\n",
       "      <td>completed</td>\n",
       "      <td>7</td>\n",
       "      <td>2022-09-27 03:09:59+00:00</td>\n",
       "    </tr>\n",
       "    <tr>\n",
       "      <th>2912949</th>\n",
       "      <td>9071</td>\n",
       "      <td>31181</td>\n",
       "      <td>4</td>\n",
       "      <td>completed</td>\n",
       "      <td>12</td>\n",
       "      <td>2022-09-27 03:10:01+00:00</td>\n",
       "    </tr>\n",
       "    <tr>\n",
       "      <th>2912950</th>\n",
       "      <td>9071</td>\n",
       "      <td>29803</td>\n",
       "      <td>3</td>\n",
       "      <td>completed</td>\n",
       "      <td>13</td>\n",
       "      <td>2022-09-27 03:10:02+00:00</td>\n",
       "    </tr>\n",
       "    <tr>\n",
       "      <th>2912951</th>\n",
       "      <td>9071</td>\n",
       "      <td>34134</td>\n",
       "      <td>3</td>\n",
       "      <td>completed</td>\n",
       "      <td>12</td>\n",
       "      <td>2022-09-27 03:10:04+00:00</td>\n",
       "    </tr>\n",
       "    <tr>\n",
       "      <th>2912952</th>\n",
       "      <td>9071</td>\n",
       "      <td>2386</td>\n",
       "      <td>4</td>\n",
       "      <td>completed</td>\n",
       "      <td>1</td>\n",
       "      <td>2022-09-27 03:10:06+00:00</td>\n",
       "    </tr>\n",
       "  </tbody>\n",
       "</table>\n",
       "<p>2912953 rows × 6 columns</p>\n",
       "</div>"
      ],
      "text/plain": [
       "         user_id  anime_id  score     status  num_episodes_watched  \\\n",
       "0              0     48561      9  completed                     1   \n",
       "1              0     20583      9  completed                    25   \n",
       "2              0     38883      8  completed                    13   \n",
       "3              0     28891     10  completed                    25   \n",
       "4              0     32935      9  completed                    10   \n",
       "...          ...       ...    ...        ...                   ...   \n",
       "2912948     9071     35247      4  completed                     7   \n",
       "2912949     9071     31181      4  completed                    12   \n",
       "2912950     9071     29803      3  completed                    13   \n",
       "2912951     9071     34134      3  completed                    12   \n",
       "2912952     9071      2386      4  completed                     1   \n",
       "\n",
       "                       updated_at  \n",
       "0       2023-01-01 09:37:49+00:00  \n",
       "1       2023-01-01 09:39:58+00:00  \n",
       "2       2023-01-01 09:40:05+00:00  \n",
       "3       2023-01-01 09:40:24+00:00  \n",
       "4       2023-01-01 09:40:42+00:00  \n",
       "...                           ...  \n",
       "2912948 2022-09-27 03:09:59+00:00  \n",
       "2912949 2022-09-27 03:10:01+00:00  \n",
       "2912950 2022-09-27 03:10:02+00:00  \n",
       "2912951 2022-09-27 03:10:04+00:00  \n",
       "2912952 2022-09-27 03:10:06+00:00  \n",
       "\n",
       "[2912953 rows x 6 columns]"
      ]
     },
     "execution_count": 14,
     "metadata": {},
     "output_type": "execute_result"
    }
   ],
   "source": [
    "train_df"
   ]
  },
  {
   "cell_type": "code",
   "execution_count": 15,
   "metadata": {
    "colab": {
     "base_uri": "https://localhost:8080/",
     "height": 424
    },
    "id": "QFrQsAK7490C",
    "outputId": "44e79603-58b6-4e49-e58b-4a412bcabf10"
   },
   "outputs": [
    {
     "data": {
      "text/html": [
       "<div>\n",
       "<style scoped>\n",
       "    .dataframe tbody tr th:only-of-type {\n",
       "        vertical-align: middle;\n",
       "    }\n",
       "\n",
       "    .dataframe tbody tr th {\n",
       "        vertical-align: top;\n",
       "    }\n",
       "\n",
       "    .dataframe thead th {\n",
       "        text-align: right;\n",
       "    }\n",
       "</style>\n",
       "<table border=\"1\" class=\"dataframe\">\n",
       "  <thead>\n",
       "    <tr style=\"text-align: right;\">\n",
       "      <th></th>\n",
       "      <th>user_id</th>\n",
       "      <th>anime_id</th>\n",
       "      <th>score</th>\n",
       "      <th>status</th>\n",
       "      <th>num_episodes_watched</th>\n",
       "      <th>updated_at</th>\n",
       "    </tr>\n",
       "  </thead>\n",
       "  <tbody>\n",
       "    <tr>\n",
       "      <th>0</th>\n",
       "      <td>0</td>\n",
       "      <td>38826</td>\n",
       "      <td>9</td>\n",
       "      <td>completed</td>\n",
       "      <td>1</td>\n",
       "      <td>2023-04-15 14:38:56+00:00</td>\n",
       "    </tr>\n",
       "    <tr>\n",
       "      <th>1</th>\n",
       "      <td>0</td>\n",
       "      <td>40028</td>\n",
       "      <td>10</td>\n",
       "      <td>completed</td>\n",
       "      <td>16</td>\n",
       "      <td>2023-04-15 14:42:02+00:00</td>\n",
       "    </tr>\n",
       "    <tr>\n",
       "      <th>2</th>\n",
       "      <td>0</td>\n",
       "      <td>51535</td>\n",
       "      <td>9</td>\n",
       "      <td>watching</td>\n",
       "      <td>1</td>\n",
       "      <td>2023-04-15 14:42:16+00:00</td>\n",
       "    </tr>\n",
       "    <tr>\n",
       "      <th>3</th>\n",
       "      <td>0</td>\n",
       "      <td>48583</td>\n",
       "      <td>10</td>\n",
       "      <td>completed</td>\n",
       "      <td>12</td>\n",
       "      <td>2023-04-15 14:42:25+00:00</td>\n",
       "    </tr>\n",
       "    <tr>\n",
       "      <th>4</th>\n",
       "      <td>0</td>\n",
       "      <td>41467</td>\n",
       "      <td>10</td>\n",
       "      <td>completed</td>\n",
       "      <td>13</td>\n",
       "      <td>2023-04-15 14:42:51+00:00</td>\n",
       "    </tr>\n",
       "    <tr>\n",
       "      <th>...</th>\n",
       "      <td>...</td>\n",
       "      <td>...</td>\n",
       "      <td>...</td>\n",
       "      <td>...</td>\n",
       "      <td>...</td>\n",
       "      <td>...</td>\n",
       "    </tr>\n",
       "    <tr>\n",
       "      <th>1253543</th>\n",
       "      <td>9071</td>\n",
       "      <td>21</td>\n",
       "      <td>6</td>\n",
       "      <td>watching</td>\n",
       "      <td>1048</td>\n",
       "      <td>2023-08-19 14:33:51+00:00</td>\n",
       "    </tr>\n",
       "    <tr>\n",
       "      <th>1253544</th>\n",
       "      <td>9071</td>\n",
       "      <td>37171</td>\n",
       "      <td>5</td>\n",
       "      <td>completed</td>\n",
       "      <td>12</td>\n",
       "      <td>2023-09-07 12:21:07+00:00</td>\n",
       "    </tr>\n",
       "    <tr>\n",
       "      <th>1253545</th>\n",
       "      <td>9071</td>\n",
       "      <td>659</td>\n",
       "      <td>5</td>\n",
       "      <td>completed</td>\n",
       "      <td>1</td>\n",
       "      <td>2023-09-07 12:21:41+00:00</td>\n",
       "    </tr>\n",
       "    <tr>\n",
       "      <th>1253546</th>\n",
       "      <td>9071</td>\n",
       "      <td>35838</td>\n",
       "      <td>5</td>\n",
       "      <td>completed</td>\n",
       "      <td>12</td>\n",
       "      <td>2023-09-07 12:22:10+00:00</td>\n",
       "    </tr>\n",
       "    <tr>\n",
       "      <th>1253547</th>\n",
       "      <td>9071</td>\n",
       "      <td>21863</td>\n",
       "      <td>1</td>\n",
       "      <td>completed</td>\n",
       "      <td>12</td>\n",
       "      <td>2023-10-09 20:06:43+00:00</td>\n",
       "    </tr>\n",
       "  </tbody>\n",
       "</table>\n",
       "<p>1253548 rows × 6 columns</p>\n",
       "</div>"
      ],
      "text/plain": [
       "         user_id  anime_id  score     status  num_episodes_watched  \\\n",
       "0              0     38826      9  completed                     1   \n",
       "1              0     40028     10  completed                    16   \n",
       "2              0     51535      9   watching                     1   \n",
       "3              0     48583     10  completed                    12   \n",
       "4              0     41467     10  completed                    13   \n",
       "...          ...       ...    ...        ...                   ...   \n",
       "1253543     9071        21      6   watching                  1048   \n",
       "1253544     9071     37171      5  completed                    12   \n",
       "1253545     9071       659      5  completed                     1   \n",
       "1253546     9071     35838      5  completed                    12   \n",
       "1253547     9071     21863      1  completed                    12   \n",
       "\n",
       "                       updated_at  \n",
       "0       2023-04-15 14:38:56+00:00  \n",
       "1       2023-04-15 14:42:02+00:00  \n",
       "2       2023-04-15 14:42:16+00:00  \n",
       "3       2023-04-15 14:42:25+00:00  \n",
       "4       2023-04-15 14:42:51+00:00  \n",
       "...                           ...  \n",
       "1253543 2023-08-19 14:33:51+00:00  \n",
       "1253544 2023-09-07 12:21:07+00:00  \n",
       "1253545 2023-09-07 12:21:41+00:00  \n",
       "1253546 2023-09-07 12:22:10+00:00  \n",
       "1253547 2023-10-09 20:06:43+00:00  \n",
       "\n",
       "[1253548 rows x 6 columns]"
      ]
     },
     "execution_count": 15,
     "metadata": {},
     "output_type": "execute_result"
    }
   ],
   "source": [
    "test_df"
   ]
  },
  {
   "cell_type": "markdown",
   "metadata": {
    "id": "WIjT8sfSt4Y0"
   },
   "source": [
    "# Vectorizing the Anime Data"
   ]
  },
  {
   "cell_type": "markdown",
   "metadata": {
    "id": "Su7qa9ivURYd"
   },
   "source": [
    "# Create the Recommender Class"
   ]
  },
  {
   "cell_type": "code",
   "execution_count": 16,
   "metadata": {
    "id": "3XgI1KHsV6N7"
   },
   "outputs": [],
   "source": [
    "class CBFRecommender:\n",
    "  def __init__(self, anime_data: pd.DataFrame, user_ratings_data: pd.DataFrame):\n",
    "    # Cleanup Anime Data\n",
    "    self.anime_df = anime_data\n",
    "    self.anime_df.fillna({\"genres\": \"\"}, inplace=True)\n",
    "    self.anime_df.fillna({\"synopsis\": \"\"}, inplace=True)\n",
    "\n",
    "    self.user_ratings_df = user_ratings_df\n",
    "    self.user_profiles = {}\n",
    "\n",
    "  # Uses TF-IDF to Vectorize the Anime DataFrame\n",
    "  def vectorize_anime_data(self):\n",
    "    vectorizer = TfidfVectorizer()\n",
    "    anime_features_df = self.anime_df[['id']]\n",
    "    anime_features_df['combined'] =  self.anime_df.apply(lambda x: self.anime_df['genres'] + \" \" + self.anime_df['synopsis'], axis=1)\n",
    "\n",
    "    anime_features_tfidf_matrix = vectorizer.fit_transform(anime_features_df['combined'])\n",
    "\n",
    "    self.anime_tfidf_df = pd.DataFrame(data=genres_tfidf_matrix.toarray())\n",
    "    self.anime_tfidf_df['anime_id'] = self.anime_df['id']\n",
    "    self.anime_tfidf_df = self.anime_tfidf_df.set_index('anime_id')\n",
    "\n",
    "    return self.anime_tfidf_df\n",
    "\n",
    "  # Creates a profile of the specified user\n",
    "  def create_user_profile(self, user_id: int):\n",
    "    # Get only this user's ratings\n",
    "    users_ratings_df = user_ratings_df[user_ratings_df.user_id == user_id]\n",
    "\n",
    "    # Prefer to only use anime they rated higher than their avg. rating\n",
    "    average_rating = np.average(users_ratings_df['score'])\n",
    "    selected_user_ratings_df = users_ratings_df[users_ratings_df.score > average_rating]\n",
    "\n",
    "    # If the user hasn't rated any anime higher than thier avg.,\n",
    "    # then use the median instead\n",
    "    if selected_user_ratings_df.empty:\n",
    "      average_rating = np.median(users_ratings_df['score'])\n",
    "      selected_user_ratings_df = users_ratings_df[users_ratings_df.score >= average_rating]\n",
    "\n",
    "    # Get the Anime they rated highly\n",
    "    user_anime_rated_df = self.anime_df[self.anime_df.id.isin(selected_user_ratings_df['anime_id'])]\n",
    "\n",
    "    # Get the weighted average of the TF-IDF values for the anime they rated\n",
    "    user_tfidf_df = anime_tfidf_df.loc[user_anime_rated_df['id']]\n",
    "    weighted_tfidf_avg = user_tfidf_df.mean()\n",
    "\n",
    "    # Append to the user profiles dictionary\n",
    "    self.user_profiles[user_id] = {\n",
    "        \"weighted_tfidf_avg\": weighted_tfidf_avg,\n",
    "        \"tfidf_df\": user_tfidf_df\n",
    "    }\n",
    "\n",
    "    return self.user_profiles[user_id]\n",
    "\n",
    "  # Get a DataFrame of How Similar Anime Are to the User's Preference\n",
    "  def get_user_anime_similarity(self, user_id):\n",
    "    # Find user profile in user profiles\n",
    "    # TODO: Check if the user_id exists first\n",
    "    user_profile = self.user_profiles[user_id]\n",
    "\n",
    "    if user_profile is None:\n",
    "      print(\"Could not find user profile. Creating new one...\")\n",
    "      user_profile = self.create_user_profile(user_id)\n",
    "\n",
    "    # Calculate the similarity matrix of the user's weighted tfidf instance compared to all instances in the anime tfidf df\n",
    "    similarity_mat = cosine_similarity(np.array([user_profile[\"weighted_tfidf_avg\"].tolist()]).reshape((1, -1)), anime_tfidf_df).reshape(-1)\n",
    "\n",
    "    # Convert the matrix into a dataframe\n",
    "    similarity_df = pd.DataFrame(data=similarity_mat.tolist())\n",
    "    similarity_df = similarity_df.rename(columns={0: \"cosine_similarity\"})\n",
    "    similarity_df['id'] = self.anime_df['id']\n",
    "\n",
    "    # The closer to 1 the cosine similarity is the more similar the anime is to the weighted vector\n",
    "    similarity_df = similarity_df.sort_values(by='cosine_similarity', ascending=False)\n",
    "\n",
    "    # Remove all anime that the user has already watched\n",
    "    similarity_df = similarity_df.loc[~similarity_df.id.isin(user_profile[\"tfidf_df\"].index)]\n",
    "\n",
    "    return similarity_df\n",
    "\n",
    "  # Recommend Anime to the User\n",
    "  def recommend_user(self, user_id: int, num_recommendations: int, add_anime_info: bool = True):\n",
    "    similarity_df = self.get_user_anime_similarity(user_id)\n",
    "\n",
    "    # Get the top recommendations and merge the anime data with the dataframe\n",
    "    top_similar_anime_df = similarity_df.iloc[0:num_recommendations]\n",
    "\n",
    "    # Only merge if we want to the anime information too.\n",
    "    if add_anime_info:\n",
    "      top_similar_anime_df = top_similar_anime_df.merge(self.anime_df, on='id', how='inner')\n",
    "\n",
    "    return top_similar_anime_df\n",
    "\n",
    "  # Recommend Anime to Multiple Users\n",
    "  def make_recommendations(self, num_recommendations: int, should_create_user_profiles: bool = True):\n",
    "    unique_user_ids = self.user_ratings_df['user_id'].unique()\n",
    "\n",
    "    recommendations_dict = {}\n",
    "\n",
    "    for user_id in unique_user_ids:\n",
    "\n",
    "      if should_create_user_profiles:\n",
    "        self.create_user_profile(user_id)\n",
    "\n",
    "      # Get this user's recommendations\n",
    "      users_top_similar_anime_df = self.recommend_user(user_id, num_recommendations, add_anime_info = False)\n",
    "\n",
    "      # Add the user's recommendations to the recommendation dictionary\n",
    "      recommendations_dict[user_id] = users_top_similar_anime_df\n",
    "\n",
    "    # recommendations_df = recommendations_df.merge(self.anime_df, on='id', how='inner')\n",
    "    return recommendations_dict\n",
    "\n",
    "  # Evaluate the Effectiveness of the Model\n",
    "  def evaluate(self, recommendations: pd.DataFrame, test_data: pd.DataFrame):\n",
    "    accuracy = 0\n",
    "    num_total_recommendations = 0\n",
    "    num_total_correct_recommendations = 0\n",
    "\n",
    "    for user_id, user_recommendations in recommendations.items():\n",
    "      test_user_recommendations = test_data.loc[test_data.user_id == user_id]\n",
    "      num_recommendations = len(user_recommendations.index)\n",
    "      num_correct_recommendations = 0\n",
    "\n",
    "      for anime_id in user_recommendations['id']:\n",
    "        if anime_id in test_user_recommendations['anime_id'].values:\n",
    "          num_correct_recommendations += 1\n",
    "\n",
    "      num_total_recommendations += num_recommendations\n",
    "      num_total_correct_recommendations += num_correct_recommendations\n",
    "\n",
    "    accuracy = (num_total_correct_recommendations / num_total_recommendations) * 100\n",
    "\n",
    "    return {\n",
    "        \"accuracy\": accuracy\n",
    "    }"
   ]
  },
  {
   "cell_type": "code",
   "execution_count": null,
   "metadata": {
    "id": "yQh8mz6dbbHb"
   },
   "outputs": [
    {
     "name": "stdout",
     "output_type": "stream",
     "text": [
      "Unexpected exception formatting exception. Falling back to standard exception\n"
     ]
    }
   ],
   "source": [
    "anime_cbf_recommeder = CBFRecommender(anime_df, train_df)\n",
    "anime_cbf_recommeder.vectorize_anime_data()"
   ]
  },
  {
   "cell_type": "markdown",
   "metadata": {
    "id": "DfzqvAoFYjmU"
   },
   "source": [
    "## Test Recommending Anime for One User"
   ]
  },
  {
   "cell_type": "code",
   "execution_count": null,
   "metadata": {
    "id": "gdLxCKZVYgDk"
   },
   "outputs": [],
   "source": [
    "test_user_id = 1\n",
    "anime_cbf_recommeder.create_user_profile(test_user_id)\n",
    "test_user_recommendations = anime_cbf_recommeder.recommend_user(test_user_id, 10)\n",
    "test_user_recommendations.head()"
   ]
  },
  {
   "cell_type": "markdown",
   "metadata": {
    "id": "-6Jo1RMeYoWL"
   },
   "source": [
    "## Test Recommending Anime for Every User"
   ]
  },
  {
   "cell_type": "code",
   "execution_count": null,
   "metadata": {
    "id": "mzJ1wHBDYrGC"
   },
   "outputs": [],
   "source": [
    "test_recommendations = anime_cbf_recommeder.make_recommendations(10)"
   ]
  },
  {
   "cell_type": "code",
   "execution_count": null,
   "metadata": {
    "id": "IVoVhBZ3oEca"
   },
   "outputs": [],
   "source": [
    "test_recommendations[104]"
   ]
  },
  {
   "cell_type": "code",
   "execution_count": null,
   "metadata": {
    "id": "8XLRE_lwJ_kz"
   },
   "outputs": [],
   "source": [
    "evaluation = anime_cbf_recommeder.evaluate(test_recommendations, test_df)"
   ]
  },
  {
   "cell_type": "code",
   "execution_count": null,
   "metadata": {
    "id": "wwTIKqFmKrMb",
    "tags": []
   },
   "outputs": [],
   "source": [
    "evaluation[\"accuracy\"]"
   ]
  }
 ],
 "metadata": {
  "colab": {
   "provenance": [],
   "toc_visible": true
  },
  "kernelspec": {
   "display_name": "Python 3 (ipykernel)",
   "language": "python",
   "name": "python3"
  },
  "language_info": {
   "codemirror_mode": {
    "name": "ipython",
    "version": 3
   },
   "file_extension": ".py",
   "mimetype": "text/x-python",
   "name": "python",
   "nbconvert_exporter": "python",
   "pygments_lexer": "ipython3",
   "version": "3.11.4"
  }
 },
 "nbformat": 4,
 "nbformat_minor": 4
}
