{
 "cells": [
  {
   "cell_type": "markdown",
   "metadata": {},
   "source": [
    "# Import the Datasets"
   ]
  },
  {
   "cell_type": "code",
   "execution_count": 1,
   "metadata": {
    "id": "s4DYiR2Ps-yT",
    "tags": []
   },
   "outputs": [],
   "source": [
    "import pandas as pd\n",
    "import numpy as np\n",
    "import matplotlib.pyplot as plt\n",
    "from sklearn.metrics.pairwise import cosine_distances, euclidean_distances, manhattan_distances, linear_kernel\n",
    "from sklearn.feature_extraction.text import TfidfVectorizer\n",
    "import os"
   ]
  },
  {
   "cell_type": "markdown",
   "metadata": {
    "tags": []
   },
   "source": [
    "## The Standard Dataset\n",
    "This dataset will have new users removed and will be used to represent what a typical dataset would look like for a recommender system. It will be used alongside the new users dataset to build a better picture when evaluating each recommender."
   ]
  },
  {
   "cell_type": "markdown",
   "metadata": {},
   "source": [
    "The datasets aren't included in the GitHub repository due to storage restrictions with Git LFS. You can use the provided python scripts to collect the data yourself or, you can simply download the data from here: https://drive.google.com/drive/folders/1byfM21Q65Mn5gb2SVcutu_z-MspwJbr3?usp=drive_link."
   ]
  },
  {
   "cell_type": "code",
   "execution_count": 2,
   "metadata": {
    "tags": []
   },
   "outputs": [],
   "source": [
    "anime_df = pd.read_csv('./data/anime.csv')"
   ]
  },
  {
   "cell_type": "code",
   "execution_count": 3,
   "metadata": {
    "id": "YLTnYtRSs8ap",
    "tags": []
   },
   "outputs": [],
   "source": [
    "# Data Gathered By Me Via the MyAnimeList API and Jikan REST API\n",
    "user_ratings_df = pd.read_csv('./data/user_ratings.csv', parse_dates=['updated_at'])"
   ]
  },
  {
   "cell_type": "code",
   "execution_count": 4,
   "metadata": {
    "colab": {
     "base_uri": "https://localhost:8080/",
     "height": 573
    },
    "id": "8vUSJ5xEXOv7",
    "outputId": "faee2ac4-2fea-4c8e-fe05-b2c775044e89",
    "tags": []
   },
   "outputs": [
    {
     "data": {
      "text/html": [
       "<div>\n",
       "<style scoped>\n",
       "    .dataframe tbody tr th:only-of-type {\n",
       "        vertical-align: middle;\n",
       "    }\n",
       "\n",
       "    .dataframe tbody tr th {\n",
       "        vertical-align: top;\n",
       "    }\n",
       "\n",
       "    .dataframe thead th {\n",
       "        text-align: right;\n",
       "    }\n",
       "</style>\n",
       "<table border=\"1\" class=\"dataframe\">\n",
       "  <thead>\n",
       "    <tr style=\"text-align: right;\">\n",
       "      <th></th>\n",
       "      <th>id</th>\n",
       "      <th>title</th>\n",
       "      <th>start_date</th>\n",
       "      <th>end_date</th>\n",
       "      <th>synopsis</th>\n",
       "      <th>score</th>\n",
       "      <th>rank</th>\n",
       "      <th>popularity</th>\n",
       "      <th>num_list_users</th>\n",
       "      <th>num_scoring_users</th>\n",
       "      <th>media_type</th>\n",
       "      <th>status</th>\n",
       "      <th>genres</th>\n",
       "      <th>num_episodes</th>\n",
       "      <th>start_season</th>\n",
       "      <th>broadcast_day</th>\n",
       "      <th>broadcast_time</th>\n",
       "      <th>source</th>\n",
       "      <th>rating</th>\n",
       "      <th>studios</th>\n",
       "    </tr>\n",
       "  </thead>\n",
       "  <tbody>\n",
       "    <tr>\n",
       "      <th>0</th>\n",
       "      <td>5114</td>\n",
       "      <td>Fullmetal Alchemist: Brotherhood</td>\n",
       "      <td>2009-04-05</td>\n",
       "      <td>2010-07-04</td>\n",
       "      <td>After a horrific alchemy experiment goes wrong...</td>\n",
       "      <td>9.10</td>\n",
       "      <td>1.0</td>\n",
       "      <td>3</td>\n",
       "      <td>3240265</td>\n",
       "      <td>2056814</td>\n",
       "      <td>tv</td>\n",
       "      <td>finished_airing</td>\n",
       "      <td>Action,Adventure,Drama,Fantasy,Military,Shounen</td>\n",
       "      <td>64</td>\n",
       "      <td>spring</td>\n",
       "      <td>sunday</td>\n",
       "      <td>17:00</td>\n",
       "      <td>manga</td>\n",
       "      <td>r</td>\n",
       "      <td>Bones</td>\n",
       "    </tr>\n",
       "    <tr>\n",
       "      <th>1</th>\n",
       "      <td>9253</td>\n",
       "      <td>Steins;Gate</td>\n",
       "      <td>2011-04-06</td>\n",
       "      <td>2011-09-14</td>\n",
       "      <td>Eccentric scientist Rintarou Okabe has a never...</td>\n",
       "      <td>9.07</td>\n",
       "      <td>2.0</td>\n",
       "      <td>13</td>\n",
       "      <td>2489957</td>\n",
       "      <td>1361494</td>\n",
       "      <td>tv</td>\n",
       "      <td>finished_airing</td>\n",
       "      <td>Drama,Psychological,Sci-Fi,Suspense,Time Travel</td>\n",
       "      <td>24</td>\n",
       "      <td>spring</td>\n",
       "      <td>wednesday</td>\n",
       "      <td>02:05</td>\n",
       "      <td>visual_novel</td>\n",
       "      <td>pg_13</td>\n",
       "      <td>White Fox</td>\n",
       "    </tr>\n",
       "    <tr>\n",
       "      <th>2</th>\n",
       "      <td>28977</td>\n",
       "      <td>Gintama°</td>\n",
       "      <td>2015-04-08</td>\n",
       "      <td>2016-03-30</td>\n",
       "      <td>Gintoki, Shinpachi, and Kagura return as the f...</td>\n",
       "      <td>9.06</td>\n",
       "      <td>3.0</td>\n",
       "      <td>336</td>\n",
       "      <td>610158</td>\n",
       "      <td>243298</td>\n",
       "      <td>tv</td>\n",
       "      <td>finished_airing</td>\n",
       "      <td>Action,Comedy,Gag Humor,Historical,Parody,Samu...</td>\n",
       "      <td>51</td>\n",
       "      <td>spring</td>\n",
       "      <td>wednesday</td>\n",
       "      <td>18:00</td>\n",
       "      <td>manga</td>\n",
       "      <td>pg_13</td>\n",
       "      <td>Bandai Namco Pictures</td>\n",
       "    </tr>\n",
       "    <tr>\n",
       "      <th>3</th>\n",
       "      <td>41467</td>\n",
       "      <td>Bleach: Sennen Kessen-hen</td>\n",
       "      <td>2022-10-11</td>\n",
       "      <td>2022-12-27</td>\n",
       "      <td>Substitute Soul Reaper Ichigo Kurosaki spends ...</td>\n",
       "      <td>9.05</td>\n",
       "      <td>4.0</td>\n",
       "      <td>432</td>\n",
       "      <td>489199</td>\n",
       "      <td>245969</td>\n",
       "      <td>tv</td>\n",
       "      <td>finished_airing</td>\n",
       "      <td>Action,Adventure,Fantasy,Shounen</td>\n",
       "      <td>13</td>\n",
       "      <td>fall</td>\n",
       "      <td>tuesday</td>\n",
       "      <td>00:00</td>\n",
       "      <td>manga</td>\n",
       "      <td>r</td>\n",
       "      <td>Pierrot</td>\n",
       "    </tr>\n",
       "    <tr>\n",
       "      <th>4</th>\n",
       "      <td>39486</td>\n",
       "      <td>Gintama: The Final</td>\n",
       "      <td>2021-01-08</td>\n",
       "      <td>2021-01-08</td>\n",
       "      <td>Two years have passed following the Tendoshuu'...</td>\n",
       "      <td>9.05</td>\n",
       "      <td>5.0</td>\n",
       "      <td>1550</td>\n",
       "      <td>140032</td>\n",
       "      <td>67119</td>\n",
       "      <td>movie</td>\n",
       "      <td>finished_airing</td>\n",
       "      <td>Action,Comedy,Drama,Gag Humor,Historical,Parod...</td>\n",
       "      <td>1</td>\n",
       "      <td>winter</td>\n",
       "      <td>NaN</td>\n",
       "      <td>NaN</td>\n",
       "      <td>manga</td>\n",
       "      <td>pg_13</td>\n",
       "      <td>Bandai Namco Pictures</td>\n",
       "    </tr>\n",
       "  </tbody>\n",
       "</table>\n",
       "</div>"
      ],
      "text/plain": [
       "      id                             title  start_date    end_date  \\\n",
       "0   5114  Fullmetal Alchemist: Brotherhood  2009-04-05  2010-07-04   \n",
       "1   9253                       Steins;Gate  2011-04-06  2011-09-14   \n",
       "2  28977                          Gintama°  2015-04-08  2016-03-30   \n",
       "3  41467         Bleach: Sennen Kessen-hen  2022-10-11  2022-12-27   \n",
       "4  39486                Gintama: The Final  2021-01-08  2021-01-08   \n",
       "\n",
       "                                            synopsis  score  rank  popularity  \\\n",
       "0  After a horrific alchemy experiment goes wrong...   9.10   1.0           3   \n",
       "1  Eccentric scientist Rintarou Okabe has a never...   9.07   2.0          13   \n",
       "2  Gintoki, Shinpachi, and Kagura return as the f...   9.06   3.0         336   \n",
       "3  Substitute Soul Reaper Ichigo Kurosaki spends ...   9.05   4.0         432   \n",
       "4  Two years have passed following the Tendoshuu'...   9.05   5.0        1550   \n",
       "\n",
       "   num_list_users  num_scoring_users media_type           status  \\\n",
       "0         3240265            2056814         tv  finished_airing   \n",
       "1         2489957            1361494         tv  finished_airing   \n",
       "2          610158             243298         tv  finished_airing   \n",
       "3          489199             245969         tv  finished_airing   \n",
       "4          140032              67119      movie  finished_airing   \n",
       "\n",
       "                                              genres  num_episodes  \\\n",
       "0    Action,Adventure,Drama,Fantasy,Military,Shounen            64   \n",
       "1    Drama,Psychological,Sci-Fi,Suspense,Time Travel            24   \n",
       "2  Action,Comedy,Gag Humor,Historical,Parody,Samu...            51   \n",
       "3                   Action,Adventure,Fantasy,Shounen            13   \n",
       "4  Action,Comedy,Drama,Gag Humor,Historical,Parod...             1   \n",
       "\n",
       "  start_season broadcast_day broadcast_time        source rating  \\\n",
       "0       spring        sunday          17:00         manga      r   \n",
       "1       spring     wednesday          02:05  visual_novel  pg_13   \n",
       "2       spring     wednesday          18:00         manga  pg_13   \n",
       "3         fall       tuesday          00:00         manga      r   \n",
       "4       winter           NaN            NaN         manga  pg_13   \n",
       "\n",
       "                 studios  \n",
       "0                  Bones  \n",
       "1              White Fox  \n",
       "2  Bandai Namco Pictures  \n",
       "3                Pierrot  \n",
       "4  Bandai Namco Pictures  "
      ]
     },
     "execution_count": 4,
     "metadata": {},
     "output_type": "execute_result"
    }
   ],
   "source": [
    "anime_df.head()"
   ]
  },
  {
   "cell_type": "code",
   "execution_count": 5,
   "metadata": {
    "tags": []
   },
   "outputs": [
    {
     "data": {
      "text/html": [
       "<div>\n",
       "<style scoped>\n",
       "    .dataframe tbody tr th:only-of-type {\n",
       "        vertical-align: middle;\n",
       "    }\n",
       "\n",
       "    .dataframe tbody tr th {\n",
       "        vertical-align: top;\n",
       "    }\n",
       "\n",
       "    .dataframe thead th {\n",
       "        text-align: right;\n",
       "    }\n",
       "</style>\n",
       "<table border=\"1\" class=\"dataframe\">\n",
       "  <thead>\n",
       "    <tr style=\"text-align: right;\">\n",
       "      <th></th>\n",
       "      <th>user_id</th>\n",
       "      <th>anime_id</th>\n",
       "      <th>score</th>\n",
       "      <th>status</th>\n",
       "      <th>num_episodes_watched</th>\n",
       "      <th>updated_at</th>\n",
       "      <th>start_date</th>\n",
       "      <th>finish_date</th>\n",
       "    </tr>\n",
       "  </thead>\n",
       "  <tbody>\n",
       "    <tr>\n",
       "      <th>0</th>\n",
       "      <td>0</td>\n",
       "      <td>41457</td>\n",
       "      <td>7</td>\n",
       "      <td>completed</td>\n",
       "      <td>11</td>\n",
       "      <td>2023-02-16 10:18:23+00:00</td>\n",
       "      <td>NaN</td>\n",
       "      <td>2023-01-01</td>\n",
       "    </tr>\n",
       "    <tr>\n",
       "      <th>1</th>\n",
       "      <td>0</td>\n",
       "      <td>48569</td>\n",
       "      <td>7</td>\n",
       "      <td>watching</td>\n",
       "      <td>7</td>\n",
       "      <td>2023-03-09 11:11:20+00:00</td>\n",
       "      <td>2023-01-01</td>\n",
       "      <td>NaN</td>\n",
       "    </tr>\n",
       "    <tr>\n",
       "      <th>2</th>\n",
       "      <td>0</td>\n",
       "      <td>32998</td>\n",
       "      <td>9</td>\n",
       "      <td>completed</td>\n",
       "      <td>12</td>\n",
       "      <td>2023-04-15 14:29:11+00:00</td>\n",
       "      <td>NaN</td>\n",
       "      <td>2023-01-01</td>\n",
       "    </tr>\n",
       "    <tr>\n",
       "      <th>3</th>\n",
       "      <td>0</td>\n",
       "      <td>25013</td>\n",
       "      <td>0</td>\n",
       "      <td>plan_to_watch</td>\n",
       "      <td>0</td>\n",
       "      <td>2023-04-15 14:44:38+00:00</td>\n",
       "      <td>NaN</td>\n",
       "      <td>NaN</td>\n",
       "    </tr>\n",
       "    <tr>\n",
       "      <th>4</th>\n",
       "      <td>0</td>\n",
       "      <td>36649</td>\n",
       "      <td>7</td>\n",
       "      <td>completed</td>\n",
       "      <td>24</td>\n",
       "      <td>2023-04-15 14:29:23+00:00</td>\n",
       "      <td>NaN</td>\n",
       "      <td>2023-01-01</td>\n",
       "    </tr>\n",
       "  </tbody>\n",
       "</table>\n",
       "</div>"
      ],
      "text/plain": [
       "   user_id  anime_id  score         status  num_episodes_watched  \\\n",
       "0        0     41457      7      completed                    11   \n",
       "1        0     48569      7       watching                     7   \n",
       "2        0     32998      9      completed                    12   \n",
       "3        0     25013      0  plan_to_watch                     0   \n",
       "4        0     36649      7      completed                    24   \n",
       "\n",
       "                 updated_at  start_date finish_date  \n",
       "0 2023-02-16 10:18:23+00:00         NaN  2023-01-01  \n",
       "1 2023-03-09 11:11:20+00:00  2023-01-01         NaN  \n",
       "2 2023-04-15 14:29:11+00:00         NaN  2023-01-01  \n",
       "3 2023-04-15 14:44:38+00:00         NaN         NaN  \n",
       "4 2023-04-15 14:29:23+00:00         NaN  2023-01-01  "
      ]
     },
     "execution_count": 5,
     "metadata": {},
     "output_type": "execute_result"
    }
   ],
   "source": [
    "user_ratings_df.head()"
   ]
  },
  {
   "cell_type": "markdown",
   "metadata": {},
   "source": [
    "## The New Users Dataset\n",
    "This dataset will be intentionally biased so that it has only *new* users. This dataset will be used to evaluate each recommender's performance with new users.\n",
    "\n",
    "The datasets aren't included in the GitHub repository due to storage restrictions with Git LFS. This dataset uses data from Kaggle, so you will need to download the dataset from here: https://drive.google.com/drive/folders/1VHbxxhSLdK_g7ro7-3a7ntgL1YXdp-WT?usp=sharing."
   ]
  },
  {
   "cell_type": "code",
   "execution_count": 6,
   "metadata": {
    "tags": []
   },
   "outputs": [],
   "source": [
    "new_users_ratings_df = pd.read_csv('./data/rating_complete.csv')"
   ]
  },
  {
   "cell_type": "code",
   "execution_count": 7,
   "metadata": {
    "tags": []
   },
   "outputs": [
    {
     "data": {
      "text/html": [
       "<div>\n",
       "<style scoped>\n",
       "    .dataframe tbody tr th:only-of-type {\n",
       "        vertical-align: middle;\n",
       "    }\n",
       "\n",
       "    .dataframe tbody tr th {\n",
       "        vertical-align: top;\n",
       "    }\n",
       "\n",
       "    .dataframe thead th {\n",
       "        text-align: right;\n",
       "    }\n",
       "</style>\n",
       "<table border=\"1\" class=\"dataframe\">\n",
       "  <thead>\n",
       "    <tr style=\"text-align: right;\">\n",
       "      <th></th>\n",
       "      <th>user_id</th>\n",
       "      <th>anime_id</th>\n",
       "      <th>rating</th>\n",
       "    </tr>\n",
       "  </thead>\n",
       "  <tbody>\n",
       "    <tr>\n",
       "      <th>0</th>\n",
       "      <td>0</td>\n",
       "      <td>430</td>\n",
       "      <td>9</td>\n",
       "    </tr>\n",
       "    <tr>\n",
       "      <th>1</th>\n",
       "      <td>0</td>\n",
       "      <td>1004</td>\n",
       "      <td>5</td>\n",
       "    </tr>\n",
       "    <tr>\n",
       "      <th>2</th>\n",
       "      <td>0</td>\n",
       "      <td>3010</td>\n",
       "      <td>7</td>\n",
       "    </tr>\n",
       "    <tr>\n",
       "      <th>3</th>\n",
       "      <td>0</td>\n",
       "      <td>570</td>\n",
       "      <td>7</td>\n",
       "    </tr>\n",
       "    <tr>\n",
       "      <th>4</th>\n",
       "      <td>0</td>\n",
       "      <td>2762</td>\n",
       "      <td>9</td>\n",
       "    </tr>\n",
       "  </tbody>\n",
       "</table>\n",
       "</div>"
      ],
      "text/plain": [
       "   user_id  anime_id  rating\n",
       "0        0       430       9\n",
       "1        0      1004       5\n",
       "2        0      3010       7\n",
       "3        0       570       7\n",
       "4        0      2762       9"
      ]
     },
     "execution_count": 7,
     "metadata": {},
     "output_type": "execute_result"
    }
   ],
   "source": [
    "new_users_ratings_df.head()"
   ]
  },
  {
   "cell_type": "code",
   "execution_count": 8,
   "metadata": {
    "tags": []
   },
   "outputs": [],
   "source": [
    "# Keep the column headers consitent between datasets\n",
    "new_users_ratings_df = new_users_ratings_df.rename(columns={\"rating\": \"score\"})"
   ]
  },
  {
   "cell_type": "markdown",
   "metadata": {
    "tags": []
   },
   "source": [
    "# Handle Pre-Processing"
   ]
  },
  {
   "cell_type": "markdown",
   "metadata": {
    "tags": []
   },
   "source": [
    "## Biasing the New Users Dataset Towards New Users\n",
    "The New Users Dataset will have the same number of users as the Standard Dataset to ensure that comparing the two is fair. The New Users Dataset will have 50% of it's users be considered new."
   ]
  },
  {
   "cell_type": "code",
   "execution_count": 9,
   "metadata": {
    "tags": []
   },
   "outputs": [
    {
     "name": "stdout",
     "output_type": "stream",
     "text": [
      "310059\n"
     ]
    }
   ],
   "source": [
    "print(len(new_users_ratings_df.user_id.unique()))"
   ]
  },
  {
   "cell_type": "code",
   "execution_count": 10,
   "metadata": {
    "tags": []
   },
   "outputs": [
    {
     "name": "stdout",
     "output_type": "stream",
     "text": [
      "8738/8738\n"
     ]
    }
   ],
   "source": [
    "num_max_users = 125000 # This is to reduce memory usage\n",
    "new_users_ratings_df = new_users_ratings_df.loc[new_users_ratings_df.user_id <= num_max_users]\n",
    "grouped_users = new_users_ratings_df.groupby(\"user_id\", group_keys=True).count()\n",
    "grouped_new_users = grouped_users.loc[(grouped_users.anime_id >= 5) & (grouped_users.anime_id < 20)]\n",
    "\n",
    "target_num_users = len(user_ratings_df.groupby(\"user_id\", group_keys=True).count().index)\n",
    "users_to_keep = []\n",
    "\n",
    "for user_id in grouped_new_users.index:\n",
    "    if (len(users_to_keep) >= target_num_users):\n",
    "        break\n",
    "        \n",
    "    users_to_keep.append(user_id)\n",
    "\n",
    "print(f\"{len(users_to_keep)}/{target_num_users}\")\n",
    "new_users_ratings_df = new_users_ratings_df.loc[new_users_ratings_df.user_id.isin(users_to_keep)]\n",
    "new_users_ratings_df.to_csv('./data/new_users_ratings.csv', index=False)"
   ]
  },
  {
   "cell_type": "markdown",
   "metadata": {},
   "source": [
    "## Misc Pre-Processing"
   ]
  },
  {
   "cell_type": "code",
   "execution_count": 11,
   "metadata": {
    "id": "r66REtk-XQxk",
    "tags": []
   },
   "outputs": [],
   "source": [
    "# Only this dataset contains these columns\n",
    "user_ratings_df.drop(columns=['start_date', 'finish_date'], inplace=True)"
   ]
  },
  {
   "cell_type": "code",
   "execution_count": 12,
   "metadata": {
    "colab": {
     "base_uri": "https://localhost:8080/"
    },
    "id": "2kK21xATaMcr",
    "outputId": "b0f03447-9325-45fb-a5b6-f04d33e1d2ab",
    "tags": []
   },
   "outputs": [
    {
     "data": {
      "text/plain": [
       "user_id                 0\n",
       "anime_id                0\n",
       "score                   0\n",
       "status                  1\n",
       "num_episodes_watched    0\n",
       "updated_at              0\n",
       "dtype: int64"
      ]
     },
     "execution_count": 12,
     "metadata": {},
     "output_type": "execute_result"
    }
   ],
   "source": [
    "user_ratings_df.isna().sum()"
   ]
  },
  {
   "cell_type": "code",
   "execution_count": 13,
   "metadata": {
    "tags": []
   },
   "outputs": [
    {
     "data": {
      "text/plain": [
       "user_id     0\n",
       "anime_id    0\n",
       "score       0\n",
       "dtype: int64"
      ]
     },
     "execution_count": 13,
     "metadata": {},
     "output_type": "execute_result"
    }
   ],
   "source": [
    "new_users_ratings_df.isna().sum()"
   ]
  },
  {
   "cell_type": "markdown",
   "metadata": {
    "id": "9nsp1GHyeyWy"
   },
   "source": [
    "Although the above functions shows that there are no missing score values, a score of 0 indicates that the score was missing since it's not possible on MyAnimeList to rate an anime 0 unless you choose not to rate the anime."
   ]
  },
  {
   "cell_type": "markdown",
   "metadata": {
    "id": "yVTC2_98fRe9"
   },
   "source": [
    "## Remove Users who have only given scores of 0 in the Standard Dataset"
   ]
  },
  {
   "cell_type": "code",
   "execution_count": 14,
   "metadata": {
    "colab": {
     "base_uri": "https://localhost:8080/"
    },
    "id": "BTdwatplfY95",
    "outputId": "72d23e36-2cf1-4e4d-9df1-b1f40bc958f4",
    "tags": []
   },
   "outputs": [],
   "source": [
    "def remove_zero_scoring_users(ratings_df: pd.DataFrame):\n",
    "    users_to_remove = []\n",
    "    for user_id in ratings_df.user_id.unique():\n",
    "      users_ratings = ratings_df.loc[ratings_df.user_id == user_id]\n",
    "      num_non_zero_scores = len(ratings_df.loc[ratings_df.score > 0])\n",
    "\n",
    "      if num_non_zero_scores == 0:\n",
    "        users_to_remove.append(user_id)\n",
    "\n",
    "    print(users_to_remove)\n",
    "    return users_to_remove"
   ]
  },
  {
   "cell_type": "code",
   "execution_count": 15,
   "metadata": {
    "id": "w86cknLnhYiK",
    "tags": []
   },
   "outputs": [
    {
     "name": "stdout",
     "output_type": "stream",
     "text": [
      "[]\n"
     ]
    }
   ],
   "source": [
    "std_users_to_remove = remove_zero_scoring_users(user_ratings_df)\n",
    "user_ratings_df = user_ratings_df.loc[~user_ratings_df.user_id.isin(std_users_to_remove)]"
   ]
  },
  {
   "cell_type": "markdown",
   "metadata": {},
   "source": [
    "## Remove Shows without the Completed Status in the Standard Dataset"
   ]
  },
  {
   "cell_type": "code",
   "execution_count": 16,
   "metadata": {
    "tags": []
   },
   "outputs": [],
   "source": [
    "# Only applies to the standard dataset\n",
    "user_ratings_df = user_ratings_df.loc[user_ratings_df.status == 'completed']"
   ]
  },
  {
   "cell_type": "markdown",
   "metadata": {},
   "source": [
    "## Remove Users with Less than 30 Ratings in the Standard Dataset"
   ]
  },
  {
   "cell_type": "code",
   "execution_count": 17,
   "metadata": {
    "tags": []
   },
   "outputs": [],
   "source": [
    "users_not_enough_ratings = []\n",
    "num_minimum_ratings = 30\n",
    "\n",
    "# Find the users\n",
    "for user_id in user_ratings_df.user_id.unique():\n",
    "    if (len(user_ratings_df.loc[user_ratings_df.user_id == user_id]) < num_minimum_ratings):\n",
    "        users_not_enough_ratings.append(user_id)\n",
    "\n",
    "# Remove the users\n",
    "user_ratings_df = user_ratings_df.loc[~user_ratings_df.user_id.isin(users_not_enough_ratings)]"
   ]
  },
  {
   "cell_type": "markdown",
   "metadata": {},
   "source": [
    "# Exploring the Datasets"
   ]
  },
  {
   "cell_type": "markdown",
   "metadata": {},
   "source": [
    "## Checking The Num. Anime Watched Distribution"
   ]
  },
  {
   "cell_type": "code",
   "execution_count": 18,
   "metadata": {
    "tags": []
   },
   "outputs": [],
   "source": [
    "normal_users_num_watched = user_ratings_df.groupby(\"user_id\", group_keys=True).count()\n",
    "new_users_num_watched = new_users_ratings_df.groupby(\"user_id\", group_keys=True).count()"
   ]
  },
  {
   "cell_type": "code",
   "execution_count": 19,
   "metadata": {
    "tags": []
   },
   "outputs": [],
   "source": [
    "def get_histogram(num_watched_group):\n",
    "    num_watched_data = {\n",
    "        \"0-20\": 0,\n",
    "        \"21-30\": 0,\n",
    "        \"31-100\": 0,\n",
    "        \"101-250\": 0,\n",
    "        \"251-500\": 0,\n",
    "        \"501+\": 0\n",
    "    }\n",
    "    \n",
    "    num_watched_data[\"0-20\"] = len(num_watched_group.loc[(num_watched_group.anime_id >= 0) & (num_watched_group.anime_id <= 20)])\n",
    "    num_watched_data[\"21-30\"] = len(num_watched_group.loc[(num_watched_group.anime_id >= 21) & (num_watched_group.anime_id <= 30)])\n",
    "    num_watched_data[\"31-100\"] = len(num_watched_group.loc[(num_watched_group.anime_id >= 31) & (num_watched_group.anime_id <= 100)])                                    \n",
    "    num_watched_data[\"101-250\"] = len(num_watched_group.loc[(num_watched_group.anime_id >= 101) & (num_watched_group.anime_id <= 250)])          \n",
    "    num_watched_data[\"251-500\"] = len(num_watched_group.loc[(num_watched_group.anime_id >= 251) & (num_watched_group.anime_id <= 500)])\n",
    "    num_watched_data[\"501+\"] = len(num_watched_group.loc[num_watched_group.anime_id >= 501])\n",
    "    \n",
    "    plt.bar(num_watched_data.keys(), num_watched_data.values())"
   ]
  },
  {
   "cell_type": "code",
   "execution_count": 20,
   "metadata": {
    "tags": []
   },
   "outputs": [
    {
     "data": {
      "image/png": "[encoded data removed]",
      "text/plain": [
       "<Figure size 640x480 with 1 Axes>"
      ]
     },
     "metadata": {},
     "output_type": "display_data"
    }
   ],
   "source": [
    "get_histogram(normal_users_num_watched)"
   ]
  },
  {
   "cell_type": "code",
   "execution_count": 21,
   "metadata": {
    "tags": []
   },
   "outputs": [
    {
     "data": {
      "image/png": "[encoded data removed]",
      "text/plain": [
       "<Figure size 640x480 with 1 Axes>"
      ]
     },
     "metadata": {},
     "output_type": "display_data"
    }
   ],
   "source": [
    "get_histogram(new_users_num_watched)"
   ]
  },
  {
   "cell_type": "markdown",
   "metadata": {
    "id": "cevfFmnYxCuN"
   },
   "source": [
    "# Splitting User Ratings into Train and Test Datasets\n",
    "Split based on the update_at column and save both files as CSVs."
   ]
  },
  {
   "cell_type": "code",
   "execution_count": 22,
   "metadata": {
    "id": "_LYU5XIfxH9A",
    "tags": []
   },
   "outputs": [],
   "source": [
    "import math\n",
    "split_ratio = 0.7 # The ratio of anime per user to put in the training set\n",
    "\n",
    "def train_test_split(ratings_df: pd.DataFrame, split_ratio: float, should_sort = True):\n",
    "    train_user_ratings = []\n",
    "    test_user_ratings = []\n",
    "\n",
    "    for user_id in ratings_df['user_id'].unique():\n",
    "        # Get the users ratings and sort by the date the rating was last updated\n",
    "        users_ratings = ratings_df.loc[ratings_df.user_id == user_id]\n",
    "\n",
    "        if should_sort:\n",
    "            users_ratings = users_ratings.sort_values(by=['updated_at'])\n",
    "\n",
    "        if len(users_ratings) < 2:\n",
    "            print(\"Error. Not enough ratings to put user in test and train datasets\")\n",
    "        elif len(users_ratings) == 2:\n",
    "            train_user_ratings.append(users_ratings.loc[users_ratings.index == 0])\n",
    "            test_user_ratings.append(users_ratings.loc[users_ratings.index == 1])\n",
    "        else:\n",
    "            # Determine what index to split the user's ratings by\n",
    "            split_index = int(math.floor((len(users_ratings)-1) * split_ratio))\n",
    "\n",
    "            # Append the split datasets\n",
    "            train_user_ratings.append(users_ratings[:split_index])\n",
    "            test_user_ratings.append(users_ratings[split_index+1:])\n",
    "\n",
    "    train_df = pd.concat(train_user_ratings, ignore_index=True)\n",
    "    test_df = pd.concat(test_user_ratings, ignore_index=True)\n",
    "    \n",
    "    # Ensure Columns Have the Same Data Type\n",
    "    train_df.score.astype('int32')\n",
    "    test_df.score.astype('int32')\n",
    "    train_df.user_id.astype('int32')\n",
    "    test_df.user_id.astype('int32')\n",
    "    train_df.anime_id.astype('int32')\n",
    "    test_df.anime_id.astype('int32')\n",
    "    \n",
    "    return (train_df, test_df)\n",
    "\n",
    "(train_df, test_df) = train_test_split(user_ratings_df, split_ratio)\n",
    "(new_users_train_df, new_users_test_df) = train_test_split(new_users_ratings_df, split_ratio, should_sort=False)"
   ]
  },
  {
   "cell_type": "code",
   "execution_count": 23,
   "metadata": {
    "tags": []
   },
   "outputs": [],
   "source": [
    "for user_id in new_users_train_df.user_id.unique():\n",
    "    num_anime_watched = len(new_users_test_df[new_users_test_df.user_id == user_id])\n",
    "    if num_anime_watched == 0:\n",
    "        print(user_id, \" watched no anime\")\n",
    "        break"
   ]
  },
  {
   "cell_type": "code",
   "execution_count": 24,
   "metadata": {
    "tags": []
   },
   "outputs": [],
   "source": [
    "train_df.to_csv('data/user_ratings_train.csv')\n",
    "test_df.to_csv('data/user_ratings_test.csv')\n",
    "new_users_train_df.to_csv('data/new_user_ratings_train.csv')\n",
    "new_users_test_df.to_csv('data/new_user_ratings_test.csv')"
   ]
  },
  {
   "cell_type": "code",
   "execution_count": 25,
   "metadata": {
    "colab": {
     "base_uri": "https://localhost:8080/",
     "height": 424
    },
    "id": "2dWnMPTn48My",
    "outputId": "c7b65e36-f726-4976-cfdc-d2fd77b7df29",
    "tags": []
   },
   "outputs": [
    {
     "data": {
      "text/html": [
       "<div>\n",
       "<style scoped>\n",
       "    .dataframe tbody tr th:only-of-type {\n",
       "        vertical-align: middle;\n",
       "    }\n",
       "\n",
       "    .dataframe tbody tr th {\n",
       "        vertical-align: top;\n",
       "    }\n",
       "\n",
       "    .dataframe thead th {\n",
       "        text-align: right;\n",
       "    }\n",
       "</style>\n",
       "<table border=\"1\" class=\"dataframe\">\n",
       "  <thead>\n",
       "    <tr style=\"text-align: right;\">\n",
       "      <th></th>\n",
       "      <th>user_id</th>\n",
       "      <th>anime_id</th>\n",
       "      <th>score</th>\n",
       "      <th>status</th>\n",
       "      <th>num_episodes_watched</th>\n",
       "      <th>updated_at</th>\n",
       "    </tr>\n",
       "  </thead>\n",
       "  <tbody>\n",
       "    <tr>\n",
       "      <th>0</th>\n",
       "      <td>0</td>\n",
       "      <td>48561</td>\n",
       "      <td>9</td>\n",
       "      <td>completed</td>\n",
       "      <td>1</td>\n",
       "      <td>2023-01-01 09:37:49+00:00</td>\n",
       "    </tr>\n",
       "    <tr>\n",
       "      <th>1</th>\n",
       "      <td>0</td>\n",
       "      <td>20583</td>\n",
       "      <td>9</td>\n",
       "      <td>completed</td>\n",
       "      <td>25</td>\n",
       "      <td>2023-01-01 09:39:58+00:00</td>\n",
       "    </tr>\n",
       "    <tr>\n",
       "      <th>2</th>\n",
       "      <td>0</td>\n",
       "      <td>38883</td>\n",
       "      <td>8</td>\n",
       "      <td>completed</td>\n",
       "      <td>13</td>\n",
       "      <td>2023-01-01 09:40:05+00:00</td>\n",
       "    </tr>\n",
       "    <tr>\n",
       "      <th>3</th>\n",
       "      <td>0</td>\n",
       "      <td>28891</td>\n",
       "      <td>10</td>\n",
       "      <td>completed</td>\n",
       "      <td>25</td>\n",
       "      <td>2023-01-01 09:40:24+00:00</td>\n",
       "    </tr>\n",
       "    <tr>\n",
       "      <th>4</th>\n",
       "      <td>0</td>\n",
       "      <td>32935</td>\n",
       "      <td>9</td>\n",
       "      <td>completed</td>\n",
       "      <td>10</td>\n",
       "      <td>2023-01-01 09:40:42+00:00</td>\n",
       "    </tr>\n",
       "    <tr>\n",
       "      <th>...</th>\n",
       "      <td>...</td>\n",
       "      <td>...</td>\n",
       "      <td>...</td>\n",
       "      <td>...</td>\n",
       "      <td>...</td>\n",
       "      <td>...</td>\n",
       "    </tr>\n",
       "    <tr>\n",
       "      <th>1919125</th>\n",
       "      <td>9071</td>\n",
       "      <td>4581</td>\n",
       "      <td>4</td>\n",
       "      <td>completed</td>\n",
       "      <td>13</td>\n",
       "      <td>2022-09-27 03:09:40+00:00</td>\n",
       "    </tr>\n",
       "    <tr>\n",
       "      <th>1919126</th>\n",
       "      <td>9071</td>\n",
       "      <td>20671</td>\n",
       "      <td>4</td>\n",
       "      <td>completed</td>\n",
       "      <td>1</td>\n",
       "      <td>2022-09-27 03:09:41+00:00</td>\n",
       "    </tr>\n",
       "    <tr>\n",
       "      <th>1919127</th>\n",
       "      <td>9071</td>\n",
       "      <td>38787</td>\n",
       "      <td>4</td>\n",
       "      <td>completed</td>\n",
       "      <td>12</td>\n",
       "      <td>2022-09-27 03:09:43+00:00</td>\n",
       "    </tr>\n",
       "    <tr>\n",
       "      <th>1919128</th>\n",
       "      <td>9071</td>\n",
       "      <td>2476</td>\n",
       "      <td>4</td>\n",
       "      <td>completed</td>\n",
       "      <td>12</td>\n",
       "      <td>2022-09-27 03:09:44+00:00</td>\n",
       "    </tr>\n",
       "    <tr>\n",
       "      <th>1919129</th>\n",
       "      <td>9071</td>\n",
       "      <td>16694</td>\n",
       "      <td>4</td>\n",
       "      <td>completed</td>\n",
       "      <td>1</td>\n",
       "      <td>2022-09-27 03:09:47+00:00</td>\n",
       "    </tr>\n",
       "  </tbody>\n",
       "</table>\n",
       "<p>1919130 rows × 6 columns</p>\n",
       "</div>"
      ],
      "text/plain": [
       "         user_id  anime_id  score     status  num_episodes_watched  \\\n",
       "0              0     48561      9  completed                     1   \n",
       "1              0     20583      9  completed                    25   \n",
       "2              0     38883      8  completed                    13   \n",
       "3              0     28891     10  completed                    25   \n",
       "4              0     32935      9  completed                    10   \n",
       "...          ...       ...    ...        ...                   ...   \n",
       "1919125     9071      4581      4  completed                    13   \n",
       "1919126     9071     20671      4  completed                     1   \n",
       "1919127     9071     38787      4  completed                    12   \n",
       "1919128     9071      2476      4  completed                    12   \n",
       "1919129     9071     16694      4  completed                     1   \n",
       "\n",
       "                       updated_at  \n",
       "0       2023-01-01 09:37:49+00:00  \n",
       "1       2023-01-01 09:39:58+00:00  \n",
       "2       2023-01-01 09:40:05+00:00  \n",
       "3       2023-01-01 09:40:24+00:00  \n",
       "4       2023-01-01 09:40:42+00:00  \n",
       "...                           ...  \n",
       "1919125 2022-09-27 03:09:40+00:00  \n",
       "1919126 2022-09-27 03:09:41+00:00  \n",
       "1919127 2022-09-27 03:09:43+00:00  \n",
       "1919128 2022-09-27 03:09:44+00:00  \n",
       "1919129 2022-09-27 03:09:47+00:00  \n",
       "\n",
       "[1919130 rows x 6 columns]"
      ]
     },
     "execution_count": 25,
     "metadata": {},
     "output_type": "execute_result"
    }
   ],
   "source": [
    "train_df"
   ]
  },
  {
   "cell_type": "code",
   "execution_count": 26,
   "metadata": {
    "colab": {
     "base_uri": "https://localhost:8080/",
     "height": 424
    },
    "id": "QFrQsAK7490C",
    "outputId": "44e79603-58b6-4e49-e58b-4a412bcabf10",
    "tags": []
   },
   "outputs": [
    {
     "data": {
      "text/html": [
       "<div>\n",
       "<style scoped>\n",
       "    .dataframe tbody tr th:only-of-type {\n",
       "        vertical-align: middle;\n",
       "    }\n",
       "\n",
       "    .dataframe tbody tr th {\n",
       "        vertical-align: top;\n",
       "    }\n",
       "\n",
       "    .dataframe thead th {\n",
       "        text-align: right;\n",
       "    }\n",
       "</style>\n",
       "<table border=\"1\" class=\"dataframe\">\n",
       "  <thead>\n",
       "    <tr style=\"text-align: right;\">\n",
       "      <th></th>\n",
       "      <th>user_id</th>\n",
       "      <th>anime_id</th>\n",
       "      <th>score</th>\n",
       "      <th>status</th>\n",
       "      <th>num_episodes_watched</th>\n",
       "      <th>updated_at</th>\n",
       "    </tr>\n",
       "  </thead>\n",
       "  <tbody>\n",
       "    <tr>\n",
       "      <th>0</th>\n",
       "      <td>0</td>\n",
       "      <td>32998</td>\n",
       "      <td>9</td>\n",
       "      <td>completed</td>\n",
       "      <td>12</td>\n",
       "      <td>2023-04-15 14:29:11+00:00</td>\n",
       "    </tr>\n",
       "    <tr>\n",
       "      <th>1</th>\n",
       "      <td>0</td>\n",
       "      <td>36649</td>\n",
       "      <td>7</td>\n",
       "      <td>completed</td>\n",
       "      <td>24</td>\n",
       "      <td>2023-04-15 14:29:23+00:00</td>\n",
       "    </tr>\n",
       "    <tr>\n",
       "      <th>2</th>\n",
       "      <td>0</td>\n",
       "      <td>39533</td>\n",
       "      <td>6</td>\n",
       "      <td>completed</td>\n",
       "      <td>11</td>\n",
       "      <td>2023-04-15 14:30:38+00:00</td>\n",
       "    </tr>\n",
       "    <tr>\n",
       "      <th>3</th>\n",
       "      <td>0</td>\n",
       "      <td>31405</td>\n",
       "      <td>6</td>\n",
       "      <td>completed</td>\n",
       "      <td>12</td>\n",
       "      <td>2023-04-15 14:30:59+00:00</td>\n",
       "    </tr>\n",
       "    <tr>\n",
       "      <th>4</th>\n",
       "      <td>0</td>\n",
       "      <td>44511</td>\n",
       "      <td>9</td>\n",
       "      <td>completed</td>\n",
       "      <td>12</td>\n",
       "      <td>2023-04-15 14:32:47+00:00</td>\n",
       "    </tr>\n",
       "    <tr>\n",
       "      <th>...</th>\n",
       "      <td>...</td>\n",
       "      <td>...</td>\n",
       "      <td>...</td>\n",
       "      <td>...</td>\n",
       "      <td>...</td>\n",
       "      <td>...</td>\n",
       "    </tr>\n",
       "    <tr>\n",
       "      <th>827656</th>\n",
       "      <td>9071</td>\n",
       "      <td>227</td>\n",
       "      <td>2</td>\n",
       "      <td>completed</td>\n",
       "      <td>6</td>\n",
       "      <td>2023-07-16 22:56:52+00:00</td>\n",
       "    </tr>\n",
       "    <tr>\n",
       "      <th>827657</th>\n",
       "      <td>9071</td>\n",
       "      <td>37171</td>\n",
       "      <td>5</td>\n",
       "      <td>completed</td>\n",
       "      <td>12</td>\n",
       "      <td>2023-09-07 12:21:07+00:00</td>\n",
       "    </tr>\n",
       "    <tr>\n",
       "      <th>827658</th>\n",
       "      <td>9071</td>\n",
       "      <td>659</td>\n",
       "      <td>5</td>\n",
       "      <td>completed</td>\n",
       "      <td>1</td>\n",
       "      <td>2023-09-07 12:21:41+00:00</td>\n",
       "    </tr>\n",
       "    <tr>\n",
       "      <th>827659</th>\n",
       "      <td>9071</td>\n",
       "      <td>35838</td>\n",
       "      <td>5</td>\n",
       "      <td>completed</td>\n",
       "      <td>12</td>\n",
       "      <td>2023-09-07 12:22:10+00:00</td>\n",
       "    </tr>\n",
       "    <tr>\n",
       "      <th>827660</th>\n",
       "      <td>9071</td>\n",
       "      <td>21863</td>\n",
       "      <td>1</td>\n",
       "      <td>completed</td>\n",
       "      <td>12</td>\n",
       "      <td>2023-10-09 20:06:43+00:00</td>\n",
       "    </tr>\n",
       "  </tbody>\n",
       "</table>\n",
       "<p>827661 rows × 6 columns</p>\n",
       "</div>"
      ],
      "text/plain": [
       "        user_id  anime_id  score     status  num_episodes_watched  \\\n",
       "0             0     32998      9  completed                    12   \n",
       "1             0     36649      7  completed                    24   \n",
       "2             0     39533      6  completed                    11   \n",
       "3             0     31405      6  completed                    12   \n",
       "4             0     44511      9  completed                    12   \n",
       "...         ...       ...    ...        ...                   ...   \n",
       "827656     9071       227      2  completed                     6   \n",
       "827657     9071     37171      5  completed                    12   \n",
       "827658     9071       659      5  completed                     1   \n",
       "827659     9071     35838      5  completed                    12   \n",
       "827660     9071     21863      1  completed                    12   \n",
       "\n",
       "                      updated_at  \n",
       "0      2023-04-15 14:29:11+00:00  \n",
       "1      2023-04-15 14:29:23+00:00  \n",
       "2      2023-04-15 14:30:38+00:00  \n",
       "3      2023-04-15 14:30:59+00:00  \n",
       "4      2023-04-15 14:32:47+00:00  \n",
       "...                          ...  \n",
       "827656 2023-07-16 22:56:52+00:00  \n",
       "827657 2023-09-07 12:21:07+00:00  \n",
       "827658 2023-09-07 12:21:41+00:00  \n",
       "827659 2023-09-07 12:22:10+00:00  \n",
       "827660 2023-10-09 20:06:43+00:00  \n",
       "\n",
       "[827661 rows x 6 columns]"
      ]
     },
     "execution_count": 26,
     "metadata": {},
     "output_type": "execute_result"
    }
   ],
   "source": [
    "test_df"
   ]
  },
  {
   "cell_type": "code",
   "execution_count": 27,
   "metadata": {
    "tags": []
   },
   "outputs": [
    {
     "data": {
      "text/html": [
       "<div>\n",
       "<style scoped>\n",
       "    .dataframe tbody tr th:only-of-type {\n",
       "        vertical-align: middle;\n",
       "    }\n",
       "\n",
       "    .dataframe tbody tr th {\n",
       "        vertical-align: top;\n",
       "    }\n",
       "\n",
       "    .dataframe thead th {\n",
       "        text-align: right;\n",
       "    }\n",
       "</style>\n",
       "<table border=\"1\" class=\"dataframe\">\n",
       "  <thead>\n",
       "    <tr style=\"text-align: right;\">\n",
       "      <th></th>\n",
       "      <th>user_id</th>\n",
       "      <th>anime_id</th>\n",
       "      <th>score</th>\n",
       "    </tr>\n",
       "  </thead>\n",
       "  <tbody>\n",
       "    <tr>\n",
       "      <th>0</th>\n",
       "      <td>8</td>\n",
       "      <td>16742</td>\n",
       "      <td>5</td>\n",
       "    </tr>\n",
       "    <tr>\n",
       "      <th>1</th>\n",
       "      <td>8</td>\n",
       "      <td>4181</td>\n",
       "      <td>9</td>\n",
       "    </tr>\n",
       "    <tr>\n",
       "      <th>2</th>\n",
       "      <td>8</td>\n",
       "      <td>31297</td>\n",
       "      <td>9</td>\n",
       "    </tr>\n",
       "    <tr>\n",
       "      <th>3</th>\n",
       "      <td>8</td>\n",
       "      <td>32093</td>\n",
       "      <td>8</td>\n",
       "    </tr>\n",
       "    <tr>\n",
       "      <th>4</th>\n",
       "      <td>8</td>\n",
       "      <td>23273</td>\n",
       "      <td>7</td>\n",
       "    </tr>\n",
       "    <tr>\n",
       "      <th>...</th>\n",
       "      <td>...</td>\n",
       "      <td>...</td>\n",
       "      <td>...</td>\n",
       "    </tr>\n",
       "    <tr>\n",
       "      <th>58939</th>\n",
       "      <td>108932</td>\n",
       "      <td>1186</td>\n",
       "      <td>10</td>\n",
       "    </tr>\n",
       "    <tr>\n",
       "      <th>58940</th>\n",
       "      <td>108932</td>\n",
       "      <td>122</td>\n",
       "      <td>2</td>\n",
       "    </tr>\n",
       "    <tr>\n",
       "      <th>58941</th>\n",
       "      <td>108932</td>\n",
       "      <td>74</td>\n",
       "      <td>10</td>\n",
       "    </tr>\n",
       "    <tr>\n",
       "      <th>58942</th>\n",
       "      <td>108952</td>\n",
       "      <td>23333</td>\n",
       "      <td>10</td>\n",
       "    </tr>\n",
       "    <tr>\n",
       "      <th>58943</th>\n",
       "      <td>108952</td>\n",
       "      <td>1562</td>\n",
       "      <td>9</td>\n",
       "    </tr>\n",
       "  </tbody>\n",
       "</table>\n",
       "<p>58944 rows × 3 columns</p>\n",
       "</div>"
      ],
      "text/plain": [
       "       user_id  anime_id  score\n",
       "0            8     16742      5\n",
       "1            8      4181      9\n",
       "2            8     31297      9\n",
       "3            8     32093      8\n",
       "4            8     23273      7\n",
       "...        ...       ...    ...\n",
       "58939   108932      1186     10\n",
       "58940   108932       122      2\n",
       "58941   108932        74     10\n",
       "58942   108952     23333     10\n",
       "58943   108952      1562      9\n",
       "\n",
       "[58944 rows x 3 columns]"
      ]
     },
     "execution_count": 27,
     "metadata": {},
     "output_type": "execute_result"
    }
   ],
   "source": [
    "new_users_train_df"
   ]
  },
  {
   "cell_type": "code",
   "execution_count": 28,
   "metadata": {
    "tags": []
   },
   "outputs": [
    {
     "data": {
      "text/html": [
       "<div>\n",
       "<style scoped>\n",
       "    .dataframe tbody tr th:only-of-type {\n",
       "        vertical-align: middle;\n",
       "    }\n",
       "\n",
       "    .dataframe tbody tr th {\n",
       "        vertical-align: top;\n",
       "    }\n",
       "\n",
       "    .dataframe thead th {\n",
       "        text-align: right;\n",
       "    }\n",
       "</style>\n",
       "<table border=\"1\" class=\"dataframe\">\n",
       "  <thead>\n",
       "    <tr style=\"text-align: right;\">\n",
       "      <th></th>\n",
       "      <th>user_id</th>\n",
       "      <th>anime_id</th>\n",
       "      <th>score</th>\n",
       "    </tr>\n",
       "  </thead>\n",
       "  <tbody>\n",
       "    <tr>\n",
       "      <th>0</th>\n",
       "      <td>8</td>\n",
       "      <td>226</td>\n",
       "      <td>7</td>\n",
       "    </tr>\n",
       "    <tr>\n",
       "      <th>1</th>\n",
       "      <td>8</td>\n",
       "      <td>2167</td>\n",
       "      <td>8</td>\n",
       "    </tr>\n",
       "    <tr>\n",
       "      <th>2</th>\n",
       "      <td>8</td>\n",
       "      <td>22199</td>\n",
       "      <td>7</td>\n",
       "    </tr>\n",
       "    <tr>\n",
       "      <th>3</th>\n",
       "      <td>8</td>\n",
       "      <td>31043</td>\n",
       "      <td>6</td>\n",
       "    </tr>\n",
       "    <tr>\n",
       "      <th>4</th>\n",
       "      <td>8</td>\n",
       "      <td>18671</td>\n",
       "      <td>8</td>\n",
       "    </tr>\n",
       "    <tr>\n",
       "      <th>...</th>\n",
       "      <td>...</td>\n",
       "      <td>...</td>\n",
       "      <td>...</td>\n",
       "    </tr>\n",
       "    <tr>\n",
       "      <th>31604</th>\n",
       "      <td>108932</td>\n",
       "      <td>52</td>\n",
       "      <td>10</td>\n",
       "    </tr>\n",
       "    <tr>\n",
       "      <th>31605</th>\n",
       "      <td>108932</td>\n",
       "      <td>99</td>\n",
       "      <td>10</td>\n",
       "    </tr>\n",
       "    <tr>\n",
       "      <th>31606</th>\n",
       "      <td>108932</td>\n",
       "      <td>11751</td>\n",
       "      <td>10</td>\n",
       "    </tr>\n",
       "    <tr>\n",
       "      <th>31607</th>\n",
       "      <td>108952</td>\n",
       "      <td>25567</td>\n",
       "      <td>9</td>\n",
       "    </tr>\n",
       "    <tr>\n",
       "      <th>31608</th>\n",
       "      <td>108952</td>\n",
       "      <td>19251</td>\n",
       "      <td>10</td>\n",
       "    </tr>\n",
       "  </tbody>\n",
       "</table>\n",
       "<p>31609 rows × 3 columns</p>\n",
       "</div>"
      ],
      "text/plain": [
       "       user_id  anime_id  score\n",
       "0            8       226      7\n",
       "1            8      2167      8\n",
       "2            8     22199      7\n",
       "3            8     31043      6\n",
       "4            8     18671      8\n",
       "...        ...       ...    ...\n",
       "31604   108932        52     10\n",
       "31605   108932        99     10\n",
       "31606   108932     11751     10\n",
       "31607   108952     25567      9\n",
       "31608   108952     19251     10\n",
       "\n",
       "[31609 rows x 3 columns]"
      ]
     },
     "execution_count": 28,
     "metadata": {},
     "output_type": "execute_result"
    }
   ],
   "source": [
    "new_users_test_df"
   ]
  },
  {
   "cell_type": "markdown",
   "metadata": {},
   "source": [
    "# Setup the Distance Functions"
   ]
  },
  {
   "cell_type": "code",
   "execution_count": 29,
   "metadata": {
    "tags": []
   },
   "outputs": [],
   "source": [
    "# Return a distance matrix using cosine distance\n",
    "def cosine_distance_metric(user_profile, anime_vector_df):\n",
    "    distance_mat = cosine_distances(np.array([user_profile[\"weighted_vector_avg\"].tolist()]).reshape((1, -1)), anime_vector_df).reshape(-1)\n",
    "    return distance_mat\n",
    "\n",
    "# Return a distance matrix using euclidean distance\n",
    "def euclidean_distance_metric(user_profile, anime_vector_df):\n",
    "    distance_mat = euclidean_distances(np.array([user_profile[\"weighted_vector_avg\"].tolist()]).reshape((1, -1)), anime_vector_df).reshape(-1)\n",
    "    return distance_mat\n",
    "\n",
    "# Return a distance matrix using manhattan distance\n",
    "def manhattan_distance_metric(user_profile, anime_vector_df):\n",
    "    distance_mat = manhattan_distances(np.array([user_profile[\"weighted_vector_avg\"].tolist()]).reshape((1, -1)), anime_vector_df).reshape(-1)\n",
    "    return distance_mat"
   ]
  },
  {
   "cell_type": "markdown",
   "metadata": {},
   "source": [
    "# Supporting Adding a User's List From MyAnimeList to the User Ratings"
   ]
  },
  {
   "cell_type": "code",
   "execution_count": 243,
   "metadata": {},
   "outputs": [
    {
     "name": "stdout",
     "output_type": "stream",
     "text": [
      "Client ID: 76344f06bbbdd05c396151b63eee418e\n"
     ]
    }
   ],
   "source": [
    "from dotenv import load_dotenv\n",
    "import requests\n",
    "import time\n",
    "\n",
    "load_dotenv()\n",
    "\n",
    "CLIENT_ID = os.getenv('CLIENT_ID') # An ID needed to authenticate requests to the API\n",
    "print(f'Client ID: {CLIENT_ID}')\n",
    "\n",
    "MY_ANIME_LIST_API_URL = 'https://api.myanimelist.net/v2' # The URL of the API that will be called upon\n",
    "API_REQUEST_DELAY = 1 # A delay (in seconds) to prevent over-use of the API\n",
    "\n",
    "def get_users_list(username: str, new_user_id: int):\n",
    "    anime_list_request: requests.Response = None\n",
    "    \n",
    "    try:\n",
    "        anime_list_request = requests.get(f'{MY_ANIME_LIST_API_URL}/users/{username}/animelist?fields=list_status&limit=1000', headers={'X-MAL-CLIENT-ID': CLIENT_ID})\n",
    "        time.sleep(API_REQUEST_DELAY * 2)\n",
    "\n",
    "        user_anime_list = {\"username\": username, \"anime_list\": []}\n",
    "        anime_list_data = anime_list_request.json().get('data')\n",
    "        if anime_list_data is not None:\n",
    "            for node in anime_list_data:\n",
    "                user_anime_list[\"anime_list\"].append({\"anime\": node[\"node\"], \"list_status\": node[\"list_status\"]})\n",
    "\n",
    "        while anime_list_request.json()['paging'].get('next') is not None:\n",
    "            time.sleep(API_REQUEST_DELAY * 2)\n",
    "            \n",
    "            anime_list_data = anime_list_request.json().get('data')\n",
    "            if anime_list_data is not None:\n",
    "                for node in anime_list_data:\n",
    "                    user_anime_list[\"anime_list\"].append({\"anime\": node[\"node\"], \"list_status\": node[\"list_status\"]})\n",
    "            \n",
    "            # Get Next 1000 Anime if Available\n",
    "            if anime_list_request.json()['paging'].get('next') is not None:\n",
    "                anime_list_request = requests.get(f'{anime_list_request.json()[\"paging\"].get(\"next\")}&fields=list_status', headers={'X-MAL-CLIENT-ID': CLIENT_ID})\n",
    "\n",
    "        print(f'Found {username}\\'s anime list. They watched {len(user_anime_list[\"anime_list\"])} anime...')\n",
    "        \n",
    "        user_ratings_dict = {\n",
    "            \"user_id\": [],\n",
    "            \"anime_id\": [],\n",
    "            \"score\": []\n",
    "        }\n",
    "\n",
    "        for anime_rating in user_anime_list[\"anime_list\"]:\n",
    "            if anime_rating[\"list_status\"].get(\"status\") == 'completed' and anime_df.id.isin([anime_rating[\"anime\"][\"id\"]]).any():\n",
    "                user_ratings_dict[\"user_id\"].append(new_user_id)\n",
    "                user_ratings_dict[\"anime_id\"].append(anime_rating[\"anime\"][\"id\"])\n",
    "                user_ratings_dict[\"score\"].append(anime_rating[\"list_status\"][\"score\"])\n",
    "        \n",
    "        return pd.DataFrame(data=user_ratings_dict)\n",
    "    except:\n",
    "        print(f\"Exception occured when trying to perform user anime list request with: {anime_list_request.status_code}\")"
   ]
  },
  {
   "cell_type": "code",
   "execution_count": 227,
   "metadata": {},
   "outputs": [],
   "source": [
    "def get_next_user_id(user_ratings_df: pd.DataFrame):\n",
    "    next_user_id = max(user_ratings_df.user_id.unique()) + 1\n",
    "    return next_user_id"
   ]
  },
  {
   "cell_type": "code",
   "execution_count": 228,
   "metadata": {},
   "outputs": [],
   "source": [
    "def add_to_user_ratings(user_list_df: pd.DataFrame, user_ratings_df: pd.DataFrame):\n",
    "    return pd.concat([user_list_df, user_ratings_df])"
   ]
  },
  {
   "cell_type": "markdown",
   "metadata": {
    "id": "Su7qa9ivURYd"
   },
   "source": [
    "# Create the Recommender Systems\n",
    "This will include a Content-Based Filtering, Collaborative Filtering and Hybrid System."
   ]
  },
  {
   "cell_type": "markdown",
   "metadata": {},
   "source": [
    "## Create the Content-Based Filtering Recommender"
   ]
  },
  {
   "cell_type": "code",
   "execution_count": 197,
   "metadata": {
    "id": "3XgI1KHsV6N7",
    "tags": []
   },
   "outputs": [],
   "source": [
    "from sklearn.metrics import mean_squared_error\n",
    "\n",
    "class CBFRecommender:\n",
    "    def __init__(self, anime_data: pd.DataFrame, user_ratings_data: pd.DataFrame):\n",
    "        # Cleanup Anime Data\n",
    "        self.anime_df = anime_data\n",
    "        self.anime_df.fillna({\"genres\": \"\"}, inplace=True)\n",
    "        self.anime_df.fillna({\"synopsis\": \"\"}, inplace=True)\n",
    "\n",
    "        self.user_ratings_data = user_ratings_data\n",
    "        self.users_to_ignore_on_evaluation = []\n",
    "        self.custom_user_mappings = {} # username: user_id\n",
    "\n",
    "    # Uses TF-IDF to Vectorize the Anime DataFrame\n",
    "    def vectorize_anime_data(self, stop_words='english', max_features=50, max_df=0.5, min_df=0.01):\n",
    "        vectorizer = TfidfVectorizer(stop_words=stop_words, max_features=max_features, max_df=max_df, min_df=min_df)\n",
    "        anime_features_vector_matrix = vectorizer.fit_transform(self.anime_df['genres'])\n",
    "\n",
    "        self.anime_vector_df = pd.DataFrame(data=anime_features_vector_matrix.toarray())\n",
    "        self.anime_vector_df['anime_id'] = self.anime_df['id']\n",
    "        self.anime_vector_df = self.anime_vector_df.set_index('anime_id')\n",
    "\n",
    "        return self.anime_vector_df\n",
    "\n",
    "    # Creates a profile of the specified user\n",
    "    def create_user_profile(self, user_id: int):\n",
    "        # Get only this user's ratings\n",
    "        users_ratings_df = self.user_ratings_data[self.user_ratings_data.user_id == user_id]\n",
    "\n",
    "        # Prefer to only use anime they rated higher than their avg. rating\n",
    "        average_rating = np.average(users_ratings_df['score'])\n",
    "        selected_user_ratings_df = users_ratings_df[users_ratings_df.score >= average_rating]\n",
    "\n",
    "        # Get the Anime they rated highly\n",
    "        user_anime_rated_df = self.anime_df[self.anime_df.id.isin(selected_user_ratings_df['anime_id'])]\n",
    "\n",
    "        # Get the weighted average of the Vector values for the anime they rated\n",
    "        user_vector_df = self.anime_vector_df.loc[user_anime_rated_df['id']]\n",
    "        weighted_vector_avg = user_vector_df.mean()\n",
    "\n",
    "        return {\n",
    "            \"weighted_vector_avg\": weighted_vector_avg,\n",
    "            \"vector_df\": user_vector_df\n",
    "        }\n",
    "\n",
    "    # Get a DataFrame of How Distant Anime Are to the User's Preferences\n",
    "    def get_user_anime_distance(self, user_id, distance_metric='cosine'):\n",
    "        # Find user profile in user profiles\n",
    "        user_profile = self.create_user_profile(user_id)\n",
    "\n",
    "        # Calculate the distance matrix of the user's weighted vector instance compared to all instances in the anime vector df\n",
    "        distance_mat = None\n",
    "        if distance_metric == 'cosine':\n",
    "            distance_mat = cosine_distance_metric(user_profile, self.anime_vector_df)\n",
    "        elif distance_metric == 'euclidean':\n",
    "            distance_mat = euclidean_distance_metric(user_profile, self.anime_vector_df)\n",
    "        elif distance_metric == 'manhattan':\n",
    "            distance_mat = manhattan_distance_metric(user_profile, self.anime_vector_df)\n",
    "        else:\n",
    "            print(f'Error: The distance metric is invalid. Unable to create distance matric for user with id {user_id}')\n",
    "\n",
    "        if distance_mat is None:\n",
    "            print(\"Error. Couldn't create distance matrix.\")\n",
    "            return None\n",
    "\n",
    "        # Convert the matrix into a dataframe\n",
    "        distance_df = pd.DataFrame(data=distance_mat.tolist())\n",
    "        distance_df = distance_df.rename(columns={0: \"distance\"})\n",
    "        distance_df['id'] = self.anime_df['id']\n",
    "\n",
    "        # Remove all anime that the user has already watched\n",
    "        distance_df = distance_df.loc[~distance_df.id.isin(user_profile[\"vector_df\"].index)]\n",
    "\n",
    "        # The closer to 0 the distance is the more similar the anime is to the weighted vector\n",
    "        distance_df = distance_df.sort_values(by='distance', ascending=True)\n",
    "\n",
    "        return distance_df\n",
    "\n",
    "    # Recommend Anime to the User\n",
    "    def recommend_user(self, user_id, num_recommendations: int, distance_metric='cosine', add_anime_info: bool = True):\n",
    "        distance_df = self.get_user_anime_distance(user_id, distance_metric=distance_metric)\n",
    "\n",
    "        # Get the top recommendations and merge the anime data with the dataframe\n",
    "        top_similar_anime_df = distance_df.iloc[0:num_recommendations]\n",
    "\n",
    "        if len(top_similar_anime_df) != num_recommendations:\n",
    "            print(f\"Expected {num_recommendations} recommendations, but got {len(top_similar_anime_df)}\")\n",
    "\n",
    "        # Only merge if we want to the anime information too.\n",
    "        if add_anime_info:\n",
    "            top_similar_anime_df = top_similar_anime_df.merge(self.anime_df, on='id', how='inner')\n",
    "\n",
    "        return top_similar_anime_df\n",
    "\n",
    "    # Adds a new user using a MyAnimeList Username\n",
    "    def add_new_user_by_mal_username(self, username: str):\n",
    "        if username in self.custom_user_mappings:\n",
    "            return self.custom_user_mappings[username]\n",
    "        \n",
    "        user_id = get_next_user_id(self.user_ratings_data)\n",
    "        list_df = get_users_list(username, user_id)\n",
    "\n",
    "        self.user_ratings_data = pd.concat([self.user_ratings_data, list_df])\n",
    "        self.users_to_ignore_on_evaluation.append(user_id)\n",
    "        self.custom_user_mappings[username] = user_id\n",
    "        \n",
    "        return user_id\n",
    "    \n",
    "    def get_user_anime_scores(self, user_id, distance_metric='cosine'):\n",
    "        user_scores_df = self.get_user_anime_distance(user_id, distance_metric=distance_metric)\n",
    "        user_scores_df = user_scores_df.rename(columns={\"distance\": \"score\"})\n",
    "        return user_scores_df\n",
    "\n",
    "    # Evaluate the effectiveness of this recommender\n",
    "    def evaluate(self, num_recommendations: int, testing_df: pd.DataFrame, distance_metric='cosine'):\n",
    "        unique_user_ids = testing_df.user_id.unique()\n",
    "        \n",
    "        # Only use users that are in the testing dataframe\n",
    "        unique_user_ids = testing_df.loc[testing_df.user_id.isin(unique_user_ids)].user_id.unique()\n",
    "        \n",
    "        hits = 0\n",
    "        mean_reciprocal_rank_sum = 0\n",
    "\n",
    "        # Loop through each user\n",
    "        for user_id in unique_user_ids:\n",
    "            if user_id in self.users_to_ignore_on_evaluation:\n",
    "                continue # Skip this user\n",
    "            \n",
    "            # Get that user's recommendations\n",
    "            user_recommendations = self.recommend_user(user_id, num_recommendations, distance_metric=distance_metric)\n",
    "\n",
    "            # Get the anime they rated in the testing dataset\n",
    "            user_testing_anime_df = testing_df.loc[testing_df.user_id == user_id]\n",
    "\n",
    "            # Get the number of hits for the user in the testing dataset\n",
    "            user_num_hits = len(user_testing_anime_df.loc[user_testing_anime_df.anime_id.isin(user_recommendations.id)]['anime_id'])\n",
    "            \n",
    "            # If There Was a Hit, Add to the Total Hits\n",
    "            if user_num_hits > 0:\n",
    "                # Increase the overall number of hits\n",
    "                hits += 1\n",
    "\n",
    "                # Determine where in the list the first hit was\n",
    "                idx = 0\n",
    "                first_hit_index = 0\n",
    "                for anime_id in user_recommendations.id:\n",
    "                    # Is this anime in the user's test ratings?\n",
    "                    if np.any(user_testing_anime_df.anime_id.values[:] == anime_id):\n",
    "                        # Set this as the rank and break out of this loop\n",
    "                        first_hit_index = idx\n",
    "                        break\n",
    "                    \n",
    "                    # Iterate the index\n",
    "                    idx += 1\n",
    "\n",
    "                # Calulate the mean reciprocal rank\n",
    "                mrr = 1 / (first_hit_index + 1)\n",
    "                mean_reciprocal_rank_sum += mrr\n",
    "        \n",
    "        return { \"hit_rate\": hits / len(unique_user_ids), \"mean_reciprocal_rank\": mean_reciprocal_rank_sum / len(unique_user_ids)}\n",
    "    \n",
    "    # Make recommendations for every user\n",
    "    def make_recommendations(self, testing_df: pd.DataFrame, num_recommendations=20, distance_metric='cosine'):\n",
    "        unique_user_ids = self.user_ratings_data['user_id'].unique()\n",
    "        \n",
    "        # Only use users that are in the testing dataframe\n",
    "        unique_user_ids = testing_df.loc[testing_df.user_id.isin(unique_user_ids)].user_id.unique()\n",
    "        \n",
    "        recommendations = {}\n",
    "\n",
    "        for user_id in unique_user_ids:\n",
    "            # Get this user's recommendations\n",
    "            actual_anime_vectors = self.anime_vector_df.loc[self.anime_vector_df.index.isin(testing_df.loc[testing_df.user_id == user_id]['anime_id'])]\n",
    "\n",
    "            if len(actual_anime_vectors) > 0:\n",
    "                predictions = self.recommend_user(user_id, num_recommendations, distance_metric=distance_metric, add_anime_info = False)\n",
    "                predicted_anime_vectors = self.anime_vector_df.loc[self.anime_vector_df.index.isin(predictions['id'])]\n",
    "\n",
    "                # Add them to the dictionary\n",
    "                recommendations[user_id] = {\"actual_anime_vectors\": actual_anime_vectors.to_numpy(),\n",
    "                                            \"predictions\": predictions,\n",
    "                                            \"prediction_vectors\": predicted_anime_vectors.to_numpy()}\n",
    "            else:\n",
    "                print(\"Warning. Not enought anime vectors.\")\n",
    "\n",
    "        return recommendations"
   ]
  },
  {
   "cell_type": "markdown",
   "metadata": {},
   "source": [
    "## Create the Collaborative Filtering Recommender"
   ]
  },
  {
   "cell_type": "code",
   "execution_count": 34,
   "metadata": {
    "tags": []
   },
   "outputs": [],
   "source": [
    "import os\n",
    "\n",
    "from surprise import BaselineOnly, Dataset, Reader, accuracy, SVD, SVDpp, NMF\n",
    "from surprise.model_selection import GridSearchCV, train_test_split"
   ]
  },
  {
   "cell_type": "code",
   "execution_count": 35,
   "metadata": {
    "tags": []
   },
   "outputs": [],
   "source": [
    "def convert_user_ratings_to_surprise_dataset(ur_df):  \n",
    "    surprise_user_ratings_df = ur_df[[\"user_id\", \"anime_id\", \"score\"]]\n",
    "    surprise_user_ratings_df = surprise_user_ratings_df.rename(columns={\"user_id\": \"userID\", \"anime_id\": \"itemID\", \"score\": \"rating\"})\n",
    "    \n",
    "    cf_ratings_reader = Reader(rating_scale=(0, 10))\n",
    "    cf_ratings_data = Dataset.load_from_df(surprise_user_ratings_df, cf_ratings_reader)\n",
    "    return cf_ratings_data"
   ]
  },
  {
   "cell_type": "code",
   "execution_count": 198,
   "metadata": {
    "tags": []
   },
   "outputs": [],
   "source": [
    "class CollaborativeFilteringRecommender:\n",
    "    # The algorithm must be Matrix Factorization algorithm supported by surprise\n",
    "    def __init__(self, ratings_dataset: pd.DataFrame, mf_algorithm=SVD):\n",
    "        self.users_to_ignore_on_evaluation = []\n",
    "        self.custom_user_mappings = {}\n",
    "\n",
    "        self.ratings_dataset = ratings_dataset\n",
    "        self.cf_trainset = convert_user_ratings_to_surprise_dataset(ratings_dataset)\n",
    "        self.cf_trainset = self.cf_trainset.build_full_trainset()\n",
    "        self.cf_model = mf_algorithm()\n",
    "        self.mf_algorithm = mf_algorithm\n",
    "       \n",
    "        self.cf_model.fit(self.cf_trainset)\n",
    "    \n",
    "    def get_user_anime_scores(self, user_id: str):\n",
    "        user_innerid = self.cf_trainset.to_inner_uid(user_id)\n",
    "        \n",
    "        item_ids = list(self.cf_trainset.all_items()).copy()\n",
    "        all_users_rated_items = self.cf_trainset.ur[user_innerid]\n",
    "\n",
    "        # Remove anime the user has rated\n",
    "        for (item_innerid, rating) in all_users_rated_items:\n",
    "            try:\n",
    "                item_ids.remove(item_innerid)\n",
    "            except:\n",
    "                continue\n",
    "        \n",
    "        # Estimate the rating for each item\n",
    "        item_predictions = []\n",
    "        for item_innerid in item_ids:\n",
    "            item_rawid = self.cf_trainset.to_raw_iid(item_innerid)\n",
    "            prediction = self.cf_model.predict(user_id, item_rawid)\n",
    "            item_predictions.append(prediction)\n",
    "    \n",
    "        user_anime_ids = []\n",
    "        user_scores = []\n",
    "        for prediction in item_predictions:\n",
    "            user_scores.append(prediction.est)\n",
    "            user_anime_ids.append(int(prediction.iid))\n",
    "        \n",
    "        user_scores_dict = {\"score\": user_scores, \"id\": user_anime_ids}\n",
    "        user_scores_df = pd.DataFrame(user_scores_dict)\n",
    "        \n",
    "        return user_scores_df\n",
    "    \n",
    "    def recommend_user(self, user_innerid, num_recommendations):\n",
    "        user_recommendations = []\n",
    "        user_id = self.cf_trainset.to_raw_uid(user_innerid)\n",
    "        \n",
    "        item_ids = list(self.cf_trainset.all_items()).copy()\n",
    "        all_users_rated_items = self.cf_trainset.ur[user_innerid]\n",
    "\n",
    "        # Remove anime the user has rated\n",
    "        for (item_innerid, rating) in all_users_rated_items:\n",
    "            try:\n",
    "                item_ids.remove(item_innerid)\n",
    "            except:\n",
    "                continue\n",
    "                \n",
    "        # Estimate the rating for each item\n",
    "        item_predictions = []\n",
    "        for item_innerid in item_ids:\n",
    "            item_rawid = self.cf_trainset.to_raw_iid(item_innerid)\n",
    "            prediction = self.cf_model.predict(user_id, item_rawid)\n",
    "            item_predictions.append(prediction)\n",
    "        \n",
    "        # Recommend the top N items\n",
    "        item_predictions.sort(key=lambda x: x.est, reverse=True)\n",
    "        \n",
    "        for prediction in item_predictions[:num_recommendations]:\n",
    "            user_recommendations.append(prediction.iid)\n",
    "        \n",
    "        return user_recommendations\n",
    "\n",
    "    # Adds a new user using a MyAnimeList Username\n",
    "    def add_new_user_by_mal_username(self, username: str):\n",
    "        if username in self.custom_user_mappings:\n",
    "            return self.custom_user_mappings[username]\n",
    "        \n",
    "        user_id = get_next_user_id(self.ratings_dataset)\n",
    "        list_df = get_users_list(username, user_id)\n",
    "        \n",
    "        self.users_to_ignore_on_evaluation.append(user_id)\n",
    "        self.custom_user_mappings[username] = user_id\n",
    "\n",
    "        self.ratings_dataset = pd.concat([self.ratings_dataset, list_df])\n",
    "        self.cf_trainset = convert_user_ratings_to_surprise_dataset(self.ratings_dataset)\n",
    "        self.cf_trainset = self.cf_trainset.build_full_trainset()\n",
    "        self.cf_model = self.mf_algorithm()\n",
    "        \n",
    "        print(\"Refitting model...\")\n",
    "        self.cf_model.fit(self.cf_trainset)\n",
    "        print(\"Finished refitting model...\")\n",
    "              \n",
    "        return user_id\n",
    "    \n",
    "    def evaluate(self, num_recommendations: int, testing_df: pd.DataFrame):\n",
    "        hits = 0\n",
    "        mean_reciprocal_rank_sum = 0\n",
    "\n",
    "        for inner_userid in self.cf_trainset.all_users():\n",
    "            user_id = self.cf_trainset.to_raw_uid(inner_userid)\n",
    "\n",
    "            if int(user_id) in self.users_to_ignore_on_evaluation:\n",
    "                continue # Skip this user\n",
    "            \n",
    "            user_recommendations = self.recommend_user(inner_userid, num_recommendations)\n",
    "            \n",
    "            user_testing_anime_df = testing_df.loc[testing_df.user_id == user_id]\n",
    "            user_num_hits = len(user_testing_anime_df.loc[user_testing_anime_df.anime_id.isin(user_recommendations)]['anime_id'])\n",
    "            \n",
    "            if user_num_hits > 0:\n",
    "                # Increase the overall number of hits\n",
    "                hits += 1\n",
    "        \n",
    "                # Determine where in the list the first hit was\n",
    "                idx = 0\n",
    "                first_hit_index = 0\n",
    "                for anime_id in user_recommendations:\n",
    "                    # Is this anime in the user's test ratings?\n",
    "                    if np.any(user_testing_anime_df.anime_id.values[:] == anime_id):\n",
    "                        # Set this as the rank and break out of this loop\n",
    "                        first_hit_index = idx\n",
    "                        break\n",
    "                    \n",
    "                    # Iterate the index\n",
    "                    idx += 1\n",
    "\n",
    "                # Calulate the mean reciprocal rank\n",
    "                mrr = 1 / (first_hit_index + 1)\n",
    "                mean_reciprocal_rank_sum += mrr\n",
    "        \n",
    "        return {\"hit_rate\": hits / len(testing_df.user_id.unique()), \"mean_reciprocal_rank\": mean_reciprocal_rank_sum / len(testing_df.user_id.unique())}\n",
    "    \n",
    "    def get_user_recommendations_df(self, user_recommendations: list):\n",
    "        return anime_df[anime_df.id.isin(user_recommendations)]\n",
    "    \n",
    "    def make_recommendations(self, num_recommendations, test_ratings_df, anime_vector_df):\n",
    "        recommendations = {}\n",
    "        \n",
    "        for inner_userid in self.cf_trainset.all_users():\n",
    "            user_recommendations = self.recommend_user(inner_userid, num_recommendations)\n",
    "            user_id = self.cf_trainset.to_raw_uid(inner_userid)\n",
    "            \n",
    "            actual_anime_vectors = anime_vector_df.loc[anime_vector_df.index.isin(test_ratings_df.loc[test_ratings_df.user_id == user_id]['anime_id'])]\n",
    "            predicted_anime_vectors = anime_vector_df.loc[anime_vector_df.index.isin(user_recommendations)]\n",
    "            if len(predicted_anime_vectors) == 0:\n",
    "                print(\"No predicted anime vectors were found.\")\n",
    "            \n",
    "            recommendations[int(user_id)] = {\"actual_anime_vectors\": actual_anime_vectors.to_numpy(),\n",
    "                                            \"predictions\": user_recommendations,\n",
    "                                            \"prediction_vectors\": predicted_anime_vectors.to_numpy()}\n",
    "        \n",
    "        return recommendations"
   ]
  },
  {
   "cell_type": "markdown",
   "metadata": {},
   "source": [
    "## Create the Hybrid Recommender"
   ]
  },
  {
   "cell_type": "code",
   "execution_count": 185,
   "metadata": {
    "tags": []
   },
   "outputs": [],
   "source": [
    "class HybridRecommender:\n",
    "    def __init__(self, anime_data: pd.DataFrame, user_ratings_data: pd.DataFrame, cbf_distance_metric='cosine'):\n",
    "        self.cbf_recommender = CBFRecommender(anime_data, user_ratings_data)\n",
    "        self.cbf_recommender.vectorize_anime_data(stop_words='english', max_features=50, max_df=0.5, min_df=0.01)\n",
    "        self.cbf_distance_metric = cbf_distance_metric\n",
    "        self.anime_data = anime_data\n",
    "        self.user_ratings_data = user_ratings_data\n",
    "        self.cf_recommender = CollaborativeFilteringRecommender(user_ratings_data)\n",
    "        self.users_to_ignore_on_evaluation = []\n",
    "    \n",
    "    def get_user_combined_scores(self, user_id):\n",
    "        # Content-Based Filtering\n",
    "        cbf_scores_df = self.cbf_recommender.get_user_anime_scores(user_id, distance_metric=self.cbf_distance_metric)\n",
    "        cbf_scores_df = cbf_scores_df.rename(columns={\"score\": \"cbf_score\"})\n",
    "        \n",
    "        # Collaborative Filtering\n",
    "        cf_scores_df = self.cf_recommender.get_user_anime_scores(user_id)    \n",
    "        # Perform Min-Max Normalization\n",
    "        cf_scores_df[\"score\"] = (cf_scores_df[\"score\"] - cf_scores_df[\"score\"].min()) / (cf_scores_df[\"score\"].max() - cf_scores_df[\"score\"].min())\n",
    "        cf_scores_df[\"score\"] = (1 - cf_scores_df[\"score\"])\n",
    "        \n",
    "        cf_scores_df = cf_scores_df.rename(columns={\"score\": \"cf_score\"})\n",
    "        \n",
    "        # Combine both into one dataframe\n",
    "        combined_scores_df = cbf_scores_df.merge(cf_scores_df, on='id', how='inner')\n",
    "        combined_scores_df['combined_score'] = combined_scores_df['cbf_score'] + combined_scores_df['cf_score']\n",
    "        combined_scores_df.sort_values(by=['combined_score'], ascending=True, inplace=True)\n",
    "        \n",
    "        return combined_scores_df\n",
    "    \n",
    "    def recommend_user(self, user_id, num_recommendations):\n",
    "        user_combined_scores_df = self.get_user_combined_scores(user_id)\n",
    "        user_top_anime_df = user_combined_scores_df.iloc[:num_recommendations]\n",
    "        \n",
    "        return user_top_anime_df\n",
    "\n",
    "    def add_new_user_by_mal_username(self, username: str):\n",
    "        cbf_new_user_id = self.cbf_recommender.add_new_user_by_mal_username(username)\n",
    "        cf_new_user_id = self.cf_recommender.add_new_user_by_mal_username(username)\n",
    "\n",
    "        if cbf_new_user_id != cf_new_user_id:\n",
    "            print(f\"{cbf_new_user_id} != {cf_new_user_id}\")\n",
    "\n",
    "        self.users_to_ignore_on_evaluation.append(cf_new_user_id)\n",
    "\n",
    "        return cf_new_user_id\n",
    "        \n",
    "    def get_user_anime_recommendations_df(self, user_top_anime_df):\n",
    "        return anime_df[anime_df.id.isin(user_top_anime_df.id)]\n",
    "    \n",
    "    def evaluate(self, num_recommendations: int, testing_df: pd.DataFrame):\n",
    "        unique_user_ids = testing_df['user_id'].unique()\n",
    "        \n",
    "        # Only use users that are in the testing dataframe\n",
    "        #unique_user_ids = testing_df.loc[testing_df.user_id.isin(unique_user_ids)].user_id.unique()\n",
    "        \n",
    "        hits = 0\n",
    "        mean_reciprocal_rank_sum = 0\n",
    "\n",
    "        # Loop through each user\n",
    "        for user_id in unique_user_ids:\n",
    "            if user_id in self.users_to_ignore_on_evaluation:\n",
    "                continue # Skip this user\n",
    "            \n",
    "            # Get that user's recommendations\n",
    "            user_recommendations = self.recommend_user(user_id, num_recommendations)\n",
    "\n",
    "            # Get the anime that user rated from the testing dataset\n",
    "            user_testing_anime_df = testing_df.loc[testing_df.user_id == user_id]\n",
    "\n",
    "            # Get the number of the user's hits from the testing dataset\n",
    "            user_num_hits = len(user_testing_anime_df.loc[user_testing_anime_df.anime_id.isin(user_recommendations.id)]['anime_id'])\n",
    "           \n",
    "             # If There Was a Hit, Add to the Total Hits\n",
    "            if user_num_hits > 0:\n",
    "                # Increase the overall number of hits\n",
    "                hits += 1\n",
    "\n",
    "                # Determine where in the list the first hit was\n",
    "                idx = 0\n",
    "                first_hit_index = 0\n",
    "                for anime_id in user_recommendations.id:\n",
    "                    # Is this anime in the user's test ratings?\n",
    "                    if np.any(user_testing_anime_df.anime_id.values[:] == anime_id):\n",
    "                        # Set this as the rank and break out of this loop\n",
    "                        first_hit_index = idx\n",
    "                        break\n",
    "                    \n",
    "                    # Iterate the index\n",
    "                    idx += 1\n",
    "\n",
    "                # Calculate the mean reciprocal rank\n",
    "                mrr = 1 / (first_hit_index + 1)\n",
    "                mean_reciprocal_rank_sum += mrr\n",
    "        \n",
    "        return { \"hit_rate\": hits / len(unique_user_ids), \"mean_reciprocal_rank\": mean_reciprocal_rank_sum / len(unique_user_ids)}\n",
    "    \n",
    "    def make_recommendations(self, num_recommendations, test_ratings_df, anime_vector_df):\n",
    "        recommendations = {}\n",
    "        unique_user_ids = self.user_ratings_data['user_id'].unique()\n",
    "        \n",
    "        for user_id in unique_user_ids:\n",
    "            user_recommendations = self.recommend_user(user_id, num_recommendations)\n",
    "            actual_anime_vectors = anime_vector_df.loc[anime_vector_df.index.isin(test_ratings_df.loc[test_ratings_df.user_id == user_id]['anime_id'])]\n",
    "            predicted_anime_vectors = anime_vector_df.loc[anime_vector_df.index.isin(user_recommendations['id'])]\n",
    "            \n",
    "            recommendations[user_id] = {\"actual_anime_vectors\": actual_anime_vectors.to_numpy(),\n",
    "                                            \"predictions\": user_recommendations,\n",
    "                                            \"prediction_vectors\": predicted_anime_vectors.to_numpy()}\n",
    "        \n",
    "        return recommendations"
   ]
  },
  {
   "cell_type": "markdown",
   "metadata": {},
   "source": [
    "# Evaluate the Recommenders"
   ]
  },
  {
   "cell_type": "code",
   "execution_count": 148,
   "metadata": {
    "tags": []
   },
   "outputs": [],
   "source": [
    "# Pick which distance metric to use for minimum distance evaluation\n",
    "eval_dist_metric = 'cosine'"
   ]
  },
  {
   "cell_type": "markdown",
   "metadata": {},
   "source": [
    "## Evaluate the Content-Based Recommender"
   ]
  },
  {
   "cell_type": "markdown",
   "metadata": {},
   "source": [
    "### Use the Standard Dataset"
   ]
  },
  {
   "cell_type": "code",
   "execution_count": 199,
   "metadata": {
    "tags": []
   },
   "outputs": [
    {
     "data": {
      "text/html": [
       "<div>\n",
       "<style scoped>\n",
       "    .dataframe tbody tr th:only-of-type {\n",
       "        vertical-align: middle;\n",
       "    }\n",
       "\n",
       "    .dataframe tbody tr th {\n",
       "        vertical-align: top;\n",
       "    }\n",
       "\n",
       "    .dataframe thead th {\n",
       "        text-align: right;\n",
       "    }\n",
       "</style>\n",
       "<table border=\"1\" class=\"dataframe\">\n",
       "  <thead>\n",
       "    <tr style=\"text-align: right;\">\n",
       "      <th></th>\n",
       "      <th>0</th>\n",
       "      <th>1</th>\n",
       "      <th>2</th>\n",
       "      <th>3</th>\n",
       "      <th>4</th>\n",
       "      <th>5</th>\n",
       "      <th>6</th>\n",
       "      <th>7</th>\n",
       "      <th>8</th>\n",
       "      <th>9</th>\n",
       "      <th>...</th>\n",
       "      <th>39</th>\n",
       "      <th>40</th>\n",
       "      <th>41</th>\n",
       "      <th>42</th>\n",
       "      <th>43</th>\n",
       "      <th>44</th>\n",
       "      <th>45</th>\n",
       "      <th>46</th>\n",
       "      <th>47</th>\n",
       "      <th>48</th>\n",
       "    </tr>\n",
       "    <tr>\n",
       "      <th>anime_id</th>\n",
       "      <th></th>\n",
       "      <th></th>\n",
       "      <th></th>\n",
       "      <th></th>\n",
       "      <th></th>\n",
       "      <th></th>\n",
       "      <th></th>\n",
       "      <th></th>\n",
       "      <th></th>\n",
       "      <th></th>\n",
       "      <th></th>\n",
       "      <th></th>\n",
       "      <th></th>\n",
       "      <th></th>\n",
       "      <th></th>\n",
       "      <th></th>\n",
       "      <th></th>\n",
       "      <th></th>\n",
       "      <th></th>\n",
       "      <th></th>\n",
       "      <th></th>\n",
       "    </tr>\n",
       "  </thead>\n",
       "  <tbody>\n",
       "    <tr>\n",
       "      <th>5114</th>\n",
       "      <td>0.326361</td>\n",
       "      <td>0.0</td>\n",
       "      <td>0.353823</td>\n",
       "      <td>0.0</td>\n",
       "      <td>0.0</td>\n",
       "      <td>0.000000</td>\n",
       "      <td>0.0</td>\n",
       "      <td>0.000000</td>\n",
       "      <td>0.0</td>\n",
       "      <td>0.392005</td>\n",
       "      <td>...</td>\n",
       "      <td>0.0</td>\n",
       "      <td>0.0</td>\n",
       "      <td>0.442801</td>\n",
       "      <td>0.0</td>\n",
       "      <td>0.0</td>\n",
       "      <td>0.0</td>\n",
       "      <td>0.0</td>\n",
       "      <td>0.0</td>\n",
       "      <td>0.0</td>\n",
       "      <td>0.0</td>\n",
       "    </tr>\n",
       "    <tr>\n",
       "      <th>9253</th>\n",
       "      <td>0.000000</td>\n",
       "      <td>0.0</td>\n",
       "      <td>0.000000</td>\n",
       "      <td>0.0</td>\n",
       "      <td>0.0</td>\n",
       "      <td>0.000000</td>\n",
       "      <td>0.0</td>\n",
       "      <td>0.000000</td>\n",
       "      <td>0.0</td>\n",
       "      <td>0.427621</td>\n",
       "      <td>...</td>\n",
       "      <td>0.0</td>\n",
       "      <td>0.0</td>\n",
       "      <td>0.000000</td>\n",
       "      <td>0.0</td>\n",
       "      <td>0.0</td>\n",
       "      <td>0.0</td>\n",
       "      <td>0.0</td>\n",
       "      <td>0.0</td>\n",
       "      <td>0.0</td>\n",
       "      <td>0.0</td>\n",
       "    </tr>\n",
       "    <tr>\n",
       "      <th>28977</th>\n",
       "      <td>0.297200</td>\n",
       "      <td>0.0</td>\n",
       "      <td>0.000000</td>\n",
       "      <td>0.0</td>\n",
       "      <td>0.0</td>\n",
       "      <td>0.000000</td>\n",
       "      <td>0.0</td>\n",
       "      <td>0.254751</td>\n",
       "      <td>0.0</td>\n",
       "      <td>0.000000</td>\n",
       "      <td>...</td>\n",
       "      <td>0.0</td>\n",
       "      <td>0.0</td>\n",
       "      <td>0.403236</td>\n",
       "      <td>0.0</td>\n",
       "      <td>0.0</td>\n",
       "      <td>0.0</td>\n",
       "      <td>0.0</td>\n",
       "      <td>0.0</td>\n",
       "      <td>0.0</td>\n",
       "      <td>0.0</td>\n",
       "    </tr>\n",
       "    <tr>\n",
       "      <th>41467</th>\n",
       "      <td>0.450306</td>\n",
       "      <td>0.0</td>\n",
       "      <td>0.488197</td>\n",
       "      <td>0.0</td>\n",
       "      <td>0.0</td>\n",
       "      <td>0.000000</td>\n",
       "      <td>0.0</td>\n",
       "      <td>0.000000</td>\n",
       "      <td>0.0</td>\n",
       "      <td>0.000000</td>\n",
       "      <td>...</td>\n",
       "      <td>0.0</td>\n",
       "      <td>0.0</td>\n",
       "      <td>0.610967</td>\n",
       "      <td>0.0</td>\n",
       "      <td>0.0</td>\n",
       "      <td>0.0</td>\n",
       "      <td>0.0</td>\n",
       "      <td>0.0</td>\n",
       "      <td>0.0</td>\n",
       "      <td>0.0</td>\n",
       "    </tr>\n",
       "    <tr>\n",
       "      <th>39486</th>\n",
       "      <td>0.279901</td>\n",
       "      <td>0.0</td>\n",
       "      <td>0.000000</td>\n",
       "      <td>0.0</td>\n",
       "      <td>0.0</td>\n",
       "      <td>0.000000</td>\n",
       "      <td>0.0</td>\n",
       "      <td>0.239922</td>\n",
       "      <td>0.0</td>\n",
       "      <td>0.336199</td>\n",
       "      <td>...</td>\n",
       "      <td>0.0</td>\n",
       "      <td>0.0</td>\n",
       "      <td>0.379764</td>\n",
       "      <td>0.0</td>\n",
       "      <td>0.0</td>\n",
       "      <td>0.0</td>\n",
       "      <td>0.0</td>\n",
       "      <td>0.0</td>\n",
       "      <td>0.0</td>\n",
       "      <td>0.0</td>\n",
       "    </tr>\n",
       "    <tr>\n",
       "      <th>...</th>\n",
       "      <td>...</td>\n",
       "      <td>...</td>\n",
       "      <td>...</td>\n",
       "      <td>...</td>\n",
       "      <td>...</td>\n",
       "      <td>...</td>\n",
       "      <td>...</td>\n",
       "      <td>...</td>\n",
       "      <td>...</td>\n",
       "      <td>...</td>\n",
       "      <td>...</td>\n",
       "      <td>...</td>\n",
       "      <td>...</td>\n",
       "      <td>...</td>\n",
       "      <td>...</td>\n",
       "      <td>...</td>\n",
       "      <td>...</td>\n",
       "      <td>...</td>\n",
       "      <td>...</td>\n",
       "      <td>...</td>\n",
       "      <td>...</td>\n",
       "    </tr>\n",
       "    <tr>\n",
       "      <th>56512</th>\n",
       "      <td>0.000000</td>\n",
       "      <td>0.0</td>\n",
       "      <td>0.000000</td>\n",
       "      <td>0.0</td>\n",
       "      <td>0.0</td>\n",
       "      <td>0.000000</td>\n",
       "      <td>0.0</td>\n",
       "      <td>0.000000</td>\n",
       "      <td>0.0</td>\n",
       "      <td>0.000000</td>\n",
       "      <td>...</td>\n",
       "      <td>0.0</td>\n",
       "      <td>0.0</td>\n",
       "      <td>0.000000</td>\n",
       "      <td>0.0</td>\n",
       "      <td>0.0</td>\n",
       "      <td>0.0</td>\n",
       "      <td>0.0</td>\n",
       "      <td>0.0</td>\n",
       "      <td>0.0</td>\n",
       "      <td>0.0</td>\n",
       "    </tr>\n",
       "    <tr>\n",
       "      <th>56779</th>\n",
       "      <td>0.000000</td>\n",
       "      <td>0.0</td>\n",
       "      <td>0.000000</td>\n",
       "      <td>0.0</td>\n",
       "      <td>0.0</td>\n",
       "      <td>0.000000</td>\n",
       "      <td>0.0</td>\n",
       "      <td>0.000000</td>\n",
       "      <td>0.0</td>\n",
       "      <td>0.000000</td>\n",
       "      <td>...</td>\n",
       "      <td>0.0</td>\n",
       "      <td>0.0</td>\n",
       "      <td>0.000000</td>\n",
       "      <td>0.0</td>\n",
       "      <td>0.0</td>\n",
       "      <td>0.0</td>\n",
       "      <td>0.0</td>\n",
       "      <td>0.0</td>\n",
       "      <td>0.0</td>\n",
       "      <td>0.0</td>\n",
       "    </tr>\n",
       "    <tr>\n",
       "      <th>53029</th>\n",
       "      <td>0.000000</td>\n",
       "      <td>0.0</td>\n",
       "      <td>0.000000</td>\n",
       "      <td>0.0</td>\n",
       "      <td>0.0</td>\n",
       "      <td>0.707107</td>\n",
       "      <td>0.0</td>\n",
       "      <td>0.000000</td>\n",
       "      <td>0.0</td>\n",
       "      <td>0.000000</td>\n",
       "      <td>...</td>\n",
       "      <td>0.0</td>\n",
       "      <td>0.0</td>\n",
       "      <td>0.000000</td>\n",
       "      <td>0.0</td>\n",
       "      <td>0.0</td>\n",
       "      <td>0.0</td>\n",
       "      <td>0.0</td>\n",
       "      <td>0.0</td>\n",
       "      <td>0.0</td>\n",
       "      <td>0.0</td>\n",
       "    </tr>\n",
       "    <tr>\n",
       "      <th>9304</th>\n",
       "      <td>0.000000</td>\n",
       "      <td>0.0</td>\n",
       "      <td>0.000000</td>\n",
       "      <td>0.0</td>\n",
       "      <td>0.0</td>\n",
       "      <td>0.000000</td>\n",
       "      <td>0.0</td>\n",
       "      <td>0.000000</td>\n",
       "      <td>0.0</td>\n",
       "      <td>0.000000</td>\n",
       "      <td>...</td>\n",
       "      <td>0.0</td>\n",
       "      <td>0.0</td>\n",
       "      <td>0.000000</td>\n",
       "      <td>0.0</td>\n",
       "      <td>0.0</td>\n",
       "      <td>0.0</td>\n",
       "      <td>0.0</td>\n",
       "      <td>0.0</td>\n",
       "      <td>0.0</td>\n",
       "      <td>0.0</td>\n",
       "    </tr>\n",
       "    <tr>\n",
       "      <th>56511</th>\n",
       "      <td>0.000000</td>\n",
       "      <td>0.0</td>\n",
       "      <td>0.000000</td>\n",
       "      <td>0.0</td>\n",
       "      <td>0.0</td>\n",
       "      <td>0.000000</td>\n",
       "      <td>0.0</td>\n",
       "      <td>0.000000</td>\n",
       "      <td>0.0</td>\n",
       "      <td>0.000000</td>\n",
       "      <td>...</td>\n",
       "      <td>0.0</td>\n",
       "      <td>0.0</td>\n",
       "      <td>0.000000</td>\n",
       "      <td>0.0</td>\n",
       "      <td>0.0</td>\n",
       "      <td>0.0</td>\n",
       "      <td>0.0</td>\n",
       "      <td>0.0</td>\n",
       "      <td>0.0</td>\n",
       "      <td>0.0</td>\n",
       "    </tr>\n",
       "  </tbody>\n",
       "</table>\n",
       "<p>25464 rows × 49 columns</p>\n",
       "</div>"
      ],
      "text/plain": [
       "                0    1         2    3    4         5    6         7    8   \\\n",
       "anime_id                                                                    \n",
       "5114      0.326361  0.0  0.353823  0.0  0.0  0.000000  0.0  0.000000  0.0   \n",
       "9253      0.000000  0.0  0.000000  0.0  0.0  0.000000  0.0  0.000000  0.0   \n",
       "28977     0.297200  0.0  0.000000  0.0  0.0  0.000000  0.0  0.254751  0.0   \n",
       "41467     0.450306  0.0  0.488197  0.0  0.0  0.000000  0.0  0.000000  0.0   \n",
       "39486     0.279901  0.0  0.000000  0.0  0.0  0.000000  0.0  0.239922  0.0   \n",
       "...            ...  ...       ...  ...  ...       ...  ...       ...  ...   \n",
       "56512     0.000000  0.0  0.000000  0.0  0.0  0.000000  0.0  0.000000  0.0   \n",
       "56779     0.000000  0.0  0.000000  0.0  0.0  0.000000  0.0  0.000000  0.0   \n",
       "53029     0.000000  0.0  0.000000  0.0  0.0  0.707107  0.0  0.000000  0.0   \n",
       "9304      0.000000  0.0  0.000000  0.0  0.0  0.000000  0.0  0.000000  0.0   \n",
       "56511     0.000000  0.0  0.000000  0.0  0.0  0.000000  0.0  0.000000  0.0   \n",
       "\n",
       "                9   ...   39   40        41   42   43   44   45   46   47   48  \n",
       "anime_id            ...                                                         \n",
       "5114      0.392005  ...  0.0  0.0  0.442801  0.0  0.0  0.0  0.0  0.0  0.0  0.0  \n",
       "9253      0.427621  ...  0.0  0.0  0.000000  0.0  0.0  0.0  0.0  0.0  0.0  0.0  \n",
       "28977     0.000000  ...  0.0  0.0  0.403236  0.0  0.0  0.0  0.0  0.0  0.0  0.0  \n",
       "41467     0.000000  ...  0.0  0.0  0.610967  0.0  0.0  0.0  0.0  0.0  0.0  0.0  \n",
       "39486     0.336199  ...  0.0  0.0  0.379764  0.0  0.0  0.0  0.0  0.0  0.0  0.0  \n",
       "...            ...  ...  ...  ...       ...  ...  ...  ...  ...  ...  ...  ...  \n",
       "56512     0.000000  ...  0.0  0.0  0.000000  0.0  0.0  0.0  0.0  0.0  0.0  0.0  \n",
       "56779     0.000000  ...  0.0  0.0  0.000000  0.0  0.0  0.0  0.0  0.0  0.0  0.0  \n",
       "53029     0.000000  ...  0.0  0.0  0.000000  0.0  0.0  0.0  0.0  0.0  0.0  0.0  \n",
       "9304      0.000000  ...  0.0  0.0  0.000000  0.0  0.0  0.0  0.0  0.0  0.0  0.0  \n",
       "56511     0.000000  ...  0.0  0.0  0.000000  0.0  0.0  0.0  0.0  0.0  0.0  0.0  \n",
       "\n",
       "[25464 rows x 49 columns]"
      ]
     },
     "execution_count": 199,
     "metadata": {},
     "output_type": "execute_result"
    }
   ],
   "source": [
    "std_anime_cbf_recommender = CBFRecommender(anime_df, train_df)\n",
    "std_anime_cbf_recommender.vectorize_anime_data(stop_words='english', max_features=50, max_df=0.5, min_df=0.01)"
   ]
  },
  {
   "cell_type": "code",
   "execution_count": 143,
   "metadata": {
    "tags": []
   },
   "outputs": [],
   "source": [
    "std_cbf_recommender_evaluation = {\n",
    "    \"5\": std_anime_cbf_recommender.evaluate(5, test_df),\n",
    "    \"10\": std_anime_cbf_recommender.evaluate(10, test_df),\n",
    "    \"20\": std_anime_cbf_recommender.evaluate(20, test_df)\n",
    "}"
   ]
  },
  {
   "cell_type": "code",
   "execution_count": 144,
   "metadata": {
    "tags": []
   },
   "outputs": [
    {
     "data": {
      "text/plain": [
       "{'5': {'hit_rate': 0.11737943585077343,\n",
       "  'mean_reciprocal_rank': 0.05449326227306181},\n",
       " '10': {'hit_rate': 0.20447159755621994,\n",
       "  'mean_reciprocal_rank': 0.06602203817529434},\n",
       " '20': {'hit_rate': 0.35330820226179643,\n",
       "  'mean_reciprocal_rank': 0.07615882980918175}}"
      ]
     },
     "execution_count": 144,
     "metadata": {},
     "output_type": "execute_result"
    }
   ],
   "source": [
    "std_cbf_recommender_evaluation"
   ]
  },
  {
   "cell_type": "markdown",
   "metadata": {},
   "source": [
    "### Use the New Users Dataset"
   ]
  },
  {
   "cell_type": "code",
   "execution_count": 200,
   "metadata": {
    "tags": []
   },
   "outputs": [
    {
     "data": {
      "text/html": [
       "<div>\n",
       "<style scoped>\n",
       "    .dataframe tbody tr th:only-of-type {\n",
       "        vertical-align: middle;\n",
       "    }\n",
       "\n",
       "    .dataframe tbody tr th {\n",
       "        vertical-align: top;\n",
       "    }\n",
       "\n",
       "    .dataframe thead th {\n",
       "        text-align: right;\n",
       "    }\n",
       "</style>\n",
       "<table border=\"1\" class=\"dataframe\">\n",
       "  <thead>\n",
       "    <tr style=\"text-align: right;\">\n",
       "      <th></th>\n",
       "      <th>0</th>\n",
       "      <th>1</th>\n",
       "      <th>2</th>\n",
       "      <th>3</th>\n",
       "      <th>4</th>\n",
       "      <th>5</th>\n",
       "      <th>6</th>\n",
       "      <th>7</th>\n",
       "      <th>8</th>\n",
       "      <th>9</th>\n",
       "      <th>...</th>\n",
       "      <th>39</th>\n",
       "      <th>40</th>\n",
       "      <th>41</th>\n",
       "      <th>42</th>\n",
       "      <th>43</th>\n",
       "      <th>44</th>\n",
       "      <th>45</th>\n",
       "      <th>46</th>\n",
       "      <th>47</th>\n",
       "      <th>48</th>\n",
       "    </tr>\n",
       "    <tr>\n",
       "      <th>anime_id</th>\n",
       "      <th></th>\n",
       "      <th></th>\n",
       "      <th></th>\n",
       "      <th></th>\n",
       "      <th></th>\n",
       "      <th></th>\n",
       "      <th></th>\n",
       "      <th></th>\n",
       "      <th></th>\n",
       "      <th></th>\n",
       "      <th></th>\n",
       "      <th></th>\n",
       "      <th></th>\n",
       "      <th></th>\n",
       "      <th></th>\n",
       "      <th></th>\n",
       "      <th></th>\n",
       "      <th></th>\n",
       "      <th></th>\n",
       "      <th></th>\n",
       "      <th></th>\n",
       "    </tr>\n",
       "  </thead>\n",
       "  <tbody>\n",
       "    <tr>\n",
       "      <th>5114</th>\n",
       "      <td>0.326361</td>\n",
       "      <td>0.0</td>\n",
       "      <td>0.353823</td>\n",
       "      <td>0.0</td>\n",
       "      <td>0.0</td>\n",
       "      <td>0.000000</td>\n",
       "      <td>0.0</td>\n",
       "      <td>0.000000</td>\n",
       "      <td>0.0</td>\n",
       "      <td>0.392005</td>\n",
       "      <td>...</td>\n",
       "      <td>0.0</td>\n",
       "      <td>0.0</td>\n",
       "      <td>0.442801</td>\n",
       "      <td>0.0</td>\n",
       "      <td>0.0</td>\n",
       "      <td>0.0</td>\n",
       "      <td>0.0</td>\n",
       "      <td>0.0</td>\n",
       "      <td>0.0</td>\n",
       "      <td>0.0</td>\n",
       "    </tr>\n",
       "    <tr>\n",
       "      <th>9253</th>\n",
       "      <td>0.000000</td>\n",
       "      <td>0.0</td>\n",
       "      <td>0.000000</td>\n",
       "      <td>0.0</td>\n",
       "      <td>0.0</td>\n",
       "      <td>0.000000</td>\n",
       "      <td>0.0</td>\n",
       "      <td>0.000000</td>\n",
       "      <td>0.0</td>\n",
       "      <td>0.427621</td>\n",
       "      <td>...</td>\n",
       "      <td>0.0</td>\n",
       "      <td>0.0</td>\n",
       "      <td>0.000000</td>\n",
       "      <td>0.0</td>\n",
       "      <td>0.0</td>\n",
       "      <td>0.0</td>\n",
       "      <td>0.0</td>\n",
       "      <td>0.0</td>\n",
       "      <td>0.0</td>\n",
       "      <td>0.0</td>\n",
       "    </tr>\n",
       "    <tr>\n",
       "      <th>28977</th>\n",
       "      <td>0.297200</td>\n",
       "      <td>0.0</td>\n",
       "      <td>0.000000</td>\n",
       "      <td>0.0</td>\n",
       "      <td>0.0</td>\n",
       "      <td>0.000000</td>\n",
       "      <td>0.0</td>\n",
       "      <td>0.254751</td>\n",
       "      <td>0.0</td>\n",
       "      <td>0.000000</td>\n",
       "      <td>...</td>\n",
       "      <td>0.0</td>\n",
       "      <td>0.0</td>\n",
       "      <td>0.403236</td>\n",
       "      <td>0.0</td>\n",
       "      <td>0.0</td>\n",
       "      <td>0.0</td>\n",
       "      <td>0.0</td>\n",
       "      <td>0.0</td>\n",
       "      <td>0.0</td>\n",
       "      <td>0.0</td>\n",
       "    </tr>\n",
       "    <tr>\n",
       "      <th>41467</th>\n",
       "      <td>0.450306</td>\n",
       "      <td>0.0</td>\n",
       "      <td>0.488197</td>\n",
       "      <td>0.0</td>\n",
       "      <td>0.0</td>\n",
       "      <td>0.000000</td>\n",
       "      <td>0.0</td>\n",
       "      <td>0.000000</td>\n",
       "      <td>0.0</td>\n",
       "      <td>0.000000</td>\n",
       "      <td>...</td>\n",
       "      <td>0.0</td>\n",
       "      <td>0.0</td>\n",
       "      <td>0.610967</td>\n",
       "      <td>0.0</td>\n",
       "      <td>0.0</td>\n",
       "      <td>0.0</td>\n",
       "      <td>0.0</td>\n",
       "      <td>0.0</td>\n",
       "      <td>0.0</td>\n",
       "      <td>0.0</td>\n",
       "    </tr>\n",
       "    <tr>\n",
       "      <th>39486</th>\n",
       "      <td>0.279901</td>\n",
       "      <td>0.0</td>\n",
       "      <td>0.000000</td>\n",
       "      <td>0.0</td>\n",
       "      <td>0.0</td>\n",
       "      <td>0.000000</td>\n",
       "      <td>0.0</td>\n",
       "      <td>0.239922</td>\n",
       "      <td>0.0</td>\n",
       "      <td>0.336199</td>\n",
       "      <td>...</td>\n",
       "      <td>0.0</td>\n",
       "      <td>0.0</td>\n",
       "      <td>0.379764</td>\n",
       "      <td>0.0</td>\n",
       "      <td>0.0</td>\n",
       "      <td>0.0</td>\n",
       "      <td>0.0</td>\n",
       "      <td>0.0</td>\n",
       "      <td>0.0</td>\n",
       "      <td>0.0</td>\n",
       "    </tr>\n",
       "    <tr>\n",
       "      <th>...</th>\n",
       "      <td>...</td>\n",
       "      <td>...</td>\n",
       "      <td>...</td>\n",
       "      <td>...</td>\n",
       "      <td>...</td>\n",
       "      <td>...</td>\n",
       "      <td>...</td>\n",
       "      <td>...</td>\n",
       "      <td>...</td>\n",
       "      <td>...</td>\n",
       "      <td>...</td>\n",
       "      <td>...</td>\n",
       "      <td>...</td>\n",
       "      <td>...</td>\n",
       "      <td>...</td>\n",
       "      <td>...</td>\n",
       "      <td>...</td>\n",
       "      <td>...</td>\n",
       "      <td>...</td>\n",
       "      <td>...</td>\n",
       "      <td>...</td>\n",
       "    </tr>\n",
       "    <tr>\n",
       "      <th>56512</th>\n",
       "      <td>0.000000</td>\n",
       "      <td>0.0</td>\n",
       "      <td>0.000000</td>\n",
       "      <td>0.0</td>\n",
       "      <td>0.0</td>\n",
       "      <td>0.000000</td>\n",
       "      <td>0.0</td>\n",
       "      <td>0.000000</td>\n",
       "      <td>0.0</td>\n",
       "      <td>0.000000</td>\n",
       "      <td>...</td>\n",
       "      <td>0.0</td>\n",
       "      <td>0.0</td>\n",
       "      <td>0.000000</td>\n",
       "      <td>0.0</td>\n",
       "      <td>0.0</td>\n",
       "      <td>0.0</td>\n",
       "      <td>0.0</td>\n",
       "      <td>0.0</td>\n",
       "      <td>0.0</td>\n",
       "      <td>0.0</td>\n",
       "    </tr>\n",
       "    <tr>\n",
       "      <th>56779</th>\n",
       "      <td>0.000000</td>\n",
       "      <td>0.0</td>\n",
       "      <td>0.000000</td>\n",
       "      <td>0.0</td>\n",
       "      <td>0.0</td>\n",
       "      <td>0.000000</td>\n",
       "      <td>0.0</td>\n",
       "      <td>0.000000</td>\n",
       "      <td>0.0</td>\n",
       "      <td>0.000000</td>\n",
       "      <td>...</td>\n",
       "      <td>0.0</td>\n",
       "      <td>0.0</td>\n",
       "      <td>0.000000</td>\n",
       "      <td>0.0</td>\n",
       "      <td>0.0</td>\n",
       "      <td>0.0</td>\n",
       "      <td>0.0</td>\n",
       "      <td>0.0</td>\n",
       "      <td>0.0</td>\n",
       "      <td>0.0</td>\n",
       "    </tr>\n",
       "    <tr>\n",
       "      <th>53029</th>\n",
       "      <td>0.000000</td>\n",
       "      <td>0.0</td>\n",
       "      <td>0.000000</td>\n",
       "      <td>0.0</td>\n",
       "      <td>0.0</td>\n",
       "      <td>0.707107</td>\n",
       "      <td>0.0</td>\n",
       "      <td>0.000000</td>\n",
       "      <td>0.0</td>\n",
       "      <td>0.000000</td>\n",
       "      <td>...</td>\n",
       "      <td>0.0</td>\n",
       "      <td>0.0</td>\n",
       "      <td>0.000000</td>\n",
       "      <td>0.0</td>\n",
       "      <td>0.0</td>\n",
       "      <td>0.0</td>\n",
       "      <td>0.0</td>\n",
       "      <td>0.0</td>\n",
       "      <td>0.0</td>\n",
       "      <td>0.0</td>\n",
       "    </tr>\n",
       "    <tr>\n",
       "      <th>9304</th>\n",
       "      <td>0.000000</td>\n",
       "      <td>0.0</td>\n",
       "      <td>0.000000</td>\n",
       "      <td>0.0</td>\n",
       "      <td>0.0</td>\n",
       "      <td>0.000000</td>\n",
       "      <td>0.0</td>\n",
       "      <td>0.000000</td>\n",
       "      <td>0.0</td>\n",
       "      <td>0.000000</td>\n",
       "      <td>...</td>\n",
       "      <td>0.0</td>\n",
       "      <td>0.0</td>\n",
       "      <td>0.000000</td>\n",
       "      <td>0.0</td>\n",
       "      <td>0.0</td>\n",
       "      <td>0.0</td>\n",
       "      <td>0.0</td>\n",
       "      <td>0.0</td>\n",
       "      <td>0.0</td>\n",
       "      <td>0.0</td>\n",
       "    </tr>\n",
       "    <tr>\n",
       "      <th>56511</th>\n",
       "      <td>0.000000</td>\n",
       "      <td>0.0</td>\n",
       "      <td>0.000000</td>\n",
       "      <td>0.0</td>\n",
       "      <td>0.0</td>\n",
       "      <td>0.000000</td>\n",
       "      <td>0.0</td>\n",
       "      <td>0.000000</td>\n",
       "      <td>0.0</td>\n",
       "      <td>0.000000</td>\n",
       "      <td>...</td>\n",
       "      <td>0.0</td>\n",
       "      <td>0.0</td>\n",
       "      <td>0.000000</td>\n",
       "      <td>0.0</td>\n",
       "      <td>0.0</td>\n",
       "      <td>0.0</td>\n",
       "      <td>0.0</td>\n",
       "      <td>0.0</td>\n",
       "      <td>0.0</td>\n",
       "      <td>0.0</td>\n",
       "    </tr>\n",
       "  </tbody>\n",
       "</table>\n",
       "<p>25464 rows × 49 columns</p>\n",
       "</div>"
      ],
      "text/plain": [
       "                0    1         2    3    4         5    6         7    8   \\\n",
       "anime_id                                                                    \n",
       "5114      0.326361  0.0  0.353823  0.0  0.0  0.000000  0.0  0.000000  0.0   \n",
       "9253      0.000000  0.0  0.000000  0.0  0.0  0.000000  0.0  0.000000  0.0   \n",
       "28977     0.297200  0.0  0.000000  0.0  0.0  0.000000  0.0  0.254751  0.0   \n",
       "41467     0.450306  0.0  0.488197  0.0  0.0  0.000000  0.0  0.000000  0.0   \n",
       "39486     0.279901  0.0  0.000000  0.0  0.0  0.000000  0.0  0.239922  0.0   \n",
       "...            ...  ...       ...  ...  ...       ...  ...       ...  ...   \n",
       "56512     0.000000  0.0  0.000000  0.0  0.0  0.000000  0.0  0.000000  0.0   \n",
       "56779     0.000000  0.0  0.000000  0.0  0.0  0.000000  0.0  0.000000  0.0   \n",
       "53029     0.000000  0.0  0.000000  0.0  0.0  0.707107  0.0  0.000000  0.0   \n",
       "9304      0.000000  0.0  0.000000  0.0  0.0  0.000000  0.0  0.000000  0.0   \n",
       "56511     0.000000  0.0  0.000000  0.0  0.0  0.000000  0.0  0.000000  0.0   \n",
       "\n",
       "                9   ...   39   40        41   42   43   44   45   46   47   48  \n",
       "anime_id            ...                                                         \n",
       "5114      0.392005  ...  0.0  0.0  0.442801  0.0  0.0  0.0  0.0  0.0  0.0  0.0  \n",
       "9253      0.427621  ...  0.0  0.0  0.000000  0.0  0.0  0.0  0.0  0.0  0.0  0.0  \n",
       "28977     0.000000  ...  0.0  0.0  0.403236  0.0  0.0  0.0  0.0  0.0  0.0  0.0  \n",
       "41467     0.000000  ...  0.0  0.0  0.610967  0.0  0.0  0.0  0.0  0.0  0.0  0.0  \n",
       "39486     0.336199  ...  0.0  0.0  0.379764  0.0  0.0  0.0  0.0  0.0  0.0  0.0  \n",
       "...            ...  ...  ...  ...       ...  ...  ...  ...  ...  ...  ...  ...  \n",
       "56512     0.000000  ...  0.0  0.0  0.000000  0.0  0.0  0.0  0.0  0.0  0.0  0.0  \n",
       "56779     0.000000  ...  0.0  0.0  0.000000  0.0  0.0  0.0  0.0  0.0  0.0  0.0  \n",
       "53029     0.000000  ...  0.0  0.0  0.000000  0.0  0.0  0.0  0.0  0.0  0.0  0.0  \n",
       "9304      0.000000  ...  0.0  0.0  0.000000  0.0  0.0  0.0  0.0  0.0  0.0  0.0  \n",
       "56511     0.000000  ...  0.0  0.0  0.000000  0.0  0.0  0.0  0.0  0.0  0.0  0.0  \n",
       "\n",
       "[25464 rows x 49 columns]"
      ]
     },
     "execution_count": 200,
     "metadata": {},
     "output_type": "execute_result"
    }
   ],
   "source": [
    "new_anime_cbf_recommender = CBFRecommender(anime_df, new_users_train_df)\n",
    "new_anime_cbf_recommender.vectorize_anime_data(stop_words='english', max_features=50, max_df=0.5, min_df=0.01)"
   ]
  },
  {
   "cell_type": "code",
   "execution_count": 225,
   "metadata": {},
   "outputs": [
    {
     "data": {
      "text/html": [
       "<div>\n",
       "<style scoped>\n",
       "    .dataframe tbody tr th:only-of-type {\n",
       "        vertical-align: middle;\n",
       "    }\n",
       "\n",
       "    .dataframe tbody tr th {\n",
       "        vertical-align: top;\n",
       "    }\n",
       "\n",
       "    .dataframe thead th {\n",
       "        text-align: right;\n",
       "    }\n",
       "</style>\n",
       "<table border=\"1\" class=\"dataframe\">\n",
       "  <thead>\n",
       "    <tr style=\"text-align: right;\">\n",
       "      <th></th>\n",
       "      <th>distance</th>\n",
       "      <th>id</th>\n",
       "      <th>title</th>\n",
       "      <th>start_date</th>\n",
       "      <th>end_date</th>\n",
       "      <th>synopsis</th>\n",
       "      <th>score</th>\n",
       "      <th>rank</th>\n",
       "      <th>popularity</th>\n",
       "      <th>num_list_users</th>\n",
       "      <th>...</th>\n",
       "      <th>media_type</th>\n",
       "      <th>status</th>\n",
       "      <th>genres</th>\n",
       "      <th>num_episodes</th>\n",
       "      <th>start_season</th>\n",
       "      <th>broadcast_day</th>\n",
       "      <th>broadcast_time</th>\n",
       "      <th>source</th>\n",
       "      <th>rating</th>\n",
       "      <th>studios</th>\n",
       "    </tr>\n",
       "  </thead>\n",
       "  <tbody>\n",
       "    <tr>\n",
       "      <th>0</th>\n",
       "      <td>0.201240</td>\n",
       "      <td>10360</td>\n",
       "      <td>Kinniku Banzuke: Kongou-kun no Daibouken!</td>\n",
       "      <td>2001-07-30</td>\n",
       "      <td>2001-08-30</td>\n",
       "      <td>A group of school children are invited to comp...</td>\n",
       "      <td>5.04</td>\n",
       "      <td>12422.0</td>\n",
       "      <td>13861</td>\n",
       "      <td>766</td>\n",
       "      <td>...</td>\n",
       "      <td>tv</td>\n",
       "      <td>finished_airing</td>\n",
       "      <td>Action,Shounen,Sports</td>\n",
       "      <td>3</td>\n",
       "      <td>summer</td>\n",
       "      <td>NaN</td>\n",
       "      <td>NaN</td>\n",
       "      <td>other</td>\n",
       "      <td>pg_13</td>\n",
       "      <td>Pierrot</td>\n",
       "    </tr>\n",
       "    <tr>\n",
       "      <th>1</th>\n",
       "      <td>0.214859</td>\n",
       "      <td>51781</td>\n",
       "      <td>Boku no Hero Academia (ONA)</td>\n",
       "      <td>2022-06-16</td>\n",
       "      <td>2022-06-16</td>\n",
       "      <td>Episode 1: HLB\\n\\nHLB stands for \"Hero League ...</td>\n",
       "      <td>6.82</td>\n",
       "      <td>4906.0</td>\n",
       "      <td>3389</td>\n",
       "      <td>40056</td>\n",
       "      <td>...</td>\n",
       "      <td>ona</td>\n",
       "      <td>finished_airing</td>\n",
       "      <td>School,Shounen,Sports,Super Power,Team Sports</td>\n",
       "      <td>2</td>\n",
       "      <td>spring</td>\n",
       "      <td>NaN</td>\n",
       "      <td>NaN</td>\n",
       "      <td>manga</td>\n",
       "      <td>pg_13</td>\n",
       "      <td>Bones</td>\n",
       "    </tr>\n",
       "    <tr>\n",
       "      <th>2</th>\n",
       "      <td>0.216041</td>\n",
       "      <td>359</td>\n",
       "      <td>I'll/CKBC</td>\n",
       "      <td>2002-12-18</td>\n",
       "      <td>2003-03-26</td>\n",
       "      <td>Pressured by his family's background and expec...</td>\n",
       "      <td>6.19</td>\n",
       "      <td>8282.0</td>\n",
       "      <td>7879</td>\n",
       "      <td>5505</td>\n",
       "      <td>...</td>\n",
       "      <td>ova</td>\n",
       "      <td>finished_airing</td>\n",
       "      <td>Action,School,Shounen,Sports,Team Sports</td>\n",
       "      <td>2</td>\n",
       "      <td>fall</td>\n",
       "      <td>NaN</td>\n",
       "      <td>NaN</td>\n",
       "      <td>manga</td>\n",
       "      <td>pg_13</td>\n",
       "      <td>M.S.C</td>\n",
       "    </tr>\n",
       "    <tr>\n",
       "      <th>3</th>\n",
       "      <td>0.216041</td>\n",
       "      <td>3825</td>\n",
       "      <td>Dokaben</td>\n",
       "      <td>1976-10-06</td>\n",
       "      <td>1979-12-26</td>\n",
       "      <td>Tarou \"Dokaben\" Yamada, who was a judoist whil...</td>\n",
       "      <td>6.50</td>\n",
       "      <td>6648.0</td>\n",
       "      <td>12301</td>\n",
       "      <td>1217</td>\n",
       "      <td>...</td>\n",
       "      <td>tv</td>\n",
       "      <td>finished_airing</td>\n",
       "      <td>Action,School,Shounen,Sports,Team Sports</td>\n",
       "      <td>163</td>\n",
       "      <td>fall</td>\n",
       "      <td>wednesday</td>\n",
       "      <td>19:00</td>\n",
       "      <td>NaN</td>\n",
       "      <td>pg_13</td>\n",
       "      <td>Nippon Animation</td>\n",
       "    </tr>\n",
       "    <tr>\n",
       "      <th>4</th>\n",
       "      <td>0.216041</td>\n",
       "      <td>8953</td>\n",
       "      <td>Nine</td>\n",
       "      <td>1983-05-04</td>\n",
       "      <td>1983-05-04</td>\n",
       "      <td>Just before entering Seishuu High School, trac...</td>\n",
       "      <td>6.06</td>\n",
       "      <td>8967.0</td>\n",
       "      <td>13271</td>\n",
       "      <td>906</td>\n",
       "      <td>...</td>\n",
       "      <td>special</td>\n",
       "      <td>finished_airing</td>\n",
       "      <td>Action,School,Shounen,Sports,Team Sports</td>\n",
       "      <td>1</td>\n",
       "      <td>spring</td>\n",
       "      <td>NaN</td>\n",
       "      <td>NaN</td>\n",
       "      <td>manga</td>\n",
       "      <td>pg_13</td>\n",
       "      <td>Group TAC</td>\n",
       "    </tr>\n",
       "  </tbody>\n",
       "</table>\n",
       "<p>5 rows × 21 columns</p>\n",
       "</div>"
      ],
      "text/plain": [
       "   distance     id                                      title  start_date  \\\n",
       "0  0.201240  10360  Kinniku Banzuke: Kongou-kun no Daibouken!  2001-07-30   \n",
       "1  0.214859  51781                Boku no Hero Academia (ONA)  2022-06-16   \n",
       "2  0.216041    359                                  I'll/CKBC  2002-12-18   \n",
       "3  0.216041   3825                                    Dokaben  1976-10-06   \n",
       "4  0.216041   8953                                       Nine  1983-05-04   \n",
       "\n",
       "     end_date                                           synopsis  score  \\\n",
       "0  2001-08-30  A group of school children are invited to comp...   5.04   \n",
       "1  2022-06-16  Episode 1: HLB\\n\\nHLB stands for \"Hero League ...   6.82   \n",
       "2  2003-03-26  Pressured by his family's background and expec...   6.19   \n",
       "3  1979-12-26  Tarou \"Dokaben\" Yamada, who was a judoist whil...   6.50   \n",
       "4  1983-05-04  Just before entering Seishuu High School, trac...   6.06   \n",
       "\n",
       "      rank  popularity  num_list_users  ...  media_type           status  \\\n",
       "0  12422.0       13861             766  ...          tv  finished_airing   \n",
       "1   4906.0        3389           40056  ...         ona  finished_airing   \n",
       "2   8282.0        7879            5505  ...         ova  finished_airing   \n",
       "3   6648.0       12301            1217  ...          tv  finished_airing   \n",
       "4   8967.0       13271             906  ...     special  finished_airing   \n",
       "\n",
       "                                          genres num_episodes  start_season  \\\n",
       "0                          Action,Shounen,Sports            3        summer   \n",
       "1  School,Shounen,Sports,Super Power,Team Sports            2        spring   \n",
       "2       Action,School,Shounen,Sports,Team Sports            2          fall   \n",
       "3       Action,School,Shounen,Sports,Team Sports          163          fall   \n",
       "4       Action,School,Shounen,Sports,Team Sports            1        spring   \n",
       "\n",
       "  broadcast_day broadcast_time source rating           studios  \n",
       "0           NaN            NaN  other  pg_13           Pierrot  \n",
       "1           NaN            NaN  manga  pg_13             Bones  \n",
       "2           NaN            NaN  manga  pg_13             M.S.C  \n",
       "3     wednesday          19:00    NaN  pg_13  Nippon Animation  \n",
       "4           NaN            NaN  manga  pg_13         Group TAC  \n",
       "\n",
       "[5 rows x 21 columns]"
      ]
     },
     "execution_count": 225,
     "metadata": {},
     "output_type": "execute_result"
    }
   ],
   "source": [
    "new_anime_cbf_recommender.recommend_user(np.random.choice(new_users_train_df.user_id), 5)"
   ]
  },
  {
   "cell_type": "code",
   "execution_count": 146,
   "metadata": {
    "tags": []
   },
   "outputs": [],
   "source": [
    "new_cbf_recommender_evaluation= {\n",
    "    \"5\": new_anime_cbf_recommender.evaluate(5, new_users_test_df),\n",
    "    \"10\": new_anime_cbf_recommender.evaluate(10, new_users_test_df),\n",
    "    \"20\": new_anime_cbf_recommender.evaluate(20, new_users_test_df)\n",
    "}"
   ]
  },
  {
   "cell_type": "code",
   "execution_count": 147,
   "metadata": {
    "tags": []
   },
   "outputs": [
    {
     "data": {
      "text/plain": [
       "{'5': {'hit_rate': 0.053101396200503546,\n",
       "  'mean_reciprocal_rank': 0.027140077821011667},\n",
       " '10': {'hit_rate': 0.0844586861982147,\n",
       "  'mean_reciprocal_rank': 0.03132145854450724},\n",
       " '20': {'hit_rate': 0.1264591439688716,\n",
       "  'mean_reciprocal_rank': 0.03417666430778788}}"
      ]
     },
     "execution_count": 147,
     "metadata": {},
     "output_type": "execute_result"
    }
   ],
   "source": [
    "new_cbf_recommender_evaluation"
   ]
  },
  {
   "cell_type": "markdown",
   "metadata": {},
   "source": [
    "## Evaluate the Collaborative Recommender"
   ]
  },
  {
   "cell_type": "markdown",
   "metadata": {},
   "source": [
    "### Use the Standard Dataset"
   ]
  },
  {
   "cell_type": "code",
   "execution_count": 201,
   "metadata": {
    "tags": []
   },
   "outputs": [],
   "source": [
    "cf_svd_recommender = CollaborativeFilteringRecommender(train_df)"
   ]
  },
  {
   "cell_type": "code",
   "execution_count": 109,
   "metadata": {
    "tags": []
   },
   "outputs": [],
   "source": [
    "cf_recommender_evaluation = {\n",
    "    \"5\": cf_svd_recommender.evaluate(5, test_df),\n",
    "    \"10\": cf_svd_recommender.evaluate(10, test_df),\n",
    "    \"20\": cf_svd_recommender.evaluate(20, test_df)\n",
    "}"
   ]
  },
  {
   "cell_type": "code",
   "execution_count": 110,
   "metadata": {
    "tags": []
   },
   "outputs": [
    {
     "data": {
      "text/plain": [
       "{'5': {'hit_rate': 0.404653581177694,\n",
       "  'mean_reciprocal_rank': 0.24526625936998972},\n",
       " '10': {'hit_rate': 0.5419212270895619,\n",
       "  'mean_reciprocal_rank': 0.2638583003720126},\n",
       " '20': {'hit_rate': 0.6654101130898219,\n",
       "  'mean_reciprocal_rank': 0.27256713511800124}}"
      ]
     },
     "execution_count": 110,
     "metadata": {},
     "output_type": "execute_result"
    }
   ],
   "source": [
    "cf_recommender_evaluation"
   ]
  },
  {
   "cell_type": "markdown",
   "metadata": {},
   "source": [
    "### Use the New Users Dataset"
   ]
  },
  {
   "cell_type": "code",
   "execution_count": 202,
   "metadata": {
    "tags": []
   },
   "outputs": [],
   "source": [
    "new_cf_svd_recommender = CollaborativeFilteringRecommender(new_users_train_df)"
   ]
  },
  {
   "cell_type": "code",
   "execution_count": 112,
   "metadata": {
    "tags": []
   },
   "outputs": [],
   "source": [
    "new_cf_recommender_evaluation = {\n",
    "    \"5\": new_cf_svd_recommender.evaluate(5, new_users_test_df),\n",
    "    \"10\": new_cf_svd_recommender.evaluate(10, new_users_test_df),\n",
    "    \"20\": new_cf_svd_recommender.evaluate(20, new_users_test_df)\n",
    "}"
   ]
  },
  {
   "cell_type": "code",
   "execution_count": 113,
   "metadata": {
    "tags": []
   },
   "outputs": [
    {
     "data": {
      "text/plain": [
       "{'5': {'hit_rate': 0.07152666514076447,\n",
       "  'mean_reciprocal_rank': 0.0398050659952696},\n",
       " '10': {'hit_rate': 0.11123826962691691,\n",
       "  'mean_reciprocal_rank': 0.04507419699397264},\n",
       " '20': {'hit_rate': 0.16788738841840237,\n",
       "  'mean_reciprocal_rank': 0.0489387338292327}}"
      ]
     },
     "execution_count": 113,
     "metadata": {},
     "output_type": "execute_result"
    }
   ],
   "source": [
    "new_cf_recommender_evaluation"
   ]
  },
  {
   "cell_type": "markdown",
   "metadata": {},
   "source": [
    "## Evaluate the Hybrid Recommender"
   ]
  },
  {
   "cell_type": "code",
   "execution_count": 203,
   "metadata": {
    "tags": []
   },
   "outputs": [],
   "source": [
    "hybrid_recommender = HybridRecommender(anime_df, train_df)"
   ]
  },
  {
   "cell_type": "code",
   "execution_count": 137,
   "metadata": {
    "tags": []
   },
   "outputs": [],
   "source": [
    "hybrid_recommender_evaluation = {\n",
    "    \"5\": hybrid_recommender.evaluate(5, test_df),\n",
    "    \"10\": hybrid_recommender.evaluate(10, test_df),\n",
    "    \"20\": hybrid_recommender.evaluate(20, test_df)\n",
    "}"
   ]
  },
  {
   "cell_type": "code",
   "execution_count": 138,
   "metadata": {
    "tags": []
   },
   "outputs": [
    {
     "data": {
      "text/plain": [
       "{'5': {'hit_rate': 0.486936175744183,\n",
       "  'mean_reciprocal_rank': 0.30884787035833405},\n",
       " '10': {'hit_rate': 0.6200441960223579,\n",
       "  'mean_reciprocal_rank': 0.3266098432093491},\n",
       " '20': {'hit_rate': 0.7283244507994281,\n",
       "  'mean_reciprocal_rank': 0.3343134218539516}}"
      ]
     },
     "execution_count": 138,
     "metadata": {},
     "output_type": "execute_result"
    }
   ],
   "source": [
    "hybrid_recommender_evaluation"
   ]
  },
  {
   "cell_type": "code",
   "execution_count": 204,
   "metadata": {
    "tags": []
   },
   "outputs": [],
   "source": [
    "new_hybrid_recommender = HybridRecommender(anime_df, new_users_train_df)"
   ]
  },
  {
   "cell_type": "code",
   "execution_count": 140,
   "metadata": {
    "tags": []
   },
   "outputs": [],
   "source": [
    "new_hybrid_recommender_evaluation = {\n",
    "    \"5\": new_hybrid_recommender.evaluate(5, new_users_test_df),\n",
    "    \"10\": new_hybrid_recommender.evaluate(10, new_users_test_df),\n",
    "    \"20\": new_hybrid_recommender.evaluate(20, new_users_test_df)\n",
    "}"
   ]
  },
  {
   "cell_type": "code",
   "execution_count": 141,
   "metadata": {
    "tags": []
   },
   "outputs": [
    {
     "data": {
      "text/plain": [
       "{'5': {'hit_rate': 0.11409933623254749,\n",
       "  'mean_reciprocal_rank': 0.06703860532539853},\n",
       " '10': {'hit_rate': 0.15884641794460974,\n",
       "  'mean_reciprocal_rank': 0.0729685064687353},\n",
       " '20': {'hit_rate': 0.21538109407187,\n",
       "  'mean_reciprocal_rank': 0.07683444954203528}}"
      ]
     },
     "execution_count": 141,
     "metadata": {},
     "output_type": "execute_result"
    }
   ],
   "source": [
    "new_hybrid_recommender_evaluation"
   ]
  },
  {
   "cell_type": "markdown",
   "metadata": {},
   "source": [
    "## Compare the Recommenders"
   ]
  },
  {
   "cell_type": "markdown",
   "metadata": {},
   "source": [
    "### Normal Users"
   ]
  },
  {
   "cell_type": "markdown",
   "metadata": {},
   "source": [
    "#### Hit Rate"
   ]
  },
  {
   "cell_type": "code",
   "execution_count": 149,
   "metadata": {
    "tags": []
   },
   "outputs": [
    {
     "data": {
      "image/png": "[encoded data removed]",
      "text/plain": [
       "<Figure size 640x480 with 1 Axes>"
      ]
     },
     "metadata": {},
     "output_type": "display_data"
    },
    {
     "data": {
      "text/plain": [
       "<Figure size 7680x5760 with 0 Axes>"
      ]
     },
     "metadata": {},
     "output_type": "display_data"
    }
   ],
   "source": [
    "import matplotlib.pyplot as plt\n",
    "\n",
    "recommender_labels = ['Content-Based Filtering', 'Collaborative Filtering', 'Hybrid']\n",
    "hit_rates_dict = {\n",
    "    \"5\": [std_cbf_recommender_evaluation[\"5\"][\"hit_rate\"], cf_recommender_evaluation[\"5\"][\"hit_rate\"], hybrid_recommender_evaluation[\"5\"][\"hit_rate\"]],\n",
    "    \"10\": [std_cbf_recommender_evaluation[\"10\"][\"hit_rate\"], cf_recommender_evaluation[\"10\"][\"hit_rate\"], hybrid_recommender_evaluation[\"10\"][\"hit_rate\"]],\n",
    "    \"20\": [std_cbf_recommender_evaluation[\"20\"][\"hit_rate\"], cf_recommender_evaluation[\"20\"][\"hit_rate\"], hybrid_recommender_evaluation[\"20\"][\"hit_rate\"]],\n",
    "}\n",
    "\n",
    "x = np.arange(len(recommender_labels)) \n",
    "fig, ax = plt.subplots(layout='constrained')\n",
    "bar_width = 0.25\n",
    "\n",
    "bar_mult = 0\n",
    "for num_recommendations, hit_rates in hit_rates_dict.items():\n",
    "    offset = bar_width * bar_mult\n",
    "    ax.bar(x + offset, hit_rates, bar_width, label=f\"{num_recommendations} Recommendations\")\n",
    "    bar_mult += 1\n",
    "    \n",
    "ax.set_ylabel('Hit Rate')\n",
    "ax.set_xlabel('Recommender System')\n",
    "ax.set_xticks(x + bar_width, recommender_labels)\n",
    "ax.set_title('Comparing the Hit Rate for Different Recommenders (Normal Users)')\n",
    "ax.legend(ncols=1)\n",
    "\n",
    "plt.savefig('data/hit_rate_normal_users.png', dpi=1200)\n",
    "plt.figure(dpi=1200)\n",
    "plt.show()"
   ]
  },
  {
   "cell_type": "markdown",
   "metadata": {},
   "source": [
    "#### Mean Reciprocal Rank"
   ]
  },
  {
   "cell_type": "code",
   "execution_count": 150,
   "metadata": {},
   "outputs": [
    {
     "data": {
      "image/png": "[encoded data removed]",
      "text/plain": [
       "<Figure size 640x480 with 1 Axes>"
      ]
     },
     "metadata": {},
     "output_type": "display_data"
    },
    {
     "data": {
      "text/plain": [
       "<Figure size 7680x5760 with 0 Axes>"
      ]
     },
     "metadata": {},
     "output_type": "display_data"
    }
   ],
   "source": [
    "import matplotlib.pyplot as plt\n",
    "\n",
    "recommender_labels = ['Content-Based Filtering', 'Collaborative Filtering', 'Hybrid']\n",
    "mean_reciprocal_ranks_dict = {\n",
    "    \"5\": [std_cbf_recommender_evaluation[\"5\"][\"mean_reciprocal_rank\"], cf_recommender_evaluation[\"5\"][\"mean_reciprocal_rank\"], hybrid_recommender_evaluation[\"5\"][\"mean_reciprocal_rank\"]],\n",
    "    \"10\": [std_cbf_recommender_evaluation[\"10\"][\"mean_reciprocal_rank\"], cf_recommender_evaluation[\"10\"][\"mean_reciprocal_rank\"], hybrid_recommender_evaluation[\"10\"][\"mean_reciprocal_rank\"]],\n",
    "    \"20\": [std_cbf_recommender_evaluation[\"20\"][\"mean_reciprocal_rank\"], cf_recommender_evaluation[\"20\"][\"mean_reciprocal_rank\"], hybrid_recommender_evaluation[\"20\"][\"mean_reciprocal_rank\"]],\n",
    "}\n",
    "\n",
    "x = np.arange(len(recommender_labels)) \n",
    "fig, ax = plt.subplots(layout='constrained')\n",
    "bar_width = 0.25\n",
    "\n",
    "bar_mult = 0\n",
    "for num_recommendations, mean_reciprocal_ranks in mean_reciprocal_ranks_dict.items():\n",
    "    offset = bar_width * bar_mult\n",
    "    ax.bar(x + offset, mean_reciprocal_ranks, bar_width, label=f\"{num_recommendations} Recommendations\")\n",
    "    bar_mult += 1\n",
    "    \n",
    "ax.set_ylabel('Mean Reciprocal Rank')\n",
    "ax.set_xlabel('Recommender System')\n",
    "ax.set_xticks(x + bar_width, recommender_labels)\n",
    "ax.set_title('Comparing the Mean Reciprocal Rank for Different Recommenders (Normal Users)')\n",
    "ax.legend(ncols=1)\n",
    "\n",
    "plt.savefig('data/mean_reciprocal_rank_normal_users.png', dpi=1200)\n",
    "plt.figure(dpi=1200)\n",
    "plt.show()"
   ]
  },
  {
   "cell_type": "markdown",
   "metadata": {},
   "source": [
    "### New Users"
   ]
  },
  {
   "cell_type": "markdown",
   "metadata": {},
   "source": [
    "#### Hit Rate"
   ]
  },
  {
   "cell_type": "code",
   "execution_count": 151,
   "metadata": {
    "tags": []
   },
   "outputs": [
    {
     "data": {
      "image/png": "[encoded data removed]",
      "text/plain": [
       "<Figure size 640x480 with 1 Axes>"
      ]
     },
     "metadata": {},
     "output_type": "display_data"
    },
    {
     "data": {
      "text/plain": [
       "<Figure size 7680x5760 with 0 Axes>"
      ]
     },
     "metadata": {},
     "output_type": "display_data"
    }
   ],
   "source": [
    "import matplotlib.pyplot as plt\n",
    "\n",
    "recommender_labels = ['Content-Based Filtering', 'Collaborative Filtering', 'Hybrid']\n",
    "hit_rates_dict = {\n",
    "    \"5\": [new_cbf_recommender_evaluation[\"5\"][\"hit_rate\"], new_cf_recommender_evaluation[\"5\"][\"hit_rate\"], new_hybrid_recommender_evaluation[\"5\"][\"hit_rate\"]],\n",
    "    \"10\": [new_cbf_recommender_evaluation[\"10\"][\"hit_rate\"], new_cf_recommender_evaluation[\"10\"][\"hit_rate\"], new_hybrid_recommender_evaluation[\"10\"][\"hit_rate\"]],\n",
    "    \"20\": [new_cbf_recommender_evaluation[\"20\"][\"hit_rate\"], new_cf_recommender_evaluation[\"20\"][\"hit_rate\"], new_hybrid_recommender_evaluation[\"20\"][\"hit_rate\"]],\n",
    "}\n",
    "\n",
    "x = np.arange(len(recommender_labels)) \n",
    "fig, ax = plt.subplots(layout='constrained')\n",
    "bar_width = 0.25\n",
    "\n",
    "bar_mult = 0\n",
    "for num_recommendations, hit_rates in hit_rates_dict.items():\n",
    "    offset = bar_width * bar_mult\n",
    "    ax.bar(x + offset, hit_rates, bar_width, label=f\"{num_recommendations} Recommendations\")\n",
    "    bar_mult += 1\n",
    "    \n",
    "ax.set_ylabel('Hit Rate')\n",
    "ax.set_xlabel('Recommender System')\n",
    "ax.set_xticks(x + bar_width, recommender_labels)\n",
    "ax.set_title('Comparing the Hit Rate for Different Recommenders (New Users)')\n",
    "ax.legend(ncols=1)\n",
    "\n",
    "plt.savefig('data/hit_rate_new_users.png', dpi=1200)\n",
    "plt.figure(dpi=1200)\n",
    "plt.show()"
   ]
  },
  {
   "cell_type": "markdown",
   "metadata": {},
   "source": [
    "#### Mean Reciprocal Rank"
   ]
  },
  {
   "cell_type": "code",
   "execution_count": 152,
   "metadata": {},
   "outputs": [
    {
     "data": {
      "image/png": "[encoded data removed]",
      "text/plain": [
       "<Figure size 640x480 with 1 Axes>"
      ]
     },
     "metadata": {},
     "output_type": "display_data"
    },
    {
     "data": {
      "text/plain": [
       "<Figure size 7680x5760 with 0 Axes>"
      ]
     },
     "metadata": {},
     "output_type": "display_data"
    }
   ],
   "source": [
    "import matplotlib.pyplot as plt\n",
    "\n",
    "recommender_labels = ['Content-Based Filtering', 'Collaborative Filtering', 'Hybrid']\n",
    "mean_reciprocal_ranks_dict = {\n",
    "    \"5\": [new_cbf_recommender_evaluation[\"5\"][\"mean_reciprocal_rank\"], new_cf_recommender_evaluation[\"5\"][\"mean_reciprocal_rank\"], new_hybrid_recommender_evaluation[\"5\"][\"mean_reciprocal_rank\"]],\n",
    "    \"10\": [new_cbf_recommender_evaluation[\"10\"][\"mean_reciprocal_rank\"], new_cf_recommender_evaluation[\"10\"][\"mean_reciprocal_rank\"], new_hybrid_recommender_evaluation[\"10\"][\"mean_reciprocal_rank\"]],\n",
    "    \"20\": [new_cbf_recommender_evaluation[\"20\"][\"mean_reciprocal_rank\"], new_cf_recommender_evaluation[\"20\"][\"mean_reciprocal_rank\"], new_hybrid_recommender_evaluation[\"20\"][\"mean_reciprocal_rank\"]],\n",
    "}\n",
    "\n",
    "x = np.arange(len(recommender_labels)) \n",
    "fig, ax = plt.subplots(layout='constrained')\n",
    "bar_width = 0.25\n",
    "\n",
    "bar_mult = 0\n",
    "for num_recommendations, mean_reciprocal_ranks in mean_reciprocal_ranks_dict.items():\n",
    "    offset = bar_width * bar_mult\n",
    "    ax.bar(x + offset, mean_reciprocal_ranks, bar_width, label=f\"{num_recommendations} Recommendations\")\n",
    "    bar_mult += 1\n",
    "    \n",
    "ax.set_ylabel('Mean Reciprocal Rank')\n",
    "ax.set_xlabel('Recommender System')\n",
    "ax.set_xticks(x + bar_width, recommender_labels)\n",
    "ax.set_title('Comparing the Mean Reciprocal Rank for Different Recommenders (New Users)')\n",
    "ax.legend(ncols=1)\n",
    "\n",
    "plt.savefig('data/mean_reciprocal_rank_new_users.png', dpi=1200)\n",
    "plt.figure(dpi=1200)\n",
    "plt.show()"
   ]
  },
  {
   "cell_type": "markdown",
   "metadata": {},
   "source": [
    "# Save the Recommenders\n",
    "Finally, save the recommenders so they can be used with Streamlit."
   ]
  },
  {
   "cell_type": "code",
   "execution_count": 205,
   "metadata": {
    "tags": []
   },
   "outputs": [],
   "source": [
    "import pickle\n",
    "\n",
    "def write_object(object_inst, file_name):\n",
    "    with open(file_name, \"wb\") as fp:\n",
    "        pickle.dump(object_inst, fp)"
   ]
  },
  {
   "cell_type": "code",
   "execution_count": 206,
   "metadata": {
    "tags": []
   },
   "outputs": [],
   "source": [
    "# Hybrid\n",
    "write_object(hybrid_recommender, \"data/hybrid_recommender\")\n",
    "write_object(new_hybrid_recommender, \"data/new_hybrid_recommender\")\n",
    "\n",
    "# Collaborative\n",
    "write_object(cf_svd_recommender, \"data/collaborative_recommender\")\n",
    "write_object(new_cf_svd_recommender, \"data/new_collaborative_recommender\")\n",
    "\n",
    "# Content-Based\n",
    "write_object(std_anime_cbf_recommender, \"data/cbf_recommender\")\n",
    "write_object(new_anime_cbf_recommender, \"data/new_cbf_recommender\")"
   ]
  },
  {
   "cell_type": "markdown",
   "metadata": {
    "tags": []
   },
   "source": [
    "## Test Opening One of The Recommender Files"
   ]
  },
  {
   "cell_type": "code",
   "execution_count": 207,
   "metadata": {
    "tags": []
   },
   "outputs": [],
   "source": [
    "hybrid_recommender_file = open('data/hybrid_recommender', 'rb')\n",
    "hybrid_recommender = pickle.load(hybrid_recommender_file)"
   ]
  },
  {
   "cell_type": "code",
   "execution_count": 208,
   "metadata": {
    "tags": []
   },
   "outputs": [
    {
     "name": "stdout",
     "output_type": "stream",
     "text": [
      "Found remlover9000's anime list. They watched 343 anime...\n",
      "Found remlover9000's anime list. They watched 343 anime...\n",
      "Refitting model...\n",
      "Finished refitting model...\n"
     ]
    },
    {
     "data": {
      "text/html": [
       "<div>\n",
       "<style scoped>\n",
       "    .dataframe tbody tr th:only-of-type {\n",
       "        vertical-align: middle;\n",
       "    }\n",
       "\n",
       "    .dataframe tbody tr th {\n",
       "        vertical-align: top;\n",
       "    }\n",
       "\n",
       "    .dataframe thead th {\n",
       "        text-align: right;\n",
       "    }\n",
       "</style>\n",
       "<table border=\"1\" class=\"dataframe\">\n",
       "  <thead>\n",
       "    <tr style=\"text-align: right;\">\n",
       "      <th></th>\n",
       "      <th>cbf_score</th>\n",
       "      <th>id</th>\n",
       "      <th>cf_score</th>\n",
       "      <th>combined_score</th>\n",
       "    </tr>\n",
       "  </thead>\n",
       "  <tbody>\n",
       "    <tr>\n",
       "      <th>238</th>\n",
       "      <td>0.427977</td>\n",
       "      <td>4181</td>\n",
       "      <td>0.036156</td>\n",
       "      <td>0.464133</td>\n",
       "    </tr>\n",
       "    <tr>\n",
       "      <th>103</th>\n",
       "      <td>0.368075</td>\n",
       "      <td>431</td>\n",
       "      <td>0.125846</td>\n",
       "      <td>0.493922</td>\n",
       "    </tr>\n",
       "    <tr>\n",
       "      <th>3</th>\n",
       "      <td>0.254039</td>\n",
       "      <td>2685</td>\n",
       "      <td>0.250746</td>\n",
       "      <td>0.504785</td>\n",
       "    </tr>\n",
       "    <tr>\n",
       "      <th>113</th>\n",
       "      <td>0.375297</td>\n",
       "      <td>1033</td>\n",
       "      <td>0.130068</td>\n",
       "      <td>0.505365</td>\n",
       "    </tr>\n",
       "    <tr>\n",
       "      <th>0</th>\n",
       "      <td>0.236744</td>\n",
       "      <td>38753</td>\n",
       "      <td>0.271121</td>\n",
       "      <td>0.507864</td>\n",
       "    </tr>\n",
       "  </tbody>\n",
       "</table>\n",
       "</div>"
      ],
      "text/plain": [
       "     cbf_score     id  cf_score  combined_score\n",
       "238   0.427977   4181  0.036156        0.464133\n",
       "103   0.368075    431  0.125846        0.493922\n",
       "3     0.254039   2685  0.250746        0.504785\n",
       "113   0.375297   1033  0.130068        0.505365\n",
       "0     0.236744  38753  0.271121        0.507864"
      ]
     },
     "execution_count": 208,
     "metadata": {},
     "output_type": "execute_result"
    }
   ],
   "source": [
    "# Test Using My MAL Username\n",
    "new_user_id = hybrid_recommender.add_new_user_by_mal_username('remlover9000')\n",
    "hybrid_recommender.recommend_user(new_user_id, 5)"
   ]
  },
  {
   "cell_type": "markdown",
   "metadata": {},
   "source": [
    "# Save the Hit Rates"
   ]
  },
  {
   "cell_type": "code",
   "execution_count": 209,
   "metadata": {
    "tags": []
   },
   "outputs": [],
   "source": [
    "# Hybrid\n",
    "write_object(hybrid_recommender_evaluation, \"data/hybrid_evaluation\")\n",
    "write_object(new_hybrid_recommender_evaluation, \"data/new_hybrid_evaluation\")\n",
    "# Collaborative\n",
    "write_object(cf_recommender_evaluation, \"data/cf_evaluation\")\n",
    "write_object(new_cf_recommender_evaluation, \"data/new_cf_evaluation\")\n",
    "\n",
    "# Content-Based\n",
    "write_object(std_cbf_recommender_evaluation, \"data/cbf_evaluation\")\n",
    "write_object(new_cbf_recommender_evaluation, \"data/new_cbf_evaluation\")"
   ]
  },
  {
   "cell_type": "markdown",
   "metadata": {},
   "source": [
    "## Test Opening One of the Evaluation Files"
   ]
  },
  {
   "cell_type": "code",
   "execution_count": 210,
   "metadata": {
    "tags": []
   },
   "outputs": [],
   "source": [
    "hybrid_evaluation_file = open('data/hybrid_evaluation', 'rb')\n",
    "hybrid_evaluation = pickle.load(hybrid_evaluation_file)"
   ]
  },
  {
   "cell_type": "code",
   "execution_count": 211,
   "metadata": {
    "tags": []
   },
   "outputs": [
    {
     "data": {
      "text/plain": [
       "{'5': {'hit_rate': 0.486936175744183,\n",
       "  'mean_reciprocal_rank': 0.30884787035833405},\n",
       " '10': {'hit_rate': 0.6200441960223579,\n",
       "  'mean_reciprocal_rank': 0.3266098432093491},\n",
       " '20': {'hit_rate': 0.7283244507994281,\n",
       "  'mean_reciprocal_rank': 0.3343134218539516}}"
      ]
     },
     "execution_count": 211,
     "metadata": {},
     "output_type": "execute_result"
    }
   ],
   "source": [
    "hybrid_evaluation"
   ]
  }
 ],
 "metadata": {
  "colab": {
   "provenance": [],
   "toc_visible": true
  },
  "kernelspec": {
   "display_name": "Python 3 (ipykernel)",
   "language": "python",
   "name": "python3"
  },
  "language_info": {
   "codemirror_mode": {
    "name": "ipython",
    "version": 3
   },
   "file_extension": ".py",
   "mimetype": "text/x-python",
   "name": "python",
   "nbconvert_exporter": "python",
   "pygments_lexer": "ipython3",
   "version": "3.11.3"
  },
  "toc-autonumbering": true
 },
 "nbformat": 4,
 "nbformat_minor": 4
}
