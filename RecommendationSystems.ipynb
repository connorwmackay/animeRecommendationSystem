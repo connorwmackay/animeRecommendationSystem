{
 "cells": [
  {
   "cell_type": "markdown",
   "metadata": {},
   "source": [
    "# Import the Datasets"
   ]
  },
  {
   "cell_type": "code",
   "execution_count": 1,
   "metadata": {
    "id": "s4DYiR2Ps-yT",
    "tags": []
   },
   "outputs": [],
   "source": [
    "import pandas as pd\n",
    "import numpy as np\n",
    "import matplotlib.pyplot as plt\n",
    "from sklearn.metrics.pairwise import cosine_distances, euclidean_distances, manhattan_distances\n",
    "from sklearn.feature_extraction.text import TfidfVectorizer"
   ]
  },
  {
   "cell_type": "code",
   "execution_count": 2,
   "metadata": {
    "id": "YLTnYtRSs8ap"
   },
   "outputs": [],
   "source": [
    "# Data Gathered By Me Via the MyAnimeList API and Jikan REST API\n",
    "anime_df = pd.read_csv('./data/anime.csv')\n",
    "user_ratings_df = pd.read_csv('./data/user_ratings.csv', parse_dates=['updated_at'])"
   ]
  },
  {
   "cell_type": "code",
   "execution_count": 3,
   "metadata": {
    "colab": {
     "base_uri": "https://localhost:8080/",
     "height": 573
    },
    "id": "8vUSJ5xEXOv7",
    "outputId": "faee2ac4-2fea-4c8e-fe05-b2c775044e89"
   },
   "outputs": [
    {
     "data": {
      "text/html": [
       "<div>\n",
       "<style scoped>\n",
       "    .dataframe tbody tr th:only-of-type {\n",
       "        vertical-align: middle;\n",
       "    }\n",
       "\n",
       "    .dataframe tbody tr th {\n",
       "        vertical-align: top;\n",
       "    }\n",
       "\n",
       "    .dataframe thead th {\n",
       "        text-align: right;\n",
       "    }\n",
       "</style>\n",
       "<table border=\"1\" class=\"dataframe\">\n",
       "  <thead>\n",
       "    <tr style=\"text-align: right;\">\n",
       "      <th></th>\n",
       "      <th>id</th>\n",
       "      <th>title</th>\n",
       "      <th>start_date</th>\n",
       "      <th>end_date</th>\n",
       "      <th>synopsis</th>\n",
       "      <th>score</th>\n",
       "      <th>rank</th>\n",
       "      <th>popularity</th>\n",
       "      <th>num_list_users</th>\n",
       "      <th>num_scoring_users</th>\n",
       "      <th>media_type</th>\n",
       "      <th>status</th>\n",
       "      <th>genres</th>\n",
       "      <th>num_episodes</th>\n",
       "      <th>start_season</th>\n",
       "      <th>broadcast_day</th>\n",
       "      <th>broadcast_time</th>\n",
       "      <th>source</th>\n",
       "      <th>rating</th>\n",
       "      <th>studios</th>\n",
       "    </tr>\n",
       "  </thead>\n",
       "  <tbody>\n",
       "    <tr>\n",
       "      <th>0</th>\n",
       "      <td>5114</td>\n",
       "      <td>Fullmetal Alchemist: Brotherhood</td>\n",
       "      <td>2009-04-05</td>\n",
       "      <td>2010-07-04</td>\n",
       "      <td>After a horrific alchemy experiment goes wrong...</td>\n",
       "      <td>9.10</td>\n",
       "      <td>1.0</td>\n",
       "      <td>3</td>\n",
       "      <td>3240265</td>\n",
       "      <td>2056814</td>\n",
       "      <td>tv</td>\n",
       "      <td>finished_airing</td>\n",
       "      <td>Action,Adventure,Drama,Fantasy,Military,Shounen</td>\n",
       "      <td>64</td>\n",
       "      <td>spring</td>\n",
       "      <td>sunday</td>\n",
       "      <td>17:00</td>\n",
       "      <td>manga</td>\n",
       "      <td>r</td>\n",
       "      <td>Bones</td>\n",
       "    </tr>\n",
       "    <tr>\n",
       "      <th>1</th>\n",
       "      <td>9253</td>\n",
       "      <td>Steins;Gate</td>\n",
       "      <td>2011-04-06</td>\n",
       "      <td>2011-09-14</td>\n",
       "      <td>Eccentric scientist Rintarou Okabe has a never...</td>\n",
       "      <td>9.07</td>\n",
       "      <td>2.0</td>\n",
       "      <td>13</td>\n",
       "      <td>2489957</td>\n",
       "      <td>1361494</td>\n",
       "      <td>tv</td>\n",
       "      <td>finished_airing</td>\n",
       "      <td>Drama,Psychological,Sci-Fi,Suspense,Time Travel</td>\n",
       "      <td>24</td>\n",
       "      <td>spring</td>\n",
       "      <td>wednesday</td>\n",
       "      <td>02:05</td>\n",
       "      <td>visual_novel</td>\n",
       "      <td>pg_13</td>\n",
       "      <td>White Fox</td>\n",
       "    </tr>\n",
       "    <tr>\n",
       "      <th>2</th>\n",
       "      <td>28977</td>\n",
       "      <td>Gintama°</td>\n",
       "      <td>2015-04-08</td>\n",
       "      <td>2016-03-30</td>\n",
       "      <td>Gintoki, Shinpachi, and Kagura return as the f...</td>\n",
       "      <td>9.06</td>\n",
       "      <td>3.0</td>\n",
       "      <td>336</td>\n",
       "      <td>610158</td>\n",
       "      <td>243298</td>\n",
       "      <td>tv</td>\n",
       "      <td>finished_airing</td>\n",
       "      <td>Action,Comedy,Gag Humor,Historical,Parody,Samu...</td>\n",
       "      <td>51</td>\n",
       "      <td>spring</td>\n",
       "      <td>wednesday</td>\n",
       "      <td>18:00</td>\n",
       "      <td>manga</td>\n",
       "      <td>pg_13</td>\n",
       "      <td>Bandai Namco Pictures</td>\n",
       "    </tr>\n",
       "    <tr>\n",
       "      <th>3</th>\n",
       "      <td>41467</td>\n",
       "      <td>Bleach: Sennen Kessen-hen</td>\n",
       "      <td>2022-10-11</td>\n",
       "      <td>2022-12-27</td>\n",
       "      <td>Substitute Soul Reaper Ichigo Kurosaki spends ...</td>\n",
       "      <td>9.05</td>\n",
       "      <td>4.0</td>\n",
       "      <td>432</td>\n",
       "      <td>489199</td>\n",
       "      <td>245969</td>\n",
       "      <td>tv</td>\n",
       "      <td>finished_airing</td>\n",
       "      <td>Action,Adventure,Fantasy,Shounen</td>\n",
       "      <td>13</td>\n",
       "      <td>fall</td>\n",
       "      <td>tuesday</td>\n",
       "      <td>00:00</td>\n",
       "      <td>manga</td>\n",
       "      <td>r</td>\n",
       "      <td>Pierrot</td>\n",
       "    </tr>\n",
       "    <tr>\n",
       "      <th>4</th>\n",
       "      <td>39486</td>\n",
       "      <td>Gintama: The Final</td>\n",
       "      <td>2021-01-08</td>\n",
       "      <td>2021-01-08</td>\n",
       "      <td>Two years have passed following the Tendoshuu'...</td>\n",
       "      <td>9.05</td>\n",
       "      <td>5.0</td>\n",
       "      <td>1550</td>\n",
       "      <td>140032</td>\n",
       "      <td>67119</td>\n",
       "      <td>movie</td>\n",
       "      <td>finished_airing</td>\n",
       "      <td>Action,Comedy,Drama,Gag Humor,Historical,Parod...</td>\n",
       "      <td>1</td>\n",
       "      <td>winter</td>\n",
       "      <td>NaN</td>\n",
       "      <td>NaN</td>\n",
       "      <td>manga</td>\n",
       "      <td>pg_13</td>\n",
       "      <td>Bandai Namco Pictures</td>\n",
       "    </tr>\n",
       "  </tbody>\n",
       "</table>\n",
       "</div>"
      ],
      "text/plain": [
       "      id                             title  start_date    end_date  \\\n",
       "0   5114  Fullmetal Alchemist: Brotherhood  2009-04-05  2010-07-04   \n",
       "1   9253                       Steins;Gate  2011-04-06  2011-09-14   \n",
       "2  28977                          Gintama°  2015-04-08  2016-03-30   \n",
       "3  41467         Bleach: Sennen Kessen-hen  2022-10-11  2022-12-27   \n",
       "4  39486                Gintama: The Final  2021-01-08  2021-01-08   \n",
       "\n",
       "                                            synopsis  score  rank  popularity  \\\n",
       "0  After a horrific alchemy experiment goes wrong...   9.10   1.0           3   \n",
       "1  Eccentric scientist Rintarou Okabe has a never...   9.07   2.0          13   \n",
       "2  Gintoki, Shinpachi, and Kagura return as the f...   9.06   3.0         336   \n",
       "3  Substitute Soul Reaper Ichigo Kurosaki spends ...   9.05   4.0         432   \n",
       "4  Two years have passed following the Tendoshuu'...   9.05   5.0        1550   \n",
       "\n",
       "   num_list_users  num_scoring_users media_type           status  \\\n",
       "0         3240265            2056814         tv  finished_airing   \n",
       "1         2489957            1361494         tv  finished_airing   \n",
       "2          610158             243298         tv  finished_airing   \n",
       "3          489199             245969         tv  finished_airing   \n",
       "4          140032              67119      movie  finished_airing   \n",
       "\n",
       "                                              genres  num_episodes  \\\n",
       "0    Action,Adventure,Drama,Fantasy,Military,Shounen            64   \n",
       "1    Drama,Psychological,Sci-Fi,Suspense,Time Travel            24   \n",
       "2  Action,Comedy,Gag Humor,Historical,Parody,Samu...            51   \n",
       "3                   Action,Adventure,Fantasy,Shounen            13   \n",
       "4  Action,Comedy,Drama,Gag Humor,Historical,Parod...             1   \n",
       "\n",
       "  start_season broadcast_day broadcast_time        source rating  \\\n",
       "0       spring        sunday          17:00         manga      r   \n",
       "1       spring     wednesday          02:05  visual_novel  pg_13   \n",
       "2       spring     wednesday          18:00         manga  pg_13   \n",
       "3         fall       tuesday          00:00         manga      r   \n",
       "4       winter           NaN            NaN         manga  pg_13   \n",
       "\n",
       "                 studios  \n",
       "0                  Bones  \n",
       "1              White Fox  \n",
       "2  Bandai Namco Pictures  \n",
       "3                Pierrot  \n",
       "4  Bandai Namco Pictures  "
      ]
     },
     "execution_count": 3,
     "metadata": {},
     "output_type": "execute_result"
    }
   ],
   "source": [
    "anime_df.head()"
   ]
  },
  {
   "cell_type": "code",
   "execution_count": 4,
   "metadata": {
    "id": "r66REtk-XQxk"
   },
   "outputs": [],
   "source": [
    "user_ratings_df.drop(columns=['start_date', 'finish_date'], inplace=True)"
   ]
  },
  {
   "cell_type": "markdown",
   "metadata": {
    "id": "--aWAtF3aJ5b"
   },
   "source": [
    "# Handle Per-Processing on the Standard Dataset"
   ]
  },
  {
   "cell_type": "code",
   "execution_count": 5,
   "metadata": {
    "colab": {
     "base_uri": "https://localhost:8080/"
    },
    "id": "2kK21xATaMcr",
    "outputId": "b0f03447-9325-45fb-a5b6-f04d33e1d2ab"
   },
   "outputs": [
    {
     "data": {
      "text/plain": [
       "user_id                 0\n",
       "anime_id                0\n",
       "score                   0\n",
       "status                  1\n",
       "num_episodes_watched    0\n",
       "updated_at              0\n",
       "dtype: int64"
      ]
     },
     "execution_count": 5,
     "metadata": {},
     "output_type": "execute_result"
    }
   ],
   "source": [
    "user_ratings_df.isna().sum()"
   ]
  },
  {
   "cell_type": "markdown",
   "metadata": {
    "id": "9nsp1GHyeyWy"
   },
   "source": [
    "Although the above functions shows that there are no missing score values, a score of 0 indicates that the score was missing since it's not possible on MyAnimeList to rate an anime 0 unless you choose not to rate the anime."
   ]
  },
  {
   "cell_type": "markdown",
   "metadata": {
    "id": "yVTC2_98fRe9"
   },
   "source": [
    "## Remove Users who have only given scores of 0"
   ]
  },
  {
   "cell_type": "code",
   "execution_count": 6,
   "metadata": {
    "colab": {
     "base_uri": "https://localhost:8080/"
    },
    "id": "BTdwatplfY95",
    "outputId": "72d23e36-2cf1-4e4d-9df1-b1f40bc958f4"
   },
   "outputs": [
    {
     "name": "stdout",
     "output_type": "stream",
     "text": [
      "[20, 35, 40, 57, 88, 116, 122, 124, 127, 131, 137, 139, 148, 185, 198, 202, 210, 217, 225, 226, 229, 232, 234, 235, 253, 271, 308, 309, 315, 321, 322, 364, 376, 384, 385, 387, 393, 419, 426, 443, 462, 476, 479, 487, 504, 506, 516, 532, 559, 562, 564, 569, 570, 590, 599, 612, 615, 617, 626, 644, 660, 664, 691, 723, 732, 733, 741, 745, 751, 761, 763, 766, 770, 771, 776, 785, 788, 794, 804, 815, 816, 844, 853, 860, 868, 879, 883, 886, 890, 897, 898, 906, 926, 961, 992, 999, 1023, 1029, 1033, 1054, 1059, 1065, 1077, 1090, 1099, 1105, 1108, 1114, 1127, 1129, 1143, 1145, 1147, 1156, 1157, 1170, 1180, 1223, 1227, 1228, 1230, 1237, 1258, 1268, 1271, 1272, 1273, 1310, 1314, 1351, 1358, 1370, 1386, 1387, 1388, 1392, 1406, 1409, 1420, 1427, 1446, 1455, 1458, 1469, 1477, 1490, 1491, 1511, 1522, 1529, 1541, 1542, 1549, 1557, 1570, 1576, 1587, 1594, 1596, 1604, 1607, 1616, 1641, 1650, 1652, 1653, 1655, 1662, 1667, 1691, 1693, 1715, 1720, 1732, 1746, 1752, 1755, 1764, 1766, 1795, 1806, 1808, 1840, 1861, 1867, 1883, 1889, 1894, 1895, 1896, 1906, 1917, 1940, 1943, 1951, 1957, 1964, 1969, 1976, 1982, 1983, 1992, 1996, 2009, 2040, 2043, 2060, 2077, 2096, 2103, 2115, 2120, 2143, 2151, 2154, 2162, 2165, 2175, 2177, 2195, 2200, 2219, 2227, 2234, 2239, 2260, 2287, 2298, 2311, 2326, 2347, 2348, 2352, 2386, 2408, 2415, 2435, 2439, 2461, 2463, 2471, 2493, 2507, 2516, 2522, 2527, 2538, 2550, 2566, 2577, 2582, 2587, 2593, 2607, 2610, 2614, 2627, 2634, 2668, 2681, 2695, 2708, 2721, 2724, 2751, 2763, 2767, 2768, 2792, 2817, 2823, 2825, 2831, 2837, 2864, 2870, 2877, 2890, 2891, 2894, 2916, 2919, 2929, 2948, 2950, 2974, 2983, 2992, 3006, 3022, 3045, 3052, 3053, 3059, 3073, 3098, 3100, 3103, 3132, 3136, 3147, 3151, 3155, 3161, 3170, 3172, 3184, 3185, 3190, 3199, 3204, 3214, 3242, 3261, 3285, 3304, 3309, 3320, 3341, 3342, 3348, 3352, 3355, 3388, 3390, 3394, 3412, 3420, 3427, 3431, 3432, 3438, 3444, 3453, 3459, 3464, 3485, 3488, 3491, 3511, 3512, 3513, 3550, 3558, 3562, 3563, 3570, 3597, 3606, 3609, 3613, 3648, 3651, 3670, 3701, 3711, 3726, 3768, 3769, 3785, 3786, 3787, 3791, 3799, 3800, 3806, 3808, 3811, 3819, 3834, 3836, 3880, 3898, 3934, 3938, 3942, 3962, 3972, 3985, 4021, 4028, 4033, 4060, 4062, 4063, 4072, 4082, 4097, 4098, 4104, 4118, 4143, 4145, 4152, 4173, 4174, 4178, 4180, 4196, 4208, 4212, 4214, 4219, 4224, 4229, 4241, 4245, 4278, 4301, 4303, 4316, 4341, 4372, 4395, 4416, 4422, 4443, 4475, 4479, 4494, 4495, 4496, 4509, 4553, 4555, 4556, 4559, 4561, 4576, 4585, 4586, 4590, 4591, 4625, 4626, 4636, 4638, 4652, 4653, 4654, 4663, 4665, 4668, 4686, 4688, 4693, 4706, 4713, 4744, 4749, 4757, 4780, 4801, 4814, 4823, 4827, 4845, 4851, 4858, 4860, 4863, 4869, 4882, 4886, 4888, 4899, 4901, 4907, 4912, 4963, 4968, 4986, 4991, 5009, 5035, 5041, 5045, 5052, 5065, 5069, 5071, 5080, 5087, 5096, 5122, 5132, 5138, 5142, 5151, 5179, 5200, 5207, 5224, 5225, 5236, 5247, 5258, 5267, 5272, 5273, 5296, 5298, 5313, 5314, 5329, 5342, 5365, 5369, 5384, 5396, 5418, 5447, 5494, 5500, 5518, 5527, 5540, 5548, 5573, 5580, 5582, 5583, 5593, 5611, 5621, 5626, 5644, 5648, 5651, 5659, 5676, 5687, 5689, 5700, 5711, 5725, 5765, 5778, 5782, 5801, 5804, 5813, 5824, 5825, 5826, 5831, 5839, 5847, 5852, 5854, 5864, 5866, 5876, 5908, 5922, 5931, 5933, 5975, 5981, 6023, 6031, 6072, 6102, 6116, 6129, 6136, 6137, 6160, 6162, 6163, 6166, 6194, 6230, 6232, 6260, 6277, 6305, 6319, 6329, 6336, 6341, 6346, 6371, 6383, 6385, 6390, 6416, 6429, 6432, 6449, 6473, 6475, 6486, 6494, 6495, 6496, 6505, 6507, 6508, 6516, 6518, 6538, 6548, 6551, 6565, 6575, 6577, 6600, 6613, 6641, 6670, 6678, 6681, 6682, 6691, 6743, 6758, 6783, 6792, 6806, 6823, 6824, 6835, 6880, 6884, 6890, 6895, 6896, 6897, 6915, 6931, 6932, 6953, 6968, 6971, 6982, 6989, 6991, 7003, 7004, 7012, 7015, 7017, 7022, 7032, 7033, 7077, 7078, 7089, 7095, 7096, 7100, 7103, 7104, 7124, 7135, 7155, 7159, 7201, 7224, 7226, 7247, 7267, 7276, 7279, 7280, 7298, 7299, 7304, 7305, 7318, 7329, 7338, 7342, 7345, 7367, 7372, 7376, 7378, 7380, 7392, 7414, 7420, 7431, 7451, 7459, 7465, 7488, 7512, 7532, 7600, 7602, 7612, 7616, 7618, 7622, 7634, 7641, 7662, 7710, 7713, 7716, 7727, 7743, 7746, 7755, 7757, 7767, 7777, 7808, 7817, 7818, 7820, 7823, 7839, 7853, 7859, 7884, 7910, 7937, 7948, 7957, 7959, 7966, 7969, 7973, 7989, 7991, 7992, 7999, 8006, 8009, 8011, 8015, 8025, 8026, 8044, 8046, 8051, 8053, 8057, 8092, 8096, 8131, 8132, 8165, 8185, 8211, 8215, 8224, 8232, 8239, 8260, 8266, 8270, 8279, 8282, 8311, 8318, 8324, 8331, 8347, 8349, 8360, 8361, 8365, 8366, 8398, 8456, 8457, 8468, 8478, 8480, 8484, 8504, 8509, 8520, 8530, 8544, 8554, 8556, 8564, 8568, 8574, 8581, 8589, 8592, 8597, 8607, 8634, 8638, 8641, 8664, 8674, 8697, 8704, 8709, 8716, 8740, 8755, 8763, 8778, 8786, 8803, 8811, 8822, 8826, 8834, 8839, 8850, 8853, 8854, 8888, 8891, 8894, 8907, 8909, 8932, 8958, 8973, 8981, 9001, 9007, 9012, 9013, 9042, 9070]\n"
     ]
    }
   ],
   "source": [
    "users_to_remove = []\n",
    "for user_id in user_ratings_df.user_id.unique():\n",
    "  users_ratings = user_ratings_df.loc[user_ratings_df.user_id == user_id]\n",
    "  num_non_zero_scores = len(users_ratings.loc[users_ratings.score > 0])\n",
    "\n",
    "  if num_non_zero_scores == 0:\n",
    "    users_to_remove.append(user_id)\n",
    "\n",
    "print(users_to_remove)"
   ]
  },
  {
   "cell_type": "code",
   "execution_count": 7,
   "metadata": {
    "id": "w86cknLnhYiK"
   },
   "outputs": [],
   "source": [
    "user_ratings_df = user_ratings_df.loc[~user_ratings_df.user_id.isin(users_to_remove)]"
   ]
  },
  {
   "cell_type": "markdown",
   "metadata": {},
   "source": [
    "### Remove Shows without the Completed Status"
   ]
  },
  {
   "cell_type": "code",
   "execution_count": 8,
   "metadata": {
    "tags": []
   },
   "outputs": [],
   "source": [
    "user_ratings_df = user_ratings_df.loc[user_ratings_df.status == 'completed']"
   ]
  },
  {
   "cell_type": "markdown",
   "metadata": {},
   "source": [
    "### Remove Users with Less than 30 Ratings"
   ]
  },
  {
   "cell_type": "code",
   "execution_count": 9,
   "metadata": {
    "tags": []
   },
   "outputs": [],
   "source": [
    "users_not_enough_ratings = []\n",
    "num_minimum_ratings = 30\n",
    "\n",
    "# Find the users\n",
    "for user_id in user_ratings_df.user_id.unique():\n",
    "    if (len(user_ratings_df.loc[user_ratings_df.user_id == user_id]) < num_minimum_ratings):\n",
    "        users_not_enough_ratings.append(user_id)\n",
    "\n",
    "# Remove the users\n",
    "user_ratings_df = user_ratings_df.loc[~user_ratings_df.user_id.isin(users_not_enough_ratings)]"
   ]
  },
  {
   "cell_type": "code",
   "execution_count": 10,
   "metadata": {
    "tags": []
   },
   "outputs": [
    {
     "name": "stdout",
     "output_type": "stream",
     "text": [
      "[20, 35, 40, 57, 88, 116, 122, 124, 127, 131, 137, 139, 148, 185, 198, 202, 210, 217, 225, 226, 229, 232, 234, 235, 253, 271, 308, 309, 315, 321, 322, 364, 376, 384, 385, 387, 393, 419, 426, 443, 462, 476, 479, 487, 504, 506, 516, 532, 559, 562, 564, 569, 570, 590, 599, 612, 615, 617, 626, 644, 660, 664, 691, 723, 732, 733, 741, 745, 751, 761, 763, 766, 770, 771, 776, 785, 788, 794, 804, 815, 816, 844, 853, 860, 868, 879, 883, 886, 890, 897, 898, 906, 926, 961, 992, 999, 1023, 1029, 1033, 1054, 1059, 1065, 1077, 1090, 1099, 1105, 1108, 1114, 1127, 1129, 1143, 1145, 1147, 1156, 1157, 1170, 1180, 1223, 1227, 1228, 1230, 1237, 1258, 1268, 1271, 1272, 1273, 1310, 1314, 1351, 1358, 1370, 1386, 1387, 1388, 1392, 1406, 1409, 1420, 1427, 1446, 1455, 1458, 1469, 1477, 1490, 1491, 1511, 1522, 1529, 1541, 1542, 1549, 1557, 1570, 1576, 1587, 1594, 1596, 1604, 1607, 1616, 1641, 1650, 1652, 1653, 1655, 1662, 1667, 1691, 1693, 1715, 1720, 1732, 1746, 1752, 1755, 1764, 1766, 1795, 1806, 1808, 1840, 1861, 1867, 1883, 1889, 1894, 1895, 1896, 1906, 1917, 1940, 1943, 1951, 1957, 1964, 1969, 1976, 1982, 1983, 1992, 1996, 2009, 2040, 2043, 2060, 2077, 2096, 2103, 2115, 2120, 2143, 2151, 2154, 2162, 2165, 2175, 2177, 2195, 2200, 2219, 2227, 2234, 2239, 2260, 2287, 2298, 2311, 2326, 2347, 2348, 2352, 2386, 2408, 2415, 2435, 2439, 2461, 2463, 2471, 2493, 2507, 2516, 2522, 2527, 2538, 2550, 2566, 2577, 2582, 2587, 2593, 2607, 2610, 2614, 2627, 2634, 2668, 2681, 2695, 2708, 2721, 2724, 2751, 2763, 2767, 2768, 2792, 2817, 2823, 2825, 2831, 2837, 2864, 2870, 2877, 2890, 2891, 2894, 2916, 2919, 2929, 2948, 2950, 2974, 2983, 2992, 3006, 3022, 3045, 3052, 3053, 3059, 3073, 3098, 3100, 3103, 3132, 3136, 3147, 3151, 3155, 3161, 3170, 3172, 3184, 3185, 3190, 3199, 3204, 3214, 3242, 3261, 3285, 3304, 3309, 3320, 3341, 3342, 3348, 3352, 3355, 3388, 3390, 3394, 3412, 3420, 3427, 3431, 3432, 3438, 3444, 3453, 3459, 3464, 3485, 3488, 3491, 3511, 3512, 3513, 3550, 3558, 3562, 3563, 3570, 3597, 3606, 3609, 3613, 3648, 3651, 3670, 3701, 3711, 3726, 3768, 3769, 3785, 3786, 3787, 3791, 3799, 3800, 3806, 3808, 3811, 3819, 3834, 3836, 3880, 3898, 3934, 3938, 3942, 3962, 3972, 3985, 4021, 4028, 4033, 4060, 4062, 4063, 4072, 4082, 4097, 4098, 4104, 4118, 4143, 4145, 4152, 4173, 4174, 4178, 4180, 4196, 4208, 4212, 4214, 4219, 4224, 4229, 4241, 4245, 4278, 4301, 4303, 4316, 4341, 4372, 4395, 4416, 4422, 4443, 4475, 4479, 4494, 4495, 4496, 4509, 4553, 4555, 4556, 4559, 4561, 4576, 4585, 4586, 4590, 4591, 4625, 4626, 4636, 4638, 4652, 4653, 4654, 4663, 4665, 4668, 4686, 4688, 4693, 4706, 4713, 4744, 4749, 4757, 4780, 4801, 4814, 4823, 4827, 4845, 4851, 4858, 4860, 4863, 4869, 4882, 4886, 4888, 4899, 4901, 4907, 4912, 4963, 4968, 4986, 4991, 5009, 5035, 5041, 5045, 5052, 5065, 5069, 5071, 5080, 5087, 5096, 5122, 5132, 5138, 5142, 5151, 5179, 5200, 5207, 5224, 5225, 5236, 5247, 5258, 5267, 5272, 5273, 5296, 5298, 5313, 5314, 5329, 5342, 5365, 5369, 5384, 5396, 5418, 5447, 5494, 5500, 5518, 5527, 5540, 5548, 5573, 5580, 5582, 5583, 5593, 5611, 5621, 5626, 5644, 5648, 5651, 5659, 5676, 5687, 5689, 5700, 5711, 5725, 5765, 5778, 5782, 5801, 5804, 5813, 5824, 5825, 5826, 5831, 5839, 5847, 5852, 5854, 5864, 5866, 5876, 5908, 5922, 5931, 5933, 5975, 5981, 6023, 6031, 6072, 6102, 6116, 6129, 6136, 6137, 6160, 6162, 6163, 6166, 6194, 6230, 6232, 6260, 6277, 6305, 6319, 6329, 6336, 6341, 6346, 6371, 6383, 6385, 6390, 6416, 6429, 6432, 6449, 6473, 6475, 6486, 6494, 6495, 6496, 6505, 6507, 6508, 6516, 6518, 6538, 6548, 6551, 6565, 6575, 6577, 6600, 6613, 6641, 6670, 6678, 6681, 6682, 6691, 6743, 6758, 6783, 6792, 6806, 6823, 6824, 6835, 6880, 6884, 6890, 6895, 6896, 6897, 6915, 6931, 6932, 6953, 6968, 6971, 6982, 6989, 6991, 7003, 7004, 7012, 7015, 7017, 7022, 7032, 7033, 7077, 7078, 7089, 7095, 7096, 7100, 7103, 7104, 7124, 7135, 7155, 7159, 7201, 7224, 7226, 7247, 7267, 7276, 7279, 7280, 7298, 7299, 7304, 7305, 7318, 7329, 7338, 7342, 7345, 7367, 7372, 7376, 7378, 7380, 7392, 7414, 7420, 7431, 7451, 7459, 7465, 7488, 7512, 7532, 7600, 7602, 7612, 7616, 7618, 7622, 7634, 7641, 7662, 7710, 7713, 7716, 7727, 7743, 7746, 7755, 7757, 7767, 7777, 7808, 7817, 7818, 7820, 7823, 7839, 7853, 7859, 7884, 7910, 7937, 7948, 7957, 7959, 7966, 7969, 7973, 7989, 7991, 7992, 7999, 8006, 8009, 8011, 8015, 8025, 8026, 8044, 8046, 8051, 8053, 8057, 8092, 8096, 8131, 8132, 8165, 8185, 8211, 8215, 8224, 8232, 8239, 8260, 8266, 8270, 8279, 8282, 8311, 8318, 8324, 8331, 8347, 8349, 8360, 8361, 8365, 8366, 8398, 8456, 8457, 8468, 8478, 8480, 8484, 8504, 8509, 8520, 8530, 8544, 8554, 8556, 8564, 8568, 8574, 8581, 8589, 8592, 8597, 8607, 8634, 8638, 8641, 8664, 8674, 8697, 8704, 8709, 8716, 8740, 8755, 8763, 8778, 8786, 8803, 8811, 8822, 8826, 8834, 8839, 8850, 8853, 8854, 8888, 8891, 8894, 8907, 8909, 8932, 8958, 8973, 8981, 9001, 9007, 9012, 9013, 9042, 9070]\n"
     ]
    }
   ],
   "source": [
    "print(users_to_remove)"
   ]
  },
  {
   "cell_type": "markdown",
   "metadata": {
    "id": "cevfFmnYxCuN"
   },
   "source": [
    "# Splitting User Ratings into Train and Test Datasets\n",
    "Split based on the update_at column and save both files as CSVs."
   ]
  },
  {
   "cell_type": "code",
   "execution_count": 11,
   "metadata": {
    "id": "_LYU5XIfxH9A"
   },
   "outputs": [],
   "source": [
    "import math\n",
    "split_ratio = 0.7 # The ratio of anime per user to put in the training set\n",
    "\n",
    "def train_test_split(user_ratings_df: pd.DataFrame, split_ratio: float):\n",
    "  train_user_ratings = []\n",
    "  test_user_ratings = []\n",
    "\n",
    "  for user_id in user_ratings_df['user_id'].unique():\n",
    "    # Get the users ratings and sort by the date the rating was last updated\n",
    "    users_ratings = user_ratings_df.loc[user_ratings_df.user_id == user_id]\n",
    "    users_ratings = users_ratings.sort_values(by=['updated_at'])\n",
    "\n",
    "    # Determine what index to split the user's ratings by\n",
    "    split_index = int(math.floor((len(users_ratings)-1) * split_ratio))\n",
    "\n",
    "    # Append the split datasets\n",
    "    train_user_ratings.append(users_ratings[:split_index])\n",
    "    test_user_ratings.append(users_ratings[split_index+1:])\n",
    "\n",
    "  train_df = pd.concat(train_user_ratings, ignore_index=True)\n",
    "  test_df = pd.concat(test_user_ratings, ignore_index=True)\n",
    "    \n",
    "  return (train_df, test_df)\n",
    "\n",
    "(train_df, test_df) = train_test_split(user_ratings_df, split_ratio)\n",
    "\n",
    "train_df.to_csv('./data/train_user_ratings.csv', index=False)\n",
    "test_df.to_csv('./data/test_user_ratings.csv', index=False)"
   ]
  },
  {
   "cell_type": "code",
   "execution_count": 12,
   "metadata": {
    "colab": {
     "base_uri": "https://localhost:8080/",
     "height": 424
    },
    "id": "2dWnMPTn48My",
    "outputId": "c7b65e36-f726-4976-cfdc-d2fd77b7df29"
   },
   "outputs": [
    {
     "data": {
      "text/html": [
       "<div>\n",
       "<style scoped>\n",
       "    .dataframe tbody tr th:only-of-type {\n",
       "        vertical-align: middle;\n",
       "    }\n",
       "\n",
       "    .dataframe tbody tr th {\n",
       "        vertical-align: top;\n",
       "    }\n",
       "\n",
       "    .dataframe thead th {\n",
       "        text-align: right;\n",
       "    }\n",
       "</style>\n",
       "<table border=\"1\" class=\"dataframe\">\n",
       "  <thead>\n",
       "    <tr style=\"text-align: right;\">\n",
       "      <th></th>\n",
       "      <th>user_id</th>\n",
       "      <th>anime_id</th>\n",
       "      <th>score</th>\n",
       "      <th>status</th>\n",
       "      <th>num_episodes_watched</th>\n",
       "      <th>updated_at</th>\n",
       "    </tr>\n",
       "  </thead>\n",
       "  <tbody>\n",
       "    <tr>\n",
       "      <th>0</th>\n",
       "      <td>0</td>\n",
       "      <td>48561</td>\n",
       "      <td>9</td>\n",
       "      <td>completed</td>\n",
       "      <td>1</td>\n",
       "      <td>2023-01-01 09:37:49+00:00</td>\n",
       "    </tr>\n",
       "    <tr>\n",
       "      <th>1</th>\n",
       "      <td>0</td>\n",
       "      <td>20583</td>\n",
       "      <td>9</td>\n",
       "      <td>completed</td>\n",
       "      <td>25</td>\n",
       "      <td>2023-01-01 09:39:58+00:00</td>\n",
       "    </tr>\n",
       "    <tr>\n",
       "      <th>2</th>\n",
       "      <td>0</td>\n",
       "      <td>38883</td>\n",
       "      <td>8</td>\n",
       "      <td>completed</td>\n",
       "      <td>13</td>\n",
       "      <td>2023-01-01 09:40:05+00:00</td>\n",
       "    </tr>\n",
       "    <tr>\n",
       "      <th>3</th>\n",
       "      <td>0</td>\n",
       "      <td>28891</td>\n",
       "      <td>10</td>\n",
       "      <td>completed</td>\n",
       "      <td>25</td>\n",
       "      <td>2023-01-01 09:40:24+00:00</td>\n",
       "    </tr>\n",
       "    <tr>\n",
       "      <th>4</th>\n",
       "      <td>0</td>\n",
       "      <td>32935</td>\n",
       "      <td>9</td>\n",
       "      <td>completed</td>\n",
       "      <td>10</td>\n",
       "      <td>2023-01-01 09:40:42+00:00</td>\n",
       "    </tr>\n",
       "    <tr>\n",
       "      <th>...</th>\n",
       "      <td>...</td>\n",
       "      <td>...</td>\n",
       "      <td>...</td>\n",
       "      <td>...</td>\n",
       "      <td>...</td>\n",
       "      <td>...</td>\n",
       "    </tr>\n",
       "    <tr>\n",
       "      <th>1791351</th>\n",
       "      <td>9071</td>\n",
       "      <td>4581</td>\n",
       "      <td>4</td>\n",
       "      <td>completed</td>\n",
       "      <td>13</td>\n",
       "      <td>2022-09-27 03:09:40+00:00</td>\n",
       "    </tr>\n",
       "    <tr>\n",
       "      <th>1791352</th>\n",
       "      <td>9071</td>\n",
       "      <td>20671</td>\n",
       "      <td>4</td>\n",
       "      <td>completed</td>\n",
       "      <td>1</td>\n",
       "      <td>2022-09-27 03:09:41+00:00</td>\n",
       "    </tr>\n",
       "    <tr>\n",
       "      <th>1791353</th>\n",
       "      <td>9071</td>\n",
       "      <td>38787</td>\n",
       "      <td>4</td>\n",
       "      <td>completed</td>\n",
       "      <td>12</td>\n",
       "      <td>2022-09-27 03:09:43+00:00</td>\n",
       "    </tr>\n",
       "    <tr>\n",
       "      <th>1791354</th>\n",
       "      <td>9071</td>\n",
       "      <td>2476</td>\n",
       "      <td>4</td>\n",
       "      <td>completed</td>\n",
       "      <td>12</td>\n",
       "      <td>2022-09-27 03:09:44+00:00</td>\n",
       "    </tr>\n",
       "    <tr>\n",
       "      <th>1791355</th>\n",
       "      <td>9071</td>\n",
       "      <td>16694</td>\n",
       "      <td>4</td>\n",
       "      <td>completed</td>\n",
       "      <td>1</td>\n",
       "      <td>2022-09-27 03:09:47+00:00</td>\n",
       "    </tr>\n",
       "  </tbody>\n",
       "</table>\n",
       "<p>1791356 rows × 6 columns</p>\n",
       "</div>"
      ],
      "text/plain": [
       "         user_id  anime_id  score     status  num_episodes_watched  \\\n",
       "0              0     48561      9  completed                     1   \n",
       "1              0     20583      9  completed                    25   \n",
       "2              0     38883      8  completed                    13   \n",
       "3              0     28891     10  completed                    25   \n",
       "4              0     32935      9  completed                    10   \n",
       "...          ...       ...    ...        ...                   ...   \n",
       "1791351     9071      4581      4  completed                    13   \n",
       "1791352     9071     20671      4  completed                     1   \n",
       "1791353     9071     38787      4  completed                    12   \n",
       "1791354     9071      2476      4  completed                    12   \n",
       "1791355     9071     16694      4  completed                     1   \n",
       "\n",
       "                       updated_at  \n",
       "0       2023-01-01 09:37:49+00:00  \n",
       "1       2023-01-01 09:39:58+00:00  \n",
       "2       2023-01-01 09:40:05+00:00  \n",
       "3       2023-01-01 09:40:24+00:00  \n",
       "4       2023-01-01 09:40:42+00:00  \n",
       "...                           ...  \n",
       "1791351 2022-09-27 03:09:40+00:00  \n",
       "1791352 2022-09-27 03:09:41+00:00  \n",
       "1791353 2022-09-27 03:09:43+00:00  \n",
       "1791354 2022-09-27 03:09:44+00:00  \n",
       "1791355 2022-09-27 03:09:47+00:00  \n",
       "\n",
       "[1791356 rows x 6 columns]"
      ]
     },
     "execution_count": 12,
     "metadata": {},
     "output_type": "execute_result"
    }
   ],
   "source": [
    "train_df"
   ]
  },
  {
   "cell_type": "code",
   "execution_count": 13,
   "metadata": {
    "colab": {
     "base_uri": "https://localhost:8080/",
     "height": 424
    },
    "id": "QFrQsAK7490C",
    "outputId": "44e79603-58b6-4e49-e58b-4a412bcabf10"
   },
   "outputs": [
    {
     "data": {
      "text/html": [
       "<div>\n",
       "<style scoped>\n",
       "    .dataframe tbody tr th:only-of-type {\n",
       "        vertical-align: middle;\n",
       "    }\n",
       "\n",
       "    .dataframe tbody tr th {\n",
       "        vertical-align: top;\n",
       "    }\n",
       "\n",
       "    .dataframe thead th {\n",
       "        text-align: right;\n",
       "    }\n",
       "</style>\n",
       "<table border=\"1\" class=\"dataframe\">\n",
       "  <thead>\n",
       "    <tr style=\"text-align: right;\">\n",
       "      <th></th>\n",
       "      <th>user_id</th>\n",
       "      <th>anime_id</th>\n",
       "      <th>score</th>\n",
       "      <th>status</th>\n",
       "      <th>num_episodes_watched</th>\n",
       "      <th>updated_at</th>\n",
       "    </tr>\n",
       "  </thead>\n",
       "  <tbody>\n",
       "    <tr>\n",
       "      <th>0</th>\n",
       "      <td>0</td>\n",
       "      <td>32998</td>\n",
       "      <td>9</td>\n",
       "      <td>completed</td>\n",
       "      <td>12</td>\n",
       "      <td>2023-04-15 14:29:11+00:00</td>\n",
       "    </tr>\n",
       "    <tr>\n",
       "      <th>1</th>\n",
       "      <td>0</td>\n",
       "      <td>36649</td>\n",
       "      <td>7</td>\n",
       "      <td>completed</td>\n",
       "      <td>24</td>\n",
       "      <td>2023-04-15 14:29:23+00:00</td>\n",
       "    </tr>\n",
       "    <tr>\n",
       "      <th>2</th>\n",
       "      <td>0</td>\n",
       "      <td>39533</td>\n",
       "      <td>6</td>\n",
       "      <td>completed</td>\n",
       "      <td>11</td>\n",
       "      <td>2023-04-15 14:30:38+00:00</td>\n",
       "    </tr>\n",
       "    <tr>\n",
       "      <th>3</th>\n",
       "      <td>0</td>\n",
       "      <td>31405</td>\n",
       "      <td>6</td>\n",
       "      <td>completed</td>\n",
       "      <td>12</td>\n",
       "      <td>2023-04-15 14:30:59+00:00</td>\n",
       "    </tr>\n",
       "    <tr>\n",
       "      <th>4</th>\n",
       "      <td>0</td>\n",
       "      <td>44511</td>\n",
       "      <td>9</td>\n",
       "      <td>completed</td>\n",
       "      <td>12</td>\n",
       "      <td>2023-04-15 14:32:47+00:00</td>\n",
       "    </tr>\n",
       "    <tr>\n",
       "      <th>...</th>\n",
       "      <td>...</td>\n",
       "      <td>...</td>\n",
       "      <td>...</td>\n",
       "      <td>...</td>\n",
       "      <td>...</td>\n",
       "      <td>...</td>\n",
       "    </tr>\n",
       "    <tr>\n",
       "      <th>772525</th>\n",
       "      <td>9071</td>\n",
       "      <td>227</td>\n",
       "      <td>2</td>\n",
       "      <td>completed</td>\n",
       "      <td>6</td>\n",
       "      <td>2023-07-16 22:56:52+00:00</td>\n",
       "    </tr>\n",
       "    <tr>\n",
       "      <th>772526</th>\n",
       "      <td>9071</td>\n",
       "      <td>37171</td>\n",
       "      <td>5</td>\n",
       "      <td>completed</td>\n",
       "      <td>12</td>\n",
       "      <td>2023-09-07 12:21:07+00:00</td>\n",
       "    </tr>\n",
       "    <tr>\n",
       "      <th>772527</th>\n",
       "      <td>9071</td>\n",
       "      <td>659</td>\n",
       "      <td>5</td>\n",
       "      <td>completed</td>\n",
       "      <td>1</td>\n",
       "      <td>2023-09-07 12:21:41+00:00</td>\n",
       "    </tr>\n",
       "    <tr>\n",
       "      <th>772528</th>\n",
       "      <td>9071</td>\n",
       "      <td>35838</td>\n",
       "      <td>5</td>\n",
       "      <td>completed</td>\n",
       "      <td>12</td>\n",
       "      <td>2023-09-07 12:22:10+00:00</td>\n",
       "    </tr>\n",
       "    <tr>\n",
       "      <th>772529</th>\n",
       "      <td>9071</td>\n",
       "      <td>21863</td>\n",
       "      <td>1</td>\n",
       "      <td>completed</td>\n",
       "      <td>12</td>\n",
       "      <td>2023-10-09 20:06:43+00:00</td>\n",
       "    </tr>\n",
       "  </tbody>\n",
       "</table>\n",
       "<p>772530 rows × 6 columns</p>\n",
       "</div>"
      ],
      "text/plain": [
       "        user_id  anime_id  score     status  num_episodes_watched  \\\n",
       "0             0     32998      9  completed                    12   \n",
       "1             0     36649      7  completed                    24   \n",
       "2             0     39533      6  completed                    11   \n",
       "3             0     31405      6  completed                    12   \n",
       "4             0     44511      9  completed                    12   \n",
       "...         ...       ...    ...        ...                   ...   \n",
       "772525     9071       227      2  completed                     6   \n",
       "772526     9071     37171      5  completed                    12   \n",
       "772527     9071       659      5  completed                     1   \n",
       "772528     9071     35838      5  completed                    12   \n",
       "772529     9071     21863      1  completed                    12   \n",
       "\n",
       "                      updated_at  \n",
       "0      2023-04-15 14:29:11+00:00  \n",
       "1      2023-04-15 14:29:23+00:00  \n",
       "2      2023-04-15 14:30:38+00:00  \n",
       "3      2023-04-15 14:30:59+00:00  \n",
       "4      2023-04-15 14:32:47+00:00  \n",
       "...                          ...  \n",
       "772525 2023-07-16 22:56:52+00:00  \n",
       "772526 2023-09-07 12:21:07+00:00  \n",
       "772527 2023-09-07 12:21:41+00:00  \n",
       "772528 2023-09-07 12:22:10+00:00  \n",
       "772529 2023-10-09 20:06:43+00:00  \n",
       "\n",
       "[772530 rows x 6 columns]"
      ]
     },
     "execution_count": 13,
     "metadata": {},
     "output_type": "execute_result"
    }
   ],
   "source": [
    "test_df"
   ]
  },
  {
   "cell_type": "markdown",
   "metadata": {},
   "source": [
    "# Setup the Distance Functions"
   ]
  },
  {
   "cell_type": "code",
   "execution_count": 14,
   "metadata": {},
   "outputs": [],
   "source": [
    "# Return a distance matrix using cosine distance\n",
    "def cosine_distance_metric(user_profile, anime_vector_df):\n",
    "    distance_mat = cosine_distances(np.array([user_profile[\"weighted_vector_avg\"].tolist()]).reshape((1, -1)), anime_vector_df).reshape(-1)\n",
    "    return distance_mat\n",
    "\n",
    "# Return a distance matrix using euclidean distance\n",
    "def euclidean_distance_metric(user_profile, anime_vector_df):\n",
    "    distance_mat = euclidean_distances(np.array([user_profile[\"weighted_vector_avg\"].tolist()]).reshape((1, -1)), anime_vector_df).reshape(-1)\n",
    "    return distance_mat\n",
    "\n",
    "# Return a distance matrix using manhattan distance\n",
    "def manhattan_distance_metric(user_profile, anime_vector_df):\n",
    "    distance_mat = manhattan_distances(np.array([user_profile[\"weighted_vector_avg\"].tolist()]).reshape((1, -1)), anime_vector_df).reshape(-1)\n",
    "    return distance_mat"
   ]
  },
  {
   "cell_type": "markdown",
   "metadata": {},
   "source": [
    "# Create the Minimum Distance Evaluation Function\n",
    "This takes the distance between a prediction and each anime in the user's list and of those, uses the minimum. \n",
    "Then the average is taken to get the average minimum distance between the predictions and the anime that the user has already watched."
   ]
  },
  {
   "cell_type": "code",
   "execution_count": 36,
   "metadata": {},
   "outputs": [],
   "source": [
    "from sklearn.metrics import DistanceMetric\n",
    "\n",
    "def avg_min_distance_evaluation(anime_watched, predicted_anime, distance_metric='minkowski'):\n",
    "    min_distances = []\n",
    "    \n",
    "    distance = DistanceMetric.get_metric(distance_metric)\n",
    "    \n",
    "    # Get the minimum distance for each predicted anime\n",
    "    for prediction in predicted_anime:\n",
    "        prediction_distances = distance.pairwise(np.array([prediction]).reshape((1, -1)), anime_watched).reshape(-1)\n",
    "\n",
    "        if len(prediction_distances) > 0:\n",
    "            min_distances.append(min(prediction_distances))\n",
    "        else:\n",
    "            print(f\"Warning. User {user_id} with {len(prediction)} predictions and watched {len(actual_anime)} anime, had zero prediction min distances.\")\n",
    "        \n",
    "    # Get the average minimum distance of the minimum prediction distances\n",
    "    average_min_distance = sum(min_distances) / len(min_distances)\n",
    "    return average_min_distance"
   ]
  },
  {
   "cell_type": "markdown",
   "metadata": {},
   "source": [
    "# Precision, Recall and F1-Score"
   ]
  },
  {
   "cell_type": "code",
   "execution_count": 195,
   "metadata": {
    "tags": []
   },
   "outputs": [],
   "source": [
    "import math\n",
    "\n",
    "def score_recommendations(num_recommendations, recommendations, user_ratings, anime_vector_df, distance_relevant_cutoff = 0.4):\n",
    "    score = {\n",
    "        \"average_recall\": 0,\n",
    "        \"average_precision\": 0,\n",
    "        \"average_f1\": 0\n",
    "    }\n",
    "    \n",
    "    unique_user_ids = user_ratings['user_id'].unique()\n",
    "    for user_id in unique_user_ids:\n",
    "        predicted_anime = recommendations[int(user_id)][\"prediction_vectors\"]\n",
    "        \n",
    "        # Get the no. of relevant anime\n",
    "        user_ratings_inst = user_ratings.loc[user_ratings.user_id == user_id]\n",
    "        average_rating = round(np.average(user_ratings_inst['score']))\n",
    "        num_relevant_anime = len(user_ratings_inst[user_ratings_inst.score >= average_rating])\n",
    "        \n",
    "        if num_relevant_anime == 0:\n",
    "            print(\"Error. No relavent anime. Average Rating:\", average_rating)\n",
    "            print(f\"Min Rating: {min(user_ratings_inst['score'])}, Max Rating: {max(user_ratings_inst['score'])}\")\n",
    "        \n",
    "        # Get the no. of relevant recommendations\n",
    "        num_relevant_recommendations = 0\n",
    "        for prediction in predicted_anime:\n",
    "            prediction_distances = cosine_distances(np.array([prediction]).reshape((1, -1)), recommendations[int(user_id)][\"actual_anime_vectors\"]).reshape(-1)\n",
    "            if len(prediction_distances) > 0:\n",
    "                distance = min(prediction_distances)\n",
    "                if distance <= distance_relevant_cutoff:\n",
    "                    num_relevant_recommendations += 1\n",
    "            else:\n",
    "                print(f\"Warning. User {user_id} had no prediction distances\")\n",
    "        \n",
    "        score[\"average_recall\"] += num_relevant_recommendations / num_relevant_anime\n",
    "        score[\"average_precision\"] += num_relevant_recommendations / num_recommendations\n",
    "    \n",
    "    score[\"average_recall\"] /= len(unique_user_ids)\n",
    "    score[\"average_precision\"] /= len(unique_user_ids)\n",
    "    \n",
    "    if score[\"average_precision\"] + score[\"average_recall\"] != 0:\n",
    "        score[\"average_f1\"] = (2 * score[\"average_precision\"] * score[\"average_recall\"]) / (score[\"average_precision\"] + score[\"average_recall\"])\n",
    "    else:\n",
    "        print(\"f1 score was 0\")\n",
    "        score[\"average_f1\"] = 0\n",
    "        \n",
    "    return score"
   ]
  },
  {
   "cell_type": "markdown",
   "metadata": {
    "id": "Su7qa9ivURYd"
   },
   "source": [
    "# Create the Recommender Systems\n",
    "This will include a Content-Based Filtering, Collaborative Filtering and Hybrid System."
   ]
  },
  {
   "cell_type": "markdown",
   "metadata": {},
   "source": [
    "## Create the Content-Based Filtering Recommender"
   ]
  },
  {
   "cell_type": "code",
   "execution_count": 67,
   "metadata": {
    "id": "3XgI1KHsV6N7"
   },
   "outputs": [],
   "source": [
    "from sklearn.metrics import mean_squared_error\n",
    "\n",
    "class CBFRecommender:\n",
    "    def __init__(self, anime_data: pd.DataFrame, user_ratings_data: pd.DataFrame):\n",
    "        # Cleanup Anime Data\n",
    "        self.anime_df = anime_data\n",
    "        self.anime_df.fillna({\"genres\": \"\"}, inplace=True)\n",
    "        self.anime_df.fillna({\"synopsis\": \"\"}, inplace=True)\n",
    "\n",
    "        self.user_ratings_df = user_ratings_df\n",
    "\n",
    "    # Uses TF-IDF to Vectorize the Anime DataFrame\n",
    "    def vectorize_anime_data(self, stop_words='english', max_features=50, max_df=0.5, min_df=0.01):\n",
    "        vectorizer = TfidfVectorizer(stop_words=stop_words, max_features=max_features, max_df=max_df, min_df=min_df)\n",
    "        self.anime_df['combined'] =  self.anime_df['genres'] + \" \" + self.anime_df['synopsis']\n",
    "\n",
    "        anime_features_vector_matrix = vectorizer.fit_transform(self.anime_df['combined'])\n",
    "\n",
    "        self.anime_vector_df = pd.DataFrame(data=anime_features_vector_matrix.toarray())\n",
    "        self.anime_vector_df['anime_id'] = self.anime_df['id']\n",
    "        self.anime_vector_df = self.anime_vector_df.set_index('anime_id')\n",
    "\n",
    "        return self.anime_vector_df\n",
    "\n",
    "    # Creates a profile of the specified user\n",
    "    def create_user_profile(self, user_id: int):\n",
    "        # Get only this user's ratings\n",
    "        users_ratings_df = user_ratings_df[user_ratings_df.user_id == user_id]\n",
    "\n",
    "        # Prefer to only use anime they rated higher than their avg. rating\n",
    "        average_rating = np.average(users_ratings_df['score'])\n",
    "        selected_user_ratings_df = users_ratings_df[users_ratings_df.score > average_rating]\n",
    "\n",
    "        # If the user hasn't rated any anime higher than thier avg.,\n",
    "        # then use the median instead\n",
    "        if selected_user_ratings_df.empty:\n",
    "            average_rating = np.average(users_ratings_df['score'])\n",
    "            selected_user_ratings_df = users_ratings_df[users_ratings_df.score >= average_rating]\n",
    "\n",
    "        # Get the Anime they rated highly\n",
    "        user_anime_rated_df = self.anime_df[self.anime_df.id.isin(selected_user_ratings_df['anime_id'])]\n",
    "\n",
    "        # Get the weighted average of the Vector values for the anime they rated\n",
    "        user_vector_df = self.anime_vector_df.loc[user_anime_rated_df['id']]\n",
    "        weighted_vector_avg = user_vector_df.mean()\n",
    "\n",
    "        return {\n",
    "            \"weighted_vector_avg\": weighted_vector_avg,\n",
    "            \"vector_df\": user_vector_df\n",
    "        }\n",
    "\n",
    "    # Get a DataFrame of How Distant Anime Are to the User's Preferences\n",
    "    def get_user_anime_distance(self, user_id, distance_metric='cosine'):\n",
    "        # Find user profile in user profiles\n",
    "        user_profile = self.create_user_profile(user_id)\n",
    "\n",
    "        # Calculate the distance matrix of the user's weighted vector instance compared to all instances in the anime vector df\n",
    "        distance_mat = None\n",
    "        if distance_metric == 'cosine':\n",
    "            distance_mat = cosine_distance_metric(user_profile, self.anime_vector_df)\n",
    "        elif distance_metric == 'euclidean':\n",
    "            distance_mat = euclidean_distance_metric(user_profile, self.anime_vector_df)\n",
    "        elif distance_metric == 'manhattan':\n",
    "            distance_mat = manhattan_distance_metric(user_profile, self.anime_vector_df)\n",
    "        else:\n",
    "            print(f'Error: The distance metric is invalid. Unable to create distance matric for user with id {user_id}')\n",
    "\n",
    "        if distance_mat is None:\n",
    "            print(\"Error. Couldn't create distance matrix.\")\n",
    "            return None\n",
    "\n",
    "        # Convert the matrix into a dataframe\n",
    "        distance_df = pd.DataFrame(data=distance_mat.tolist())\n",
    "        distance_df = distance_df.rename(columns={0: \"distance\"})\n",
    "        distance_df['id'] = self.anime_df['id']\n",
    "\n",
    "        # Remove all anime that the user has already watched\n",
    "        distance_df = distance_df.loc[~distance_df.id.isin(user_profile[\"vector_df\"].index)]\n",
    "\n",
    "        # The closer to 0 the distance is the more similar the anime is to the weighted vector\n",
    "        distance_df = distance_df.sort_values(by='distance', ascending=True)\n",
    "\n",
    "        return distance_df\n",
    "\n",
    "    # Recommend Anime to the User\n",
    "    def recommend_user(self, user_id: int, num_recommendations: int, distance_metric='cosine', add_anime_info: bool = True):\n",
    "        distance_df = self.get_user_anime_distance(user_id, distance_metric=distance_metric)\n",
    "\n",
    "        # Get the top recommendations and merge the anime data with the dataframe\n",
    "        top_similar_anime_df = distance_df.iloc[0:num_recommendations]\n",
    "\n",
    "        if len(top_similar_anime_df) != num_recommendations:\n",
    "            print(f\"Expected {num_recommendations} recommendations, but got {len(top_similar_anime_df)}\")\n",
    "\n",
    "        # Only merge if we want to the anime information too.\n",
    "        if add_anime_info:\n",
    "            top_similar_anime_df = top_similar_anime_df.merge(self.anime_df, on='id', how='inner')\n",
    "\n",
    "        return top_similar_anime_df\n",
    "\n",
    "    def get_user_anime_scores(self, user_id, distance_metric='cosine'):\n",
    "        user_scores_df = self.get_user_anime_distance(user_id, distance_metric=distance_metric)\n",
    "        user_scores_df = user_scores_df.rename(columns={\"distance\": \"score\"})\n",
    "        return user_scores_df\n",
    "    \n",
    "    # Make recommendations for every user\n",
    "    def make_recommendations(self, num_recommendations=20, distance_metric='cosine'):\n",
    "        unique_user_ids = self.user_ratings_df['user_id'].unique()\n",
    "\n",
    "        recommendations = {}\n",
    "\n",
    "        for user_id in unique_user_ids:\n",
    "            # Get this user's recommendations\n",
    "            actual_anime_vectors = self.anime_vector_df.loc[self.anime_vector_df.index.isin(test_df.loc[test_df.user_id == user_id]['anime_id'])]\n",
    "\n",
    "            if len(actual_anime_vectors) > 0:\n",
    "                predictions = self.recommend_user(user_id, num_recommendations, distance_metric=distance_metric, add_anime_info = False)\n",
    "                predicted_anime_vectors = self.anime_vector_df.loc[self.anime_vector_df.index.isin(predictions['id'])]\n",
    "\n",
    "                # Add them to the dictionary\n",
    "                recommendations[user_id] = {\"actual_anime_vectors\": actual_anime_vectors.to_numpy(),\n",
    "                                            \"predictions\": predictions,\n",
    "                                            \"prediction_vectors\": predicted_anime_vectors.to_numpy()}\n",
    "\n",
    "        return recommendations\n",
    "    \n",
    "    # Test How Effective the Model\n",
    "    def test_recommendations(self, num_recommendations=20, distance_metric='cosine', evaluation_distance_metric='cosine'):\n",
    "        recommendations = self.make_recommendations(num_recommendations=num_recommendations, distance_metric=distance_metric)\n",
    "        score = score_recommendations(num_recommendations, recommendations, test_df, self.anime_vector_df)\n",
    "        \n",
    "        return score"
   ]
  },
  {
   "cell_type": "code",
   "execution_count": 60,
   "metadata": {
    "tags": []
   },
   "outputs": [],
   "source": [
    "import os\n",
    "\n",
    "from surprise import BaselineOnly, Dataset, Reader, accuracy, SVD, SVDpp, NMF\n",
    "from surprise.model_selection import GridSearchCV, train_test_split"
   ]
  },
  {
   "cell_type": "markdown",
   "metadata": {},
   "source": [
    "## Create the Collaborative Filtering Recommender"
   ]
  },
  {
   "cell_type": "code",
   "execution_count": 61,
   "metadata": {
    "tags": []
   },
   "outputs": [],
   "source": [
    "def convert_user_ratings_to_surprise_dataset(ur_df):  \n",
    "    surprise_user_ratings_df = user_ratings_df[[\"user_id\", \"anime_id\", \"score\"]]\n",
    "    surprise_user_ratings_df = surprise_user_ratings_df.rename(columns={\"user_id\": \"userID\", \"anime_id\": \"itemID\", \"score\": \"rating\"})\n",
    "    \n",
    "    cf_ratings_reader = Reader(rating_scale=(0, 10))\n",
    "    cf_ratings_data = Dataset.load_from_df(surprise_user_ratings_df, cf_ratings_reader)\n",
    "    return cf_ratings_data"
   ]
  },
  {
   "cell_type": "code",
   "execution_count": 194,
   "metadata": {
    "tags": []
   },
   "outputs": [],
   "source": [
    "class CollaborativeFilteringRecommender:\n",
    "    # The algorithm must be Matrix Factorization algorithm supported by surprise\n",
    "    def __init__(self, ratings_dataset, mf_algorithm=SVD, performGridsearch=False):\n",
    "        self.cf_trainset = ratings_dataset.build_full_trainset()\n",
    "        \n",
    "        # Set the model as the best model found by the grid search\n",
    "        self.cf_model = None\n",
    "        \n",
    "        # Perform a Grid Search to Hyptertune the Parameters\n",
    "        if performGridsearch:\n",
    "            param_grid = {\"n_factors\": [50, 100, 150, 200], \"n_epochs\": [10, 20, 30], \"biased\": [True, False]}\n",
    "            if mf_algorithm == SVD:\n",
    "                param_grid = {\"n_factors\": [50, 100, 150, 200], \"n_epochs\": [20, 25, 30], \"lr_all\": [0.005, 0.0025], \"biased\": [True, False]}\n",
    "            elif mf_algorithm == NMF:\n",
    "                param_grid = {\"n_factors\": [15, 30, 60], \"n_epochs\": [50, 60, 70], \"biased\": [True, False]}\n",
    "            \n",
    "            grid_search = GridSearchCV(mf_algorithm, param_grid, measures=[\"rmse\"], cv=3)\n",
    "            grid_search.fit(ratings_dataset)\n",
    "            print(f\"Best Score for Grid Search was: {grid_search.best_params['rmse']}\")\n",
    "            print(f\"The Best Parameters for Grid Search was: {grid_search.best_score['rmse']}\")\n",
    "            self.cf_model = grid_search.best_estimator[\"rmse\"]\n",
    "        \n",
    "        if self.cf_model is None:\n",
    "            self.cf_model = mf_algorithm()\n",
    "       \n",
    "        self.cf_model.fit(self.cf_trainset)\n",
    "    \n",
    "    def get_user_anime_scores(self, user_id: str):\n",
    "        # Get every item that this user hasn't watched.\n",
    "        item_ids = []\n",
    "        for item_id in self.cf_trainset.all_items():\n",
    "            if self.cf_trainset.ur.get(item_id) != None:\n",
    "                item_ids.append(self.cf_trainset.to_raw_iid(item_id))\n",
    "        \n",
    "        # Estimate the rating for each item\n",
    "        item_predictions = []\n",
    "        for item_rawid in item_ids:\n",
    "            prediction = self.cf_model.predict(user_id, item_rawid)\n",
    "            item_predictions.append(prediction)\n",
    "    \n",
    "        user_anime_ids = []\n",
    "        user_scores = []\n",
    "        for prediction in item_predictions:\n",
    "            user_scores.append(prediction.est)\n",
    "            user_anime_ids.append(int(prediction.iid))\n",
    "        \n",
    "        user_scores_dict = {\"score\": user_scores, \"id\": user_anime_ids}\n",
    "        user_scores_df = pd.DataFrame(user_scores_dict)\n",
    "        \n",
    "        return user_scores_df\n",
    "    \n",
    "    def recommend_user(self, user_innerid, num_recommendations):\n",
    "        user_recommendations = []\n",
    "        \n",
    "        user_id = self.cf_trainset.to_raw_uid(user_innerid)\n",
    "        \n",
    "        # Get every item that this user hasn't watched.\n",
    "        item_ids = []\n",
    "        for item_id in self.cf_trainset.all_items():\n",
    "            if self.cf_trainset.ur.get(item_id) != None:\n",
    "                item_ids.append(self.cf_trainset.to_raw_iid(item_id))\n",
    "        \n",
    "        # Estimate the rating for each item\n",
    "        item_predictions = []\n",
    "        for item_rawid in item_ids:\n",
    "            prediction = self.cf_model.predict(user_id, item_rawid)\n",
    "            item_predictions.append(prediction)\n",
    "        \n",
    "        # Recommend the top N items\n",
    "        item_predictions.sort(key=lambda x: x.est, reverse=True)\n",
    "        \n",
    "        for prediction in item_predictions[:num_recommendations]:\n",
    "            user_recommendations.append(prediction.iid)\n",
    "        \n",
    "        return user_recommendations\n",
    "    \n",
    "    def get_user_recommendations_df(self, user_recommendations: list):\n",
    "        return anime_df[anime_df.id.isin(user_recommendations)]\n",
    "    \n",
    "    def make_recommendations(self, num_recommendations, test_ratings_df, anime_vector_df):\n",
    "        recommendations = {}\n",
    "        \n",
    "        for inner_userid in self.cf_trainset.all_users():\n",
    "            user_recommendations = self.recommend_user(inner_userid, num_recommendations)\n",
    "            user_id = self.cf_trainset.to_raw_uid(inner_userid)\n",
    "            \n",
    "            actual_anime_vectors = anime_vector_df.loc[anime_vector_df.index.isin(test_ratings_df.loc[test_ratings_df.user_id == user_id]['anime_id'])]\n",
    "            predicted_anime_vectors = anime_vector_df.loc[anime_vector_df.index.isin(user_recommendations)]\n",
    "            if len(predicted_anime_vectors) == 0:\n",
    "                print(\"No predicted anime vectors were found.\")\n",
    "            \n",
    "            recommendations[int(user_id)] = {\"actual_anime_vectors\": actual_anime_vectors.to_numpy(),\n",
    "                                            \"predictions\": user_recommendations,\n",
    "                                            \"prediction_vectors\": predicted_anime_vectors.to_numpy()}\n",
    "        \n",
    "        return recommendations\n",
    "    \n",
    "    def test_recommendations(self, num_recommendations, test_ratings_df, anime_vector_df, evaluation_distance_metric='cosine'):\n",
    "        recommendations = self.make_recommendations(num_recommendations, test_ratings_df, anime_vector_df)\n",
    "        score = score_recommendations(num_recommendations, recommendations, test_ratings_df, anime_vector_df)\n",
    "        \n",
    "        return score"
   ]
  },
  {
   "cell_type": "markdown",
   "metadata": {},
   "source": [
    "## Create the Hybrid Recommender"
   ]
  },
  {
   "cell_type": "code",
   "execution_count": 204,
   "metadata": {
    "tags": []
   },
   "outputs": [],
   "source": [
    "class HybridRecommender:\n",
    "    def __init__(self, anime_data: pd.DataFrame, user_ratings_data: pd.DataFrame, cbf_distance_metric='cosine'):\n",
    "        self.cbf_recommender = CBFRecommender(anime_data, user_ratings_data)\n",
    "        self.cbf_recommender.vectorize_anime_data(stop_words='english', max_features=50, max_df=0.5, min_df=0.01)\n",
    "        self.cbf_distance_metric = cbf_distance_metric\n",
    "        self.anime_data = anime_data\n",
    "        self.user_ratings_data = user_ratings_data\n",
    "        \n",
    "        cf_ratings_data = convert_user_ratings_to_surprise_dataset(user_ratings_data)\n",
    "        self.cf_recommender = CollaborativeFilteringRecommender(cf_ratings_data)\n",
    "    \n",
    "    def get_user_combined_scores(self, user_id):\n",
    "        # Content-Based Filtering\n",
    "        cbf_scores_df = self.cbf_recommender.get_user_anime_scores(user_id, distance_metric=self.cbf_distance_metric)\n",
    "        cbf_scores_df = cbf_scores_df.rename(columns={\"score\": \"cbf_score\"})\n",
    "        \n",
    "        # Collaborative Filtering\n",
    "        cf_scores_df = self.cf_recommender.get_user_anime_scores(str(user_id))    \n",
    "        # Perform Min-Max Normalization\n",
    "        cf_scores_df[\"score\"] = (cf_scores_df[\"score\"] - cf_scores_df[\"score\"].min()) / (cf_scores_df[\"score\"].max() - cf_scores_df[\"score\"].min())\n",
    "        cf_scores_df[\"score\"] = (1 - cf_scores_df[\"score\"])\n",
    "        \n",
    "        cf_scores_df = cf_scores_df.rename(columns={\"score\": \"cf_score\"})\n",
    "        \n",
    "        # Combine both into one dataframe\n",
    "        combined_scores_df = cbf_scores_df.merge(cf_scores_df, on='id', how='inner')\n",
    "        combined_scores_df['combined_score'] = combined_scores_df['cbf_score'] + combined_scores_df['cf_score']\n",
    "        combined_scores_df.sort_values(by=['combined_score'], ascending=True, inplace=True)\n",
    "        \n",
    "        return combined_scores_df\n",
    "    \n",
    "    def recommend_user(self, user_id, num_recommendations):\n",
    "        user_combined_scores_df = self.get_user_combined_scores(user_id)\n",
    "        user_top_anime_df = user_combined_scores_df.iloc[:num_recommendations]\n",
    "        \n",
    "        return user_top_anime_df\n",
    "    \n",
    "    def make_recommendations(self, num_recommendations, test_ratings_df, anime_vector_df):\n",
    "        recommendations = {}\n",
    "        unique_user_ids = self.user_ratings_data['user_id'].unique()\n",
    "        \n",
    "        for user_id in unique_user_ids:\n",
    "            user_recommendations = self.recommend_user(user_id, num_recommendations)\n",
    "            actual_anime_vectors = anime_vector_df.loc[anime_vector_df.index.isin(test_df.loc[test_df.user_id == user_id]['anime_id'])]\n",
    "            predicted_anime_vectors = anime_vector_df.loc[anime_vector_df.index.isin(user_recommendations['id'])]\n",
    "            \n",
    "            recommendations[int(user_id)] = {\"actual_anime_vectors\": actual_anime_vectors.to_numpy(),\n",
    "                                            \"predictions\": user_recommendations,\n",
    "                                            \"prediction_vectors\": predicted_anime_vectors.to_numpy()}\n",
    "        \n",
    "        return recommendations\n",
    "    \n",
    "    def test_recommendations(self, num_recommendations, test_user_ratings_data: pd.DataFrame, anime_vector_df, evaluation_distance_metric='cosine'):\n",
    "        recommendations = self.make_recommendations(num_recommendations, test_user_ratings_data, anime_vector_df)\n",
    "        score = score_recommendations(num_recommendations, recommendations, test_df, anime_vector_df)\n",
    "        \n",
    "        return score"
   ]
  },
  {
   "cell_type": "markdown",
   "metadata": {},
   "source": [
    "# Evaluate the Recommenders"
   ]
  },
  {
   "cell_type": "code",
   "execution_count": 161,
   "metadata": {},
   "outputs": [],
   "source": [
    "# Pick which distance metric to use for minimum distance evaluation\n",
    "eval_dist_metric = 'cosine'\n",
    "num_recommendations = 20"
   ]
  },
  {
   "cell_type": "markdown",
   "metadata": {},
   "source": [
    "## Evaluate the Content-Based Recommender"
   ]
  },
  {
   "cell_type": "code",
   "execution_count": 162,
   "metadata": {},
   "outputs": [
    {
     "data": {
      "text/html": [
       "<div>\n",
       "<style scoped>\n",
       "    .dataframe tbody tr th:only-of-type {\n",
       "        vertical-align: middle;\n",
       "    }\n",
       "\n",
       "    .dataframe tbody tr th {\n",
       "        vertical-align: top;\n",
       "    }\n",
       "\n",
       "    .dataframe thead th {\n",
       "        text-align: right;\n",
       "    }\n",
       "</style>\n",
       "<table border=\"1\" class=\"dataframe\">\n",
       "  <thead>\n",
       "    <tr style=\"text-align: right;\">\n",
       "      <th></th>\n",
       "      <th>0</th>\n",
       "      <th>1</th>\n",
       "      <th>2</th>\n",
       "      <th>3</th>\n",
       "      <th>4</th>\n",
       "      <th>5</th>\n",
       "      <th>6</th>\n",
       "      <th>7</th>\n",
       "      <th>8</th>\n",
       "      <th>9</th>\n",
       "      <th>...</th>\n",
       "      <th>40</th>\n",
       "      <th>41</th>\n",
       "      <th>42</th>\n",
       "      <th>43</th>\n",
       "      <th>44</th>\n",
       "      <th>45</th>\n",
       "      <th>46</th>\n",
       "      <th>47</th>\n",
       "      <th>48</th>\n",
       "      <th>49</th>\n",
       "    </tr>\n",
       "    <tr>\n",
       "      <th>anime_id</th>\n",
       "      <th></th>\n",
       "      <th></th>\n",
       "      <th></th>\n",
       "      <th></th>\n",
       "      <th></th>\n",
       "      <th></th>\n",
       "      <th></th>\n",
       "      <th></th>\n",
       "      <th></th>\n",
       "      <th></th>\n",
       "      <th></th>\n",
       "      <th></th>\n",
       "      <th></th>\n",
       "      <th></th>\n",
       "      <th></th>\n",
       "      <th></th>\n",
       "      <th></th>\n",
       "      <th></th>\n",
       "      <th></th>\n",
       "      <th></th>\n",
       "      <th></th>\n",
       "    </tr>\n",
       "  </thead>\n",
       "  <tbody>\n",
       "    <tr>\n",
       "      <th>5114</th>\n",
       "      <td>0.243555</td>\n",
       "      <td>0.264325</td>\n",
       "      <td>0.0</td>\n",
       "      <td>0.0</td>\n",
       "      <td>0.000000</td>\n",
       "      <td>0.0</td>\n",
       "      <td>0.293202</td>\n",
       "      <td>0.000000</td>\n",
       "      <td>0.0</td>\n",
       "      <td>0.235457</td>\n",
       "      <td>...</td>\n",
       "      <td>0.0</td>\n",
       "      <td>0.00000</td>\n",
       "      <td>0.000000</td>\n",
       "      <td>0.0</td>\n",
       "      <td>0.0</td>\n",
       "      <td>0.296467</td>\n",
       "      <td>0.276524</td>\n",
       "      <td>0.0</td>\n",
       "      <td>0.365017</td>\n",
       "      <td>0.0</td>\n",
       "    </tr>\n",
       "    <tr>\n",
       "      <th>9253</th>\n",
       "      <td>0.000000</td>\n",
       "      <td>0.000000</td>\n",
       "      <td>0.0</td>\n",
       "      <td>0.0</td>\n",
       "      <td>0.000000</td>\n",
       "      <td>0.0</td>\n",
       "      <td>0.208083</td>\n",
       "      <td>0.000000</td>\n",
       "      <td>0.0</td>\n",
       "      <td>0.000000</td>\n",
       "      <td>...</td>\n",
       "      <td>0.0</td>\n",
       "      <td>0.00000</td>\n",
       "      <td>0.708988</td>\n",
       "      <td>0.0</td>\n",
       "      <td>0.0</td>\n",
       "      <td>0.000000</td>\n",
       "      <td>0.196247</td>\n",
       "      <td>0.0</td>\n",
       "      <td>0.000000</td>\n",
       "      <td>0.0</td>\n",
       "    </tr>\n",
       "    <tr>\n",
       "      <th>28977</th>\n",
       "      <td>0.191855</td>\n",
       "      <td>0.000000</td>\n",
       "      <td>0.0</td>\n",
       "      <td>0.0</td>\n",
       "      <td>0.166754</td>\n",
       "      <td>0.0</td>\n",
       "      <td>0.000000</td>\n",
       "      <td>0.000000</td>\n",
       "      <td>0.0</td>\n",
       "      <td>0.000000</td>\n",
       "      <td>...</td>\n",
       "      <td>0.0</td>\n",
       "      <td>0.64006</td>\n",
       "      <td>0.000000</td>\n",
       "      <td>0.0</td>\n",
       "      <td>0.0</td>\n",
       "      <td>0.233535</td>\n",
       "      <td>0.217825</td>\n",
       "      <td>0.0</td>\n",
       "      <td>0.000000</td>\n",
       "      <td>0.0</td>\n",
       "    </tr>\n",
       "    <tr>\n",
       "      <th>41467</th>\n",
       "      <td>0.221499</td>\n",
       "      <td>0.240388</td>\n",
       "      <td>0.0</td>\n",
       "      <td>0.0</td>\n",
       "      <td>0.000000</td>\n",
       "      <td>0.0</td>\n",
       "      <td>0.000000</td>\n",
       "      <td>0.000000</td>\n",
       "      <td>0.0</td>\n",
       "      <td>0.214134</td>\n",
       "      <td>...</td>\n",
       "      <td>0.0</td>\n",
       "      <td>0.00000</td>\n",
       "      <td>0.000000</td>\n",
       "      <td>0.0</td>\n",
       "      <td>0.0</td>\n",
       "      <td>0.539239</td>\n",
       "      <td>0.251482</td>\n",
       "      <td>0.0</td>\n",
       "      <td>0.000000</td>\n",
       "      <td>0.0</td>\n",
       "    </tr>\n",
       "    <tr>\n",
       "      <th>39486</th>\n",
       "      <td>0.201203</td>\n",
       "      <td>0.000000</td>\n",
       "      <td>0.0</td>\n",
       "      <td>0.0</td>\n",
       "      <td>0.174879</td>\n",
       "      <td>0.0</td>\n",
       "      <td>0.242216</td>\n",
       "      <td>0.331013</td>\n",
       "      <td>0.0</td>\n",
       "      <td>0.000000</td>\n",
       "      <td>...</td>\n",
       "      <td>0.0</td>\n",
       "      <td>0.00000</td>\n",
       "      <td>0.275096</td>\n",
       "      <td>0.0</td>\n",
       "      <td>0.0</td>\n",
       "      <td>0.244914</td>\n",
       "      <td>0.228439</td>\n",
       "      <td>0.0</td>\n",
       "      <td>0.301544</td>\n",
       "      <td>0.0</td>\n",
       "    </tr>\n",
       "    <tr>\n",
       "      <th>...</th>\n",
       "      <td>...</td>\n",
       "      <td>...</td>\n",
       "      <td>...</td>\n",
       "      <td>...</td>\n",
       "      <td>...</td>\n",
       "      <td>...</td>\n",
       "      <td>...</td>\n",
       "      <td>...</td>\n",
       "      <td>...</td>\n",
       "      <td>...</td>\n",
       "      <td>...</td>\n",
       "      <td>...</td>\n",
       "      <td>...</td>\n",
       "      <td>...</td>\n",
       "      <td>...</td>\n",
       "      <td>...</td>\n",
       "      <td>...</td>\n",
       "      <td>...</td>\n",
       "      <td>...</td>\n",
       "      <td>...</td>\n",
       "      <td>...</td>\n",
       "    </tr>\n",
       "    <tr>\n",
       "      <th>56512</th>\n",
       "      <td>0.000000</td>\n",
       "      <td>0.000000</td>\n",
       "      <td>0.0</td>\n",
       "      <td>0.0</td>\n",
       "      <td>0.000000</td>\n",
       "      <td>0.0</td>\n",
       "      <td>0.000000</td>\n",
       "      <td>0.000000</td>\n",
       "      <td>0.0</td>\n",
       "      <td>0.000000</td>\n",
       "      <td>...</td>\n",
       "      <td>0.0</td>\n",
       "      <td>0.00000</td>\n",
       "      <td>0.000000</td>\n",
       "      <td>0.0</td>\n",
       "      <td>0.0</td>\n",
       "      <td>0.000000</td>\n",
       "      <td>0.000000</td>\n",
       "      <td>0.0</td>\n",
       "      <td>0.000000</td>\n",
       "      <td>0.0</td>\n",
       "    </tr>\n",
       "    <tr>\n",
       "      <th>56779</th>\n",
       "      <td>0.000000</td>\n",
       "      <td>0.000000</td>\n",
       "      <td>0.0</td>\n",
       "      <td>0.0</td>\n",
       "      <td>0.000000</td>\n",
       "      <td>0.0</td>\n",
       "      <td>0.000000</td>\n",
       "      <td>0.000000</td>\n",
       "      <td>0.0</td>\n",
       "      <td>0.000000</td>\n",
       "      <td>...</td>\n",
       "      <td>0.0</td>\n",
       "      <td>0.00000</td>\n",
       "      <td>0.000000</td>\n",
       "      <td>0.0</td>\n",
       "      <td>0.0</td>\n",
       "      <td>0.000000</td>\n",
       "      <td>0.000000</td>\n",
       "      <td>0.0</td>\n",
       "      <td>0.000000</td>\n",
       "      <td>0.0</td>\n",
       "    </tr>\n",
       "    <tr>\n",
       "      <th>53029</th>\n",
       "      <td>0.000000</td>\n",
       "      <td>0.000000</td>\n",
       "      <td>0.0</td>\n",
       "      <td>0.0</td>\n",
       "      <td>0.000000</td>\n",
       "      <td>0.0</td>\n",
       "      <td>0.000000</td>\n",
       "      <td>0.000000</td>\n",
       "      <td>0.0</td>\n",
       "      <td>0.000000</td>\n",
       "      <td>...</td>\n",
       "      <td>0.0</td>\n",
       "      <td>0.00000</td>\n",
       "      <td>0.000000</td>\n",
       "      <td>0.0</td>\n",
       "      <td>0.0</td>\n",
       "      <td>0.000000</td>\n",
       "      <td>0.000000</td>\n",
       "      <td>0.0</td>\n",
       "      <td>0.000000</td>\n",
       "      <td>0.0</td>\n",
       "    </tr>\n",
       "    <tr>\n",
       "      <th>9304</th>\n",
       "      <td>0.000000</td>\n",
       "      <td>0.000000</td>\n",
       "      <td>0.0</td>\n",
       "      <td>0.0</td>\n",
       "      <td>0.000000</td>\n",
       "      <td>0.0</td>\n",
       "      <td>0.000000</td>\n",
       "      <td>0.000000</td>\n",
       "      <td>0.0</td>\n",
       "      <td>0.000000</td>\n",
       "      <td>...</td>\n",
       "      <td>0.0</td>\n",
       "      <td>0.00000</td>\n",
       "      <td>0.000000</td>\n",
       "      <td>0.0</td>\n",
       "      <td>0.0</td>\n",
       "      <td>0.000000</td>\n",
       "      <td>0.000000</td>\n",
       "      <td>0.0</td>\n",
       "      <td>0.000000</td>\n",
       "      <td>0.0</td>\n",
       "    </tr>\n",
       "    <tr>\n",
       "      <th>56511</th>\n",
       "      <td>0.000000</td>\n",
       "      <td>0.000000</td>\n",
       "      <td>0.0</td>\n",
       "      <td>0.0</td>\n",
       "      <td>0.000000</td>\n",
       "      <td>0.0</td>\n",
       "      <td>0.000000</td>\n",
       "      <td>0.000000</td>\n",
       "      <td>0.0</td>\n",
       "      <td>0.000000</td>\n",
       "      <td>...</td>\n",
       "      <td>0.0</td>\n",
       "      <td>0.00000</td>\n",
       "      <td>0.000000</td>\n",
       "      <td>0.0</td>\n",
       "      <td>0.0</td>\n",
       "      <td>0.000000</td>\n",
       "      <td>0.000000</td>\n",
       "      <td>0.0</td>\n",
       "      <td>0.000000</td>\n",
       "      <td>0.0</td>\n",
       "    </tr>\n",
       "  </tbody>\n",
       "</table>\n",
       "<p>25464 rows × 50 columns</p>\n",
       "</div>"
      ],
      "text/plain": [
       "                0         1    2    3         4    5         6         7   \\\n",
       "anime_id                                                                    \n",
       "5114      0.243555  0.264325  0.0  0.0  0.000000  0.0  0.293202  0.000000   \n",
       "9253      0.000000  0.000000  0.0  0.0  0.000000  0.0  0.208083  0.000000   \n",
       "28977     0.191855  0.000000  0.0  0.0  0.166754  0.0  0.000000  0.000000   \n",
       "41467     0.221499  0.240388  0.0  0.0  0.000000  0.0  0.000000  0.000000   \n",
       "39486     0.201203  0.000000  0.0  0.0  0.174879  0.0  0.242216  0.331013   \n",
       "...            ...       ...  ...  ...       ...  ...       ...       ...   \n",
       "56512     0.000000  0.000000  0.0  0.0  0.000000  0.0  0.000000  0.000000   \n",
       "56779     0.000000  0.000000  0.0  0.0  0.000000  0.0  0.000000  0.000000   \n",
       "53029     0.000000  0.000000  0.0  0.0  0.000000  0.0  0.000000  0.000000   \n",
       "9304      0.000000  0.000000  0.0  0.0  0.000000  0.0  0.000000  0.000000   \n",
       "56511     0.000000  0.000000  0.0  0.0  0.000000  0.0  0.000000  0.000000   \n",
       "\n",
       "           8         9   ...   40       41        42   43   44        45  \\\n",
       "anime_id                 ...                                               \n",
       "5114      0.0  0.235457  ...  0.0  0.00000  0.000000  0.0  0.0  0.296467   \n",
       "9253      0.0  0.000000  ...  0.0  0.00000  0.708988  0.0  0.0  0.000000   \n",
       "28977     0.0  0.000000  ...  0.0  0.64006  0.000000  0.0  0.0  0.233535   \n",
       "41467     0.0  0.214134  ...  0.0  0.00000  0.000000  0.0  0.0  0.539239   \n",
       "39486     0.0  0.000000  ...  0.0  0.00000  0.275096  0.0  0.0  0.244914   \n",
       "...       ...       ...  ...  ...      ...       ...  ...  ...       ...   \n",
       "56512     0.0  0.000000  ...  0.0  0.00000  0.000000  0.0  0.0  0.000000   \n",
       "56779     0.0  0.000000  ...  0.0  0.00000  0.000000  0.0  0.0  0.000000   \n",
       "53029     0.0  0.000000  ...  0.0  0.00000  0.000000  0.0  0.0  0.000000   \n",
       "9304      0.0  0.000000  ...  0.0  0.00000  0.000000  0.0  0.0  0.000000   \n",
       "56511     0.0  0.000000  ...  0.0  0.00000  0.000000  0.0  0.0  0.000000   \n",
       "\n",
       "                46   47        48   49  \n",
       "anime_id                                \n",
       "5114      0.276524  0.0  0.365017  0.0  \n",
       "9253      0.196247  0.0  0.000000  0.0  \n",
       "28977     0.217825  0.0  0.000000  0.0  \n",
       "41467     0.251482  0.0  0.000000  0.0  \n",
       "39486     0.228439  0.0  0.301544  0.0  \n",
       "...            ...  ...       ...  ...  \n",
       "56512     0.000000  0.0  0.000000  0.0  \n",
       "56779     0.000000  0.0  0.000000  0.0  \n",
       "53029     0.000000  0.0  0.000000  0.0  \n",
       "9304      0.000000  0.0  0.000000  0.0  \n",
       "56511     0.000000  0.0  0.000000  0.0  \n",
       "\n",
       "[25464 rows x 50 columns]"
      ]
     },
     "execution_count": 162,
     "metadata": {},
     "output_type": "execute_result"
    }
   ],
   "source": [
    "anime_cbf_recommender = CBFRecommender(anime_df, train_df)\n",
    "anime_cbf_recommender.vectorize_anime_data(stop_words='english', max_features=50, max_df=0.5, min_df=0.01)"
   ]
  },
  {
   "cell_type": "code",
   "execution_count": 163,
   "metadata": {},
   "outputs": [
    {
     "data": {
      "text/plain": [
       "{'average_recall': 0.7935296126485164,\n",
       " 'average_precision': 0.9804946206511026,\n",
       " 'average_f1': 0.8771599642492781}"
      ]
     },
     "execution_count": 163,
     "metadata": {},
     "output_type": "execute_result"
    }
   ],
   "source": [
    "cbf_cosine_eval = anime_cbf_recommender.test_recommendations(num_recommendations=num_recommendations, distance_metric='cosine', evaluation_distance_metric=eval_dist_metric)\n",
    "cbf_cosine_eval"
   ]
  },
  {
   "cell_type": "code",
   "execution_count": 164,
   "metadata": {},
   "outputs": [
    {
     "data": {
      "text/plain": [
       "{'average_recall': 0.20287343067976105,\n",
       " 'average_precision': 0.09949000978063437,\n",
       " 'average_f1': 0.13350740798442545}"
      ]
     },
     "execution_count": 164,
     "metadata": {},
     "output_type": "execute_result"
    }
   ],
   "source": [
    "cbf_euclidean_eval = anime_cbf_recommender.test_recommendations(num_recommendations=num_recommendations, distance_metric='euclidean', evaluation_distance_metric=eval_dist_metric)\n",
    "cbf_euclidean_eval"
   ]
  },
  {
   "cell_type": "code",
   "execution_count": 165,
   "metadata": {},
   "outputs": [
    {
     "data": {
      "text/plain": [
       "{'average_recall': 0.49119051348494747,\n",
       " 'average_precision': 0.3992943970937556,\n",
       " 'average_f1': 0.44050071508271776}"
      ]
     },
     "execution_count": 165,
     "metadata": {},
     "output_type": "execute_result"
    }
   ],
   "source": [
    "cbf_manhattan_eval = anime_cbf_recommender.test_recommendations(num_recommendations=num_recommendations, distance_metric='manhattan', evaluation_distance_metric=eval_dist_metric)\n",
    "cbf_manhattan_eval"
   ]
  },
  {
   "cell_type": "code",
   "execution_count": 166,
   "metadata": {},
   "outputs": [
    {
     "data": {
      "image/png": "[encoded data removed]",
      "text/plain": [
       "<Figure size 640x480 with 1 Axes>"
      ]
     },
     "metadata": {},
     "output_type": "display_data"
    }
   ],
   "source": [
    "import matplotlib.pyplot as plt\n",
    "fig, ax = plt.subplots()\n",
    "\n",
    "distance_metric_labels = ['Cosine', 'Euclidean', 'Manhattan']\n",
    "distance_evaluations = [cbf_cosine_eval['average_f1'], cbf_euclidean_eval['average_f1'], cbf_manhattan_eval['average_f1']]\n",
    "\n",
    "ax.bar(distance_metric_labels, distance_evaluations)\n",
    "ax.set_ylabel('F1 Score (Average)')\n",
    "ax.set_xlabel('Distance Metric')\n",
    "ax.set_title('Evaluating Distance Metrics for a Content-Based Recommender')\n",
    "\n",
    "plt.show()"
   ]
  },
  {
   "cell_type": "markdown",
   "metadata": {},
   "source": [
    "## Evaluate the Collaborative Recommender"
   ]
  },
  {
   "cell_type": "code",
   "execution_count": 196,
   "metadata": {},
   "outputs": [],
   "source": [
    "cf_ratings_data = convert_user_ratings_to_surprise_dataset(train_df)\n",
    "cf_svd_recommender = CollaborativeFilteringRecommender(cf_ratings_data, performGridsearch=False)"
   ]
  },
  {
   "cell_type": "code",
   "execution_count": 197,
   "metadata": {},
   "outputs": [
    {
     "data": {
      "text/plain": [
       "{'average_recall': 0.4792301639541272,\n",
       " 'average_precision': 0.7549392203437129,\n",
       " 'average_f1': 0.5862884802422037}"
      ]
     },
     "execution_count": 197,
     "metadata": {},
     "output_type": "execute_result"
    }
   ],
   "source": [
    "cf_svd_recommendations = cf_svd_recommender.test_recommendations(num_recommendations, test_df, anime_cbf_recommender.anime_vector_df, evaluation_distance_metric=eval_dist_metric)\n",
    "cf_svd_recommendations"
   ]
  },
  {
   "cell_type": "code",
   "execution_count": 198,
   "metadata": {},
   "outputs": [],
   "source": [
    "cf_nmf_recommender = CollaborativeFilteringRecommender(cf_ratings_data, mf_algorithm=NMF, performGridsearch=False)"
   ]
  },
  {
   "cell_type": "code",
   "execution_count": 199,
   "metadata": {},
   "outputs": [
    {
     "data": {
      "text/plain": [
       "{'average_recall': 0.3309793861690459,\n",
       " 'average_precision': 0.6083414838619522,\n",
       " 'average_f1': 0.4287107788910319}"
      ]
     },
     "execution_count": 199,
     "metadata": {},
     "output_type": "execute_result"
    }
   ],
   "source": [
    "cf_nmf_recommendations = cf_nmf_recommender.test_recommendations(num_recommendations, test_df, anime_cbf_recommender.anime_vector_df, evaluation_distance_metric=eval_dist_metric)\n",
    "cf_nmf_recommendations"
   ]
  },
  {
   "cell_type": "code",
   "execution_count": 200,
   "metadata": {},
   "outputs": [
    {
     "data": {
      "image/png": "[encoded data removed]",
      "text/plain": [
       "<Figure size 640x480 with 1 Axes>"
      ]
     },
     "metadata": {},
     "output_type": "display_data"
    }
   ],
   "source": [
    "import matplotlib.pyplot as plt\n",
    "fig, ax = plt.subplots()\n",
    "\n",
    "distance_metric_labels = ['SVD', 'NMF']\n",
    "distance_evaluations = [cf_svd_recommendations['average_f1'], cf_nmf_recommendations['average_f1']]\n",
    "\n",
    "ax.bar(distance_metric_labels, distance_evaluations)\n",
    "ax.set_ylabel('F1 Score (Average)')\n",
    "ax.set_xlabel('Collaborative Filtering Algorithm')\n",
    "ax.set_title('Evaluating Distance Metrics for a Collaborative Filtering Recommender')\n",
    "\n",
    "plt.show()"
   ]
  },
  {
   "cell_type": "markdown",
   "metadata": {},
   "source": [
    "## Evaluate the Hybrid Recommender"
   ]
  },
  {
   "cell_type": "code",
   "execution_count": 205,
   "metadata": {
    "tags": []
   },
   "outputs": [],
   "source": [
    "hybrid_recommender = HybridRecommender(anime_df, train_df)"
   ]
  },
  {
   "cell_type": "code",
   "execution_count": 206,
   "metadata": {
    "tags": []
   },
   "outputs": [
    {
     "data": {
      "text/plain": [
       "{'average_recall': 0.7235901483604533,\n",
       " 'average_precision': 0.9273368729914453,\n",
       " 'average_f1': 0.812890959842096}"
      ]
     },
     "execution_count": 206,
     "metadata": {},
     "output_type": "execute_result"
    }
   ],
   "source": [
    "hybrid_recommender_eval = hybrid_recommender.test_recommendations(num_recommendations, test_df, anime_cbf_recommender.anime_vector_df, evaluation_distance_metric=eval_dist_metric)\n",
    "hybrid_recommender_eval"
   ]
  },
  {
   "cell_type": "markdown",
   "metadata": {},
   "source": [
    "## Compare the Recommenders"
   ]
  },
  {
   "cell_type": "code",
   "execution_count": 207,
   "metadata": {
    "tags": []
   },
   "outputs": [
    {
     "data": {
      "image/png": "[encoded data removed]",
      "text/plain": [
       "<Figure size 640x480 with 1 Axes>"
      ]
     },
     "metadata": {},
     "output_type": "display_data"
    }
   ],
   "source": [
    "import matplotlib.pyplot as plt\n",
    "fig, ax = plt.subplots()\n",
    "\n",
    "recommender_labels = ['CBF', 'CF', 'Hybrid']\n",
    "distance_evaluations = [cbf_cosine_eval['average_f1'], cf_svd_recommendations['average_f1'], hybrid_recommender_eval['average_f1']]\n",
    "\n",
    "ax.bar(recommender_labels, distance_evaluations)\n",
    "ax.set_ylabel('F1 Score (Average)')\n",
    "ax.set_xlabel('Recommender System')\n",
    "ax.set_title('Comparing the Minimum Distance (Euclidean) for Different Recommenders')\n",
    "\n",
    "plt.show()"
   ]
  }
 ],
 "metadata": {
  "colab": {
   "provenance": [],
   "toc_visible": true
  },
  "kernelspec": {
   "display_name": "Python 3 (ipykernel)",
   "language": "python",
   "name": "python3"
  },
  "language_info": {
   "codemirror_mode": {
    "name": "ipython",
    "version": 3
   },
   "file_extension": ".py",
   "mimetype": "text/x-python",
   "name": "python",
   "nbconvert_exporter": "python",
   "pygments_lexer": "ipython3",
   "version": "3.11.5"
  },
  "toc-autonumbering": true
 },
 "nbformat": 4,
 "nbformat_minor": 4
}
