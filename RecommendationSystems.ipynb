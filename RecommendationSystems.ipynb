{
 "cells": [
  {
   "cell_type": "markdown",
   "metadata": {},
   "source": [
    "# Import the Datasets"
   ]
  },
  {
   "cell_type": "code",
   "execution_count": 1,
   "metadata": {
    "id": "s4DYiR2Ps-yT",
    "tags": []
   },
   "outputs": [],
   "source": [
    "import pandas as pd\n",
    "import numpy as np\n",
    "import matplotlib.pyplot as plt\n",
    "from sklearn.metrics.pairwise import cosine_distances, euclidean_distances, manhattan_distances, linear_kernel\n",
    "from sklearn.feature_extraction.text import TfidfVectorizer\n",
    "import os"
   ]
  },
  {
   "cell_type": "markdown",
   "metadata": {
    "tags": []
   },
   "source": [
    "## The Standard Dataset\n",
    "This dataset will have new users removed and will be used to represent what a typical dataset would look like for a recommender system. It will be used alongside the new users dataset to build a better picture when evaluating each recommender."
   ]
  },
  {
   "cell_type": "markdown",
   "metadata": {},
   "source": [
    "The datasets aren't included in the GitHub repository due to storage restrictions with Git LFS. You can use the provided python scripts to collect the data yourself or, you can simply download the data from here: https://drive.google.com/drive/folders/1byfM21Q65Mn5gb2SVcutu_z-MspwJbr3?usp=drive_link."
   ]
  },
  {
   "cell_type": "code",
   "execution_count": 2,
   "metadata": {
    "id": "YLTnYtRSs8ap"
   },
   "outputs": [],
   "source": [
    "# Data Gathered By Me Via the MyAnimeList API and Jikan REST API\n",
    "anime_df = pd.read_csv('./data/anime.csv')\n",
    "user_ratings_df = pd.read_csv('./data/user_ratings.csv', parse_dates=['updated_at'])"
   ]
  },
  {
   "cell_type": "code",
   "execution_count": 3,
   "metadata": {
    "colab": {
     "base_uri": "https://localhost:8080/",
     "height": 573
    },
    "id": "8vUSJ5xEXOv7",
    "outputId": "faee2ac4-2fea-4c8e-fe05-b2c775044e89"
   },
   "outputs": [
    {
     "data": {
      "text/html": [
       "<div>\n",
       "<style scoped>\n",
       "    .dataframe tbody tr th:only-of-type {\n",
       "        vertical-align: middle;\n",
       "    }\n",
       "\n",
       "    .dataframe tbody tr th {\n",
       "        vertical-align: top;\n",
       "    }\n",
       "\n",
       "    .dataframe thead th {\n",
       "        text-align: right;\n",
       "    }\n",
       "</style>\n",
       "<table border=\"1\" class=\"dataframe\">\n",
       "  <thead>\n",
       "    <tr style=\"text-align: right;\">\n",
       "      <th></th>\n",
       "      <th>id</th>\n",
       "      <th>title</th>\n",
       "      <th>start_date</th>\n",
       "      <th>end_date</th>\n",
       "      <th>synopsis</th>\n",
       "      <th>score</th>\n",
       "      <th>rank</th>\n",
       "      <th>popularity</th>\n",
       "      <th>num_list_users</th>\n",
       "      <th>num_scoring_users</th>\n",
       "      <th>media_type</th>\n",
       "      <th>status</th>\n",
       "      <th>genres</th>\n",
       "      <th>num_episodes</th>\n",
       "      <th>start_season</th>\n",
       "      <th>broadcast_day</th>\n",
       "      <th>broadcast_time</th>\n",
       "      <th>source</th>\n",
       "      <th>rating</th>\n",
       "      <th>studios</th>\n",
       "    </tr>\n",
       "  </thead>\n",
       "  <tbody>\n",
       "    <tr>\n",
       "      <th>0</th>\n",
       "      <td>5114</td>\n",
       "      <td>Fullmetal Alchemist: Brotherhood</td>\n",
       "      <td>2009-04-05</td>\n",
       "      <td>2010-07-04</td>\n",
       "      <td>After a horrific alchemy experiment goes wrong...</td>\n",
       "      <td>9.10</td>\n",
       "      <td>1.0</td>\n",
       "      <td>3</td>\n",
       "      <td>3240265</td>\n",
       "      <td>2056814</td>\n",
       "      <td>tv</td>\n",
       "      <td>finished_airing</td>\n",
       "      <td>Action,Adventure,Drama,Fantasy,Military,Shounen</td>\n",
       "      <td>64</td>\n",
       "      <td>spring</td>\n",
       "      <td>sunday</td>\n",
       "      <td>17:00</td>\n",
       "      <td>manga</td>\n",
       "      <td>r</td>\n",
       "      <td>Bones</td>\n",
       "    </tr>\n",
       "    <tr>\n",
       "      <th>1</th>\n",
       "      <td>9253</td>\n",
       "      <td>Steins;Gate</td>\n",
       "      <td>2011-04-06</td>\n",
       "      <td>2011-09-14</td>\n",
       "      <td>Eccentric scientist Rintarou Okabe has a never...</td>\n",
       "      <td>9.07</td>\n",
       "      <td>2.0</td>\n",
       "      <td>13</td>\n",
       "      <td>2489957</td>\n",
       "      <td>1361494</td>\n",
       "      <td>tv</td>\n",
       "      <td>finished_airing</td>\n",
       "      <td>Drama,Psychological,Sci-Fi,Suspense,Time Travel</td>\n",
       "      <td>24</td>\n",
       "      <td>spring</td>\n",
       "      <td>wednesday</td>\n",
       "      <td>02:05</td>\n",
       "      <td>visual_novel</td>\n",
       "      <td>pg_13</td>\n",
       "      <td>White Fox</td>\n",
       "    </tr>\n",
       "    <tr>\n",
       "      <th>2</th>\n",
       "      <td>28977</td>\n",
       "      <td>Gintama°</td>\n",
       "      <td>2015-04-08</td>\n",
       "      <td>2016-03-30</td>\n",
       "      <td>Gintoki, Shinpachi, and Kagura return as the f...</td>\n",
       "      <td>9.06</td>\n",
       "      <td>3.0</td>\n",
       "      <td>336</td>\n",
       "      <td>610158</td>\n",
       "      <td>243298</td>\n",
       "      <td>tv</td>\n",
       "      <td>finished_airing</td>\n",
       "      <td>Action,Comedy,Gag Humor,Historical,Parody,Samu...</td>\n",
       "      <td>51</td>\n",
       "      <td>spring</td>\n",
       "      <td>wednesday</td>\n",
       "      <td>18:00</td>\n",
       "      <td>manga</td>\n",
       "      <td>pg_13</td>\n",
       "      <td>Bandai Namco Pictures</td>\n",
       "    </tr>\n",
       "    <tr>\n",
       "      <th>3</th>\n",
       "      <td>41467</td>\n",
       "      <td>Bleach: Sennen Kessen-hen</td>\n",
       "      <td>2022-10-11</td>\n",
       "      <td>2022-12-27</td>\n",
       "      <td>Substitute Soul Reaper Ichigo Kurosaki spends ...</td>\n",
       "      <td>9.05</td>\n",
       "      <td>4.0</td>\n",
       "      <td>432</td>\n",
       "      <td>489199</td>\n",
       "      <td>245969</td>\n",
       "      <td>tv</td>\n",
       "      <td>finished_airing</td>\n",
       "      <td>Action,Adventure,Fantasy,Shounen</td>\n",
       "      <td>13</td>\n",
       "      <td>fall</td>\n",
       "      <td>tuesday</td>\n",
       "      <td>00:00</td>\n",
       "      <td>manga</td>\n",
       "      <td>r</td>\n",
       "      <td>Pierrot</td>\n",
       "    </tr>\n",
       "    <tr>\n",
       "      <th>4</th>\n",
       "      <td>39486</td>\n",
       "      <td>Gintama: The Final</td>\n",
       "      <td>2021-01-08</td>\n",
       "      <td>2021-01-08</td>\n",
       "      <td>Two years have passed following the Tendoshuu'...</td>\n",
       "      <td>9.05</td>\n",
       "      <td>5.0</td>\n",
       "      <td>1550</td>\n",
       "      <td>140032</td>\n",
       "      <td>67119</td>\n",
       "      <td>movie</td>\n",
       "      <td>finished_airing</td>\n",
       "      <td>Action,Comedy,Drama,Gag Humor,Historical,Parod...</td>\n",
       "      <td>1</td>\n",
       "      <td>winter</td>\n",
       "      <td>NaN</td>\n",
       "      <td>NaN</td>\n",
       "      <td>manga</td>\n",
       "      <td>pg_13</td>\n",
       "      <td>Bandai Namco Pictures</td>\n",
       "    </tr>\n",
       "  </tbody>\n",
       "</table>\n",
       "</div>"
      ],
      "text/plain": [
       "      id                             title  start_date    end_date  \\\n",
       "0   5114  Fullmetal Alchemist: Brotherhood  2009-04-05  2010-07-04   \n",
       "1   9253                       Steins;Gate  2011-04-06  2011-09-14   \n",
       "2  28977                          Gintama°  2015-04-08  2016-03-30   \n",
       "3  41467         Bleach: Sennen Kessen-hen  2022-10-11  2022-12-27   \n",
       "4  39486                Gintama: The Final  2021-01-08  2021-01-08   \n",
       "\n",
       "                                            synopsis  score  rank  popularity  \\\n",
       "0  After a horrific alchemy experiment goes wrong...   9.10   1.0           3   \n",
       "1  Eccentric scientist Rintarou Okabe has a never...   9.07   2.0          13   \n",
       "2  Gintoki, Shinpachi, and Kagura return as the f...   9.06   3.0         336   \n",
       "3  Substitute Soul Reaper Ichigo Kurosaki spends ...   9.05   4.0         432   \n",
       "4  Two years have passed following the Tendoshuu'...   9.05   5.0        1550   \n",
       "\n",
       "   num_list_users  num_scoring_users media_type           status  \\\n",
       "0         3240265            2056814         tv  finished_airing   \n",
       "1         2489957            1361494         tv  finished_airing   \n",
       "2          610158             243298         tv  finished_airing   \n",
       "3          489199             245969         tv  finished_airing   \n",
       "4          140032              67119      movie  finished_airing   \n",
       "\n",
       "                                              genres  num_episodes  \\\n",
       "0    Action,Adventure,Drama,Fantasy,Military,Shounen            64   \n",
       "1    Drama,Psychological,Sci-Fi,Suspense,Time Travel            24   \n",
       "2  Action,Comedy,Gag Humor,Historical,Parody,Samu...            51   \n",
       "3                   Action,Adventure,Fantasy,Shounen            13   \n",
       "4  Action,Comedy,Drama,Gag Humor,Historical,Parod...             1   \n",
       "\n",
       "  start_season broadcast_day broadcast_time        source rating  \\\n",
       "0       spring        sunday          17:00         manga      r   \n",
       "1       spring     wednesday          02:05  visual_novel  pg_13   \n",
       "2       spring     wednesday          18:00         manga  pg_13   \n",
       "3         fall       tuesday          00:00         manga      r   \n",
       "4       winter           NaN            NaN         manga  pg_13   \n",
       "\n",
       "                 studios  \n",
       "0                  Bones  \n",
       "1              White Fox  \n",
       "2  Bandai Namco Pictures  \n",
       "3                Pierrot  \n",
       "4  Bandai Namco Pictures  "
      ]
     },
     "execution_count": 3,
     "metadata": {},
     "output_type": "execute_result"
    }
   ],
   "source": [
    "anime_df.head()"
   ]
  },
  {
   "cell_type": "code",
   "execution_count": 4,
   "metadata": {
    "tags": []
   },
   "outputs": [
    {
     "data": {
      "text/html": [
       "<div>\n",
       "<style scoped>\n",
       "    .dataframe tbody tr th:only-of-type {\n",
       "        vertical-align: middle;\n",
       "    }\n",
       "\n",
       "    .dataframe tbody tr th {\n",
       "        vertical-align: top;\n",
       "    }\n",
       "\n",
       "    .dataframe thead th {\n",
       "        text-align: right;\n",
       "    }\n",
       "</style>\n",
       "<table border=\"1\" class=\"dataframe\">\n",
       "  <thead>\n",
       "    <tr style=\"text-align: right;\">\n",
       "      <th></th>\n",
       "      <th>user_id</th>\n",
       "      <th>anime_id</th>\n",
       "      <th>score</th>\n",
       "      <th>status</th>\n",
       "      <th>num_episodes_watched</th>\n",
       "      <th>updated_at</th>\n",
       "      <th>start_date</th>\n",
       "      <th>finish_date</th>\n",
       "    </tr>\n",
       "  </thead>\n",
       "  <tbody>\n",
       "    <tr>\n",
       "      <th>0</th>\n",
       "      <td>0</td>\n",
       "      <td>41457</td>\n",
       "      <td>7</td>\n",
       "      <td>completed</td>\n",
       "      <td>11</td>\n",
       "      <td>2023-02-16 10:18:23+00:00</td>\n",
       "      <td>NaN</td>\n",
       "      <td>2023-01-01</td>\n",
       "    </tr>\n",
       "    <tr>\n",
       "      <th>1</th>\n",
       "      <td>0</td>\n",
       "      <td>48569</td>\n",
       "      <td>7</td>\n",
       "      <td>watching</td>\n",
       "      <td>7</td>\n",
       "      <td>2023-03-09 11:11:20+00:00</td>\n",
       "      <td>2023-01-01</td>\n",
       "      <td>NaN</td>\n",
       "    </tr>\n",
       "    <tr>\n",
       "      <th>2</th>\n",
       "      <td>0</td>\n",
       "      <td>32998</td>\n",
       "      <td>9</td>\n",
       "      <td>completed</td>\n",
       "      <td>12</td>\n",
       "      <td>2023-04-15 14:29:11+00:00</td>\n",
       "      <td>NaN</td>\n",
       "      <td>2023-01-01</td>\n",
       "    </tr>\n",
       "    <tr>\n",
       "      <th>3</th>\n",
       "      <td>0</td>\n",
       "      <td>25013</td>\n",
       "      <td>0</td>\n",
       "      <td>plan_to_watch</td>\n",
       "      <td>0</td>\n",
       "      <td>2023-04-15 14:44:38+00:00</td>\n",
       "      <td>NaN</td>\n",
       "      <td>NaN</td>\n",
       "    </tr>\n",
       "    <tr>\n",
       "      <th>4</th>\n",
       "      <td>0</td>\n",
       "      <td>36649</td>\n",
       "      <td>7</td>\n",
       "      <td>completed</td>\n",
       "      <td>24</td>\n",
       "      <td>2023-04-15 14:29:23+00:00</td>\n",
       "      <td>NaN</td>\n",
       "      <td>2023-01-01</td>\n",
       "    </tr>\n",
       "  </tbody>\n",
       "</table>\n",
       "</div>"
      ],
      "text/plain": [
       "   user_id  anime_id  score         status  num_episodes_watched  \\\n",
       "0        0     41457      7      completed                    11   \n",
       "1        0     48569      7       watching                     7   \n",
       "2        0     32998      9      completed                    12   \n",
       "3        0     25013      0  plan_to_watch                     0   \n",
       "4        0     36649      7      completed                    24   \n",
       "\n",
       "                 updated_at  start_date finish_date  \n",
       "0 2023-02-16 10:18:23+00:00         NaN  2023-01-01  \n",
       "1 2023-03-09 11:11:20+00:00  2023-01-01         NaN  \n",
       "2 2023-04-15 14:29:11+00:00         NaN  2023-01-01  \n",
       "3 2023-04-15 14:44:38+00:00         NaN         NaN  \n",
       "4 2023-04-15 14:29:23+00:00         NaN  2023-01-01  "
      ]
     },
     "execution_count": 4,
     "metadata": {},
     "output_type": "execute_result"
    }
   ],
   "source": [
    "user_ratings_df.head()"
   ]
  },
  {
   "cell_type": "markdown",
   "metadata": {},
   "source": [
    "## The New Users Dataset\n",
    "This dataset will be intentionally biased so that it has only *new* users. This dataset will be used to evaluate each recommender's performance with new users.\n",
    "\n",
    "The datasets aren't included in the GitHub repository due to storage restrictions with Git LFS. This dataset uses data from Kaggle, so you will need to download the dataset from here: https://drive.google.com/drive/folders/1VHbxxhSLdK_g7ro7-3a7ntgL1YXdp-WT?usp=sharing."
   ]
  },
  {
   "cell_type": "code",
   "execution_count": 5,
   "metadata": {
    "tags": []
   },
   "outputs": [],
   "source": [
    "new_users_ratings_df = None\n",
    "\n",
    "if os.path.isfile('./data/new_users_ratings.csv'): # Using this file will save time and memory\n",
    "    new_users_ratings_df = pd.read_csv('./data/new_users_ratings.csv')\n",
    "else:\n",
    "    new_users_ratings_df = pd.read_csv('./data/rating_complete.csv')"
   ]
  },
  {
   "cell_type": "code",
   "execution_count": 6,
   "metadata": {
    "tags": []
   },
   "outputs": [
    {
     "data": {
      "text/html": [
       "<div>\n",
       "<style scoped>\n",
       "    .dataframe tbody tr th:only-of-type {\n",
       "        vertical-align: middle;\n",
       "    }\n",
       "\n",
       "    .dataframe tbody tr th {\n",
       "        vertical-align: top;\n",
       "    }\n",
       "\n",
       "    .dataframe thead th {\n",
       "        text-align: right;\n",
       "    }\n",
       "</style>\n",
       "<table border=\"1\" class=\"dataframe\">\n",
       "  <thead>\n",
       "    <tr style=\"text-align: right;\">\n",
       "      <th></th>\n",
       "      <th>user_id</th>\n",
       "      <th>anime_id</th>\n",
       "      <th>score</th>\n",
       "    </tr>\n",
       "  </thead>\n",
       "  <tbody>\n",
       "    <tr>\n",
       "      <th>0</th>\n",
       "      <td>0</td>\n",
       "      <td>430</td>\n",
       "      <td>9</td>\n",
       "    </tr>\n",
       "    <tr>\n",
       "      <th>1</th>\n",
       "      <td>0</td>\n",
       "      <td>1004</td>\n",
       "      <td>5</td>\n",
       "    </tr>\n",
       "    <tr>\n",
       "      <th>2</th>\n",
       "      <td>0</td>\n",
       "      <td>3010</td>\n",
       "      <td>7</td>\n",
       "    </tr>\n",
       "    <tr>\n",
       "      <th>3</th>\n",
       "      <td>0</td>\n",
       "      <td>570</td>\n",
       "      <td>7</td>\n",
       "    </tr>\n",
       "    <tr>\n",
       "      <th>4</th>\n",
       "      <td>0</td>\n",
       "      <td>2762</td>\n",
       "      <td>9</td>\n",
       "    </tr>\n",
       "  </tbody>\n",
       "</table>\n",
       "</div>"
      ],
      "text/plain": [
       "   user_id  anime_id  score\n",
       "0        0       430      9\n",
       "1        0      1004      5\n",
       "2        0      3010      7\n",
       "3        0       570      7\n",
       "4        0      2762      9"
      ]
     },
     "execution_count": 6,
     "metadata": {},
     "output_type": "execute_result"
    }
   ],
   "source": [
    "new_users_ratings_df.head()"
   ]
  },
  {
   "cell_type": "code",
   "execution_count": 7,
   "metadata": {
    "tags": []
   },
   "outputs": [],
   "source": [
    "# Keep the column headers consitent between datasets\n",
    "new_users_ratings_df = new_users_ratings_df.rename(columns={\"rating\": \"score\"})"
   ]
  },
  {
   "cell_type": "markdown",
   "metadata": {
    "tags": []
   },
   "source": [
    "# Handle Pre-Processing"
   ]
  },
  {
   "cell_type": "markdown",
   "metadata": {
    "tags": []
   },
   "source": [
    "## Biasing the New Users Dataset Towards New Users\n",
    "The New Users Dataset will have the same number of users as the Standard Dataset to ensure that comparing the two is fair. The New Users Dataset will have 50% of it's users be considered new."
   ]
  },
  {
   "cell_type": "code",
   "execution_count": 8,
   "metadata": {
    "tags": []
   },
   "outputs": [
    {
     "name": "stdout",
     "output_type": "stream",
     "text": [
      "8738\n"
     ]
    }
   ],
   "source": [
    "print(len(new_users_ratings_df.user_id.unique()))"
   ]
  },
  {
   "cell_type": "code",
   "execution_count": 9,
   "metadata": {
    "tags": []
   },
   "outputs": [],
   "source": [
    "if not os.path.isfile('./data/new_users_ratings.csv'): # Only need to do this if the file doesn't exist\n",
    "    num_max_users = 50000\n",
    "    new_users_ratings_df = new_users_ratings_df.loc[new_users_ratings_df.user_id <= num_max_users]\n",
    "    \n",
    "    users_to_keep = []\n",
    "    target_num_users = len(user_ratings_df.user_id.unique())\n",
    "    target_num_new_users = int(target_num_users * 1.0)\n",
    "    target_num_std_users = target_num_users - target_num_new_users\n",
    "    num_max_new_user_ratings = 30\n",
    "\n",
    "    for user_id in new_users_ratings_df.user_id.unique():\n",
    "        if len(users_to_keep) < target_num_users: # The dataset contains enough users\n",
    "            users_ratings = new_users_ratings_df.loc[new_users_ratings_df.user_id == user_id]\n",
    "\n",
    "            if len(new_users_ratings_df.loc[new_users_ratings_df.score > 0]) == 0: # Don't add user if they have only given scores of zero\n",
    "                continue\n",
    "            else:\n",
    "                if len(users_ratings) > num_max_new_user_ratings: # Only add standard users when over the required new user threshold\n",
    "                    users_to_keep.append(user_id)\n",
    "                else:    \n",
    "                    if len(users_to_keep) < target_num_new_users: # Only add new users when under the required threshold\n",
    "                        if len(users_ratings) <= num_max_new_user_ratings and len(users_ratings) >= 2:\n",
    "                            users_to_keep.append(user_id)                \n",
    "        else:\n",
    "            break\n",
    "    \n",
    "    print(f\"{len(users_to_keep)}/{target_num_users}\")\n",
    "    new_users_ratings_df = new_users_ratings_df.loc[new_users_ratings_df.user_id.isin(users_to_keep)]\n",
    "    new_users_ratings_df.to_csv('./data/new_users_ratings.csv', index=False)"
   ]
  },
  {
   "cell_type": "markdown",
   "metadata": {},
   "source": [
    "## Misc Pre-Processing"
   ]
  },
  {
   "cell_type": "code",
   "execution_count": 10,
   "metadata": {
    "id": "r66REtk-XQxk"
   },
   "outputs": [],
   "source": [
    "# Only this dataset contains these columns\n",
    "user_ratings_df.drop(columns=['start_date', 'finish_date'], inplace=True)"
   ]
  },
  {
   "cell_type": "code",
   "execution_count": 11,
   "metadata": {
    "colab": {
     "base_uri": "https://localhost:8080/"
    },
    "id": "2kK21xATaMcr",
    "outputId": "b0f03447-9325-45fb-a5b6-f04d33e1d2ab"
   },
   "outputs": [
    {
     "data": {
      "text/plain": [
       "user_id                 0\n",
       "anime_id                0\n",
       "score                   0\n",
       "status                  1\n",
       "num_episodes_watched    0\n",
       "updated_at              0\n",
       "dtype: int64"
      ]
     },
     "execution_count": 11,
     "metadata": {},
     "output_type": "execute_result"
    }
   ],
   "source": [
    "user_ratings_df.isna().sum()"
   ]
  },
  {
   "cell_type": "code",
   "execution_count": 12,
   "metadata": {
    "tags": []
   },
   "outputs": [
    {
     "data": {
      "text/plain": [
       "user_id     0\n",
       "anime_id    0\n",
       "score       0\n",
       "dtype: int64"
      ]
     },
     "execution_count": 12,
     "metadata": {},
     "output_type": "execute_result"
    }
   ],
   "source": [
    "new_users_ratings_df.isna().sum()"
   ]
  },
  {
   "cell_type": "markdown",
   "metadata": {
    "id": "9nsp1GHyeyWy"
   },
   "source": [
    "Although the above functions shows that there are no missing score values, a score of 0 indicates that the score was missing since it's not possible on MyAnimeList to rate an anime 0 unless you choose not to rate the anime."
   ]
  },
  {
   "cell_type": "markdown",
   "metadata": {
    "id": "yVTC2_98fRe9"
   },
   "source": [
    "## Remove Users who have only given scores of 0 in the Standard Dataset"
   ]
  },
  {
   "cell_type": "code",
   "execution_count": 13,
   "metadata": {
    "colab": {
     "base_uri": "https://localhost:8080/"
    },
    "id": "BTdwatplfY95",
    "outputId": "72d23e36-2cf1-4e4d-9df1-b1f40bc958f4"
   },
   "outputs": [],
   "source": [
    "def remove_zero_scoring_users(ratings_df: pd.DataFrame):\n",
    "    users_to_remove = []\n",
    "    for user_id in ratings_df.user_id.unique():\n",
    "      users_ratings = ratings_df.loc[ratings_df.user_id == user_id]\n",
    "      num_non_zero_scores = len(ratings_df.loc[ratings_df.score > 0])\n",
    "\n",
    "      if num_non_zero_scores == 0:\n",
    "        users_to_remove.append(user_id)\n",
    "\n",
    "    print(users_to_remove)\n",
    "    return users_to_remove"
   ]
  },
  {
   "cell_type": "code",
   "execution_count": 14,
   "metadata": {
    "id": "w86cknLnhYiK"
   },
   "outputs": [
    {
     "name": "stdout",
     "output_type": "stream",
     "text": [
      "[]\n"
     ]
    }
   ],
   "source": [
    "std_users_to_remove = remove_zero_scoring_users(user_ratings_df)\n",
    "user_ratings_df = user_ratings_df.loc[~user_ratings_df.user_id.isin(std_users_to_remove)]"
   ]
  },
  {
   "cell_type": "markdown",
   "metadata": {},
   "source": [
    "## Remove Shows without the Completed Status in the Standard Dataset"
   ]
  },
  {
   "cell_type": "code",
   "execution_count": 15,
   "metadata": {
    "tags": []
   },
   "outputs": [],
   "source": [
    "# Only applies to the standard dataset\n",
    "user_ratings_df = user_ratings_df.loc[user_ratings_df.status == 'completed']"
   ]
  },
  {
   "cell_type": "markdown",
   "metadata": {},
   "source": [
    "## Remove Users with Less than 30 Ratings in the Standard Dataset"
   ]
  },
  {
   "cell_type": "code",
   "execution_count": 16,
   "metadata": {
    "tags": []
   },
   "outputs": [],
   "source": [
    "users_not_enough_ratings = []\n",
    "num_minimum_ratings = 30\n",
    "\n",
    "# Find the users\n",
    "for user_id in user_ratings_df.user_id.unique():\n",
    "    if (len(user_ratings_df.loc[user_ratings_df.user_id == user_id]) < num_minimum_ratings):\n",
    "        users_not_enough_ratings.append(user_id)\n",
    "\n",
    "# Remove the users\n",
    "user_ratings_df = user_ratings_df.loc[~user_ratings_df.user_id.isin(users_not_enough_ratings)]"
   ]
  },
  {
   "cell_type": "markdown",
   "metadata": {},
   "source": [
    "# Exploring the Datasets"
   ]
  },
  {
   "cell_type": "code",
   "execution_count": 17,
   "metadata": {
    "tags": []
   },
   "outputs": [
    {
     "data": {
      "text/plain": [
       "8738"
      ]
     },
     "execution_count": 17,
     "metadata": {},
     "output_type": "execute_result"
    }
   ],
   "source": [
    "len(new_users_ratings_df.user_id.unique())"
   ]
  },
  {
   "cell_type": "markdown",
   "metadata": {
    "id": "cevfFmnYxCuN"
   },
   "source": [
    "# Splitting User Ratings into Train and Test Datasets\n",
    "Split based on the update_at column and save both files as CSVs."
   ]
  },
  {
   "cell_type": "code",
   "execution_count": 18,
   "metadata": {
    "id": "_LYU5XIfxH9A"
   },
   "outputs": [],
   "source": [
    "import math\n",
    "split_ratio = 0.7 # The ratio of anime per user to put in the training set\n",
    "\n",
    "def train_test_split(ratings_df: pd.DataFrame, split_ratio: float, should_sort = True):\n",
    "    train_user_ratings = []\n",
    "    test_user_ratings = []\n",
    "\n",
    "    for user_id in ratings_df['user_id'].unique():\n",
    "        # Get the users ratings and sort by the date the rating was last updated\n",
    "        users_ratings = ratings_df.loc[ratings_df.user_id == user_id]\n",
    "\n",
    "        if should_sort:\n",
    "            users_ratings = users_ratings.sort_values(by=['updated_at'])\n",
    "\n",
    "        if len(users_ratings) < 2:\n",
    "            print(\"Error. Not enough ratings to put user in test and train datasets\")\n",
    "        elif len(users_ratings) == 2:\n",
    "            train_user_ratings.append(users_ratings.loc[users_ratings.index == 0])\n",
    "            test_user_ratings.append(users_ratings.loc[users_ratings.index == 1])\n",
    "        else:\n",
    "            # Determine what index to split the user's ratings by\n",
    "            split_index = int(math.floor((len(users_ratings)-1) * split_ratio))\n",
    "\n",
    "            # Append the split datasets\n",
    "            train_user_ratings.append(users_ratings[:split_index])\n",
    "            test_user_ratings.append(users_ratings[split_index+1:])\n",
    "\n",
    "    train_df = pd.concat(train_user_ratings, ignore_index=True)\n",
    "    test_df = pd.concat(test_user_ratings, ignore_index=True)\n",
    "    \n",
    "    # Ensure Columns Have the Same Data Type\n",
    "    train_df.score.astype('int32')\n",
    "    test_df.score.astype('int32')\n",
    "    train_df.user_id.astype('int32')\n",
    "    test_df.user_id.astype('int32')\n",
    "    train_df.anime_id.astype('int32')\n",
    "    test_df.anime_id.astype('int32')\n",
    "    \n",
    "    return (train_df, test_df)\n",
    "\n",
    "(train_df, test_df) = train_test_split(user_ratings_df, split_ratio)\n",
    "(new_users_train_df, new_users_test_df) = train_test_split(new_users_ratings_df, split_ratio, should_sort=False)"
   ]
  },
  {
   "cell_type": "code",
   "execution_count": 19,
   "metadata": {
    "tags": []
   },
   "outputs": [],
   "source": [
    "for user_id in new_users_train_df.user_id.unique():\n",
    "    num_anime_watched = len(new_users_test_df[new_users_test_df.user_id == user_id])\n",
    "    if num_anime_watched == 0:\n",
    "        print(user_id, \" watched no anime\")\n",
    "        break"
   ]
  },
  {
   "cell_type": "code",
   "execution_count": 20,
   "metadata": {
    "tags": []
   },
   "outputs": [],
   "source": [
    "train_df.to_csv('data/user_ratings_train.csv')\n",
    "test_df.to_csv('data/user_ratings_test.csv')\n",
    "new_users_train_df.to_csv('data/new_user_ratings_train.csv')\n",
    "new_users_test_df.to_csv('data/new_user_ratings_test.csv')"
   ]
  },
  {
   "cell_type": "code",
   "execution_count": 21,
   "metadata": {
    "colab": {
     "base_uri": "https://localhost:8080/",
     "height": 424
    },
    "id": "2dWnMPTn48My",
    "outputId": "c7b65e36-f726-4976-cfdc-d2fd77b7df29"
   },
   "outputs": [
    {
     "data": {
      "text/html": [
       "<div>\n",
       "<style scoped>\n",
       "    .dataframe tbody tr th:only-of-type {\n",
       "        vertical-align: middle;\n",
       "    }\n",
       "\n",
       "    .dataframe tbody tr th {\n",
       "        vertical-align: top;\n",
       "    }\n",
       "\n",
       "    .dataframe thead th {\n",
       "        text-align: right;\n",
       "    }\n",
       "</style>\n",
       "<table border=\"1\" class=\"dataframe\">\n",
       "  <thead>\n",
       "    <tr style=\"text-align: right;\">\n",
       "      <th></th>\n",
       "      <th>user_id</th>\n",
       "      <th>anime_id</th>\n",
       "      <th>score</th>\n",
       "      <th>status</th>\n",
       "      <th>num_episodes_watched</th>\n",
       "      <th>updated_at</th>\n",
       "    </tr>\n",
       "  </thead>\n",
       "  <tbody>\n",
       "    <tr>\n",
       "      <th>0</th>\n",
       "      <td>0</td>\n",
       "      <td>48561</td>\n",
       "      <td>9</td>\n",
       "      <td>completed</td>\n",
       "      <td>1</td>\n",
       "      <td>2023-01-01 09:37:49+00:00</td>\n",
       "    </tr>\n",
       "    <tr>\n",
       "      <th>1</th>\n",
       "      <td>0</td>\n",
       "      <td>20583</td>\n",
       "      <td>9</td>\n",
       "      <td>completed</td>\n",
       "      <td>25</td>\n",
       "      <td>2023-01-01 09:39:58+00:00</td>\n",
       "    </tr>\n",
       "    <tr>\n",
       "      <th>2</th>\n",
       "      <td>0</td>\n",
       "      <td>38883</td>\n",
       "      <td>8</td>\n",
       "      <td>completed</td>\n",
       "      <td>13</td>\n",
       "      <td>2023-01-01 09:40:05+00:00</td>\n",
       "    </tr>\n",
       "    <tr>\n",
       "      <th>3</th>\n",
       "      <td>0</td>\n",
       "      <td>28891</td>\n",
       "      <td>10</td>\n",
       "      <td>completed</td>\n",
       "      <td>25</td>\n",
       "      <td>2023-01-01 09:40:24+00:00</td>\n",
       "    </tr>\n",
       "    <tr>\n",
       "      <th>4</th>\n",
       "      <td>0</td>\n",
       "      <td>32935</td>\n",
       "      <td>9</td>\n",
       "      <td>completed</td>\n",
       "      <td>10</td>\n",
       "      <td>2023-01-01 09:40:42+00:00</td>\n",
       "    </tr>\n",
       "    <tr>\n",
       "      <th>...</th>\n",
       "      <td>...</td>\n",
       "      <td>...</td>\n",
       "      <td>...</td>\n",
       "      <td>...</td>\n",
       "      <td>...</td>\n",
       "      <td>...</td>\n",
       "    </tr>\n",
       "    <tr>\n",
       "      <th>1919125</th>\n",
       "      <td>9071</td>\n",
       "      <td>4581</td>\n",
       "      <td>4</td>\n",
       "      <td>completed</td>\n",
       "      <td>13</td>\n",
       "      <td>2022-09-27 03:09:40+00:00</td>\n",
       "    </tr>\n",
       "    <tr>\n",
       "      <th>1919126</th>\n",
       "      <td>9071</td>\n",
       "      <td>20671</td>\n",
       "      <td>4</td>\n",
       "      <td>completed</td>\n",
       "      <td>1</td>\n",
       "      <td>2022-09-27 03:09:41+00:00</td>\n",
       "    </tr>\n",
       "    <tr>\n",
       "      <th>1919127</th>\n",
       "      <td>9071</td>\n",
       "      <td>38787</td>\n",
       "      <td>4</td>\n",
       "      <td>completed</td>\n",
       "      <td>12</td>\n",
       "      <td>2022-09-27 03:09:43+00:00</td>\n",
       "    </tr>\n",
       "    <tr>\n",
       "      <th>1919128</th>\n",
       "      <td>9071</td>\n",
       "      <td>2476</td>\n",
       "      <td>4</td>\n",
       "      <td>completed</td>\n",
       "      <td>12</td>\n",
       "      <td>2022-09-27 03:09:44+00:00</td>\n",
       "    </tr>\n",
       "    <tr>\n",
       "      <th>1919129</th>\n",
       "      <td>9071</td>\n",
       "      <td>16694</td>\n",
       "      <td>4</td>\n",
       "      <td>completed</td>\n",
       "      <td>1</td>\n",
       "      <td>2022-09-27 03:09:47+00:00</td>\n",
       "    </tr>\n",
       "  </tbody>\n",
       "</table>\n",
       "<p>1919130 rows × 6 columns</p>\n",
       "</div>"
      ],
      "text/plain": [
       "         user_id  anime_id  score     status  num_episodes_watched  \\\n",
       "0              0     48561      9  completed                     1   \n",
       "1              0     20583      9  completed                    25   \n",
       "2              0     38883      8  completed                    13   \n",
       "3              0     28891     10  completed                    25   \n",
       "4              0     32935      9  completed                    10   \n",
       "...          ...       ...    ...        ...                   ...   \n",
       "1919125     9071      4581      4  completed                    13   \n",
       "1919126     9071     20671      4  completed                     1   \n",
       "1919127     9071     38787      4  completed                    12   \n",
       "1919128     9071      2476      4  completed                    12   \n",
       "1919129     9071     16694      4  completed                     1   \n",
       "\n",
       "                       updated_at  \n",
       "0       2023-01-01 09:37:49+00:00  \n",
       "1       2023-01-01 09:39:58+00:00  \n",
       "2       2023-01-01 09:40:05+00:00  \n",
       "3       2023-01-01 09:40:24+00:00  \n",
       "4       2023-01-01 09:40:42+00:00  \n",
       "...                           ...  \n",
       "1919125 2022-09-27 03:09:40+00:00  \n",
       "1919126 2022-09-27 03:09:41+00:00  \n",
       "1919127 2022-09-27 03:09:43+00:00  \n",
       "1919128 2022-09-27 03:09:44+00:00  \n",
       "1919129 2022-09-27 03:09:47+00:00  \n",
       "\n",
       "[1919130 rows x 6 columns]"
      ]
     },
     "execution_count": 21,
     "metadata": {},
     "output_type": "execute_result"
    }
   ],
   "source": [
    "train_df"
   ]
  },
  {
   "cell_type": "code",
   "execution_count": 22,
   "metadata": {
    "colab": {
     "base_uri": "https://localhost:8080/",
     "height": 424
    },
    "id": "QFrQsAK7490C",
    "outputId": "44e79603-58b6-4e49-e58b-4a412bcabf10"
   },
   "outputs": [
    {
     "data": {
      "text/html": [
       "<div>\n",
       "<style scoped>\n",
       "    .dataframe tbody tr th:only-of-type {\n",
       "        vertical-align: middle;\n",
       "    }\n",
       "\n",
       "    .dataframe tbody tr th {\n",
       "        vertical-align: top;\n",
       "    }\n",
       "\n",
       "    .dataframe thead th {\n",
       "        text-align: right;\n",
       "    }\n",
       "</style>\n",
       "<table border=\"1\" class=\"dataframe\">\n",
       "  <thead>\n",
       "    <tr style=\"text-align: right;\">\n",
       "      <th></th>\n",
       "      <th>user_id</th>\n",
       "      <th>anime_id</th>\n",
       "      <th>score</th>\n",
       "      <th>status</th>\n",
       "      <th>num_episodes_watched</th>\n",
       "      <th>updated_at</th>\n",
       "    </tr>\n",
       "  </thead>\n",
       "  <tbody>\n",
       "    <tr>\n",
       "      <th>0</th>\n",
       "      <td>0</td>\n",
       "      <td>32998</td>\n",
       "      <td>9</td>\n",
       "      <td>completed</td>\n",
       "      <td>12</td>\n",
       "      <td>2023-04-15 14:29:11+00:00</td>\n",
       "    </tr>\n",
       "    <tr>\n",
       "      <th>1</th>\n",
       "      <td>0</td>\n",
       "      <td>36649</td>\n",
       "      <td>7</td>\n",
       "      <td>completed</td>\n",
       "      <td>24</td>\n",
       "      <td>2023-04-15 14:29:23+00:00</td>\n",
       "    </tr>\n",
       "    <tr>\n",
       "      <th>2</th>\n",
       "      <td>0</td>\n",
       "      <td>39533</td>\n",
       "      <td>6</td>\n",
       "      <td>completed</td>\n",
       "      <td>11</td>\n",
       "      <td>2023-04-15 14:30:38+00:00</td>\n",
       "    </tr>\n",
       "    <tr>\n",
       "      <th>3</th>\n",
       "      <td>0</td>\n",
       "      <td>31405</td>\n",
       "      <td>6</td>\n",
       "      <td>completed</td>\n",
       "      <td>12</td>\n",
       "      <td>2023-04-15 14:30:59+00:00</td>\n",
       "    </tr>\n",
       "    <tr>\n",
       "      <th>4</th>\n",
       "      <td>0</td>\n",
       "      <td>44511</td>\n",
       "      <td>9</td>\n",
       "      <td>completed</td>\n",
       "      <td>12</td>\n",
       "      <td>2023-04-15 14:32:47+00:00</td>\n",
       "    </tr>\n",
       "    <tr>\n",
       "      <th>...</th>\n",
       "      <td>...</td>\n",
       "      <td>...</td>\n",
       "      <td>...</td>\n",
       "      <td>...</td>\n",
       "      <td>...</td>\n",
       "      <td>...</td>\n",
       "    </tr>\n",
       "    <tr>\n",
       "      <th>827656</th>\n",
       "      <td>9071</td>\n",
       "      <td>227</td>\n",
       "      <td>2</td>\n",
       "      <td>completed</td>\n",
       "      <td>6</td>\n",
       "      <td>2023-07-16 22:56:52+00:00</td>\n",
       "    </tr>\n",
       "    <tr>\n",
       "      <th>827657</th>\n",
       "      <td>9071</td>\n",
       "      <td>37171</td>\n",
       "      <td>5</td>\n",
       "      <td>completed</td>\n",
       "      <td>12</td>\n",
       "      <td>2023-09-07 12:21:07+00:00</td>\n",
       "    </tr>\n",
       "    <tr>\n",
       "      <th>827658</th>\n",
       "      <td>9071</td>\n",
       "      <td>659</td>\n",
       "      <td>5</td>\n",
       "      <td>completed</td>\n",
       "      <td>1</td>\n",
       "      <td>2023-09-07 12:21:41+00:00</td>\n",
       "    </tr>\n",
       "    <tr>\n",
       "      <th>827659</th>\n",
       "      <td>9071</td>\n",
       "      <td>35838</td>\n",
       "      <td>5</td>\n",
       "      <td>completed</td>\n",
       "      <td>12</td>\n",
       "      <td>2023-09-07 12:22:10+00:00</td>\n",
       "    </tr>\n",
       "    <tr>\n",
       "      <th>827660</th>\n",
       "      <td>9071</td>\n",
       "      <td>21863</td>\n",
       "      <td>1</td>\n",
       "      <td>completed</td>\n",
       "      <td>12</td>\n",
       "      <td>2023-10-09 20:06:43+00:00</td>\n",
       "    </tr>\n",
       "  </tbody>\n",
       "</table>\n",
       "<p>827661 rows × 6 columns</p>\n",
       "</div>"
      ],
      "text/plain": [
       "        user_id  anime_id  score     status  num_episodes_watched  \\\n",
       "0             0     32998      9  completed                    12   \n",
       "1             0     36649      7  completed                    24   \n",
       "2             0     39533      6  completed                    11   \n",
       "3             0     31405      6  completed                    12   \n",
       "4             0     44511      9  completed                    12   \n",
       "...         ...       ...    ...        ...                   ...   \n",
       "827656     9071       227      2  completed                     6   \n",
       "827657     9071     37171      5  completed                    12   \n",
       "827658     9071       659      5  completed                     1   \n",
       "827659     9071     35838      5  completed                    12   \n",
       "827660     9071     21863      1  completed                    12   \n",
       "\n",
       "                      updated_at  \n",
       "0      2023-04-15 14:29:11+00:00  \n",
       "1      2023-04-15 14:29:23+00:00  \n",
       "2      2023-04-15 14:30:38+00:00  \n",
       "3      2023-04-15 14:30:59+00:00  \n",
       "4      2023-04-15 14:32:47+00:00  \n",
       "...                          ...  \n",
       "827656 2023-07-16 22:56:52+00:00  \n",
       "827657 2023-09-07 12:21:07+00:00  \n",
       "827658 2023-09-07 12:21:41+00:00  \n",
       "827659 2023-09-07 12:22:10+00:00  \n",
       "827660 2023-10-09 20:06:43+00:00  \n",
       "\n",
       "[827661 rows x 6 columns]"
      ]
     },
     "execution_count": 22,
     "metadata": {},
     "output_type": "execute_result"
    }
   ],
   "source": [
    "test_df"
   ]
  },
  {
   "cell_type": "code",
   "execution_count": 23,
   "metadata": {
    "tags": []
   },
   "outputs": [
    {
     "data": {
      "text/html": [
       "<div>\n",
       "<style scoped>\n",
       "    .dataframe tbody tr th:only-of-type {\n",
       "        vertical-align: middle;\n",
       "    }\n",
       "\n",
       "    .dataframe tbody tr th {\n",
       "        vertical-align: top;\n",
       "    }\n",
       "\n",
       "    .dataframe thead th {\n",
       "        text-align: right;\n",
       "    }\n",
       "</style>\n",
       "<table border=\"1\" class=\"dataframe\">\n",
       "  <thead>\n",
       "    <tr style=\"text-align: right;\">\n",
       "      <th></th>\n",
       "      <th>user_id</th>\n",
       "      <th>anime_id</th>\n",
       "      <th>score</th>\n",
       "    </tr>\n",
       "  </thead>\n",
       "  <tbody>\n",
       "    <tr>\n",
       "      <th>0</th>\n",
       "      <td>0</td>\n",
       "      <td>430</td>\n",
       "      <td>9</td>\n",
       "    </tr>\n",
       "    <tr>\n",
       "      <th>1</th>\n",
       "      <td>0</td>\n",
       "      <td>1004</td>\n",
       "      <td>5</td>\n",
       "    </tr>\n",
       "    <tr>\n",
       "      <th>2</th>\n",
       "      <td>0</td>\n",
       "      <td>3010</td>\n",
       "      <td>7</td>\n",
       "    </tr>\n",
       "    <tr>\n",
       "      <th>3</th>\n",
       "      <td>0</td>\n",
       "      <td>570</td>\n",
       "      <td>7</td>\n",
       "    </tr>\n",
       "    <tr>\n",
       "      <th>4</th>\n",
       "      <td>0</td>\n",
       "      <td>2762</td>\n",
       "      <td>9</td>\n",
       "    </tr>\n",
       "    <tr>\n",
       "      <th>...</th>\n",
       "      <td>...</td>\n",
       "      <td>...</td>\n",
       "      <td>...</td>\n",
       "    </tr>\n",
       "    <tr>\n",
       "      <th>1117495</th>\n",
       "      <td>10197</td>\n",
       "      <td>5041</td>\n",
       "      <td>7</td>\n",
       "    </tr>\n",
       "    <tr>\n",
       "      <th>1117496</th>\n",
       "      <td>10197</td>\n",
       "      <td>10793</td>\n",
       "      <td>8</td>\n",
       "    </tr>\n",
       "    <tr>\n",
       "      <th>1117497</th>\n",
       "      <td>10197</td>\n",
       "      <td>287</td>\n",
       "      <td>8</td>\n",
       "    </tr>\n",
       "    <tr>\n",
       "      <th>1117498</th>\n",
       "      <td>10197</td>\n",
       "      <td>8425</td>\n",
       "      <td>9</td>\n",
       "    </tr>\n",
       "    <tr>\n",
       "      <th>1117499</th>\n",
       "      <td>10197</td>\n",
       "      <td>17895</td>\n",
       "      <td>10</td>\n",
       "    </tr>\n",
       "  </tbody>\n",
       "</table>\n",
       "<p>1117500 rows × 3 columns</p>\n",
       "</div>"
      ],
      "text/plain": [
       "         user_id  anime_id  score\n",
       "0              0       430      9\n",
       "1              0      1004      5\n",
       "2              0      3010      7\n",
       "3              0       570      7\n",
       "4              0      2762      9\n",
       "...          ...       ...    ...\n",
       "1117495    10197      5041      7\n",
       "1117496    10197     10793      8\n",
       "1117497    10197       287      8\n",
       "1117498    10197      8425      9\n",
       "1117499    10197     17895     10\n",
       "\n",
       "[1117500 rows x 3 columns]"
      ]
     },
     "execution_count": 23,
     "metadata": {},
     "output_type": "execute_result"
    }
   ],
   "source": [
    "new_users_train_df"
   ]
  },
  {
   "cell_type": "code",
   "execution_count": 24,
   "metadata": {
    "tags": []
   },
   "outputs": [
    {
     "data": {
      "text/html": [
       "<div>\n",
       "<style scoped>\n",
       "    .dataframe tbody tr th:only-of-type {\n",
       "        vertical-align: middle;\n",
       "    }\n",
       "\n",
       "    .dataframe tbody tr th {\n",
       "        vertical-align: top;\n",
       "    }\n",
       "\n",
       "    .dataframe thead th {\n",
       "        text-align: right;\n",
       "    }\n",
       "</style>\n",
       "<table border=\"1\" class=\"dataframe\">\n",
       "  <thead>\n",
       "    <tr style=\"text-align: right;\">\n",
       "      <th></th>\n",
       "      <th>user_id</th>\n",
       "      <th>anime_id</th>\n",
       "      <th>score</th>\n",
       "    </tr>\n",
       "  </thead>\n",
       "  <tbody>\n",
       "    <tr>\n",
       "      <th>0</th>\n",
       "      <td>0</td>\n",
       "      <td>2547</td>\n",
       "      <td>7</td>\n",
       "    </tr>\n",
       "    <tr>\n",
       "      <th>1</th>\n",
       "      <td>0</td>\n",
       "      <td>169</td>\n",
       "      <td>7</td>\n",
       "    </tr>\n",
       "    <tr>\n",
       "      <th>2</th>\n",
       "      <td>0</td>\n",
       "      <td>199</td>\n",
       "      <td>8</td>\n",
       "    </tr>\n",
       "    <tr>\n",
       "      <th>3</th>\n",
       "      <td>0</td>\n",
       "      <td>174</td>\n",
       "      <td>4</td>\n",
       "    </tr>\n",
       "    <tr>\n",
       "      <th>4</th>\n",
       "      <td>0</td>\n",
       "      <td>2543</td>\n",
       "      <td>7</td>\n",
       "    </tr>\n",
       "    <tr>\n",
       "      <th>...</th>\n",
       "      <td>...</td>\n",
       "      <td>...</td>\n",
       "      <td>...</td>\n",
       "    </tr>\n",
       "    <tr>\n",
       "      <th>484592</th>\n",
       "      <td>10197</td>\n",
       "      <td>9919</td>\n",
       "      <td>8</td>\n",
       "    </tr>\n",
       "    <tr>\n",
       "      <th>484593</th>\n",
       "      <td>10197</td>\n",
       "      <td>11111</td>\n",
       "      <td>8</td>\n",
       "    </tr>\n",
       "    <tr>\n",
       "      <th>484594</th>\n",
       "      <td>10197</td>\n",
       "      <td>32827</td>\n",
       "      <td>8</td>\n",
       "    </tr>\n",
       "    <tr>\n",
       "      <th>484595</th>\n",
       "      <td>10197</td>\n",
       "      <td>1519</td>\n",
       "      <td>8</td>\n",
       "    </tr>\n",
       "    <tr>\n",
       "      <th>484596</th>\n",
       "      <td>10197</td>\n",
       "      <td>889</td>\n",
       "      <td>7</td>\n",
       "    </tr>\n",
       "  </tbody>\n",
       "</table>\n",
       "<p>484597 rows × 3 columns</p>\n",
       "</div>"
      ],
      "text/plain": [
       "        user_id  anime_id  score\n",
       "0             0      2547      7\n",
       "1             0       169      7\n",
       "2             0       199      8\n",
       "3             0       174      4\n",
       "4             0      2543      7\n",
       "...         ...       ...    ...\n",
       "484592    10197      9919      8\n",
       "484593    10197     11111      8\n",
       "484594    10197     32827      8\n",
       "484595    10197      1519      8\n",
       "484596    10197       889      7\n",
       "\n",
       "[484597 rows x 3 columns]"
      ]
     },
     "execution_count": 24,
     "metadata": {},
     "output_type": "execute_result"
    }
   ],
   "source": [
    "new_users_test_df"
   ]
  },
  {
   "cell_type": "markdown",
   "metadata": {},
   "source": [
    "# Setup the Distance Functions"
   ]
  },
  {
   "cell_type": "code",
   "execution_count": 25,
   "metadata": {},
   "outputs": [],
   "source": [
    "# Return a distance matrix using cosine distance\n",
    "def cosine_distance_metric(user_profile, anime_vector_df):\n",
    "    distance_mat = cosine_distances(np.array([user_profile[\"weighted_vector_avg\"].tolist()]).reshape((1, -1)), anime_vector_df).reshape(-1)\n",
    "    return distance_mat\n",
    "\n",
    "# Return a distance matrix using euclidean distance\n",
    "def euclidean_distance_metric(user_profile, anime_vector_df):\n",
    "    distance_mat = euclidean_distances(np.array([user_profile[\"weighted_vector_avg\"].tolist()]).reshape((1, -1)), anime_vector_df).reshape(-1)\n",
    "    return distance_mat\n",
    "\n",
    "# Return a distance matrix using manhattan distance\n",
    "def manhattan_distance_metric(user_profile, anime_vector_df):\n",
    "    distance_mat = manhattan_distances(np.array([user_profile[\"weighted_vector_avg\"].tolist()]).reshape((1, -1)), anime_vector_df).reshape(-1)\n",
    "    return distance_mat"
   ]
  },
  {
   "cell_type": "markdown",
   "metadata": {},
   "source": [
    "# Function for Scoring Recommendations\n",
    "Precision, Number of Hits etc."
   ]
  },
  {
   "cell_type": "code",
   "execution_count": 47,
   "metadata": {
    "tags": []
   },
   "outputs": [],
   "source": [
    "import math\n",
    "\n",
    "def score_recommendations(num_recommendations, recommendations, user_ratings, anime_vector_df, distance_relevant_cutoff = 0.35):\n",
    "    score = {\n",
    "        \"hit_rate\": 0, # Number of hits / number of users\n",
    "        \"average_precision\": 0, # Number of relevant recommendations / number of recommendations\n",
    "    }\n",
    "    \n",
    "    num_not_scored = 0\n",
    "    num_scored = 0\n",
    "    \n",
    "    unique_user_ids = recommendations.keys()\n",
    "    for user_id in unique_user_ids:\n",
    "        num_scored += 1\n",
    "\n",
    "        # Get the User's Test Ratings\n",
    "        user_ratings_inst = user_ratings[user_ratings.user_id == int(user_id)]\n",
    "        if len(user_ratings_inst) == 0:\n",
    "            print(f\"Error. No user with id {user_id} was found.\")\n",
    "        \n",
    "        # Get The Number of Relevant Recommendations\n",
    "        num_relevant_recommendations = 0\n",
    "        predicted_anime = recommendations[user_id][\"prediction_vectors\"]\n",
    "        for prediction in predicted_anime:\n",
    "            prediction_distances = cosine_distances(np.array([prediction]).reshape((1, -1)), recommendations[int(user_id)][\"actual_anime_vectors\"]).reshape(-1)\n",
    "            if len(prediction_distances) > 0:\n",
    "                distance = min(prediction_distances)\n",
    "                if distance <= distance_relevant_cutoff:\n",
    "                    num_relevant_recommendations += 1\n",
    "            else:\n",
    "                print(f\"Warning. User {user_id} had no prediction distances\")\n",
    "    \n",
    "        # Get the Number of Hits\n",
    "        num_hits = 0\n",
    "        if type(recommendations[int(user_id)][\"predictions\"]) is list:\n",
    "            num_hits = len(user_ratings_inst.loc[user_ratings_inst.anime_id.isin(recommendations[int(user_id)][\"predictions\"])])\n",
    "        else:\n",
    "            num_hits = len(user_ratings_inst.loc[user_ratings_inst.anime_id.isin(recommendations[int(user_id)][\"predictions\"].index)])\n",
    "                \n",
    "        score[\"average_precision\"] += num_relevant_recommendations / num_recommendations\n",
    "        score[\"hit_rate\"] += num_hits\n",
    "   \n",
    "    score[\"average_precision\"] /= num_scored\n",
    "    score[\"hit_rate\"] /= num_scored\n",
    "    \n",
    "    print(f\"Num Users Not Scored: {num_not_scored}\")\n",
    "    \n",
    "    return score"
   ]
  },
  {
   "cell_type": "markdown",
   "metadata": {
    "id": "Su7qa9ivURYd"
   },
   "source": [
    "# Create the Recommender Systems\n",
    "This will include a Content-Based Filtering, Collaborative Filtering and Hybrid System."
   ]
  },
  {
   "cell_type": "markdown",
   "metadata": {},
   "source": [
    "## Create the Content-Based Filtering Recommender"
   ]
  },
  {
   "cell_type": "code",
   "execution_count": 27,
   "metadata": {
    "id": "3XgI1KHsV6N7"
   },
   "outputs": [],
   "source": [
    "from sklearn.metrics import mean_squared_error\n",
    "\n",
    "class CBFRecommender:\n",
    "    def __init__(self, anime_data: pd.DataFrame, user_ratings_data: pd.DataFrame):\n",
    "        # Cleanup Anime Data\n",
    "        self.anime_df = anime_data\n",
    "        self.anime_df.fillna({\"genres\": \"\"}, inplace=True)\n",
    "        self.anime_df.fillna({\"synopsis\": \"\"}, inplace=True)\n",
    "\n",
    "        self.user_ratings_data = user_ratings_data\n",
    "\n",
    "    # Uses TF-IDF to Vectorize the Anime DataFrame\n",
    "    def vectorize_anime_data(self, stop_words='english', max_features=50, max_df=0.5, min_df=0.01):\n",
    "        vectorizer = TfidfVectorizer(stop_words=stop_words, max_features=max_features, max_df=max_df, min_df=min_df)\n",
    "        self.anime_df['combined'] =  self.anime_df['genres'] + \" \" + self.anime_df['synopsis']\n",
    "\n",
    "        anime_features_vector_matrix = vectorizer.fit_transform(self.anime_df['combined'])\n",
    "\n",
    "        self.anime_vector_df = pd.DataFrame(data=anime_features_vector_matrix.toarray())\n",
    "        self.anime_vector_df['anime_id'] = self.anime_df['id']\n",
    "        self.anime_vector_df = self.anime_vector_df.set_index('anime_id')\n",
    "\n",
    "        return self.anime_vector_df\n",
    "\n",
    "    # Creates a profile of the specified user\n",
    "    def create_user_profile(self, user_id: int):\n",
    "        # Get only this user's ratings\n",
    "        users_ratings_df = self.user_ratings_data[self.user_ratings_data.user_id == user_id]\n",
    "\n",
    "        # Prefer to only use anime they rated higher than their avg. rating\n",
    "        average_rating = np.average(users_ratings_df['score'])\n",
    "        selected_user_ratings_df = users_ratings_df[users_ratings_df.score > average_rating]\n",
    "\n",
    "        # If the user hasn't rated any anime higher than thier avg.,\n",
    "        # then use the median instead\n",
    "        if selected_user_ratings_df.empty:\n",
    "            average_rating = np.average(users_ratings_df['score'])\n",
    "            selected_user_ratings_df = users_ratings_df[users_ratings_df.score >= average_rating]\n",
    "\n",
    "        # Get the Anime they rated highly\n",
    "        user_anime_rated_df = self.anime_df[self.anime_df.id.isin(selected_user_ratings_df['anime_id'])]\n",
    "\n",
    "        # Get the weighted average of the Vector values for the anime they rated\n",
    "        user_vector_df = self.anime_vector_df.loc[user_anime_rated_df['id']]\n",
    "        weighted_vector_avg = user_vector_df.mean()\n",
    "\n",
    "        return {\n",
    "            \"weighted_vector_avg\": weighted_vector_avg,\n",
    "            \"vector_df\": user_vector_df\n",
    "        }\n",
    "\n",
    "    # Get a DataFrame of How Distant Anime Are to the User's Preferences\n",
    "    def get_user_anime_distance(self, user_id, distance_metric='cosine'):\n",
    "        # Find user profile in user profiles\n",
    "        user_profile = self.create_user_profile(user_id)\n",
    "\n",
    "        # Calculate the distance matrix of the user's weighted vector instance compared to all instances in the anime vector df\n",
    "        distance_mat = None\n",
    "        if distance_metric == 'cosine':\n",
    "            distance_mat = cosine_distance_metric(user_profile, self.anime_vector_df)\n",
    "        elif distance_metric == 'euclidean':\n",
    "            distance_mat = euclidean_distance_metric(user_profile, self.anime_vector_df)\n",
    "        elif distance_metric == 'manhattan':\n",
    "            distance_mat = manhattan_distance_metric(user_profile, self.anime_vector_df)\n",
    "        else:\n",
    "            print(f'Error: The distance metric is invalid. Unable to create distance matric for user with id {user_id}')\n",
    "\n",
    "        if distance_mat is None:\n",
    "            print(\"Error. Couldn't create distance matrix.\")\n",
    "            return None\n",
    "\n",
    "        # Convert the matrix into a dataframe\n",
    "        distance_df = pd.DataFrame(data=distance_mat.tolist())\n",
    "        distance_df = distance_df.rename(columns={0: \"distance\"})\n",
    "        distance_df['id'] = self.anime_df['id']\n",
    "\n",
    "        # Remove all anime that the user has already watched\n",
    "        distance_df = distance_df.loc[~distance_df.id.isin(user_profile[\"vector_df\"].index)]\n",
    "\n",
    "        # The closer to 0 the distance is the more similar the anime is to the weighted vector\n",
    "        distance_df = distance_df.sort_values(by='distance', ascending=True)\n",
    "\n",
    "        return distance_df\n",
    "\n",
    "    # Recommend Anime to the User\n",
    "    def recommend_user(self, user_id, num_recommendations: int, distance_metric='cosine', add_anime_info: bool = True):\n",
    "        distance_df = self.get_user_anime_distance(user_id, distance_metric=distance_metric)\n",
    "\n",
    "        # Get the top recommendations and merge the anime data with the dataframe\n",
    "        top_similar_anime_df = distance_df.iloc[0:num_recommendations]\n",
    "\n",
    "        if len(top_similar_anime_df) != num_recommendations:\n",
    "            print(f\"Expected {num_recommendations} recommendations, but got {len(top_similar_anime_df)}\")\n",
    "\n",
    "        # Only merge if we want to the anime information too.\n",
    "        if add_anime_info:\n",
    "            top_similar_anime_df = top_similar_anime_df.merge(self.anime_df, on='id', how='inner')\n",
    "\n",
    "        return top_similar_anime_df\n",
    "\n",
    "    def get_user_anime_scores(self, user_id, distance_metric='cosine'):\n",
    "        user_scores_df = self.get_user_anime_distance(user_id, distance_metric=distance_metric)\n",
    "        user_scores_df = user_scores_df.rename(columns={\"distance\": \"score\"})\n",
    "        return user_scores_df\n",
    "    \n",
    "    # Make recommendations for every user\n",
    "    def make_recommendations(self, testing_df: pd.DataFrame, num_recommendations=20, distance_metric='cosine'):\n",
    "        unique_user_ids = self.user_ratings_data['user_id'].unique()\n",
    "        \n",
    "        # Only use users that are in the testing dataframe\n",
    "        unique_user_ids = testing_df.loc[testing_df.user_id.isin(unique_user_ids)].user_id.unique()\n",
    "        \n",
    "        recommendations = {}\n",
    "\n",
    "        for user_id in unique_user_ids:\n",
    "            # Get this user's recommendations\n",
    "            actual_anime_vectors = self.anime_vector_df.loc[self.anime_vector_df.index.isin(testing_df.loc[testing_df.user_id == user_id]['anime_id'])]\n",
    "\n",
    "            if len(actual_anime_vectors) > 0:\n",
    "                predictions = self.recommend_user(user_id, num_recommendations, distance_metric=distance_metric, add_anime_info = False)\n",
    "                predicted_anime_vectors = self.anime_vector_df.loc[self.anime_vector_df.index.isin(predictions['id'])]\n",
    "\n",
    "                # Add them to the dictionary\n",
    "                recommendations[user_id] = {\"actual_anime_vectors\": actual_anime_vectors.to_numpy(),\n",
    "                                            \"predictions\": predictions,\n",
    "                                            \"prediction_vectors\": predicted_anime_vectors.to_numpy()}\n",
    "            else:\n",
    "                print(\"Warning. Not enought anime vectors.\")\n",
    "\n",
    "        return recommendations\n",
    "    \n",
    "    # Test How Effective the Model\n",
    "    def test_recommendations(self, testing_df: pd.DataFrame, num_recommendations=20, distance_metric='cosine', evaluation_distance_metric='cosine'):\n",
    "        recommendations = self.make_recommendations(testing_df, num_recommendations=num_recommendations, distance_metric=distance_metric)\n",
    "        \n",
    "        # Temp: Compare recommendations IDs to testing IDs\n",
    "        recommendations_users = recommendations.keys()\n",
    "        testing_users = testing_df.user_id.unique()\n",
    "        \n",
    "        ids_not_in_both = []\n",
    "        for ruid in recommendations_users:\n",
    "            not_in_both = True\n",
    "            for tuid in testing_users:\n",
    "                if ruid == tuid:\n",
    "                    not_in_both = False\n",
    "            \n",
    "            if not_in_both:\n",
    "                ids_not_in_both.append(ruid)\n",
    "        \n",
    "        print(\"IDs not in both: \")\n",
    "        print(ids_not_in_both)\n",
    "        \n",
    "        score = score_recommendations(num_recommendations, recommendations, testing_df, self.anime_vector_df)\n",
    "        \n",
    "        return score"
   ]
  },
  {
   "cell_type": "markdown",
   "metadata": {},
   "source": [
    "## Create the Collaborative Filtering Recommender"
   ]
  },
  {
   "cell_type": "code",
   "execution_count": 28,
   "metadata": {
    "tags": []
   },
   "outputs": [],
   "source": [
    "import os\n",
    "\n",
    "from surprise import BaselineOnly, Dataset, Reader, accuracy, SVD, SVDpp, NMF\n",
    "from surprise.model_selection import GridSearchCV, train_test_split"
   ]
  },
  {
   "cell_type": "code",
   "execution_count": 29,
   "metadata": {
    "tags": []
   },
   "outputs": [],
   "source": [
    "def convert_user_ratings_to_surprise_dataset(ur_df):  \n",
    "    surprise_user_ratings_df = ur_df[[\"user_id\", \"anime_id\", \"score\"]]\n",
    "    surprise_user_ratings_df = surprise_user_ratings_df.rename(columns={\"user_id\": \"userID\", \"anime_id\": \"itemID\", \"score\": \"rating\"})\n",
    "    \n",
    "    cf_ratings_reader = Reader(rating_scale=(0, 10))\n",
    "    cf_ratings_data = Dataset.load_from_df(surprise_user_ratings_df, cf_ratings_reader)\n",
    "    return cf_ratings_data"
   ]
  },
  {
   "cell_type": "code",
   "execution_count": 30,
   "metadata": {
    "tags": []
   },
   "outputs": [],
   "source": [
    "class CollaborativeFilteringRecommender:\n",
    "    # The algorithm must be Matrix Factorization algorithm supported by surprise\n",
    "    def __init__(self, ratings_dataset, mf_algorithm=SVD, performGridsearch=False):\n",
    "        self.cf_trainset = ratings_dataset.build_full_trainset()\n",
    "        \n",
    "        # Set the model as the best model found by the grid search\n",
    "        self.cf_model = None\n",
    "        \n",
    "        # Perform a Grid Search to Hyptertune the Parameters\n",
    "        if performGridsearch:\n",
    "            param_grid = {\"n_factors\": [50, 100, 150, 200], \"n_epochs\": [10, 20, 30], \"biased\": [True, False]}\n",
    "            if mf_algorithm == SVD:\n",
    "                param_grid = {\"n_factors\": [50, 100, 150, 200], \"n_epochs\": [20, 25, 30], \"lr_all\": [0.005, 0.0025], \"biased\": [True, False]}\n",
    "            elif mf_algorithm == NMF:\n",
    "                param_grid = {\"n_factors\": [15, 30, 60], \"n_epochs\": [50, 60, 70], \"biased\": [True, False]}\n",
    "            \n",
    "            grid_search = GridSearchCV(mf_algorithm, param_grid, measures=[\"rmse\"], cv=3)\n",
    "            grid_search.fit(ratings_dataset)\n",
    "            print(f\"Best Score for Grid Search was: {grid_search.best_params['rmse']}\")\n",
    "            print(f\"The Best Parameters for Grid Search was: {grid_search.best_score['rmse']}\")\n",
    "            self.cf_model = grid_search.best_estimator[\"rmse\"]\n",
    "        \n",
    "        if self.cf_model is None:\n",
    "            self.cf_model = mf_algorithm()\n",
    "       \n",
    "        self.cf_model.fit(self.cf_trainset)\n",
    "    \n",
    "    def get_user_anime_scores(self, user_id: str):\n",
    "        # Get every item that this user hasn't watched.\n",
    "        item_ids = []\n",
    "        for item_id in self.cf_trainset.all_items():\n",
    "            if self.cf_trainset.ur.get(item_id) != None:\n",
    "                item_ids.append(self.cf_trainset.to_raw_iid(item_id))\n",
    "        \n",
    "        # Estimate the rating for each item\n",
    "        item_predictions = []\n",
    "        for item_rawid in item_ids:\n",
    "            prediction = self.cf_model.predict(user_id, item_rawid)\n",
    "            item_predictions.append(prediction)\n",
    "    \n",
    "        user_anime_ids = []\n",
    "        user_scores = []\n",
    "        for prediction in item_predictions:\n",
    "            user_scores.append(prediction.est)\n",
    "            user_anime_ids.append(int(prediction.iid))\n",
    "        \n",
    "        user_scores_dict = {\"score\": user_scores, \"id\": user_anime_ids}\n",
    "        user_scores_df = pd.DataFrame(user_scores_dict)\n",
    "        \n",
    "        return user_scores_df\n",
    "    \n",
    "    def recommend_user(self, user_innerid, num_recommendations):\n",
    "        user_recommendations = []\n",
    "        \n",
    "        user_id = self.cf_trainset.to_raw_uid(user_innerid)\n",
    "        \n",
    "        # Get every item that this user hasn't watched.\n",
    "        item_ids = []\n",
    "        for item_id in self.cf_trainset.all_items():\n",
    "            if self.cf_trainset.ur.get(item_id) != None:\n",
    "                item_ids.append(self.cf_trainset.to_raw_iid(item_id))\n",
    "        \n",
    "        # Estimate the rating for each item\n",
    "        item_predictions = []\n",
    "        for item_rawid in item_ids:\n",
    "            prediction = self.cf_model.predict(user_id, item_rawid)\n",
    "            item_predictions.append(prediction)\n",
    "        \n",
    "        # Recommend the top N items\n",
    "        item_predictions.sort(key=lambda x: x.est, reverse=True)\n",
    "        \n",
    "        for prediction in item_predictions[:num_recommendations]:\n",
    "            user_recommendations.append(prediction.iid)\n",
    "        \n",
    "        return user_recommendations\n",
    "    \n",
    "    def get_user_recommendations_df(self, user_recommendations: list):\n",
    "        return anime_df[anime_df.id.isin(user_recommendations)]\n",
    "    \n",
    "    def make_recommendations(self, num_recommendations, test_ratings_df, anime_vector_df):\n",
    "        recommendations = {}\n",
    "        \n",
    "        for inner_userid in self.cf_trainset.all_users():\n",
    "            user_recommendations = self.recommend_user(inner_userid, num_recommendations)\n",
    "            user_id = self.cf_trainset.to_raw_uid(inner_userid)\n",
    "            \n",
    "            actual_anime_vectors = anime_vector_df.loc[anime_vector_df.index.isin(test_ratings_df.loc[test_ratings_df.user_id == user_id]['anime_id'])]\n",
    "            predicted_anime_vectors = anime_vector_df.loc[anime_vector_df.index.isin(user_recommendations)]\n",
    "            if len(predicted_anime_vectors) == 0:\n",
    "                print(\"No predicted anime vectors were found.\")\n",
    "            \n",
    "            recommendations[int(user_id)] = {\"actual_anime_vectors\": actual_anime_vectors.to_numpy(),\n",
    "                                            \"predictions\": user_recommendations,\n",
    "                                            \"prediction_vectors\": predicted_anime_vectors.to_numpy()}\n",
    "        \n",
    "        return recommendations\n",
    "    \n",
    "    def test_recommendations(self, num_recommendations, test_ratings_df, anime_vector_df, evaluation_distance_metric='cosine'):\n",
    "        recommendations = self.make_recommendations(num_recommendations, test_ratings_df, anime_vector_df)\n",
    "        score = score_recommendations(num_recommendations, recommendations, test_ratings_df, anime_vector_df)\n",
    "        \n",
    "        return score"
   ]
  },
  {
   "cell_type": "markdown",
   "metadata": {},
   "source": [
    "## Create the Hybrid Recommender"
   ]
  },
  {
   "cell_type": "code",
   "execution_count": 31,
   "metadata": {
    "tags": []
   },
   "outputs": [],
   "source": [
    "class HybridRecommender:\n",
    "    def __init__(self, anime_data: pd.DataFrame, user_ratings_data: pd.DataFrame, cbf_distance_metric='cosine'):\n",
    "        self.cbf_recommender = CBFRecommender(anime_data, user_ratings_data)\n",
    "        self.cbf_recommender.vectorize_anime_data(stop_words='english', max_features=50, max_df=0.5, min_df=0.01)\n",
    "        self.cbf_distance_metric = cbf_distance_metric\n",
    "        self.anime_data = anime_data\n",
    "        self.user_ratings_data = user_ratings_data\n",
    "        \n",
    "        cf_ratings_data = convert_user_ratings_to_surprise_dataset(user_ratings_data)\n",
    "        self.cf_recommender = CollaborativeFilteringRecommender(cf_ratings_data)\n",
    "    \n",
    "    def get_user_combined_scores(self, user_id):\n",
    "        # Content-Based Filtering\n",
    "        cbf_scores_df = self.cbf_recommender.get_user_anime_scores(user_id, distance_metric=self.cbf_distance_metric)\n",
    "        cbf_scores_df = cbf_scores_df.rename(columns={\"score\": \"cbf_score\"})\n",
    "        \n",
    "        # Collaborative Filtering\n",
    "        cf_scores_df = self.cf_recommender.get_user_anime_scores(str(user_id))    \n",
    "        # Perform Min-Max Normalization\n",
    "        cf_scores_df[\"score\"] = (cf_scores_df[\"score\"] - cf_scores_df[\"score\"].min()) / (cf_scores_df[\"score\"].max() - cf_scores_df[\"score\"].min())\n",
    "        cf_scores_df[\"score\"] = (1 - cf_scores_df[\"score\"])\n",
    "        \n",
    "        cf_scores_df = cf_scores_df.rename(columns={\"score\": \"cf_score\"})\n",
    "        \n",
    "        # Combine both into one dataframe\n",
    "        combined_scores_df = cbf_scores_df.merge(cf_scores_df, on='id', how='inner')\n",
    "        combined_scores_df['combined_score'] = combined_scores_df['cbf_score'] + combined_scores_df['cf_score']\n",
    "        combined_scores_df.sort_values(by=['combined_score'], ascending=True, inplace=True)\n",
    "        \n",
    "        return combined_scores_df\n",
    "    \n",
    "    def recommend_user(self, user_id, num_recommendations):\n",
    "        user_combined_scores_df = self.get_user_combined_scores(user_id)\n",
    "        user_top_anime_df = user_combined_scores_df.iloc[:num_recommendations]\n",
    "        \n",
    "        return user_top_anime_df\n",
    "    \n",
    "    def get_user_anime_recommendations_df(self, user_top_anime_df):\n",
    "        return anime_df[anime_df.id.isin(user_top_anime_df.id)]\n",
    "    \n",
    "    def make_recommendations(self, num_recommendations, test_ratings_df, anime_vector_df):\n",
    "        recommendations = {}\n",
    "        unique_user_ids = self.user_ratings_data['user_id'].unique()\n",
    "        \n",
    "        for user_id in unique_user_ids:\n",
    "            user_recommendations = self.recommend_user(user_id, num_recommendations)\n",
    "            actual_anime_vectors = anime_vector_df.loc[anime_vector_df.index.isin(test_ratings_df.loc[test_ratings_df.user_id == user_id]['anime_id'])]\n",
    "            predicted_anime_vectors = anime_vector_df.loc[anime_vector_df.index.isin(user_recommendations['id'])]\n",
    "            \n",
    "            recommendations[user_id] = {\"actual_anime_vectors\": actual_anime_vectors.to_numpy(),\n",
    "                                            \"predictions\": user_recommendations,\n",
    "                                            \"prediction_vectors\": predicted_anime_vectors.to_numpy()}\n",
    "        \n",
    "        return recommendations\n",
    "    \n",
    "    def test_recommendations(self, num_recommendations, test_user_ratings_data: pd.DataFrame, anime_vector_df, evaluation_distance_metric='cosine'):\n",
    "        recommendations = self.make_recommendations(num_recommendations, test_user_ratings_data, anime_vector_df)\n",
    "        score = score_recommendations(num_recommendations, recommendations, test_user_ratings_data, anime_vector_df)\n",
    "        \n",
    "        return score"
   ]
  },
  {
   "cell_type": "markdown",
   "metadata": {},
   "source": [
    "# Evaluate the Recommenders"
   ]
  },
  {
   "cell_type": "code",
   "execution_count": 32,
   "metadata": {},
   "outputs": [],
   "source": [
    "# Pick which distance metric to use for minimum distance evaluation\n",
    "eval_dist_metric = 'cosine'\n",
    "num_recommendations = 20"
   ]
  },
  {
   "cell_type": "markdown",
   "metadata": {},
   "source": [
    "## Evaluate the Content-Based Recommender"
   ]
  },
  {
   "cell_type": "markdown",
   "metadata": {},
   "source": [
    "### Use the Standard Dataset"
   ]
  },
  {
   "cell_type": "code",
   "execution_count": 48,
   "metadata": {},
   "outputs": [
    {
     "data": {
      "text/html": [
       "<div>\n",
       "<style scoped>\n",
       "    .dataframe tbody tr th:only-of-type {\n",
       "        vertical-align: middle;\n",
       "    }\n",
       "\n",
       "    .dataframe tbody tr th {\n",
       "        vertical-align: top;\n",
       "    }\n",
       "\n",
       "    .dataframe thead th {\n",
       "        text-align: right;\n",
       "    }\n",
       "</style>\n",
       "<table border=\"1\" class=\"dataframe\">\n",
       "  <thead>\n",
       "    <tr style=\"text-align: right;\">\n",
       "      <th></th>\n",
       "      <th>0</th>\n",
       "      <th>1</th>\n",
       "      <th>2</th>\n",
       "      <th>3</th>\n",
       "      <th>4</th>\n",
       "      <th>5</th>\n",
       "      <th>6</th>\n",
       "      <th>7</th>\n",
       "      <th>8</th>\n",
       "      <th>9</th>\n",
       "      <th>...</th>\n",
       "      <th>40</th>\n",
       "      <th>41</th>\n",
       "      <th>42</th>\n",
       "      <th>43</th>\n",
       "      <th>44</th>\n",
       "      <th>45</th>\n",
       "      <th>46</th>\n",
       "      <th>47</th>\n",
       "      <th>48</th>\n",
       "      <th>49</th>\n",
       "    </tr>\n",
       "    <tr>\n",
       "      <th>anime_id</th>\n",
       "      <th></th>\n",
       "      <th></th>\n",
       "      <th></th>\n",
       "      <th></th>\n",
       "      <th></th>\n",
       "      <th></th>\n",
       "      <th></th>\n",
       "      <th></th>\n",
       "      <th></th>\n",
       "      <th></th>\n",
       "      <th></th>\n",
       "      <th></th>\n",
       "      <th></th>\n",
       "      <th></th>\n",
       "      <th></th>\n",
       "      <th></th>\n",
       "      <th></th>\n",
       "      <th></th>\n",
       "      <th></th>\n",
       "      <th></th>\n",
       "      <th></th>\n",
       "    </tr>\n",
       "  </thead>\n",
       "  <tbody>\n",
       "    <tr>\n",
       "      <th>5114</th>\n",
       "      <td>0.243555</td>\n",
       "      <td>0.264325</td>\n",
       "      <td>0.0</td>\n",
       "      <td>0.0</td>\n",
       "      <td>0.000000</td>\n",
       "      <td>0.0</td>\n",
       "      <td>0.293202</td>\n",
       "      <td>0.000000</td>\n",
       "      <td>0.0</td>\n",
       "      <td>0.235457</td>\n",
       "      <td>...</td>\n",
       "      <td>0.0</td>\n",
       "      <td>0.00000</td>\n",
       "      <td>0.000000</td>\n",
       "      <td>0.0</td>\n",
       "      <td>0.0</td>\n",
       "      <td>0.296467</td>\n",
       "      <td>0.276524</td>\n",
       "      <td>0.0</td>\n",
       "      <td>0.365017</td>\n",
       "      <td>0.0</td>\n",
       "    </tr>\n",
       "    <tr>\n",
       "      <th>9253</th>\n",
       "      <td>0.000000</td>\n",
       "      <td>0.000000</td>\n",
       "      <td>0.0</td>\n",
       "      <td>0.0</td>\n",
       "      <td>0.000000</td>\n",
       "      <td>0.0</td>\n",
       "      <td>0.208083</td>\n",
       "      <td>0.000000</td>\n",
       "      <td>0.0</td>\n",
       "      <td>0.000000</td>\n",
       "      <td>...</td>\n",
       "      <td>0.0</td>\n",
       "      <td>0.00000</td>\n",
       "      <td>0.708988</td>\n",
       "      <td>0.0</td>\n",
       "      <td>0.0</td>\n",
       "      <td>0.000000</td>\n",
       "      <td>0.196247</td>\n",
       "      <td>0.0</td>\n",
       "      <td>0.000000</td>\n",
       "      <td>0.0</td>\n",
       "    </tr>\n",
       "    <tr>\n",
       "      <th>28977</th>\n",
       "      <td>0.191855</td>\n",
       "      <td>0.000000</td>\n",
       "      <td>0.0</td>\n",
       "      <td>0.0</td>\n",
       "      <td>0.166754</td>\n",
       "      <td>0.0</td>\n",
       "      <td>0.000000</td>\n",
       "      <td>0.000000</td>\n",
       "      <td>0.0</td>\n",
       "      <td>0.000000</td>\n",
       "      <td>...</td>\n",
       "      <td>0.0</td>\n",
       "      <td>0.64006</td>\n",
       "      <td>0.000000</td>\n",
       "      <td>0.0</td>\n",
       "      <td>0.0</td>\n",
       "      <td>0.233535</td>\n",
       "      <td>0.217825</td>\n",
       "      <td>0.0</td>\n",
       "      <td>0.000000</td>\n",
       "      <td>0.0</td>\n",
       "    </tr>\n",
       "    <tr>\n",
       "      <th>41467</th>\n",
       "      <td>0.221499</td>\n",
       "      <td>0.240388</td>\n",
       "      <td>0.0</td>\n",
       "      <td>0.0</td>\n",
       "      <td>0.000000</td>\n",
       "      <td>0.0</td>\n",
       "      <td>0.000000</td>\n",
       "      <td>0.000000</td>\n",
       "      <td>0.0</td>\n",
       "      <td>0.214134</td>\n",
       "      <td>...</td>\n",
       "      <td>0.0</td>\n",
       "      <td>0.00000</td>\n",
       "      <td>0.000000</td>\n",
       "      <td>0.0</td>\n",
       "      <td>0.0</td>\n",
       "      <td>0.539239</td>\n",
       "      <td>0.251482</td>\n",
       "      <td>0.0</td>\n",
       "      <td>0.000000</td>\n",
       "      <td>0.0</td>\n",
       "    </tr>\n",
       "    <tr>\n",
       "      <th>39486</th>\n",
       "      <td>0.201203</td>\n",
       "      <td>0.000000</td>\n",
       "      <td>0.0</td>\n",
       "      <td>0.0</td>\n",
       "      <td>0.174879</td>\n",
       "      <td>0.0</td>\n",
       "      <td>0.242216</td>\n",
       "      <td>0.331013</td>\n",
       "      <td>0.0</td>\n",
       "      <td>0.000000</td>\n",
       "      <td>...</td>\n",
       "      <td>0.0</td>\n",
       "      <td>0.00000</td>\n",
       "      <td>0.275096</td>\n",
       "      <td>0.0</td>\n",
       "      <td>0.0</td>\n",
       "      <td>0.244914</td>\n",
       "      <td>0.228439</td>\n",
       "      <td>0.0</td>\n",
       "      <td>0.301544</td>\n",
       "      <td>0.0</td>\n",
       "    </tr>\n",
       "    <tr>\n",
       "      <th>...</th>\n",
       "      <td>...</td>\n",
       "      <td>...</td>\n",
       "      <td>...</td>\n",
       "      <td>...</td>\n",
       "      <td>...</td>\n",
       "      <td>...</td>\n",
       "      <td>...</td>\n",
       "      <td>...</td>\n",
       "      <td>...</td>\n",
       "      <td>...</td>\n",
       "      <td>...</td>\n",
       "      <td>...</td>\n",
       "      <td>...</td>\n",
       "      <td>...</td>\n",
       "      <td>...</td>\n",
       "      <td>...</td>\n",
       "      <td>...</td>\n",
       "      <td>...</td>\n",
       "      <td>...</td>\n",
       "      <td>...</td>\n",
       "      <td>...</td>\n",
       "    </tr>\n",
       "    <tr>\n",
       "      <th>56512</th>\n",
       "      <td>0.000000</td>\n",
       "      <td>0.000000</td>\n",
       "      <td>0.0</td>\n",
       "      <td>0.0</td>\n",
       "      <td>0.000000</td>\n",
       "      <td>0.0</td>\n",
       "      <td>0.000000</td>\n",
       "      <td>0.000000</td>\n",
       "      <td>0.0</td>\n",
       "      <td>0.000000</td>\n",
       "      <td>...</td>\n",
       "      <td>0.0</td>\n",
       "      <td>0.00000</td>\n",
       "      <td>0.000000</td>\n",
       "      <td>0.0</td>\n",
       "      <td>0.0</td>\n",
       "      <td>0.000000</td>\n",
       "      <td>0.000000</td>\n",
       "      <td>0.0</td>\n",
       "      <td>0.000000</td>\n",
       "      <td>0.0</td>\n",
       "    </tr>\n",
       "    <tr>\n",
       "      <th>56779</th>\n",
       "      <td>0.000000</td>\n",
       "      <td>0.000000</td>\n",
       "      <td>0.0</td>\n",
       "      <td>0.0</td>\n",
       "      <td>0.000000</td>\n",
       "      <td>0.0</td>\n",
       "      <td>0.000000</td>\n",
       "      <td>0.000000</td>\n",
       "      <td>0.0</td>\n",
       "      <td>0.000000</td>\n",
       "      <td>...</td>\n",
       "      <td>0.0</td>\n",
       "      <td>0.00000</td>\n",
       "      <td>0.000000</td>\n",
       "      <td>0.0</td>\n",
       "      <td>0.0</td>\n",
       "      <td>0.000000</td>\n",
       "      <td>0.000000</td>\n",
       "      <td>0.0</td>\n",
       "      <td>0.000000</td>\n",
       "      <td>0.0</td>\n",
       "    </tr>\n",
       "    <tr>\n",
       "      <th>53029</th>\n",
       "      <td>0.000000</td>\n",
       "      <td>0.000000</td>\n",
       "      <td>0.0</td>\n",
       "      <td>0.0</td>\n",
       "      <td>0.000000</td>\n",
       "      <td>0.0</td>\n",
       "      <td>0.000000</td>\n",
       "      <td>0.000000</td>\n",
       "      <td>0.0</td>\n",
       "      <td>0.000000</td>\n",
       "      <td>...</td>\n",
       "      <td>0.0</td>\n",
       "      <td>0.00000</td>\n",
       "      <td>0.000000</td>\n",
       "      <td>0.0</td>\n",
       "      <td>0.0</td>\n",
       "      <td>0.000000</td>\n",
       "      <td>0.000000</td>\n",
       "      <td>0.0</td>\n",
       "      <td>0.000000</td>\n",
       "      <td>0.0</td>\n",
       "    </tr>\n",
       "    <tr>\n",
       "      <th>9304</th>\n",
       "      <td>0.000000</td>\n",
       "      <td>0.000000</td>\n",
       "      <td>0.0</td>\n",
       "      <td>0.0</td>\n",
       "      <td>0.000000</td>\n",
       "      <td>0.0</td>\n",
       "      <td>0.000000</td>\n",
       "      <td>0.000000</td>\n",
       "      <td>0.0</td>\n",
       "      <td>0.000000</td>\n",
       "      <td>...</td>\n",
       "      <td>0.0</td>\n",
       "      <td>0.00000</td>\n",
       "      <td>0.000000</td>\n",
       "      <td>0.0</td>\n",
       "      <td>0.0</td>\n",
       "      <td>0.000000</td>\n",
       "      <td>0.000000</td>\n",
       "      <td>0.0</td>\n",
       "      <td>0.000000</td>\n",
       "      <td>0.0</td>\n",
       "    </tr>\n",
       "    <tr>\n",
       "      <th>56511</th>\n",
       "      <td>0.000000</td>\n",
       "      <td>0.000000</td>\n",
       "      <td>0.0</td>\n",
       "      <td>0.0</td>\n",
       "      <td>0.000000</td>\n",
       "      <td>0.0</td>\n",
       "      <td>0.000000</td>\n",
       "      <td>0.000000</td>\n",
       "      <td>0.0</td>\n",
       "      <td>0.000000</td>\n",
       "      <td>...</td>\n",
       "      <td>0.0</td>\n",
       "      <td>0.00000</td>\n",
       "      <td>0.000000</td>\n",
       "      <td>0.0</td>\n",
       "      <td>0.0</td>\n",
       "      <td>0.000000</td>\n",
       "      <td>0.000000</td>\n",
       "      <td>0.0</td>\n",
       "      <td>0.000000</td>\n",
       "      <td>0.0</td>\n",
       "    </tr>\n",
       "  </tbody>\n",
       "</table>\n",
       "<p>25464 rows × 50 columns</p>\n",
       "</div>"
      ],
      "text/plain": [
       "                0         1    2    3         4    5         6         7   \\\n",
       "anime_id                                                                    \n",
       "5114      0.243555  0.264325  0.0  0.0  0.000000  0.0  0.293202  0.000000   \n",
       "9253      0.000000  0.000000  0.0  0.0  0.000000  0.0  0.208083  0.000000   \n",
       "28977     0.191855  0.000000  0.0  0.0  0.166754  0.0  0.000000  0.000000   \n",
       "41467     0.221499  0.240388  0.0  0.0  0.000000  0.0  0.000000  0.000000   \n",
       "39486     0.201203  0.000000  0.0  0.0  0.174879  0.0  0.242216  0.331013   \n",
       "...            ...       ...  ...  ...       ...  ...       ...       ...   \n",
       "56512     0.000000  0.000000  0.0  0.0  0.000000  0.0  0.000000  0.000000   \n",
       "56779     0.000000  0.000000  0.0  0.0  0.000000  0.0  0.000000  0.000000   \n",
       "53029     0.000000  0.000000  0.0  0.0  0.000000  0.0  0.000000  0.000000   \n",
       "9304      0.000000  0.000000  0.0  0.0  0.000000  0.0  0.000000  0.000000   \n",
       "56511     0.000000  0.000000  0.0  0.0  0.000000  0.0  0.000000  0.000000   \n",
       "\n",
       "           8         9   ...   40       41        42   43   44        45  \\\n",
       "anime_id                 ...                                               \n",
       "5114      0.0  0.235457  ...  0.0  0.00000  0.000000  0.0  0.0  0.296467   \n",
       "9253      0.0  0.000000  ...  0.0  0.00000  0.708988  0.0  0.0  0.000000   \n",
       "28977     0.0  0.000000  ...  0.0  0.64006  0.000000  0.0  0.0  0.233535   \n",
       "41467     0.0  0.214134  ...  0.0  0.00000  0.000000  0.0  0.0  0.539239   \n",
       "39486     0.0  0.000000  ...  0.0  0.00000  0.275096  0.0  0.0  0.244914   \n",
       "...       ...       ...  ...  ...      ...       ...  ...  ...       ...   \n",
       "56512     0.0  0.000000  ...  0.0  0.00000  0.000000  0.0  0.0  0.000000   \n",
       "56779     0.0  0.000000  ...  0.0  0.00000  0.000000  0.0  0.0  0.000000   \n",
       "53029     0.0  0.000000  ...  0.0  0.00000  0.000000  0.0  0.0  0.000000   \n",
       "9304      0.0  0.000000  ...  0.0  0.00000  0.000000  0.0  0.0  0.000000   \n",
       "56511     0.0  0.000000  ...  0.0  0.00000  0.000000  0.0  0.0  0.000000   \n",
       "\n",
       "                46   47        48   49  \n",
       "anime_id                                \n",
       "5114      0.276524  0.0  0.365017  0.0  \n",
       "9253      0.196247  0.0  0.000000  0.0  \n",
       "28977     0.217825  0.0  0.000000  0.0  \n",
       "41467     0.251482  0.0  0.000000  0.0  \n",
       "39486     0.228439  0.0  0.301544  0.0  \n",
       "...            ...  ...       ...  ...  \n",
       "56512     0.000000  0.0  0.000000  0.0  \n",
       "56779     0.000000  0.0  0.000000  0.0  \n",
       "53029     0.000000  0.0  0.000000  0.0  \n",
       "9304      0.000000  0.0  0.000000  0.0  \n",
       "56511     0.000000  0.0  0.000000  0.0  \n",
       "\n",
       "[25464 rows x 50 columns]"
      ]
     },
     "execution_count": 48,
     "metadata": {},
     "output_type": "execute_result"
    }
   ],
   "source": [
    "std_anime_cbf_recommender = CBFRecommender(anime_df, train_df)\n",
    "std_anime_cbf_recommender.vectorize_anime_data(stop_words='english', max_features=50, max_df=0.5, min_df=0.01)"
   ]
  },
  {
   "cell_type": "code",
   "execution_count": 49,
   "metadata": {},
   "outputs": [
    {
     "name": "stdout",
     "output_type": "stream",
     "text": [
      "IDs not in both: \n",
      "[]\n",
      "Num Users Not Scored: 0\n"
     ]
    },
    {
     "data": {
      "text/plain": [
       "{'hit_rate': 0.04770570648641622, 'average_precision': 0.8979201871831373}"
      ]
     },
     "execution_count": 49,
     "metadata": {},
     "output_type": "execute_result"
    }
   ],
   "source": [
    "cbf_cosine_eval = std_anime_cbf_recommender.test_recommendations(test_df, num_recommendations=num_recommendations, distance_metric='cosine', evaluation_distance_metric=eval_dist_metric)\n",
    "cbf_cosine_eval"
   ]
  },
  {
   "cell_type": "code",
   "execution_count": 50,
   "metadata": {},
   "outputs": [
    {
     "name": "stdout",
     "output_type": "stream",
     "text": [
      "IDs not in both: \n",
      "[]\n",
      "Num Users Not Scored: 0\n"
     ]
    },
    {
     "data": {
      "text/plain": [
       "{'hit_rate': 0.016508514233718966, 'average_precision': 0.10425061744442993}"
      ]
     },
     "execution_count": 50,
     "metadata": {},
     "output_type": "execute_result"
    }
   ],
   "source": [
    "cbf_euclidean_eval = std_anime_cbf_recommender.test_recommendations(test_df, num_recommendations=num_recommendations, distance_metric='euclidean', evaluation_distance_metric=eval_dist_metric)\n",
    "cbf_euclidean_eval"
   ]
  },
  {
   "cell_type": "code",
   "execution_count": 51,
   "metadata": {},
   "outputs": [
    {
     "name": "stdout",
     "output_type": "stream",
     "text": [
      "IDs not in both: \n",
      "[]\n",
      "Num Users Not Scored: 0\n"
     ]
    },
    {
     "data": {
      "text/plain": [
       "{'hit_rate': 0.020668139867411933, 'average_precision': 0.3969387755102055}"
      ]
     },
     "execution_count": 51,
     "metadata": {},
     "output_type": "execute_result"
    }
   ],
   "source": [
    "cbf_manhattan_eval = std_anime_cbf_recommender.test_recommendations(test_df, num_recommendations=num_recommendations, distance_metric='manhattan', evaluation_distance_metric=eval_dist_metric)\n",
    "cbf_manhattan_eval"
   ]
  },
  {
   "cell_type": "code",
   "execution_count": 59,
   "metadata": {
    "tags": []
   },
   "outputs": [
    {
     "data": {
      "image/png": "[encoded data removed]",
      "text/plain": [
       "<Figure size 640x480 with 1 Axes>"
      ]
     },
     "metadata": {},
     "output_type": "display_data"
    }
   ],
   "source": [
    "import matplotlib.pyplot as plt\n",
    "fig, ax = plt.subplots()\n",
    "\n",
    "distance_metric_labels = ['Cosine', 'Euclidean', 'Manhattan']\n",
    "distance_evaluations = [cbf_cosine_eval['average_precision'], cbf_euclidean_eval['average_precision'], cbf_manhattan_eval['average_precision']]\n",
    "\n",
    "ax.bar(distance_metric_labels, distance_evaluations)\n",
    "ax.set_ylabel('Precision @ K (Average)')\n",
    "ax.set_xlabel('Distance Metric')\n",
    "ax.set_title('Comparing the Precision @ K (Average) for Content-Based Recommenders (Normal Users)')\n",
    "\n",
    "plt.show()"
   ]
  },
  {
   "cell_type": "code",
   "execution_count": 56,
   "metadata": {},
   "outputs": [
    {
     "data": {
      "text/html": [
       "<div>\n",
       "<style scoped>\n",
       "    .dataframe tbody tr th:only-of-type {\n",
       "        vertical-align: middle;\n",
       "    }\n",
       "\n",
       "    .dataframe tbody tr th {\n",
       "        vertical-align: top;\n",
       "    }\n",
       "\n",
       "    .dataframe thead th {\n",
       "        text-align: right;\n",
       "    }\n",
       "</style>\n",
       "<table border=\"1\" class=\"dataframe\">\n",
       "  <thead>\n",
       "    <tr style=\"text-align: right;\">\n",
       "      <th></th>\n",
       "      <th>distance_metrics</th>\n",
       "      <th>hit_rates</th>\n",
       "    </tr>\n",
       "  </thead>\n",
       "  <tbody>\n",
       "    <tr>\n",
       "      <th>0</th>\n",
       "      <td>Cosine</td>\n",
       "      <td>0.047706</td>\n",
       "    </tr>\n",
       "    <tr>\n",
       "      <th>1</th>\n",
       "      <td>Euclidean</td>\n",
       "      <td>0.016509</td>\n",
       "    </tr>\n",
       "    <tr>\n",
       "      <th>2</th>\n",
       "      <td>Manhattan</td>\n",
       "      <td>0.020668</td>\n",
       "    </tr>\n",
       "  </tbody>\n",
       "</table>\n",
       "</div>"
      ],
      "text/plain": [
       "  distance_metrics  hit_rates\n",
       "0           Cosine   0.047706\n",
       "1        Euclidean   0.016509\n",
       "2        Manhattan   0.020668"
      ]
     },
     "execution_count": 56,
     "metadata": {},
     "output_type": "execute_result"
    }
   ],
   "source": [
    "hit_rate_cbf_dict = {\n",
    "    \"distance_metrics\": ['Cosine', 'Euclidean', 'Manhattan'],\n",
    "    \"hit_rates\": [cbf_cosine_eval['hit_rate'], cbf_euclidean_eval['hit_rate'], cbf_manhattan_eval['hit_rate']]\n",
    "}\n",
    "\n",
    "hit_rate_cbf_df = pd.DataFrame(data=hit_rate_cbf_dict)\n",
    "hit_rate_cbf_df.head()"
   ]
  },
  {
   "cell_type": "markdown",
   "metadata": {},
   "source": [
    "### Use the New Users Dataset"
   ]
  },
  {
   "cell_type": "code",
   "execution_count": 57,
   "metadata": {
    "tags": []
   },
   "outputs": [
    {
     "data": {
      "text/html": [
       "<div>\n",
       "<style scoped>\n",
       "    .dataframe tbody tr th:only-of-type {\n",
       "        vertical-align: middle;\n",
       "    }\n",
       "\n",
       "    .dataframe tbody tr th {\n",
       "        vertical-align: top;\n",
       "    }\n",
       "\n",
       "    .dataframe thead th {\n",
       "        text-align: right;\n",
       "    }\n",
       "</style>\n",
       "<table border=\"1\" class=\"dataframe\">\n",
       "  <thead>\n",
       "    <tr style=\"text-align: right;\">\n",
       "      <th></th>\n",
       "      <th>0</th>\n",
       "      <th>1</th>\n",
       "      <th>2</th>\n",
       "      <th>3</th>\n",
       "      <th>4</th>\n",
       "      <th>5</th>\n",
       "      <th>6</th>\n",
       "      <th>7</th>\n",
       "      <th>8</th>\n",
       "      <th>9</th>\n",
       "      <th>...</th>\n",
       "      <th>40</th>\n",
       "      <th>41</th>\n",
       "      <th>42</th>\n",
       "      <th>43</th>\n",
       "      <th>44</th>\n",
       "      <th>45</th>\n",
       "      <th>46</th>\n",
       "      <th>47</th>\n",
       "      <th>48</th>\n",
       "      <th>49</th>\n",
       "    </tr>\n",
       "    <tr>\n",
       "      <th>anime_id</th>\n",
       "      <th></th>\n",
       "      <th></th>\n",
       "      <th></th>\n",
       "      <th></th>\n",
       "      <th></th>\n",
       "      <th></th>\n",
       "      <th></th>\n",
       "      <th></th>\n",
       "      <th></th>\n",
       "      <th></th>\n",
       "      <th></th>\n",
       "      <th></th>\n",
       "      <th></th>\n",
       "      <th></th>\n",
       "      <th></th>\n",
       "      <th></th>\n",
       "      <th></th>\n",
       "      <th></th>\n",
       "      <th></th>\n",
       "      <th></th>\n",
       "      <th></th>\n",
       "    </tr>\n",
       "  </thead>\n",
       "  <tbody>\n",
       "    <tr>\n",
       "      <th>5114</th>\n",
       "      <td>0.243555</td>\n",
       "      <td>0.264325</td>\n",
       "      <td>0.0</td>\n",
       "      <td>0.0</td>\n",
       "      <td>0.000000</td>\n",
       "      <td>0.0</td>\n",
       "      <td>0.293202</td>\n",
       "      <td>0.000000</td>\n",
       "      <td>0.0</td>\n",
       "      <td>0.235457</td>\n",
       "      <td>...</td>\n",
       "      <td>0.0</td>\n",
       "      <td>0.00000</td>\n",
       "      <td>0.000000</td>\n",
       "      <td>0.0</td>\n",
       "      <td>0.0</td>\n",
       "      <td>0.296467</td>\n",
       "      <td>0.276524</td>\n",
       "      <td>0.0</td>\n",
       "      <td>0.365017</td>\n",
       "      <td>0.0</td>\n",
       "    </tr>\n",
       "    <tr>\n",
       "      <th>9253</th>\n",
       "      <td>0.000000</td>\n",
       "      <td>0.000000</td>\n",
       "      <td>0.0</td>\n",
       "      <td>0.0</td>\n",
       "      <td>0.000000</td>\n",
       "      <td>0.0</td>\n",
       "      <td>0.208083</td>\n",
       "      <td>0.000000</td>\n",
       "      <td>0.0</td>\n",
       "      <td>0.000000</td>\n",
       "      <td>...</td>\n",
       "      <td>0.0</td>\n",
       "      <td>0.00000</td>\n",
       "      <td>0.708988</td>\n",
       "      <td>0.0</td>\n",
       "      <td>0.0</td>\n",
       "      <td>0.000000</td>\n",
       "      <td>0.196247</td>\n",
       "      <td>0.0</td>\n",
       "      <td>0.000000</td>\n",
       "      <td>0.0</td>\n",
       "    </tr>\n",
       "    <tr>\n",
       "      <th>28977</th>\n",
       "      <td>0.191855</td>\n",
       "      <td>0.000000</td>\n",
       "      <td>0.0</td>\n",
       "      <td>0.0</td>\n",
       "      <td>0.166754</td>\n",
       "      <td>0.0</td>\n",
       "      <td>0.000000</td>\n",
       "      <td>0.000000</td>\n",
       "      <td>0.0</td>\n",
       "      <td>0.000000</td>\n",
       "      <td>...</td>\n",
       "      <td>0.0</td>\n",
       "      <td>0.64006</td>\n",
       "      <td>0.000000</td>\n",
       "      <td>0.0</td>\n",
       "      <td>0.0</td>\n",
       "      <td>0.233535</td>\n",
       "      <td>0.217825</td>\n",
       "      <td>0.0</td>\n",
       "      <td>0.000000</td>\n",
       "      <td>0.0</td>\n",
       "    </tr>\n",
       "    <tr>\n",
       "      <th>41467</th>\n",
       "      <td>0.221499</td>\n",
       "      <td>0.240388</td>\n",
       "      <td>0.0</td>\n",
       "      <td>0.0</td>\n",
       "      <td>0.000000</td>\n",
       "      <td>0.0</td>\n",
       "      <td>0.000000</td>\n",
       "      <td>0.000000</td>\n",
       "      <td>0.0</td>\n",
       "      <td>0.214134</td>\n",
       "      <td>...</td>\n",
       "      <td>0.0</td>\n",
       "      <td>0.00000</td>\n",
       "      <td>0.000000</td>\n",
       "      <td>0.0</td>\n",
       "      <td>0.0</td>\n",
       "      <td>0.539239</td>\n",
       "      <td>0.251482</td>\n",
       "      <td>0.0</td>\n",
       "      <td>0.000000</td>\n",
       "      <td>0.0</td>\n",
       "    </tr>\n",
       "    <tr>\n",
       "      <th>39486</th>\n",
       "      <td>0.201203</td>\n",
       "      <td>0.000000</td>\n",
       "      <td>0.0</td>\n",
       "      <td>0.0</td>\n",
       "      <td>0.174879</td>\n",
       "      <td>0.0</td>\n",
       "      <td>0.242216</td>\n",
       "      <td>0.331013</td>\n",
       "      <td>0.0</td>\n",
       "      <td>0.000000</td>\n",
       "      <td>...</td>\n",
       "      <td>0.0</td>\n",
       "      <td>0.00000</td>\n",
       "      <td>0.275096</td>\n",
       "      <td>0.0</td>\n",
       "      <td>0.0</td>\n",
       "      <td>0.244914</td>\n",
       "      <td>0.228439</td>\n",
       "      <td>0.0</td>\n",
       "      <td>0.301544</td>\n",
       "      <td>0.0</td>\n",
       "    </tr>\n",
       "    <tr>\n",
       "      <th>...</th>\n",
       "      <td>...</td>\n",
       "      <td>...</td>\n",
       "      <td>...</td>\n",
       "      <td>...</td>\n",
       "      <td>...</td>\n",
       "      <td>...</td>\n",
       "      <td>...</td>\n",
       "      <td>...</td>\n",
       "      <td>...</td>\n",
       "      <td>...</td>\n",
       "      <td>...</td>\n",
       "      <td>...</td>\n",
       "      <td>...</td>\n",
       "      <td>...</td>\n",
       "      <td>...</td>\n",
       "      <td>...</td>\n",
       "      <td>...</td>\n",
       "      <td>...</td>\n",
       "      <td>...</td>\n",
       "      <td>...</td>\n",
       "      <td>...</td>\n",
       "    </tr>\n",
       "    <tr>\n",
       "      <th>56512</th>\n",
       "      <td>0.000000</td>\n",
       "      <td>0.000000</td>\n",
       "      <td>0.0</td>\n",
       "      <td>0.0</td>\n",
       "      <td>0.000000</td>\n",
       "      <td>0.0</td>\n",
       "      <td>0.000000</td>\n",
       "      <td>0.000000</td>\n",
       "      <td>0.0</td>\n",
       "      <td>0.000000</td>\n",
       "      <td>...</td>\n",
       "      <td>0.0</td>\n",
       "      <td>0.00000</td>\n",
       "      <td>0.000000</td>\n",
       "      <td>0.0</td>\n",
       "      <td>0.0</td>\n",
       "      <td>0.000000</td>\n",
       "      <td>0.000000</td>\n",
       "      <td>0.0</td>\n",
       "      <td>0.000000</td>\n",
       "      <td>0.0</td>\n",
       "    </tr>\n",
       "    <tr>\n",
       "      <th>56779</th>\n",
       "      <td>0.000000</td>\n",
       "      <td>0.000000</td>\n",
       "      <td>0.0</td>\n",
       "      <td>0.0</td>\n",
       "      <td>0.000000</td>\n",
       "      <td>0.0</td>\n",
       "      <td>0.000000</td>\n",
       "      <td>0.000000</td>\n",
       "      <td>0.0</td>\n",
       "      <td>0.000000</td>\n",
       "      <td>...</td>\n",
       "      <td>0.0</td>\n",
       "      <td>0.00000</td>\n",
       "      <td>0.000000</td>\n",
       "      <td>0.0</td>\n",
       "      <td>0.0</td>\n",
       "      <td>0.000000</td>\n",
       "      <td>0.000000</td>\n",
       "      <td>0.0</td>\n",
       "      <td>0.000000</td>\n",
       "      <td>0.0</td>\n",
       "    </tr>\n",
       "    <tr>\n",
       "      <th>53029</th>\n",
       "      <td>0.000000</td>\n",
       "      <td>0.000000</td>\n",
       "      <td>0.0</td>\n",
       "      <td>0.0</td>\n",
       "      <td>0.000000</td>\n",
       "      <td>0.0</td>\n",
       "      <td>0.000000</td>\n",
       "      <td>0.000000</td>\n",
       "      <td>0.0</td>\n",
       "      <td>0.000000</td>\n",
       "      <td>...</td>\n",
       "      <td>0.0</td>\n",
       "      <td>0.00000</td>\n",
       "      <td>0.000000</td>\n",
       "      <td>0.0</td>\n",
       "      <td>0.0</td>\n",
       "      <td>0.000000</td>\n",
       "      <td>0.000000</td>\n",
       "      <td>0.0</td>\n",
       "      <td>0.000000</td>\n",
       "      <td>0.0</td>\n",
       "    </tr>\n",
       "    <tr>\n",
       "      <th>9304</th>\n",
       "      <td>0.000000</td>\n",
       "      <td>0.000000</td>\n",
       "      <td>0.0</td>\n",
       "      <td>0.0</td>\n",
       "      <td>0.000000</td>\n",
       "      <td>0.0</td>\n",
       "      <td>0.000000</td>\n",
       "      <td>0.000000</td>\n",
       "      <td>0.0</td>\n",
       "      <td>0.000000</td>\n",
       "      <td>...</td>\n",
       "      <td>0.0</td>\n",
       "      <td>0.00000</td>\n",
       "      <td>0.000000</td>\n",
       "      <td>0.0</td>\n",
       "      <td>0.0</td>\n",
       "      <td>0.000000</td>\n",
       "      <td>0.000000</td>\n",
       "      <td>0.0</td>\n",
       "      <td>0.000000</td>\n",
       "      <td>0.0</td>\n",
       "    </tr>\n",
       "    <tr>\n",
       "      <th>56511</th>\n",
       "      <td>0.000000</td>\n",
       "      <td>0.000000</td>\n",
       "      <td>0.0</td>\n",
       "      <td>0.0</td>\n",
       "      <td>0.000000</td>\n",
       "      <td>0.0</td>\n",
       "      <td>0.000000</td>\n",
       "      <td>0.000000</td>\n",
       "      <td>0.0</td>\n",
       "      <td>0.000000</td>\n",
       "      <td>...</td>\n",
       "      <td>0.0</td>\n",
       "      <td>0.00000</td>\n",
       "      <td>0.000000</td>\n",
       "      <td>0.0</td>\n",
       "      <td>0.0</td>\n",
       "      <td>0.000000</td>\n",
       "      <td>0.000000</td>\n",
       "      <td>0.0</td>\n",
       "      <td>0.000000</td>\n",
       "      <td>0.0</td>\n",
       "    </tr>\n",
       "  </tbody>\n",
       "</table>\n",
       "<p>25464 rows × 50 columns</p>\n",
       "</div>"
      ],
      "text/plain": [
       "                0         1    2    3         4    5         6         7   \\\n",
       "anime_id                                                                    \n",
       "5114      0.243555  0.264325  0.0  0.0  0.000000  0.0  0.293202  0.000000   \n",
       "9253      0.000000  0.000000  0.0  0.0  0.000000  0.0  0.208083  0.000000   \n",
       "28977     0.191855  0.000000  0.0  0.0  0.166754  0.0  0.000000  0.000000   \n",
       "41467     0.221499  0.240388  0.0  0.0  0.000000  0.0  0.000000  0.000000   \n",
       "39486     0.201203  0.000000  0.0  0.0  0.174879  0.0  0.242216  0.331013   \n",
       "...            ...       ...  ...  ...       ...  ...       ...       ...   \n",
       "56512     0.000000  0.000000  0.0  0.0  0.000000  0.0  0.000000  0.000000   \n",
       "56779     0.000000  0.000000  0.0  0.0  0.000000  0.0  0.000000  0.000000   \n",
       "53029     0.000000  0.000000  0.0  0.0  0.000000  0.0  0.000000  0.000000   \n",
       "9304      0.000000  0.000000  0.0  0.0  0.000000  0.0  0.000000  0.000000   \n",
       "56511     0.000000  0.000000  0.0  0.0  0.000000  0.0  0.000000  0.000000   \n",
       "\n",
       "           8         9   ...   40       41        42   43   44        45  \\\n",
       "anime_id                 ...                                               \n",
       "5114      0.0  0.235457  ...  0.0  0.00000  0.000000  0.0  0.0  0.296467   \n",
       "9253      0.0  0.000000  ...  0.0  0.00000  0.708988  0.0  0.0  0.000000   \n",
       "28977     0.0  0.000000  ...  0.0  0.64006  0.000000  0.0  0.0  0.233535   \n",
       "41467     0.0  0.214134  ...  0.0  0.00000  0.000000  0.0  0.0  0.539239   \n",
       "39486     0.0  0.000000  ...  0.0  0.00000  0.275096  0.0  0.0  0.244914   \n",
       "...       ...       ...  ...  ...      ...       ...  ...  ...       ...   \n",
       "56512     0.0  0.000000  ...  0.0  0.00000  0.000000  0.0  0.0  0.000000   \n",
       "56779     0.0  0.000000  ...  0.0  0.00000  0.000000  0.0  0.0  0.000000   \n",
       "53029     0.0  0.000000  ...  0.0  0.00000  0.000000  0.0  0.0  0.000000   \n",
       "9304      0.0  0.000000  ...  0.0  0.00000  0.000000  0.0  0.0  0.000000   \n",
       "56511     0.0  0.000000  ...  0.0  0.00000  0.000000  0.0  0.0  0.000000   \n",
       "\n",
       "                46   47        48   49  \n",
       "anime_id                                \n",
       "5114      0.276524  0.0  0.365017  0.0  \n",
       "9253      0.196247  0.0  0.000000  0.0  \n",
       "28977     0.217825  0.0  0.000000  0.0  \n",
       "41467     0.251482  0.0  0.000000  0.0  \n",
       "39486     0.228439  0.0  0.301544  0.0  \n",
       "...            ...  ...       ...  ...  \n",
       "56512     0.000000  0.0  0.000000  0.0  \n",
       "56779     0.000000  0.0  0.000000  0.0  \n",
       "53029     0.000000  0.0  0.000000  0.0  \n",
       "9304      0.000000  0.0  0.000000  0.0  \n",
       "56511     0.000000  0.0  0.000000  0.0  \n",
       "\n",
       "[25464 rows x 50 columns]"
      ]
     },
     "execution_count": 57,
     "metadata": {},
     "output_type": "execute_result"
    }
   ],
   "source": [
    "new_anime_cbf_recommender = CBFRecommender(anime_df, new_users_train_df)\n",
    "new_anime_cbf_recommender.vectorize_anime_data(stop_words='english', max_features=50, max_df=0.5, min_df=0.01)"
   ]
  },
  {
   "cell_type": "code",
   "execution_count": 60,
   "metadata": {
    "tags": []
   },
   "outputs": [
    {
     "name": "stdout",
     "output_type": "stream",
     "text": [
      "IDs not in both: \n",
      "[]\n",
      "Num Users Not Scored: 0\n"
     ]
    },
    {
     "data": {
      "text/plain": [
       "{'hit_rate': 0.063770472761064, 'average_precision': 0.716744105006379}"
      ]
     },
     "execution_count": 60,
     "metadata": {},
     "output_type": "execute_result"
    }
   ],
   "source": [
    "new_cbf_cosine_eval = new_anime_cbf_recommender.test_recommendations(new_users_test_df, num_recommendations=num_recommendations, distance_metric='cosine', evaluation_distance_metric=eval_dist_metric)\n",
    "new_cbf_cosine_eval"
   ]
  },
  {
   "cell_type": "code",
   "execution_count": 61,
   "metadata": {
    "tags": []
   },
   "outputs": [
    {
     "name": "stdout",
     "output_type": "stream",
     "text": [
      "IDs not in both: \n",
      "[]\n",
      "Num Users Not Scored: 0\n"
     ]
    },
    {
     "data": {
      "text/plain": [
       "{'hit_rate': 0.02509002206992682, 'average_precision': 0.0648623533511444}"
      ]
     },
     "execution_count": 61,
     "metadata": {},
     "output_type": "execute_result"
    }
   ],
   "source": [
    "new_cbf_euclidean_eval = new_anime_cbf_recommender.test_recommendations(new_users_test_df, num_recommendations=num_recommendations, distance_metric='euclidean', evaluation_distance_metric=eval_dist_metric)\n",
    "new_cbf_euclidean_eval"
   ]
  },
  {
   "cell_type": "code",
   "execution_count": 62,
   "metadata": {
    "tags": []
   },
   "outputs": [
    {
     "name": "stdout",
     "output_type": "stream",
     "text": [
      "IDs not in both: \n",
      "[]\n",
      "Num Users Not Scored: 0\n"
     ]
    },
    {
     "data": {
      "text/plain": [
       "{'hit_rate': 0.024160761993262864, 'average_precision': 0.2575792775002868}"
      ]
     },
     "execution_count": 62,
     "metadata": {},
     "output_type": "execute_result"
    }
   ],
   "source": [
    "new_cbf_manhattan_eval = new_anime_cbf_recommender.test_recommendations(new_users_test_df, num_recommendations=num_recommendations, distance_metric='manhattan', evaluation_distance_metric=eval_dist_metric)\n",
    "new_cbf_manhattan_eval"
   ]
  },
  {
   "cell_type": "code",
   "execution_count": 63,
   "metadata": {},
   "outputs": [
    {
     "data": {
      "image/png": "[encoded data removed]",
      "text/plain": [
       "<Figure size 640x480 with 1 Axes>"
      ]
     },
     "metadata": {},
     "output_type": "display_data"
    }
   ],
   "source": [
    "import matplotlib.pyplot as plt\n",
    "fig, ax = plt.subplots()\n",
    "\n",
    "distance_metric_labels = ['Cosine', 'Euclidean', 'Manhattan']\n",
    "distance_evaluations = [new_cbf_cosine_eval['average_precision'], new_cbf_euclidean_eval['average_precision'], new_cbf_manhattan_eval['average_precision']]\n",
    "\n",
    "ax.bar(distance_metric_labels, distance_evaluations)\n",
    "ax.set_ylabel('Precision @ K (Average)')\n",
    "ax.set_xlabel('Distance Metric')\n",
    "ax.set_title('Comparing the Precision @ K (Average) for Content-Based Recommenders (New Users)')\n",
    "\n",
    "plt.show()"
   ]
  },
  {
   "cell_type": "code",
   "execution_count": 64,
   "metadata": {},
   "outputs": [
    {
     "data": {
      "text/html": [
       "<div>\n",
       "<style scoped>\n",
       "    .dataframe tbody tr th:only-of-type {\n",
       "        vertical-align: middle;\n",
       "    }\n",
       "\n",
       "    .dataframe tbody tr th {\n",
       "        vertical-align: top;\n",
       "    }\n",
       "\n",
       "    .dataframe thead th {\n",
       "        text-align: right;\n",
       "    }\n",
       "</style>\n",
       "<table border=\"1\" class=\"dataframe\">\n",
       "  <thead>\n",
       "    <tr style=\"text-align: right;\">\n",
       "      <th></th>\n",
       "      <th>distance_metrics</th>\n",
       "      <th>hit_rates</th>\n",
       "    </tr>\n",
       "  </thead>\n",
       "  <tbody>\n",
       "    <tr>\n",
       "      <th>0</th>\n",
       "      <td>Cosine</td>\n",
       "      <td>0.063770</td>\n",
       "    </tr>\n",
       "    <tr>\n",
       "      <th>1</th>\n",
       "      <td>Euclidean</td>\n",
       "      <td>0.025090</td>\n",
       "    </tr>\n",
       "    <tr>\n",
       "      <th>2</th>\n",
       "      <td>Manhattan</td>\n",
       "      <td>0.024161</td>\n",
       "    </tr>\n",
       "  </tbody>\n",
       "</table>\n",
       "</div>"
      ],
      "text/plain": [
       "  distance_metrics  hit_rates\n",
       "0           Cosine   0.063770\n",
       "1        Euclidean   0.025090\n",
       "2        Manhattan   0.024161"
      ]
     },
     "execution_count": 64,
     "metadata": {},
     "output_type": "execute_result"
    }
   ],
   "source": [
    "hit_rate_new_cbf_dict = {\n",
    "    \"distance_metrics\": ['Cosine', 'Euclidean', 'Manhattan'],\n",
    "   \"hit_rates\": [new_cbf_cosine_eval['hit_rate'], new_cbf_euclidean_eval['hit_rate'], new_cbf_manhattan_eval['hit_rate']]\n",
    "}\n",
    "\n",
    "hit_rate_new_cbf_df = pd.DataFrame(data=hit_rate_new_cbf_dict)\n",
    "hit_rate_new_cbf_df.head()"
   ]
  },
  {
   "cell_type": "markdown",
   "metadata": {},
   "source": [
    "## Evaluate the Collaborative Recommender"
   ]
  },
  {
   "cell_type": "markdown",
   "metadata": {},
   "source": [
    "### Use the Standard Dataset"
   ]
  },
  {
   "cell_type": "code",
   "execution_count": 65,
   "metadata": {},
   "outputs": [],
   "source": [
    "cf_ratings_data = convert_user_ratings_to_surprise_dataset(train_df)\n",
    "cf_svd_recommender = CollaborativeFilteringRecommender(cf_ratings_data, performGridsearch=False)"
   ]
  },
  {
   "cell_type": "code",
   "execution_count": 66,
   "metadata": {},
   "outputs": [
    {
     "name": "stdout",
     "output_type": "stream",
     "text": [
      "Num Users Not Scored: 0\n"
     ]
    },
    {
     "data": {
      "text/plain": [
       "{'hit_rate': 1.669309762121409, 'average_precision': 0.5802612764851145}"
      ]
     },
     "execution_count": 66,
     "metadata": {},
     "output_type": "execute_result"
    }
   ],
   "source": [
    "cf_svd_recommendations = cf_svd_recommender.test_recommendations(num_recommendations, test_df, std_anime_cbf_recommender.anime_vector_df, evaluation_distance_metric=eval_dist_metric)\n",
    "cf_svd_recommendations"
   ]
  },
  {
   "cell_type": "code",
   "execution_count": 67,
   "metadata": {},
   "outputs": [],
   "source": [
    "cf_nmf_recommender = CollaborativeFilteringRecommender(cf_ratings_data, mf_algorithm=NMF, performGridsearch=False)"
   ]
  },
  {
   "cell_type": "code",
   "execution_count": 68,
   "metadata": {},
   "outputs": [
    {
     "name": "stdout",
     "output_type": "stream",
     "text": [
      "Num Users Not Scored: 0\n"
     ]
    },
    {
     "data": {
      "text/plain": [
       "{'hit_rate': 0.8165865072143507, 'average_precision': 0.41345378915897474}"
      ]
     },
     "execution_count": 68,
     "metadata": {},
     "output_type": "execute_result"
    }
   ],
   "source": [
    "cf_nmf_recommendations = cf_nmf_recommender.test_recommendations(num_recommendations, test_df, std_anime_cbf_recommender.anime_vector_df, evaluation_distance_metric=eval_dist_metric)\n",
    "cf_nmf_recommendations"
   ]
  },
  {
   "cell_type": "code",
   "execution_count": 69,
   "metadata": {},
   "outputs": [
    {
     "data": {
      "image/png": "[encoded data removed]",
      "text/plain": [
       "<Figure size 640x480 with 1 Axes>"
      ]
     },
     "metadata": {},
     "output_type": "display_data"
    }
   ],
   "source": [
    "import matplotlib.pyplot as plt\n",
    "fig, ax = plt.subplots()\n",
    "\n",
    "algorithm_labels = ['SVD', 'NMF']\n",
    "algorithm_evaluations = [cf_svd_recommendations['average_precision'], cf_nmf_recommendations['average_precision']]\n",
    "\n",
    "ax.bar(algorithm_labels, algorithm_evaluations)\n",
    "ax.set_ylabel('Precision @ K (Average)')\n",
    "ax.set_xlabel('Collaborative Filtering Algorithm')\n",
    "ax.set_title('Comparing the Precision @ K (Average) for Collaborative Recommenders (Normal Users)')\n",
    "\n",
    "plt.show()"
   ]
  },
  {
   "cell_type": "code",
   "execution_count": 80,
   "metadata": {},
   "outputs": [
    {
     "data": {
      "text/html": [
       "<div>\n",
       "<style scoped>\n",
       "    .dataframe tbody tr th:only-of-type {\n",
       "        vertical-align: middle;\n",
       "    }\n",
       "\n",
       "    .dataframe tbody tr th {\n",
       "        vertical-align: top;\n",
       "    }\n",
       "\n",
       "    .dataframe thead th {\n",
       "        text-align: right;\n",
       "    }\n",
       "</style>\n",
       "<table border=\"1\" class=\"dataframe\">\n",
       "  <thead>\n",
       "    <tr style=\"text-align: right;\">\n",
       "      <th></th>\n",
       "      <th>algorithms</th>\n",
       "      <th>hit_rates</th>\n",
       "    </tr>\n",
       "  </thead>\n",
       "  <tbody>\n",
       "    <tr>\n",
       "      <th>0</th>\n",
       "      <td>SVD</td>\n",
       "      <td>1.669310</td>\n",
       "    </tr>\n",
       "    <tr>\n",
       "      <th>1</th>\n",
       "      <td>NMF</td>\n",
       "      <td>0.816587</td>\n",
       "    </tr>\n",
       "  </tbody>\n",
       "</table>\n",
       "</div>"
      ],
      "text/plain": [
       "  algorithms  hit_rates\n",
       "0        SVD   1.669310\n",
       "1        NMF   0.816587"
      ]
     },
     "execution_count": 80,
     "metadata": {},
     "output_type": "execute_result"
    }
   ],
   "source": [
    "hit_rate_cf_dict = {\n",
    "    \"algorithms\": ['SVD', 'NMF'],\n",
    "    \"hit_rates\": [cf_svd_recommendations['hit_rate'], cf_nmf_recommendations['hit_rate']]\n",
    "}\n",
    "\n",
    "hit_rate_cf_df = pd.DataFrame(data=hit_rate_cf_dict)\n",
    "hit_rate_cf_df.head()"
   ]
  },
  {
   "cell_type": "markdown",
   "metadata": {},
   "source": [
    "### Use the New Users Dataset"
   ]
  },
  {
   "cell_type": "code",
   "execution_count": 71,
   "metadata": {},
   "outputs": [],
   "source": [
    "new_cf_ratings_data = convert_user_ratings_to_surprise_dataset(new_users_train_df)\n",
    "new_cf_svd_recommender = CollaborativeFilteringRecommender(new_cf_ratings_data, performGridsearch=False)"
   ]
  },
  {
   "cell_type": "code",
   "execution_count": 72,
   "metadata": {},
   "outputs": [
    {
     "name": "stdout",
     "output_type": "stream",
     "text": [
      "Num Users Not Scored: 0\n"
     ]
    },
    {
     "data": {
      "text/plain": [
       "{'hit_rate': 1.0759670112672783, 'average_precision': 0.4340225345568605}"
      ]
     },
     "execution_count": 72,
     "metadata": {},
     "output_type": "execute_result"
    }
   ],
   "source": [
    "new_cf_svd_recommendations = new_cf_svd_recommender.test_recommendations(num_recommendations, new_users_test_df, std_anime_cbf_recommender.anime_vector_df, evaluation_distance_metric=eval_dist_metric)\n",
    "new_cf_svd_recommendations"
   ]
  },
  {
   "cell_type": "code",
   "execution_count": 73,
   "metadata": {},
   "outputs": [],
   "source": [
    "new_cf_nmf_recommender = CollaborativeFilteringRecommender(new_cf_ratings_data, mf_algorithm=NMF, performGridsearch=False)"
   ]
  },
  {
   "cell_type": "code",
   "execution_count": 74,
   "metadata": {},
   "outputs": [
    {
     "name": "stdout",
     "output_type": "stream",
     "text": [
      "Num Users Not Scored: 0\n"
     ]
    },
    {
     "data": {
      "text/plain": [
       "{'hit_rate': 0.3338366825415263, 'average_precision': 0.26892205831106797}"
      ]
     },
     "execution_count": 74,
     "metadata": {},
     "output_type": "execute_result"
    }
   ],
   "source": [
    "new_cf_nmf_recommendations = new_cf_nmf_recommender.test_recommendations(num_recommendations, new_users_test_df, std_anime_cbf_recommender.anime_vector_df, evaluation_distance_metric=eval_dist_metric)\n",
    "new_cf_nmf_recommendations"
   ]
  },
  {
   "cell_type": "code",
   "execution_count": 75,
   "metadata": {},
   "outputs": [
    {
     "data": {
      "image/png": "[encoded data removed]",
      "text/plain": [
       "<Figure size 640x480 with 1 Axes>"
      ]
     },
     "metadata": {},
     "output_type": "display_data"
    }
   ],
   "source": [
    "import matplotlib.pyplot as plt\n",
    "fig, ax = plt.subplots()\n",
    "\n",
    "algorithm_labels = ['SVD', 'NMF']\n",
    "algorithm_evaluations = [new_cf_svd_recommendations['average_precision'], new_cf_nmf_recommendations['average_precision']]\n",
    "\n",
    "ax.bar(algorithm_labels, algorithm_evaluations)\n",
    "ax.set_ylabel('Precision @ K (Average)')\n",
    "ax.set_xlabel('Collaborative Filtering Algorithm')\n",
    "ax.set_title('Comparing the Precision @ K (Average) for Collaborative Recommenders (New Users)')\n",
    "\n",
    "plt.show()"
   ]
  },
  {
   "cell_type": "code",
   "execution_count": 81,
   "metadata": {},
   "outputs": [
    {
     "data": {
      "text/html": [
       "<div>\n",
       "<style scoped>\n",
       "    .dataframe tbody tr th:only-of-type {\n",
       "        vertical-align: middle;\n",
       "    }\n",
       "\n",
       "    .dataframe tbody tr th {\n",
       "        vertical-align: top;\n",
       "    }\n",
       "\n",
       "    .dataframe thead th {\n",
       "        text-align: right;\n",
       "    }\n",
       "</style>\n",
       "<table border=\"1\" class=\"dataframe\">\n",
       "  <thead>\n",
       "    <tr style=\"text-align: right;\">\n",
       "      <th></th>\n",
       "      <th>algorithms</th>\n",
       "      <th>hit_rates</th>\n",
       "    </tr>\n",
       "  </thead>\n",
       "  <tbody>\n",
       "    <tr>\n",
       "      <th>0</th>\n",
       "      <td>SVD</td>\n",
       "      <td>1.075967</td>\n",
       "    </tr>\n",
       "    <tr>\n",
       "      <th>1</th>\n",
       "      <td>NMF</td>\n",
       "      <td>0.333837</td>\n",
       "    </tr>\n",
       "  </tbody>\n",
       "</table>\n",
       "</div>"
      ],
      "text/plain": [
       "  algorithms  hit_rates\n",
       "0        SVD   1.075967\n",
       "1        NMF   0.333837"
      ]
     },
     "execution_count": 81,
     "metadata": {},
     "output_type": "execute_result"
    }
   ],
   "source": [
    "hit_rate_new_cf_dict = {\n",
    "    \"algorithms\": ['SVD', 'NMF'],\n",
    "    \"hit_rates\": [new_cf_svd_recommendations['hit_rate'], new_cf_nmf_recommendations['hit_rate']]\n",
    "}\n",
    "\n",
    "hit_rate_new_cf_df = pd.DataFrame(data=hit_rate_new_cf_dict)\n",
    "hit_rate_new_cf_df.head()"
   ]
  },
  {
   "cell_type": "markdown",
   "metadata": {},
   "source": [
    "## Evaluate the Hybrid Recommender"
   ]
  },
  {
   "cell_type": "code",
   "execution_count": 82,
   "metadata": {
    "tags": []
   },
   "outputs": [],
   "source": [
    "hybrid_recommender = HybridRecommender(anime_df, train_df)"
   ]
  },
  {
   "cell_type": "code",
   "execution_count": 83,
   "metadata": {
    "tags": []
   },
   "outputs": [
    {
     "name": "stdout",
     "output_type": "stream",
     "text": [
      "Num Users Not Scored: 0\n"
     ]
    },
    {
     "data": {
      "text/plain": [
       "{'hit_rate': 0.16300532952034316, 'average_precision': 0.8147926686598052}"
      ]
     },
     "execution_count": 83,
     "metadata": {},
     "output_type": "execute_result"
    }
   ],
   "source": [
    "hybrid_recommender_eval = hybrid_recommender.test_recommendations(num_recommendations, test_df, std_anime_cbf_recommender.anime_vector_df, evaluation_distance_metric=eval_dist_metric)\n",
    "hybrid_recommender_eval"
   ]
  },
  {
   "cell_type": "code",
   "execution_count": 84,
   "metadata": {},
   "outputs": [],
   "source": [
    "new_hybrid_recommender = HybridRecommender(anime_df, new_users_train_df)"
   ]
  },
  {
   "cell_type": "code",
   "execution_count": 85,
   "metadata": {},
   "outputs": [
    {
     "name": "stdout",
     "output_type": "stream",
     "text": [
      "Num Users Not Scored: 0\n"
     ]
    },
    {
     "data": {
      "text/plain": [
       "{'hit_rate': 0.2532233708909281, 'average_precision': 0.6428505052851605}"
      ]
     },
     "execution_count": 85,
     "metadata": {},
     "output_type": "execute_result"
    }
   ],
   "source": [
    "new_hybrid_recommender_eval = new_hybrid_recommender.test_recommendations(num_recommendations, new_users_test_df, std_anime_cbf_recommender.anime_vector_df, evaluation_distance_metric=eval_dist_metric)\n",
    "new_hybrid_recommender_eval"
   ]
  },
  {
   "cell_type": "markdown",
   "metadata": {},
   "source": [
    "## Compare the Recommenders"
   ]
  },
  {
   "cell_type": "markdown",
   "metadata": {},
   "source": [
    "### Normal Users"
   ]
  },
  {
   "cell_type": "code",
   "execution_count": 86,
   "metadata": {
    "tags": []
   },
   "outputs": [
    {
     "data": {
      "image/png": "[encoded data removed]",
      "text/plain": [
       "<Figure size 640x480 with 1 Axes>"
      ]
     },
     "metadata": {},
     "output_type": "display_data"
    }
   ],
   "source": [
    "import matplotlib.pyplot as plt\n",
    "fig, ax = plt.subplots()\n",
    "\n",
    "recommender_labels = ['CBF', 'CF', 'Hybrid']\n",
    "distance_evaluations = [cbf_cosine_eval['average_precision'], cf_svd_recommendations['average_precision'], hybrid_recommender_eval['average_precision']]\n",
    "\n",
    "ax.bar(recommender_labels, distance_evaluations)\n",
    "ax.set_ylabel('Precision @ K (Average)')\n",
    "ax.set_xlabel('Recommender System')\n",
    "ax.set_title('Comparing the Precision @ K (Average) for Different Recommenders (Normal Users)')\n",
    "\n",
    "plt.show()"
   ]
  },
  {
   "cell_type": "code",
   "execution_count": 87,
   "metadata": {},
   "outputs": [
    {
     "data": {
      "text/html": [
       "<div>\n",
       "<style scoped>\n",
       "    .dataframe tbody tr th:only-of-type {\n",
       "        vertical-align: middle;\n",
       "    }\n",
       "\n",
       "    .dataframe tbody tr th {\n",
       "        vertical-align: top;\n",
       "    }\n",
       "\n",
       "    .dataframe thead th {\n",
       "        text-align: right;\n",
       "    }\n",
       "</style>\n",
       "<table border=\"1\" class=\"dataframe\">\n",
       "  <thead>\n",
       "    <tr style=\"text-align: right;\">\n",
       "      <th></th>\n",
       "      <th>recommenders</th>\n",
       "      <th>hit_rates</th>\n",
       "    </tr>\n",
       "  </thead>\n",
       "  <tbody>\n",
       "    <tr>\n",
       "      <th>0</th>\n",
       "      <td>CBF</td>\n",
       "      <td>0.047706</td>\n",
       "    </tr>\n",
       "    <tr>\n",
       "      <th>1</th>\n",
       "      <td>CF</td>\n",
       "      <td>1.669310</td>\n",
       "    </tr>\n",
       "    <tr>\n",
       "      <th>2</th>\n",
       "      <td>Hybrid</td>\n",
       "      <td>0.163005</td>\n",
       "    </tr>\n",
       "  </tbody>\n",
       "</table>\n",
       "</div>"
      ],
      "text/plain": [
       "  recommenders  hit_rates\n",
       "0          CBF   0.047706\n",
       "1           CF   1.669310\n",
       "2       Hybrid   0.163005"
      ]
     },
     "execution_count": 87,
     "metadata": {},
     "output_type": "execute_result"
    }
   ],
   "source": [
    "hit_rate_hybrid_dict = {\n",
    "    \"recommenders\": ['CBF', 'CF', 'Hybrid'],\n",
    "    \"hit_rates\": [cbf_cosine_eval['hit_rate'], cf_svd_recommendations['hit_rate'], hybrid_recommender_eval['hit_rate']]\n",
    "}\n",
    "\n",
    "hit_rate_hybrid_df = pd.DataFrame(data=hit_rate_hybrid_dict)\n",
    "hit_rate_hybrid_df.head()"
   ]
  },
  {
   "cell_type": "markdown",
   "metadata": {},
   "source": [
    "### New Users"
   ]
  },
  {
   "cell_type": "code",
   "execution_count": 88,
   "metadata": {
    "tags": []
   },
   "outputs": [
    {
     "data": {
      "image/png": "[encoded data removed]",
      "text/plain": [
       "<Figure size 640x480 with 1 Axes>"
      ]
     },
     "metadata": {},
     "output_type": "display_data"
    }
   ],
   "source": [
    "import matplotlib.pyplot as plt\n",
    "fig, ax = plt.subplots()\n",
    "\n",
    "recommender_labels = ['CBF', 'CF', 'Hybrid']\n",
    "distance_evaluations = [new_cbf_cosine_eval['average_precision'], new_cf_svd_recommendations['average_precision'], new_hybrid_recommender_eval['average_precision']]\n",
    "\n",
    "ax.bar(recommender_labels, distance_evaluations)\n",
    "ax.set_ylabel('Precision @ K (Average)')\n",
    "ax.set_xlabel('Recommender System')\n",
    "ax.set_title('Comparing the Precision @ K (Average) for Different Recommenders (New Users)')\n",
    "\n",
    "plt.show()"
   ]
  },
  {
   "cell_type": "code",
   "execution_count": 89,
   "metadata": {},
   "outputs": [
    {
     "data": {
      "text/html": [
       "<div>\n",
       "<style scoped>\n",
       "    .dataframe tbody tr th:only-of-type {\n",
       "        vertical-align: middle;\n",
       "    }\n",
       "\n",
       "    .dataframe tbody tr th {\n",
       "        vertical-align: top;\n",
       "    }\n",
       "\n",
       "    .dataframe thead th {\n",
       "        text-align: right;\n",
       "    }\n",
       "</style>\n",
       "<table border=\"1\" class=\"dataframe\">\n",
       "  <thead>\n",
       "    <tr style=\"text-align: right;\">\n",
       "      <th></th>\n",
       "      <th>recommenders</th>\n",
       "      <th>hit_rates</th>\n",
       "    </tr>\n",
       "  </thead>\n",
       "  <tbody>\n",
       "    <tr>\n",
       "      <th>0</th>\n",
       "      <td>CBF</td>\n",
       "      <td>0.047706</td>\n",
       "    </tr>\n",
       "    <tr>\n",
       "      <th>1</th>\n",
       "      <td>CF</td>\n",
       "      <td>1.669310</td>\n",
       "    </tr>\n",
       "    <tr>\n",
       "      <th>2</th>\n",
       "      <td>Hybrid</td>\n",
       "      <td>0.163005</td>\n",
       "    </tr>\n",
       "  </tbody>\n",
       "</table>\n",
       "</div>"
      ],
      "text/plain": [
       "  recommenders  hit_rates\n",
       "0          CBF   0.047706\n",
       "1           CF   1.669310\n",
       "2       Hybrid   0.163005"
      ]
     },
     "execution_count": 89,
     "metadata": {},
     "output_type": "execute_result"
    }
   ],
   "source": [
    "hit_rate_new_hybrid_dict = {\n",
    "    \"recommenders\": ['CBF', 'CF', 'Hybrid'],\n",
    "    \"hit_rates\": [cbf_cosine_eval['hit_rate'], cf_svd_recommendations['hit_rate'], hybrid_recommender_eval['hit_rate']]\n",
    "}\n",
    "\n",
    "hit_rate_new_hybrid_df = pd.DataFrame(data=hit_rate_new_hybrid_dict)\n",
    "hit_rate_new_hybrid_df.head()"
   ]
  },
  {
   "cell_type": "markdown",
   "metadata": {},
   "source": [
    "# Save the Recommenders\n",
    "Finally, save the recommenders so they can be used with Streamlit."
   ]
  },
  {
   "cell_type": "code",
   "execution_count": 90,
   "metadata": {
    "tags": []
   },
   "outputs": [],
   "source": [
    "import pickle\n",
    "\n",
    "def write_object(object_inst, file_name):\n",
    "    with open(file_name, \"wb\") as fp:\n",
    "        pickle.dump(object_inst, fp)"
   ]
  },
  {
   "cell_type": "code",
   "execution_count": null,
   "metadata": {
    "tags": []
   },
   "outputs": [],
   "source": [
    "# Hybrid\n",
    "write_object(hybrid_recommender, \"data/hybrid_recommender\")\n",
    "write_object(new_hybrid_recommender, \"data/new_hybrid_recommender\")\n",
    "\n",
    "# Collaborative\n",
    "write_object(cf_svd_recommender, \"data/collaborative_recommender\")\n",
    "write_object(new_cf_svd_recommender, \"data/new_collaborative_recommender\")\n",
    "\n",
    "# Content-Based\n",
    "write_object(std_anime_cbf_recommender, \"data/cbf_recommender\")\n",
    "write_object(new_anime_cbf_recommender, \"data/new_cbf_recommender\")"
   ]
  },
  {
   "cell_type": "markdown",
   "metadata": {
    "tags": []
   },
   "source": [
    "## Test Opening One of The Recommender Files"
   ]
  },
  {
   "cell_type": "code",
   "execution_count": null,
   "metadata": {
    "tags": []
   },
   "outputs": [],
   "source": [
    "cbf_recommender_file = open('data/cbf_recommender', 'rb')\n",
    "cbf_recommender = pickle.load(cbf_recommender_file)"
   ]
  },
  {
   "cell_type": "code",
   "execution_count": null,
   "metadata": {
    "tags": []
   },
   "outputs": [],
   "source": [
    "recommendations = cbf_recommender.recommend_user(10, 5, add_anime_info=True)\n",
    "recommendations"
   ]
  },
  {
   "cell_type": "markdown",
   "metadata": {},
   "source": [
    "# Save the Evaluations"
   ]
  },
  {
   "cell_type": "code",
   "execution_count": null,
   "metadata": {},
   "outputs": [],
   "source": [
    "# Hybrid\n",
    "write_object(hybrid_recommender_eval, \"data/hybrid_evaluation\")\n",
    "write_object(new_hybrid_recommender_eval, \"data/new_hybrid_evaluation\")\n",
    "\n",
    "# Collaborative\n",
    "write_object(cf_svd_recommendations, \"data/cf_evaluation\")\n",
    "write_object(new_cf_svd_recommendations, \"data/new_cf_evaluation\")\n",
    "\n",
    "# Content-Based\n",
    "write_object(cbf_cosine_eval, \"data/cbf_evaluation\")\n",
    "write_object(new_cbf_cosine_eval, \"data/new_cbf_evaluation\")"
   ]
  },
  {
   "cell_type": "markdown",
   "metadata": {},
   "source": [
    "## Test Opening One of the Evaluation Files"
   ]
  },
  {
   "cell_type": "code",
   "execution_count": null,
   "metadata": {},
   "outputs": [],
   "source": [
    "hybrid_evaluation_file = open('data/hybrid_evaluation')\n",
    "hybrid_evaluation = pickle.load(hybrid_evaluation_file)"
   ]
  },
  {
   "cell_type": "code",
   "execution_count": null,
   "metadata": {
    "tags": []
   },
   "outputs": [],
   "source": [
    "hybrid_evaluation"
   ]
  }
 ],
 "metadata": {
  "colab": {
   "provenance": [],
   "toc_visible": true
  },
  "kernelspec": {
   "display_name": "Python 3 (ipykernel)",
   "language": "python",
   "name": "python3"
  },
  "language_info": {
   "codemirror_mode": {
    "name": "ipython",
    "version": 3
   },
   "file_extension": ".py",
   "mimetype": "text/x-python",
   "name": "python",
   "nbconvert_exporter": "python",
   "pygments_lexer": "ipython3",
   "version": "3.11.5"
  },
  "toc-autonumbering": true
 },
 "nbformat": 4,
 "nbformat_minor": 4
}
